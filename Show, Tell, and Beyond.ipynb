{
  "nbformat": 4,
  "nbformat_minor": 0,
  "metadata": {
    "colab": {
      "name": "EECS_442_Final_Project.ipynb",
      "provenance": [],
      "collapsed_sections": []
    },
    "kernelspec": {
      "name": "python3",
      "display_name": "Python 3"
    },
    "language_info": {
      "name": "python"
    },
    "accelerator": "GPU",
    "widgets": {
      "application/vnd.jupyter.widget-state+json": {
        "845be626796f465b9a03315ad4bca91c": {
          "model_module": "@jupyter-widgets/controls",
          "model_name": "HBoxModel",
          "model_module_version": "1.5.0",
          "state": {
            "_view_name": "HBoxView",
            "_dom_classes": [],
            "_model_name": "HBoxModel",
            "_view_module": "@jupyter-widgets/controls",
            "_model_module_version": "1.5.0",
            "_view_count": null,
            "_view_module_version": "1.5.0",
            "box_style": "",
            "layout": "IPY_MODEL_eabe317f17d84a98bdecdedd3a9b729d",
            "_model_module": "@jupyter-widgets/controls",
            "children": [
              "IPY_MODEL_915656c957e148c385725254604e82a6",
              "IPY_MODEL_70839ca14a7e4290961d3e77a60b24e2",
              "IPY_MODEL_051c23d1e0b0459589ad7fa11851bf1f"
            ]
          }
        },
        "eabe317f17d84a98bdecdedd3a9b729d": {
          "model_module": "@jupyter-widgets/base",
          "model_name": "LayoutModel",
          "model_module_version": "1.2.0",
          "state": {
            "_view_name": "LayoutView",
            "grid_template_rows": null,
            "right": null,
            "justify_content": null,
            "_view_module": "@jupyter-widgets/base",
            "overflow": null,
            "_model_module_version": "1.2.0",
            "_view_count": null,
            "flex_flow": null,
            "width": null,
            "min_width": null,
            "border": null,
            "align_items": null,
            "bottom": null,
            "_model_module": "@jupyter-widgets/base",
            "top": null,
            "grid_column": null,
            "overflow_y": null,
            "overflow_x": null,
            "grid_auto_flow": null,
            "grid_area": null,
            "grid_template_columns": null,
            "flex": null,
            "_model_name": "LayoutModel",
            "justify_items": null,
            "grid_row": null,
            "max_height": null,
            "align_content": null,
            "visibility": null,
            "align_self": null,
            "height": null,
            "min_height": null,
            "padding": null,
            "grid_auto_rows": null,
            "grid_gap": null,
            "max_width": null,
            "order": null,
            "_view_module_version": "1.2.0",
            "grid_template_areas": null,
            "object_position": null,
            "object_fit": null,
            "grid_auto_columns": null,
            "margin": null,
            "display": null,
            "left": null
          }
        },
        "915656c957e148c385725254604e82a6": {
          "model_module": "@jupyter-widgets/controls",
          "model_name": "HTMLModel",
          "model_module_version": "1.5.0",
          "state": {
            "_view_name": "HTMLView",
            "style": "IPY_MODEL_c7803050e2754cddbd987be1ee74ba95",
            "_dom_classes": [],
            "description": "",
            "_model_name": "HTMLModel",
            "placeholder": "​",
            "_view_module": "@jupyter-widgets/controls",
            "_model_module_version": "1.5.0",
            "value": "100%",
            "_view_count": null,
            "_view_module_version": "1.5.0",
            "description_tooltip": null,
            "_model_module": "@jupyter-widgets/controls",
            "layout": "IPY_MODEL_71f7e9cb8f3e4d73bce91f5cf7d66454"
          }
        },
        "70839ca14a7e4290961d3e77a60b24e2": {
          "model_module": "@jupyter-widgets/controls",
          "model_name": "FloatProgressModel",
          "model_module_version": "1.5.0",
          "state": {
            "_view_name": "ProgressView",
            "style": "IPY_MODEL_d0f9d598eb2a4c62b518a08d3d9de2d3",
            "_dom_classes": [],
            "description": "",
            "_model_name": "FloatProgressModel",
            "bar_style": "success",
            "max": 46830571,
            "_view_module": "@jupyter-widgets/controls",
            "_model_module_version": "1.5.0",
            "value": 46830571,
            "_view_count": null,
            "_view_module_version": "1.5.0",
            "orientation": "horizontal",
            "min": 0,
            "description_tooltip": null,
            "_model_module": "@jupyter-widgets/controls",
            "layout": "IPY_MODEL_7b3eb76681664aec8af93b8c3bec8e6b"
          }
        },
        "051c23d1e0b0459589ad7fa11851bf1f": {
          "model_module": "@jupyter-widgets/controls",
          "model_name": "HTMLModel",
          "model_module_version": "1.5.0",
          "state": {
            "_view_name": "HTMLView",
            "style": "IPY_MODEL_07c922601a124c1b8dd1942b221c0884",
            "_dom_classes": [],
            "description": "",
            "_model_name": "HTMLModel",
            "placeholder": "​",
            "_view_module": "@jupyter-widgets/controls",
            "_model_module_version": "1.5.0",
            "value": " 44.7M/44.7M [00:00&lt;00:00, 117MB/s]",
            "_view_count": null,
            "_view_module_version": "1.5.0",
            "description_tooltip": null,
            "_model_module": "@jupyter-widgets/controls",
            "layout": "IPY_MODEL_b97f5b94670946bc8abe30c0e7b3a446"
          }
        },
        "c7803050e2754cddbd987be1ee74ba95": {
          "model_module": "@jupyter-widgets/controls",
          "model_name": "DescriptionStyleModel",
          "model_module_version": "1.5.0",
          "state": {
            "_view_name": "StyleView",
            "_model_name": "DescriptionStyleModel",
            "description_width": "",
            "_view_module": "@jupyter-widgets/base",
            "_model_module_version": "1.5.0",
            "_view_count": null,
            "_view_module_version": "1.2.0",
            "_model_module": "@jupyter-widgets/controls"
          }
        },
        "71f7e9cb8f3e4d73bce91f5cf7d66454": {
          "model_module": "@jupyter-widgets/base",
          "model_name": "LayoutModel",
          "model_module_version": "1.2.0",
          "state": {
            "_view_name": "LayoutView",
            "grid_template_rows": null,
            "right": null,
            "justify_content": null,
            "_view_module": "@jupyter-widgets/base",
            "overflow": null,
            "_model_module_version": "1.2.0",
            "_view_count": null,
            "flex_flow": null,
            "width": null,
            "min_width": null,
            "border": null,
            "align_items": null,
            "bottom": null,
            "_model_module": "@jupyter-widgets/base",
            "top": null,
            "grid_column": null,
            "overflow_y": null,
            "overflow_x": null,
            "grid_auto_flow": null,
            "grid_area": null,
            "grid_template_columns": null,
            "flex": null,
            "_model_name": "LayoutModel",
            "justify_items": null,
            "grid_row": null,
            "max_height": null,
            "align_content": null,
            "visibility": null,
            "align_self": null,
            "height": null,
            "min_height": null,
            "padding": null,
            "grid_auto_rows": null,
            "grid_gap": null,
            "max_width": null,
            "order": null,
            "_view_module_version": "1.2.0",
            "grid_template_areas": null,
            "object_position": null,
            "object_fit": null,
            "grid_auto_columns": null,
            "margin": null,
            "display": null,
            "left": null
          }
        },
        "d0f9d598eb2a4c62b518a08d3d9de2d3": {
          "model_module": "@jupyter-widgets/controls",
          "model_name": "ProgressStyleModel",
          "model_module_version": "1.5.0",
          "state": {
            "_view_name": "StyleView",
            "_model_name": "ProgressStyleModel",
            "description_width": "",
            "_view_module": "@jupyter-widgets/base",
            "_model_module_version": "1.5.0",
            "_view_count": null,
            "_view_module_version": "1.2.0",
            "bar_color": null,
            "_model_module": "@jupyter-widgets/controls"
          }
        },
        "7b3eb76681664aec8af93b8c3bec8e6b": {
          "model_module": "@jupyter-widgets/base",
          "model_name": "LayoutModel",
          "model_module_version": "1.2.0",
          "state": {
            "_view_name": "LayoutView",
            "grid_template_rows": null,
            "right": null,
            "justify_content": null,
            "_view_module": "@jupyter-widgets/base",
            "overflow": null,
            "_model_module_version": "1.2.0",
            "_view_count": null,
            "flex_flow": null,
            "width": null,
            "min_width": null,
            "border": null,
            "align_items": null,
            "bottom": null,
            "_model_module": "@jupyter-widgets/base",
            "top": null,
            "grid_column": null,
            "overflow_y": null,
            "overflow_x": null,
            "grid_auto_flow": null,
            "grid_area": null,
            "grid_template_columns": null,
            "flex": null,
            "_model_name": "LayoutModel",
            "justify_items": null,
            "grid_row": null,
            "max_height": null,
            "align_content": null,
            "visibility": null,
            "align_self": null,
            "height": null,
            "min_height": null,
            "padding": null,
            "grid_auto_rows": null,
            "grid_gap": null,
            "max_width": null,
            "order": null,
            "_view_module_version": "1.2.0",
            "grid_template_areas": null,
            "object_position": null,
            "object_fit": null,
            "grid_auto_columns": null,
            "margin": null,
            "display": null,
            "left": null
          }
        },
        "07c922601a124c1b8dd1942b221c0884": {
          "model_module": "@jupyter-widgets/controls",
          "model_name": "DescriptionStyleModel",
          "model_module_version": "1.5.0",
          "state": {
            "_view_name": "StyleView",
            "_model_name": "DescriptionStyleModel",
            "description_width": "",
            "_view_module": "@jupyter-widgets/base",
            "_model_module_version": "1.5.0",
            "_view_count": null,
            "_view_module_version": "1.2.0",
            "_model_module": "@jupyter-widgets/controls"
          }
        },
        "b97f5b94670946bc8abe30c0e7b3a446": {
          "model_module": "@jupyter-widgets/base",
          "model_name": "LayoutModel",
          "model_module_version": "1.2.0",
          "state": {
            "_view_name": "LayoutView",
            "grid_template_rows": null,
            "right": null,
            "justify_content": null,
            "_view_module": "@jupyter-widgets/base",
            "overflow": null,
            "_model_module_version": "1.2.0",
            "_view_count": null,
            "flex_flow": null,
            "width": null,
            "min_width": null,
            "border": null,
            "align_items": null,
            "bottom": null,
            "_model_module": "@jupyter-widgets/base",
            "top": null,
            "grid_column": null,
            "overflow_y": null,
            "overflow_x": null,
            "grid_auto_flow": null,
            "grid_area": null,
            "grid_template_columns": null,
            "flex": null,
            "_model_name": "LayoutModel",
            "justify_items": null,
            "grid_row": null,
            "max_height": null,
            "align_content": null,
            "visibility": null,
            "align_self": null,
            "height": null,
            "min_height": null,
            "padding": null,
            "grid_auto_rows": null,
            "grid_gap": null,
            "max_width": null,
            "order": null,
            "_view_module_version": "1.2.0",
            "grid_template_areas": null,
            "object_position": null,
            "object_fit": null,
            "grid_auto_columns": null,
            "margin": null,
            "display": null,
            "left": null
          }
        },
        "2c704f418eb54d4394d902ed41db0076": {
          "model_module": "@jupyter-widgets/controls",
          "model_name": "HBoxModel",
          "model_module_version": "1.5.0",
          "state": {
            "_view_name": "HBoxView",
            "_dom_classes": [],
            "_model_name": "HBoxModel",
            "_view_module": "@jupyter-widgets/controls",
            "_model_module_version": "1.5.0",
            "_view_count": null,
            "_view_module_version": "1.5.0",
            "box_style": "",
            "layout": "IPY_MODEL_5cafbccc05824ebeaeba8b6a16632795",
            "_model_module": "@jupyter-widgets/controls",
            "children": [
              "IPY_MODEL_24b2d85b69034d74a267749c1c8b8aa0",
              "IPY_MODEL_d0c9927df72c43049792dac6e9822f3b",
              "IPY_MODEL_57cd776461cc4268b82a3d6e6759ecc9"
            ]
          }
        },
        "5cafbccc05824ebeaeba8b6a16632795": {
          "model_module": "@jupyter-widgets/base",
          "model_name": "LayoutModel",
          "model_module_version": "1.2.0",
          "state": {
            "_view_name": "LayoutView",
            "grid_template_rows": null,
            "right": null,
            "justify_content": null,
            "_view_module": "@jupyter-widgets/base",
            "overflow": null,
            "_model_module_version": "1.2.0",
            "_view_count": null,
            "flex_flow": null,
            "width": null,
            "min_width": null,
            "border": null,
            "align_items": null,
            "bottom": null,
            "_model_module": "@jupyter-widgets/base",
            "top": null,
            "grid_column": null,
            "overflow_y": null,
            "overflow_x": null,
            "grid_auto_flow": null,
            "grid_area": null,
            "grid_template_columns": null,
            "flex": null,
            "_model_name": "LayoutModel",
            "justify_items": null,
            "grid_row": null,
            "max_height": null,
            "align_content": null,
            "visibility": null,
            "align_self": null,
            "height": null,
            "min_height": null,
            "padding": null,
            "grid_auto_rows": null,
            "grid_gap": null,
            "max_width": null,
            "order": null,
            "_view_module_version": "1.2.0",
            "grid_template_areas": null,
            "object_position": null,
            "object_fit": null,
            "grid_auto_columns": null,
            "margin": null,
            "display": null,
            "left": null
          }
        },
        "24b2d85b69034d74a267749c1c8b8aa0": {
          "model_module": "@jupyter-widgets/controls",
          "model_name": "HTMLModel",
          "model_module_version": "1.5.0",
          "state": {
            "_view_name": "HTMLView",
            "style": "IPY_MODEL_2efec6dc331147adb207304ab201676f",
            "_dom_classes": [],
            "description": "",
            "_model_name": "HTMLModel",
            "placeholder": "​",
            "_view_module": "@jupyter-widgets/controls",
            "_model_module_version": "1.5.0",
            "value": "100%",
            "_view_count": null,
            "_view_module_version": "1.5.0",
            "description_tooltip": null,
            "_model_module": "@jupyter-widgets/controls",
            "layout": "IPY_MODEL_cc0a313348da40c98ca9e1ac84540f4a"
          }
        },
        "d0c9927df72c43049792dac6e9822f3b": {
          "model_module": "@jupyter-widgets/controls",
          "model_name": "FloatProgressModel",
          "model_module_version": "1.5.0",
          "state": {
            "_view_name": "ProgressView",
            "style": "IPY_MODEL_901b722b79e34e12ad32ec06c9b6605f",
            "_dom_classes": [],
            "description": "",
            "_model_name": "FloatProgressModel",
            "bar_style": "success",
            "max": 7282,
            "_view_module": "@jupyter-widgets/controls",
            "_model_module_version": "1.5.0",
            "value": 7282,
            "_view_count": null,
            "_view_module_version": "1.5.0",
            "orientation": "horizontal",
            "min": 0,
            "description_tooltip": null,
            "_model_module": "@jupyter-widgets/controls",
            "layout": "IPY_MODEL_cfe8cfad71c8448a8941ae5bb97cd079"
          }
        },
        "57cd776461cc4268b82a3d6e6759ecc9": {
          "model_module": "@jupyter-widgets/controls",
          "model_name": "HTMLModel",
          "model_module_version": "1.5.0",
          "state": {
            "_view_name": "HTMLView",
            "style": "IPY_MODEL_b9eb39c8f5214f6c898feb700ea657e6",
            "_dom_classes": [],
            "description": "",
            "_model_name": "HTMLModel",
            "placeholder": "​",
            "_view_module": "@jupyter-widgets/controls",
            "_model_module_version": "1.5.0",
            "value": " 7282/7282 [01:23&lt;00:00, 86.45it/s]",
            "_view_count": null,
            "_view_module_version": "1.5.0",
            "description_tooltip": null,
            "_model_module": "@jupyter-widgets/controls",
            "layout": "IPY_MODEL_6cb63ee7216e407bb8a5ecfc165ae9b7"
          }
        },
        "2efec6dc331147adb207304ab201676f": {
          "model_module": "@jupyter-widgets/controls",
          "model_name": "DescriptionStyleModel",
          "model_module_version": "1.5.0",
          "state": {
            "_view_name": "StyleView",
            "_model_name": "DescriptionStyleModel",
            "description_width": "",
            "_view_module": "@jupyter-widgets/base",
            "_model_module_version": "1.5.0",
            "_view_count": null,
            "_view_module_version": "1.2.0",
            "_model_module": "@jupyter-widgets/controls"
          }
        },
        "cc0a313348da40c98ca9e1ac84540f4a": {
          "model_module": "@jupyter-widgets/base",
          "model_name": "LayoutModel",
          "model_module_version": "1.2.0",
          "state": {
            "_view_name": "LayoutView",
            "grid_template_rows": null,
            "right": null,
            "justify_content": null,
            "_view_module": "@jupyter-widgets/base",
            "overflow": null,
            "_model_module_version": "1.2.0",
            "_view_count": null,
            "flex_flow": null,
            "width": null,
            "min_width": null,
            "border": null,
            "align_items": null,
            "bottom": null,
            "_model_module": "@jupyter-widgets/base",
            "top": null,
            "grid_column": null,
            "overflow_y": null,
            "overflow_x": null,
            "grid_auto_flow": null,
            "grid_area": null,
            "grid_template_columns": null,
            "flex": null,
            "_model_name": "LayoutModel",
            "justify_items": null,
            "grid_row": null,
            "max_height": null,
            "align_content": null,
            "visibility": null,
            "align_self": null,
            "height": null,
            "min_height": null,
            "padding": null,
            "grid_auto_rows": null,
            "grid_gap": null,
            "max_width": null,
            "order": null,
            "_view_module_version": "1.2.0",
            "grid_template_areas": null,
            "object_position": null,
            "object_fit": null,
            "grid_auto_columns": null,
            "margin": null,
            "display": null,
            "left": null
          }
        },
        "901b722b79e34e12ad32ec06c9b6605f": {
          "model_module": "@jupyter-widgets/controls",
          "model_name": "ProgressStyleModel",
          "model_module_version": "1.5.0",
          "state": {
            "_view_name": "StyleView",
            "_model_name": "ProgressStyleModel",
            "description_width": "",
            "_view_module": "@jupyter-widgets/base",
            "_model_module_version": "1.5.0",
            "_view_count": null,
            "_view_module_version": "1.2.0",
            "bar_color": null,
            "_model_module": "@jupyter-widgets/controls"
          }
        },
        "cfe8cfad71c8448a8941ae5bb97cd079": {
          "model_module": "@jupyter-widgets/base",
          "model_name": "LayoutModel",
          "model_module_version": "1.2.0",
          "state": {
            "_view_name": "LayoutView",
            "grid_template_rows": null,
            "right": null,
            "justify_content": null,
            "_view_module": "@jupyter-widgets/base",
            "overflow": null,
            "_model_module_version": "1.2.0",
            "_view_count": null,
            "flex_flow": null,
            "width": null,
            "min_width": null,
            "border": null,
            "align_items": null,
            "bottom": null,
            "_model_module": "@jupyter-widgets/base",
            "top": null,
            "grid_column": null,
            "overflow_y": null,
            "overflow_x": null,
            "grid_auto_flow": null,
            "grid_area": null,
            "grid_template_columns": null,
            "flex": null,
            "_model_name": "LayoutModel",
            "justify_items": null,
            "grid_row": null,
            "max_height": null,
            "align_content": null,
            "visibility": null,
            "align_self": null,
            "height": null,
            "min_height": null,
            "padding": null,
            "grid_auto_rows": null,
            "grid_gap": null,
            "max_width": null,
            "order": null,
            "_view_module_version": "1.2.0",
            "grid_template_areas": null,
            "object_position": null,
            "object_fit": null,
            "grid_auto_columns": null,
            "margin": null,
            "display": null,
            "left": null
          }
        },
        "b9eb39c8f5214f6c898feb700ea657e6": {
          "model_module": "@jupyter-widgets/controls",
          "model_name": "DescriptionStyleModel",
          "model_module_version": "1.5.0",
          "state": {
            "_view_name": "StyleView",
            "_model_name": "DescriptionStyleModel",
            "description_width": "",
            "_view_module": "@jupyter-widgets/base",
            "_model_module_version": "1.5.0",
            "_view_count": null,
            "_view_module_version": "1.2.0",
            "_model_module": "@jupyter-widgets/controls"
          }
        },
        "6cb63ee7216e407bb8a5ecfc165ae9b7": {
          "model_module": "@jupyter-widgets/base",
          "model_name": "LayoutModel",
          "model_module_version": "1.2.0",
          "state": {
            "_view_name": "LayoutView",
            "grid_template_rows": null,
            "right": null,
            "justify_content": null,
            "_view_module": "@jupyter-widgets/base",
            "overflow": null,
            "_model_module_version": "1.2.0",
            "_view_count": null,
            "flex_flow": null,
            "width": null,
            "min_width": null,
            "border": null,
            "align_items": null,
            "bottom": null,
            "_model_module": "@jupyter-widgets/base",
            "top": null,
            "grid_column": null,
            "overflow_y": null,
            "overflow_x": null,
            "grid_auto_flow": null,
            "grid_area": null,
            "grid_template_columns": null,
            "flex": null,
            "_model_name": "LayoutModel",
            "justify_items": null,
            "grid_row": null,
            "max_height": null,
            "align_content": null,
            "visibility": null,
            "align_self": null,
            "height": null,
            "min_height": null,
            "padding": null,
            "grid_auto_rows": null,
            "grid_gap": null,
            "max_width": null,
            "order": null,
            "_view_module_version": "1.2.0",
            "grid_template_areas": null,
            "object_position": null,
            "object_fit": null,
            "grid_auto_columns": null,
            "margin": null,
            "display": null,
            "left": null
          }
        },
        "180de4b835b3456093caeba337ffda2f": {
          "model_module": "@jupyter-widgets/controls",
          "model_name": "HBoxModel",
          "model_module_version": "1.5.0",
          "state": {
            "_view_name": "HBoxView",
            "_dom_classes": [],
            "_model_name": "HBoxModel",
            "_view_module": "@jupyter-widgets/controls",
            "_model_module_version": "1.5.0",
            "_view_count": null,
            "_view_module_version": "1.5.0",
            "box_style": "",
            "layout": "IPY_MODEL_88795b3631094177b07c3e9f4fe58b62",
            "_model_module": "@jupyter-widgets/controls",
            "children": [
              "IPY_MODEL_5232ca01e0ac454d910cacc921496f52",
              "IPY_MODEL_f1a06ce085ef4ceb955aaa31277fc444",
              "IPY_MODEL_bee54f773a404934bfc75e34f5d75b87"
            ]
          }
        },
        "88795b3631094177b07c3e9f4fe58b62": {
          "model_module": "@jupyter-widgets/base",
          "model_name": "LayoutModel",
          "model_module_version": "1.2.0",
          "state": {
            "_view_name": "LayoutView",
            "grid_template_rows": null,
            "right": null,
            "justify_content": null,
            "_view_module": "@jupyter-widgets/base",
            "overflow": null,
            "_model_module_version": "1.2.0",
            "_view_count": null,
            "flex_flow": null,
            "width": null,
            "min_width": null,
            "border": null,
            "align_items": null,
            "bottom": null,
            "_model_module": "@jupyter-widgets/base",
            "top": null,
            "grid_column": null,
            "overflow_y": null,
            "overflow_x": null,
            "grid_auto_flow": null,
            "grid_area": null,
            "grid_template_columns": null,
            "flex": null,
            "_model_name": "LayoutModel",
            "justify_items": null,
            "grid_row": null,
            "max_height": null,
            "align_content": null,
            "visibility": null,
            "align_self": null,
            "height": null,
            "min_height": null,
            "padding": null,
            "grid_auto_rows": null,
            "grid_gap": null,
            "max_width": null,
            "order": null,
            "_view_module_version": "1.2.0",
            "grid_template_areas": null,
            "object_position": null,
            "object_fit": null,
            "grid_auto_columns": null,
            "margin": null,
            "display": null,
            "left": null
          }
        },
        "5232ca01e0ac454d910cacc921496f52": {
          "model_module": "@jupyter-widgets/controls",
          "model_name": "HTMLModel",
          "model_module_version": "1.5.0",
          "state": {
            "_view_name": "HTMLView",
            "style": "IPY_MODEL_60a47da8eab240ef965e46a79d668c3d",
            "_dom_classes": [],
            "description": "",
            "_model_name": "HTMLModel",
            "placeholder": "​",
            "_view_module": "@jupyter-widgets/controls",
            "_model_module_version": "1.5.0",
            "value": "100%",
            "_view_count": null,
            "_view_module_version": "1.5.0",
            "description_tooltip": null,
            "_model_module": "@jupyter-widgets/controls",
            "layout": "IPY_MODEL_85b0553516a2404aafca2932b2e2f643"
          }
        },
        "f1a06ce085ef4ceb955aaa31277fc444": {
          "model_module": "@jupyter-widgets/controls",
          "model_name": "FloatProgressModel",
          "model_module_version": "1.5.0",
          "state": {
            "_view_name": "ProgressView",
            "style": "IPY_MODEL_de47f762ec484d58ab109fd5c1681ea0",
            "_dom_classes": [],
            "description": "",
            "_model_name": "FloatProgressModel",
            "bar_style": "success",
            "max": 810,
            "_view_module": "@jupyter-widgets/controls",
            "_model_module_version": "1.5.0",
            "value": 810,
            "_view_count": null,
            "_view_module_version": "1.5.0",
            "orientation": "horizontal",
            "min": 0,
            "description_tooltip": null,
            "_model_module": "@jupyter-widgets/controls",
            "layout": "IPY_MODEL_c55dea7fd73247fd88c8613511d9eaf5"
          }
        },
        "bee54f773a404934bfc75e34f5d75b87": {
          "model_module": "@jupyter-widgets/controls",
          "model_name": "HTMLModel",
          "model_module_version": "1.5.0",
          "state": {
            "_view_name": "HTMLView",
            "style": "IPY_MODEL_61d68677c6d746f2877dfeb671d24733",
            "_dom_classes": [],
            "description": "",
            "_model_name": "HTMLModel",
            "placeholder": "​",
            "_view_module": "@jupyter-widgets/controls",
            "_model_module_version": "1.5.0",
            "value": " 810/810 [00:09&lt;00:00, 80.27it/s]",
            "_view_count": null,
            "_view_module_version": "1.5.0",
            "description_tooltip": null,
            "_model_module": "@jupyter-widgets/controls",
            "layout": "IPY_MODEL_e3795f513c1a409380dc04582e3ed5aa"
          }
        },
        "60a47da8eab240ef965e46a79d668c3d": {
          "model_module": "@jupyter-widgets/controls",
          "model_name": "DescriptionStyleModel",
          "model_module_version": "1.5.0",
          "state": {
            "_view_name": "StyleView",
            "_model_name": "DescriptionStyleModel",
            "description_width": "",
            "_view_module": "@jupyter-widgets/base",
            "_model_module_version": "1.5.0",
            "_view_count": null,
            "_view_module_version": "1.2.0",
            "_model_module": "@jupyter-widgets/controls"
          }
        },
        "85b0553516a2404aafca2932b2e2f643": {
          "model_module": "@jupyter-widgets/base",
          "model_name": "LayoutModel",
          "model_module_version": "1.2.0",
          "state": {
            "_view_name": "LayoutView",
            "grid_template_rows": null,
            "right": null,
            "justify_content": null,
            "_view_module": "@jupyter-widgets/base",
            "overflow": null,
            "_model_module_version": "1.2.0",
            "_view_count": null,
            "flex_flow": null,
            "width": null,
            "min_width": null,
            "border": null,
            "align_items": null,
            "bottom": null,
            "_model_module": "@jupyter-widgets/base",
            "top": null,
            "grid_column": null,
            "overflow_y": null,
            "overflow_x": null,
            "grid_auto_flow": null,
            "grid_area": null,
            "grid_template_columns": null,
            "flex": null,
            "_model_name": "LayoutModel",
            "justify_items": null,
            "grid_row": null,
            "max_height": null,
            "align_content": null,
            "visibility": null,
            "align_self": null,
            "height": null,
            "min_height": null,
            "padding": null,
            "grid_auto_rows": null,
            "grid_gap": null,
            "max_width": null,
            "order": null,
            "_view_module_version": "1.2.0",
            "grid_template_areas": null,
            "object_position": null,
            "object_fit": null,
            "grid_auto_columns": null,
            "margin": null,
            "display": null,
            "left": null
          }
        },
        "de47f762ec484d58ab109fd5c1681ea0": {
          "model_module": "@jupyter-widgets/controls",
          "model_name": "ProgressStyleModel",
          "model_module_version": "1.5.0",
          "state": {
            "_view_name": "StyleView",
            "_model_name": "ProgressStyleModel",
            "description_width": "",
            "_view_module": "@jupyter-widgets/base",
            "_model_module_version": "1.5.0",
            "_view_count": null,
            "_view_module_version": "1.2.0",
            "bar_color": null,
            "_model_module": "@jupyter-widgets/controls"
          }
        },
        "c55dea7fd73247fd88c8613511d9eaf5": {
          "model_module": "@jupyter-widgets/base",
          "model_name": "LayoutModel",
          "model_module_version": "1.2.0",
          "state": {
            "_view_name": "LayoutView",
            "grid_template_rows": null,
            "right": null,
            "justify_content": null,
            "_view_module": "@jupyter-widgets/base",
            "overflow": null,
            "_model_module_version": "1.2.0",
            "_view_count": null,
            "flex_flow": null,
            "width": null,
            "min_width": null,
            "border": null,
            "align_items": null,
            "bottom": null,
            "_model_module": "@jupyter-widgets/base",
            "top": null,
            "grid_column": null,
            "overflow_y": null,
            "overflow_x": null,
            "grid_auto_flow": null,
            "grid_area": null,
            "grid_template_columns": null,
            "flex": null,
            "_model_name": "LayoutModel",
            "justify_items": null,
            "grid_row": null,
            "max_height": null,
            "align_content": null,
            "visibility": null,
            "align_self": null,
            "height": null,
            "min_height": null,
            "padding": null,
            "grid_auto_rows": null,
            "grid_gap": null,
            "max_width": null,
            "order": null,
            "_view_module_version": "1.2.0",
            "grid_template_areas": null,
            "object_position": null,
            "object_fit": null,
            "grid_auto_columns": null,
            "margin": null,
            "display": null,
            "left": null
          }
        },
        "61d68677c6d746f2877dfeb671d24733": {
          "model_module": "@jupyter-widgets/controls",
          "model_name": "DescriptionStyleModel",
          "model_module_version": "1.5.0",
          "state": {
            "_view_name": "StyleView",
            "_model_name": "DescriptionStyleModel",
            "description_width": "",
            "_view_module": "@jupyter-widgets/base",
            "_model_module_version": "1.5.0",
            "_view_count": null,
            "_view_module_version": "1.2.0",
            "_model_module": "@jupyter-widgets/controls"
          }
        },
        "e3795f513c1a409380dc04582e3ed5aa": {
          "model_module": "@jupyter-widgets/base",
          "model_name": "LayoutModel",
          "model_module_version": "1.2.0",
          "state": {
            "_view_name": "LayoutView",
            "grid_template_rows": null,
            "right": null,
            "justify_content": null,
            "_view_module": "@jupyter-widgets/base",
            "overflow": null,
            "_model_module_version": "1.2.0",
            "_view_count": null,
            "flex_flow": null,
            "width": null,
            "min_width": null,
            "border": null,
            "align_items": null,
            "bottom": null,
            "_model_module": "@jupyter-widgets/base",
            "top": null,
            "grid_column": null,
            "overflow_y": null,
            "overflow_x": null,
            "grid_auto_flow": null,
            "grid_area": null,
            "grid_template_columns": null,
            "flex": null,
            "_model_name": "LayoutModel",
            "justify_items": null,
            "grid_row": null,
            "max_height": null,
            "align_content": null,
            "visibility": null,
            "align_self": null,
            "height": null,
            "min_height": null,
            "padding": null,
            "grid_auto_rows": null,
            "grid_gap": null,
            "max_width": null,
            "order": null,
            "_view_module_version": "1.2.0",
            "grid_template_areas": null,
            "object_position": null,
            "object_fit": null,
            "grid_auto_columns": null,
            "margin": null,
            "display": null,
            "left": null
          }
        }
      }
    }
  },
  "cells": [
    {
      "cell_type": "markdown",
      "source": [
        "Please make sure to firstly change the runtime type to \"GPU\"!"
      ],
      "metadata": {
        "id": "7k9sg_InfJzt"
      }
    },
    {
      "cell_type": "markdown",
      "source": [
        "# 1. Download Flickr8k dataset from Kaggle"
      ],
      "metadata": {
        "id": "AM0KW7e7ab_w"
      }
    },
    {
      "cell_type": "code",
      "source": [
        "# Load image data\n",
        "from google.colab import drive\n",
        "drive.mount('/content/drive/', force_remount=True)"
      ],
      "metadata": {
        "colab": {
          "base_uri": "https://localhost:8080/"
        },
        "id": "OAVf5jofaAyb",
        "outputId": "d24df748-0775-484b-f96d-4cdad233c92a"
      },
      "execution_count": null,
      "outputs": [
        {
          "output_type": "stream",
          "name": "stdout",
          "text": [
            "Mounted at /content/drive/\n"
          ]
        }
      ]
    },
    {
      "cell_type": "code",
      "source": [
        "! pip install kaggle"
      ],
      "metadata": {
        "colab": {
          "base_uri": "https://localhost:8080/"
        },
        "id": "Iouw63PIaGeL",
        "outputId": "6342c704-339f-4979-d9ae-0b6ff987e43a"
      },
      "execution_count": null,
      "outputs": [
        {
          "output_type": "stream",
          "name": "stdout",
          "text": [
            "Requirement already satisfied: kaggle in /usr/local/lib/python3.7/dist-packages (1.5.12)\n",
            "Requirement already satisfied: python-dateutil in /usr/local/lib/python3.7/dist-packages (from kaggle) (2.8.2)\n",
            "Requirement already satisfied: urllib3 in /usr/local/lib/python3.7/dist-packages (from kaggle) (1.24.3)\n",
            "Requirement already satisfied: requests in /usr/local/lib/python3.7/dist-packages (from kaggle) (2.23.0)\n",
            "Requirement already satisfied: six>=1.10 in /usr/local/lib/python3.7/dist-packages (from kaggle) (1.15.0)\n",
            "Requirement already satisfied: tqdm in /usr/local/lib/python3.7/dist-packages (from kaggle) (4.62.3)\n",
            "Requirement already satisfied: python-slugify in /usr/local/lib/python3.7/dist-packages (from kaggle) (5.0.2)\n",
            "Requirement already satisfied: certifi in /usr/local/lib/python3.7/dist-packages (from kaggle) (2021.10.8)\n",
            "Requirement already satisfied: text-unidecode>=1.3 in /usr/local/lib/python3.7/dist-packages (from python-slugify->kaggle) (1.3)\n",
            "Requirement already satisfied: chardet<4,>=3.0.2 in /usr/local/lib/python3.7/dist-packages (from requests->kaggle) (3.0.4)\n",
            "Requirement already satisfied: idna<3,>=2.5 in /usr/local/lib/python3.7/dist-packages (from requests->kaggle) (2.10)\n"
          ]
        }
      ]
    },
    {
      "cell_type": "markdown",
      "source": [
        "Before running the cells bellow, you need to make sure that you are at the root directory, i.e., the directory contains \"sample_data\". Then, you need to get the kaggle.json file from the Kaggle website.\n",
        "\n",
        "Here is the instruction of downloading Kaggle datasets to Colab: https://www.analyticsvidhya.com/blog/2021/06/how-to-load-kaggle-datasets-directly-into-google-colab/\n",
        "\n",
        "Here is the link to the Flickr8k dataset on Kaggle: https://www.kaggle.com/adityajn105/flickr8k\n",
        "\n",
        "**Alternatively**: You could directly download the Flickr8k dataset on Kaggle from the link above and upload the unzipped files (Images directory and captions.txt) to the root directory on Colab. However, this method may be slower. If you you choose to do in this way, you could directly move to the next section."
      ],
      "metadata": {
        "id": "riovLlfpbYZk"
      }
    },
    {
      "cell_type": "code",
      "source": [
        "from google.colab import drive\n",
        "drive.mount('/content/drive')"
      ],
      "metadata": {
        "id": "vKCG6uob4FUQ",
        "outputId": "12a42042-1d0e-4d45-a650-1a98252bc9ea",
        "colab": {
          "base_uri": "https://localhost:8080/"
        }
      },
      "execution_count": null,
      "outputs": [
        {
          "output_type": "stream",
          "name": "stdout",
          "text": [
            "Drive already mounted at /content/drive; to attempt to forcibly remount, call drive.mount(\"/content/drive\", force_remount=True).\n"
          ]
        }
      ]
    },
    {
      "cell_type": "code",
      "source": [
        "cd sample_data/"
      ],
      "metadata": {
        "colab": {
          "base_uri": "https://localhost:8080/"
        },
        "id": "kwd_TzjL5Ymn",
        "outputId": "4462d75e-d2d5-425f-b4c2-3677eb6960b1"
      },
      "execution_count": null,
      "outputs": [
        {
          "output_type": "stream",
          "name": "stdout",
          "text": [
            "/content/sample_data\n"
          ]
        }
      ]
    },
    {
      "cell_type": "code",
      "source": [
        "!mkdir ~/.kaggle\n",
        "!cp kaggle.json ~/.kaggle/\n",
        "!chmod 600 ~/.kaggle/kaggle.json\n",
        "!kaggle datasets download adityajn105/flickr8k\n",
        "!unzip flickr8k.zip"
      ],
      "metadata": {
        "id": "M-_h4KDb3IFF"
      },
      "execution_count": null,
      "outputs": []
    },
    {
      "cell_type": "markdown",
      "source": [
        "# 2. Import necessary packages"
      ],
      "metadata": {
        "id": "1jr88RrXdDtY"
      }
    },
    {
      "cell_type": "code",
      "source": [
        "import pandas as pd\n",
        "import numpy as np\n",
        "from collections import Counter \n",
        "import torchvision\n",
        "from torchvision import transforms\n",
        "from PIL import Image\n",
        "from torch.utils.data import Dataset, DataLoader\n",
        "import torch\n",
        "import torch.nn as nn\n",
        "from torch.autograd import Variable\n",
        "from tqdm.notebook import tqdm\n",
        "import matplotlib.pyplot as plt\n",
        "import math\n",
        "import torch.nn.functional as F\n",
        "import pickle\n",
        "import gc\n",
        "import random\n",
        "import cv2\n",
        "from google.colab.patches import cv2_imshow\n",
        "import argparse, os, sys\n",
        "from sklearn.metrics import accuracy_score\n",
        "from torchvision import transforms\n",
        "\n",
        "pd.set_option('display.max_colwidth', None)"
      ],
      "metadata": {
        "id": "0O7wO2iPabNp"
      },
      "execution_count": null,
      "outputs": []
    },
    {
      "cell_type": "markdown",
      "source": [
        "# 3. Preprocess Images"
      ],
      "metadata": {
        "id": "ZhX7NKAXdJ7P"
      }
    },
    {
      "cell_type": "code",
      "source": [
        "df = pd.read_csv(\"captions.txt\", sep=',')\n",
        "print(len(df))\n",
        "display(df.head(3))\n",
        "\n",
        "df = df.sort_values(by = 'image')\n",
        "train = df.iloc[:int(0.9*len(df))]\n",
        "valid = df.iloc[int(0.9*len(df)):]\n",
        "\n",
        "unq_train_imgs = train[['image']].drop_duplicates()\n",
        "unq_valid_imgs = valid[['image']].drop_duplicates()\n",
        "print(len(unq_train_imgs), len(unq_valid_imgs))"
      ],
      "metadata": {
        "colab": {
          "base_uri": "https://localhost:8080/",
          "height": 178
        },
        "id": "gmAEnyvlePIf",
        "outputId": "9f08fe0f-c4de-4f5a-f9c6-f74968a95482"
      },
      "execution_count": null,
      "outputs": [
        {
          "output_type": "stream",
          "name": "stdout",
          "text": [
            "40455\n"
          ]
        },
        {
          "output_type": "display_data",
          "data": {
            "text/html": [
              "<div>\n",
              "<style scoped>\n",
              "    .dataframe tbody tr th:only-of-type {\n",
              "        vertical-align: middle;\n",
              "    }\n",
              "\n",
              "    .dataframe tbody tr th {\n",
              "        vertical-align: top;\n",
              "    }\n",
              "\n",
              "    .dataframe thead th {\n",
              "        text-align: right;\n",
              "    }\n",
              "</style>\n",
              "<table border=\"1\" class=\"dataframe\">\n",
              "  <thead>\n",
              "    <tr style=\"text-align: right;\">\n",
              "      <th></th>\n",
              "      <th>image</th>\n",
              "      <th>caption</th>\n",
              "    </tr>\n",
              "  </thead>\n",
              "  <tbody>\n",
              "    <tr>\n",
              "      <th>0</th>\n",
              "      <td>1000268201_693b08cb0e.jpg</td>\n",
              "      <td>A child in a pink dress is climbing up a set of stairs in an entry way .</td>\n",
              "    </tr>\n",
              "    <tr>\n",
              "      <th>1</th>\n",
              "      <td>1000268201_693b08cb0e.jpg</td>\n",
              "      <td>A girl going into a wooden building .</td>\n",
              "    </tr>\n",
              "    <tr>\n",
              "      <th>2</th>\n",
              "      <td>1000268201_693b08cb0e.jpg</td>\n",
              "      <td>A little girl climbing into a wooden playhouse .</td>\n",
              "    </tr>\n",
              "  </tbody>\n",
              "</table>\n",
              "</div>"
            ],
            "text/plain": [
              "                       image                                                                   caption\n",
              "0  1000268201_693b08cb0e.jpg  A child in a pink dress is climbing up a set of stairs in an entry way .\n",
              "1  1000268201_693b08cb0e.jpg                                     A girl going into a wooden building .\n",
              "2  1000268201_693b08cb0e.jpg                          A little girl climbing into a wooden playhouse ."
            ]
          },
          "metadata": {}
        },
        {
          "output_type": "stream",
          "name": "stdout",
          "text": [
            "7282 810\n"
          ]
        }
      ]
    },
    {
      "cell_type": "code",
      "source": [
        "device = torch.device(\"cuda\" if torch.cuda.is_available() else \"cpu\")\n",
        "print(device)"
      ],
      "metadata": {
        "id": "XROrq4IndMrn",
        "colab": {
          "base_uri": "https://localhost:8080/"
        },
        "outputId": "0438084a-ede4-4b1a-9ca9-aceb77b3ec31"
      },
      "execution_count": null,
      "outputs": [
        {
          "output_type": "stream",
          "name": "stdout",
          "text": [
            "cuda\n"
          ]
        }
      ]
    },
    {
      "cell_type": "code",
      "source": [
        "class extractImageFeatureResNetDataSet():\n",
        "    def __init__(self, data):\n",
        "        self.data = data \n",
        "        self.scaler = transforms.Resize([224, 224])\n",
        "        self.normalize = transforms.Normalize(mean=[0.485, 0.456, 0.406],\n",
        "                                     std=[0.229, 0.224, 0.225])\n",
        "        self.to_tensor = transforms.ToTensor()\n",
        "    def __len__(self):  \n",
        "        return len(self.data)\n",
        "\n",
        "    def __getitem__(self, idx):\n",
        "\n",
        "        image_name = self.data.iloc[idx]['image']\n",
        "        img_loc = 'Images/'+str(image_name)\n",
        "\n",
        "        img = Image.open(img_loc)\n",
        "        # display(img)\n",
        "        # display(self.scaler(img))\n",
        "        t_img = self.normalize(self.to_tensor(self.scaler(img)))\n",
        "        # plt.axis('off')\n",
        "        # plt.imshow(  t_img.permute(1, 2, 0)  )\n",
        "\n",
        "        return image_name, t_img"
      ],
      "metadata": {
        "id": "9j6Bf1kJeDI4"
      },
      "execution_count": null,
      "outputs": []
    },
    {
      "cell_type": "code",
      "source": [
        "train_ImageDataset_ResNet = extractImageFeatureResNetDataSet(unq_train_imgs)\n",
        "train_ImageDataloader_ResNet = DataLoader(train_ImageDataset_ResNet, batch_size = 1, shuffle=False)"
      ],
      "metadata": {
        "id": "wkJAbUp1eaYj"
      },
      "execution_count": null,
      "outputs": []
    },
    {
      "cell_type": "code",
      "source": [
        "img = train_ImageDataset_ResNet.__getitem__(100)[1]"
      ],
      "metadata": {
        "id": "NeavNrzqebBs"
      },
      "execution_count": null,
      "outputs": []
    },
    {
      "cell_type": "code",
      "source": [
        "img = train_ImageDataset_ResNet.__getitem__(2000)[1]"
      ],
      "metadata": {
        "id": "cXHAh6gLec3K"
      },
      "execution_count": null,
      "outputs": []
    },
    {
      "cell_type": "code",
      "source": [
        "valid_ImageDataset_ResNet = extractImageFeatureResNetDataSet(unq_valid_imgs)\n",
        "valid_ImageDataloader_ResNet = DataLoader(valid_ImageDataset_ResNet, batch_size = 1, shuffle=False)"
      ],
      "metadata": {
        "id": "-ADgywOVefod"
      },
      "execution_count": null,
      "outputs": []
    },
    {
      "cell_type": "code",
      "source": [
        "resnet18 = torchvision.models.resnet18(pretrained=True).to(device)\n",
        "resnet18.eval()\n",
        "list(resnet18._modules)"
      ],
      "metadata": {
        "colab": {
          "base_uri": "https://localhost:8080/",
          "height": 240,
          "referenced_widgets": [
            "845be626796f465b9a03315ad4bca91c",
            "eabe317f17d84a98bdecdedd3a9b729d",
            "915656c957e148c385725254604e82a6",
            "70839ca14a7e4290961d3e77a60b24e2",
            "051c23d1e0b0459589ad7fa11851bf1f",
            "c7803050e2754cddbd987be1ee74ba95",
            "71f7e9cb8f3e4d73bce91f5cf7d66454",
            "d0f9d598eb2a4c62b518a08d3d9de2d3",
            "7b3eb76681664aec8af93b8c3bec8e6b",
            "07c922601a124c1b8dd1942b221c0884",
            "b97f5b94670946bc8abe30c0e7b3a446"
          ]
        },
        "id": "kQoqmvaIejyg",
        "outputId": "1d394acf-00e6-4a13-b6d6-e267f35ab0c6"
      },
      "execution_count": null,
      "outputs": [
        {
          "output_type": "stream",
          "name": "stderr",
          "text": [
            "Downloading: \"https://download.pytorch.org/models/resnet18-f37072fd.pth\" to /root/.cache/torch/hub/checkpoints/resnet18-f37072fd.pth\n"
          ]
        },
        {
          "output_type": "display_data",
          "data": {
            "application/vnd.jupyter.widget-view+json": {
              "model_id": "845be626796f465b9a03315ad4bca91c",
              "version_minor": 0,
              "version_major": 2
            },
            "text/plain": [
              "  0%|          | 0.00/44.7M [00:00<?, ?B/s]"
            ]
          },
          "metadata": {}
        },
        {
          "output_type": "execute_result",
          "data": {
            "text/plain": [
              "['conv1',\n",
              " 'bn1',\n",
              " 'relu',\n",
              " 'maxpool',\n",
              " 'layer1',\n",
              " 'layer2',\n",
              " 'layer3',\n",
              " 'layer4',\n",
              " 'avgpool',\n",
              " 'fc']"
            ]
          },
          "metadata": {},
          "execution_count": 26
        }
      ]
    },
    {
      "cell_type": "code",
      "source": [
        "resNet18Layer4 = resnet18._modules.get('layer4').to(device)"
      ],
      "metadata": {
        "id": "K2aFwVGCelkH"
      },
      "execution_count": null,
      "outputs": []
    },
    {
      "cell_type": "code",
      "source": [
        "def get_vector(t_img):\n",
        "    \n",
        "    t_img = Variable(t_img)\n",
        "    my_embedding = torch.zeros(1, 512, 7, 7)\n",
        "    def copy_data(m, i, o):\n",
        "        my_embedding.copy_(o.data)\n",
        "    \n",
        "    h = resNet18Layer4.register_forward_hook(copy_data)\n",
        "    resnet18(t_img)\n",
        "    \n",
        "    h.remove()\n",
        "    return my_embedding"
      ],
      "metadata": {
        "id": "hywZjB_ienLX"
      },
      "execution_count": null,
      "outputs": []
    },
    {
      "cell_type": "markdown",
      "source": [
        "Convert the preprocessed images into feature vectors using the pretrained ResNets."
      ],
      "metadata": {
        "id": "jqOhXcx-f3cv"
      }
    },
    {
      "cell_type": "code",
      "source": [
        "extract_imgFtr_ResNet_train = {}\n",
        "for image_name, t_img in tqdm(train_ImageDataloader_ResNet):\n",
        "    t_img = t_img.to(device)\n",
        "    # print(t_img.shape)\n",
        "    # pass down \n",
        "    embdg = get_vector(t_img)\n",
        "    \n",
        "    extract_imgFtr_ResNet_train[image_name[0]] = embdg"
      ],
      "metadata": {
        "colab": {
          "base_uri": "https://localhost:8080/",
          "height": 49,
          "referenced_widgets": [
            "2c704f418eb54d4394d902ed41db0076",
            "5cafbccc05824ebeaeba8b6a16632795",
            "24b2d85b69034d74a267749c1c8b8aa0",
            "d0c9927df72c43049792dac6e9822f3b",
            "57cd776461cc4268b82a3d6e6759ecc9",
            "2efec6dc331147adb207304ab201676f",
            "cc0a313348da40c98ca9e1ac84540f4a",
            "901b722b79e34e12ad32ec06c9b6605f",
            "cfe8cfad71c8448a8941ae5bb97cd079",
            "b9eb39c8f5214f6c898feb700ea657e6",
            "6cb63ee7216e407bb8a5ecfc165ae9b7"
          ]
        },
        "id": "Xu4ltAc5eoxt",
        "outputId": "30869127-364c-485d-8a10-8d4ee99e698f"
      },
      "execution_count": null,
      "outputs": [
        {
          "output_type": "display_data",
          "data": {
            "application/vnd.jupyter.widget-view+json": {
              "model_id": "2c704f418eb54d4394d902ed41db0076",
              "version_minor": 0,
              "version_major": 2
            },
            "text/plain": [
              "  0%|          | 0/7282 [00:00<?, ?it/s]"
            ]
          },
          "metadata": {}
        }
      ]
    },
    {
      "cell_type": "code",
      "source": [
        "a_file = open(\"./EncodedImageTrainResNet.pkl\", \"wb\")\n",
        "pickle.dump(extract_imgFtr_ResNet_train, a_file)\n",
        "a_file.close()"
      ],
      "metadata": {
        "id": "jJsDQgF7esLp"
      },
      "execution_count": null,
      "outputs": []
    },
    {
      "cell_type": "code",
      "source": [
        "extract_imgFtr_ResNet_valid = {}\n",
        "for image_name, t_img in tqdm(valid_ImageDataloader_ResNet):\n",
        "    t_img = t_img.to(device)\n",
        "    embdg = get_vector(t_img)\n",
        "    extract_imgFtr_ResNet_valid[image_name[0]] = embdg"
      ],
      "metadata": {
        "colab": {
          "base_uri": "https://localhost:8080/",
          "height": 49,
          "referenced_widgets": [
            "180de4b835b3456093caeba337ffda2f",
            "88795b3631094177b07c3e9f4fe58b62",
            "5232ca01e0ac454d910cacc921496f52",
            "f1a06ce085ef4ceb955aaa31277fc444",
            "bee54f773a404934bfc75e34f5d75b87",
            "60a47da8eab240ef965e46a79d668c3d",
            "85b0553516a2404aafca2932b2e2f643",
            "de47f762ec484d58ab109fd5c1681ea0",
            "c55dea7fd73247fd88c8613511d9eaf5",
            "61d68677c6d746f2877dfeb671d24733",
            "e3795f513c1a409380dc04582e3ed5aa"
          ]
        },
        "id": "-3l5E-b0etqX",
        "outputId": "36a2e797-f693-4bc0-8c5b-3312f822f49c"
      },
      "execution_count": null,
      "outputs": [
        {
          "output_type": "display_data",
          "data": {
            "application/vnd.jupyter.widget-view+json": {
              "model_id": "180de4b835b3456093caeba337ffda2f",
              "version_minor": 0,
              "version_major": 2
            },
            "text/plain": [
              "  0%|          | 0/810 [00:00<?, ?it/s]"
            ]
          },
          "metadata": {}
        }
      ]
    },
    {
      "cell_type": "code",
      "source": [
        "for key, value in extract_imgFtr_ResNet_valid.items():\n",
        "    print(key)\n",
        "    print(value.shape)\n",
        "    break"
      ],
      "metadata": {
        "colab": {
          "base_uri": "https://localhost:8080/"
        },
        "id": "wKbklW8NgeDD",
        "outputId": "574fc9db-976d-4b0b-8b51-f91151f1c007"
      },
      "execution_count": null,
      "outputs": [
        {
          "output_type": "stream",
          "name": "stdout",
          "text": [
            "436015762_8d0bae90c3.jpg\n",
            "torch.Size([1, 512, 7, 7])\n"
          ]
        }
      ]
    },
    {
      "cell_type": "code",
      "source": [
        "a_file = open(\"./EncodedImageValidResNet.pkl\", \"wb\")\n",
        "pickle.dump(extract_imgFtr_ResNet_valid, a_file)\n",
        "a_file.close()"
      ],
      "metadata": {
        "id": "b3t9iE4IewpW"
      },
      "execution_count": null,
      "outputs": []
    },
    {
      "cell_type": "markdown",
      "source": [
        "# 3. CNN & LSTM Training"
      ],
      "metadata": {
        "id": "_x40u9CVg7k8"
      }
    },
    {
      "cell_type": "code",
      "source": [
        "features_train, features_test = extract_imgFtr_ResNet_train, extract_imgFtr_ResNet_valid\n",
        "n_train_images, n_test_images = len(features_train), len(features_test)\n",
        "feature_dim = features_train['436015762_8d0bae90c3.jpg'][0].shape\n",
        "print(n_train_images, n_test_images, feature_dim)"
      ],
      "metadata": {
        "colab": {
          "base_uri": "https://localhost:8080/"
        },
        "id": "znFDZbRy59T0",
        "outputId": "ae677371-2cc2-4330-849c-aaa1058e9083"
      },
      "execution_count": null,
      "outputs": [
        {
          "output_type": "stream",
          "name": "stdout",
          "text": [
            "7282 810 torch.Size([512, 7, 7])\n"
          ]
        }
      ]
    },
    {
      "cell_type": "code",
      "source": [
        "HIDDEN_DIM = 200\n",
        "BATCH_SIZE = 10\n",
        "LEARN_RATE = 0.001\n",
        "NUM_EPOCHS = 10"
      ],
      "metadata": {
        "id": "PXGZHSV4HCsB"
      },
      "execution_count": null,
      "outputs": []
    },
    {
      "cell_type": "code",
      "source": [
        "def extract_captions(fn):\n",
        "    image_captions_train, image_captions_test = [], []\n",
        "    with open(fn) as f:\n",
        "        for line in f.readlines():\n",
        "            arr = line.split()\n",
        "            arr = arr[0].split(',') + ['<s>'] + arr[1:] + ['</s>']\n",
        "            if arr[0] in features_train:\n",
        "                image_captions_train.append(arr)\n",
        "            if arr[0] in features_test:\n",
        "                image_captions_test.append(arr)\n",
        "    return image_captions_train, image_captions_test\n",
        "\n",
        "image_captions_train, image_captions_test = extract_captions('captions.txt')\n",
        "n_train, n_test = len(image_captions_train), len(image_captions_test)\n",
        "print(n_train, n_test)\n",
        "for i in range(10):\n",
        "    print(image_captions_train[i])"
      ],
      "metadata": {
        "colab": {
          "base_uri": "https://localhost:8080/"
        },
        "id": "8G-7_p8QDIbx",
        "outputId": "4863bd4c-636c-45ed-ada4-2dc5d52e754d"
      },
      "execution_count": null,
      "outputs": [
        {
          "output_type": "stream",
          "name": "stdout",
          "text": [
            "36410 4050\n",
            "['1000268201_693b08cb0e.jpg', 'A', '<s>', 'child', 'in', 'a', 'pink', 'dress', 'is', 'climbing', 'up', 'a', 'set', 'of', 'stairs', 'in', 'an', 'entry', 'way', '.', '</s>']\n",
            "['1000268201_693b08cb0e.jpg', 'A', '<s>', 'girl', 'going', 'into', 'a', 'wooden', 'building', '.', '</s>']\n",
            "['1000268201_693b08cb0e.jpg', 'A', '<s>', 'little', 'girl', 'climbing', 'into', 'a', 'wooden', 'playhouse', '.', '</s>']\n",
            "['1000268201_693b08cb0e.jpg', 'A', '<s>', 'little', 'girl', 'climbing', 'the', 'stairs', 'to', 'her', 'playhouse', '.', '</s>']\n",
            "['1000268201_693b08cb0e.jpg', 'A', '<s>', 'little', 'girl', 'in', 'a', 'pink', 'dress', 'going', 'into', 'a', 'wooden', 'cabin', '.', '</s>']\n",
            "['1001773457_577c3a7d70.jpg', 'A', '<s>', 'black', 'dog', 'and', 'a', 'spotted', 'dog', 'are', 'fighting', '</s>']\n",
            "['1001773457_577c3a7d70.jpg', 'A', '<s>', 'black', 'dog', 'and', 'a', 'tri-colored', 'dog', 'playing', 'with', 'each', 'other', 'on', 'the', 'road', '.', '</s>']\n",
            "['1001773457_577c3a7d70.jpg', 'A', '<s>', 'black', 'dog', 'and', 'a', 'white', 'dog', 'with', 'brown', 'spots', 'are', 'staring', 'at', 'each', 'other', 'in', 'the', 'street', '.', '</s>']\n",
            "['1001773457_577c3a7d70.jpg', 'Two', '<s>', 'dogs', 'of', 'different', 'breeds', 'looking', 'at', 'each', 'other', 'on', 'the', 'road', '.', '</s>']\n",
            "['1001773457_577c3a7d70.jpg', 'Two', '<s>', 'dogs', 'on', 'pavement', 'moving', 'toward', 'each', 'other', '.', '</s>']\n"
          ]
        }
      ]
    },
    {
      "cell_type": "code",
      "source": [
        "def extract_dict(fn):\n",
        "    index_to_word, word_to_index = ['PAD'], {'PAD':0}\n",
        "    image_captions = image_captions_train + image_captions_test\n",
        "    for image_caption in image_captions:\n",
        "        for word in image_caption[1:]:\n",
        "            if word not in index_to_word:\n",
        "                word_to_index[word] = len(index_to_word)\n",
        "                index_to_word.append(word)\n",
        "    return index_to_word, word_to_index, len(index_to_word)\n",
        "\n",
        "index_to_word, word_to_index, embedding_dim = extract_dict('captions.txt')\n",
        "print(len(index_to_word), index_to_word)\n",
        "print(len(word_to_index), word_to_index)"
      ],
      "metadata": {
        "colab": {
          "base_uri": "https://localhost:8080/"
        },
        "id": "zup5Yy1MCrQ_",
        "outputId": "89d14faf-9d6c-474d-bb99-6838bfa11167"
      },
      "execution_count": null,
      "outputs": [
        {
          "output_type": "stream",
          "name": "stdout",
          "text": [
            "9865 ['PAD', 'A', '<s>', 'child', 'in', 'a', 'pink', 'dress', 'is', 'climbing', 'up', 'set', 'of', 'stairs', 'an', 'entry', 'way', '.', '</s>', 'girl', 'going', 'into', 'wooden', 'building', 'little', 'playhouse', 'the', 'to', 'her', 'cabin', 'black', 'dog', 'and', 'spotted', 'are', 'fighting', 'tri-colored', 'playing', 'with', 'each', 'other', 'on', 'road', 'white', 'brown', 'spots', 'staring', 'at', 'street', 'Two', 'dogs', 'different', 'breeds', 'looking', 'pavement', 'moving', 'toward', 'covered', 'paint', 'sits', 'front', 'painted', 'rainbow', 'hands', 'bowl', 'sitting', 'large', 'small', 'grass', 'plays', 'fingerpaints', 'canvas', 'it', 'There', 'pigtails', 'painting', 'Young', 'outside', 'man', 'lays', 'bench', 'while', 'his', 'by', 'him', 'which', 'also', 'tied', 'sleeping', 'next', 'shirtless', 'lies', 'park', 'laying', 'holding', 'leash', 'ground', 'orange', 'hat', 'starring', 'something', 'wears', 'glasses', 'gauges', 'wearing', 'Blitz', 'beer', 'can', 'crocheted', 'The', 'pierced', 'ears', 'rope', 'net', 'red', 'roping', 'climbs', 'bridge', 'grips', 'onto', 'ropes', 'playground', 'running', 'grassy', 'garden', 'surrounded', 'fence', 'through', 'Boston', 'terrier', 'Terrier', 'lush', 'green', 'runs', 'near', '\"A', 'shakes', 'its', 'head', 'shore', ',', 'ball', '.\"', 'edge', 'beach', '\"Dog', 'feet', 'stands', 'shaking', 'off', 'water\"', 'White', 'water', 'standing', 'turned', 'one', 'side', 'boy', 'smiles', 'stony', 'wall', 'city', 'overalls', 'working', 'stone', 'young', 'aross', 'walking', 'paved', 'metal', 'pole', 'behind', 'Smiling', 'shirt', 'blue', 'jeans', 'rock', 'leaps', 'over', 'log', 'grey', 'leaping', 'fallen', 'tree', 'mottled', 'collar', 'jumping', 'jumped', 'stump', 'snow', 'field', 'surface', 'displaying', 'pictures', 'skier', 'skis', 'past', 'another', 'paintings', 'person', 'framed', 'looks', 'trees', 'Man', 'artwork', 'for', 'sale', 'collage', 'cliff', 'group', 'people', 'belays', 'Seven', 'climbers', 'ascending', 'face', 'whilst', 'Several', 'row', 'watches', 'holds', 'line', 'chases', 'from', 'sprinkler', 'lawn', 'hose', 'Large', 'away', 'prepares', 'catch', 'thrown', 'object', 'nearby', 'cars', 'about', 'yellow', 'mouth', 'toy', 'ready', 'flying', 'air', 'after', 'get', 'jumps', 'towards', 'trying', 'midair', 'woman', 'waters', 'big', 'lake', 'lone', 'duck', 'swimming', 'several', 'around', 'watching', 'waves', 'hand', '\"Two', 'facing', 'skyline', 'couple', 'infant', 'being', 'held', 'male', 'pond', 'stroller', 'sit', 'baby', 'their', 'newborn', 'under', 'care', 'along', 'body', 'Couple', 'outdoors', 'surf', 'lab', 'tags', 'frolicks', 'splashes', 'This', 'splashing', 'drilling', 'hole', 'ice', 'frozen', 'men', 'fishing', 'play', 'making', 'turn', 'soft', 'sand', 'together', 'tan', 'sandy', 'uses', 'picks', 'crampons', 'scale', 'climber', 'jacket', 'pants', 'scaling', 'An', 'waterfall', 'two', 'Climber', 'carries', 'as', 'he', 'walks', 'carrying', 'has', 'item', 'wet', 'kayak', 'life', 'jackets', 'rowing', 'canoe', 'gentle', 'ride', 'courtyard', 'catching', 'Black', 'snaps', 'lunges', 'Chocolate', 'Lab', 'too', 'late', 'captures', 'driveway', 'stick', 'kneeling', 'goalie', 'hockey', 'guarding', 'goal', 'kid', 'rink', 'right', '\"Hockey', 'crouches', 'modern', 'art', 'structure', 'glass', 'reads', 'newspaper', 'sculpture', 'office', 'statue', 'backpack', 'buildings', 'reading', 'tent', 'enter', 'setting', 'hut', 'iced', 'tarp', 'snowy', 'three', 'Three', 'hill', 'sky', 'them', 'stand', 'kneels', 'skyscraper', 'very', 'tall', 'Behind', 'distance', 'camera', 'bites', 'hard', 'treat', 'biting', 'baked', 'good', 'putting', 'both', 'eats', 'food', 'table', 'eating', 'pizza', 'tin', 'dish', 'People', 'mountainside', 'check', 'out', 'view', 'hilltop', 'overlooking', 'valley', 'hang', 'top', 'overlook', 'rest', 'ledge', 'above', 'moutains', 'down', 'many', 'inflatable', 'boats', 'kayakers', 'railing', 'rafts', 'below', 'crowd', 'jersey', 'pose', 'some', 'multiracial', 'posing', 'picture', '\"Asian', 'blond', 'background', 'Guy', 'striped', 'guy', 'takeout', 'television', 'floor', 'fast', 'meal', 'Someone', 'TV', 'teens', 'Crowd', 'rail', 'crowded', 'takes', 'jump', 'skateboard', 'performing', 'trick', 'leans', 'skateboarder', 'doing', 'board', 'platform', 'skateboarders', 'paddling', 'river', 'seen', 'kayaking', 'paddles', 'boat', 'paddle', 'shallow', 'girls', 'ocean', 'four', 'children', 'pajamas', 'have', 'pillow', 'fight', 'kids', 'pillow-fight', 'bed', 'Children', 'having', 'Four', 'constructions', 'workers', 'beam', 'taking', 'break', 'construction', 'I-beam', 'take', 'seat', 'steel', 'boys', 'puddle', 'balloon', 'mud', 'sunny', 'day', 'appears', 'wait', 'hailing', 'taxi', 'signaling', 'traffic', 'blonde', 'hair', 'tube', 'waving', 'arm', 'oncoming', 'brochure', 'train', 'rides', 'magizine', 'book', 'pamphlet', 'Child', 'rocky', 'run', 'across', 'stones', 'area', 'descends', 'end', 'high', 'diving', 'pool', 'dive', 'window', 'overshirt', 'tank', 'chrome', 'door', 'puts', 'elevator', 'light-colored', 'Light', 'swim', 'shorts', 'trunks', 'arms', 'outstretched', 'hiker', 'bluff', 'mountains', 'ski', \"'s\", 'landscape', 'snow-covered', 'mountain', 'beautiful', 'pauses', 'mountaintop', 'attempting', 'purple', 'low', 'cut', 'yard', 'Frisbee', 'parking', 'lot', 'middle', 'during', 'heavy', 'mat', 'between', 'SUV', 'pickup', 'open', 'busy', 'terrain', 'woolly', 'Doberman', 'One', 'chasing', 'catches', 'tennis', ',\"', 'multicolor', 'balloons', 'night', 'hot', 'lit', 'lined', 'nighttime', 'helmet', 'bike', 'miniature', 'dirt', 'bicycle', 'race', 'pedals', 'quickly', 'BMX', 'eight', 'gathered', 'dark', 'porch', 'darkened', 'room', 'throwing', 'cleans', 'bubbles', 'suds', 'wiped', 'clean', 'foam', 'ramp', 'soapy', 'getting', 'cleaned', 'slides', 'slide', 'wading', 'toys', 'floating', 'backyard', 'sliding', 'colorful', 'tubes', 'falling', 'colored', 'wetsuit', 'toddler', 'waiting', 'come', 'so', '\"While', 'droplets', 'fly', 'throws', 'sticks', 'tongue', 'Another', 'make', 'faces', 'smiling', 'sticking', 'look', 'silly', 'horse', 'sweatshirt', 'fire', 'barrel', 'lead', 'horses', 'contained', 'bulldog', 'sheep', 'boxer', 'pushing', 'anouther', 'skinny', 'smaller', 'int', 'various', 'sizes', 'lady', 'no', 'dock', 'deck', 'closeup', 'that', 'paws', 'lying', 'resting', 'tiled', 'eyes', 'rests', 'patio', 'bricks', 'artificial', 'safety', 'harness', 'indoor', '\"The', 'rocks', 'Woman', 'ring', 'jumphouse', 'teenage', 'seating', 'inflated', 'family', 'tractor', 'Polaris', 'vehicle', 'played', 'wheeler', 'riding', 'ATV', 'costume', 'left', 'sequined', 'feather', 'sidewalk', 'salmon', 'bikini', ';', 'outfit', 'drinking', 'pop', 'approached', 'flamboyant', 'dressed', 'feathered', 'headress', 'Skiiers', 'forest', 'skiing', 'wooded', 'cross-country', 'skiers', 'woodland', 'trail', 'woods', 'hikers', 'pathway', 'light', 'path', 'happily', 'Energetic', 'mother', 'boardwalk', 'sea', 'Some', 'pier', 'evening', 'pony', 'wintertime', 'atop', 'draft', 'n', 'daft', 'pull', 'cart', 'golden', 'sleigh', 'driven', 'coat', 'pulling', 'carriage', 'sled', 'steered', 'sheer', 'using', 'flat', 'rappels', 'steep', 'incline', 'vest', 'inside', 'dome', 'Shaft', 'cave', 'shows', 'spelunkers', 'Spelunkers', 'cavern', 'bathed', 'sunlight', 'backpackers', 'lay', 'dry', 'camp', 'gear', 'chalk', 'portrait', 'stream', 'drawing', 'barn-like', 'elaborate', 'illustration', 'deep', 'pile', 'fountain', 'fountains', 'sprayed', 'Corgi', 'tunnel', 'course', 'Dog', 'obstacle', 'obedience', 'swimsuit', 'Little', 'handrail', 'bathing', 'suit', 'spray', 'soaked', 'jet', 'shower', 'gets', 'underwater', 'red-headed', 'swims', 'gun', 'foot', 'aims', 'fireplace', 'new', 'light-up', 'Boy', 'pointed', 'alone', 'jagged', 'snowmobile', 'mid', 'snowmobiler', 'flies', 'rider', 'or', 'machine', 'pine', 'Rider', 'rural', 'snowmobiles', 'helmets', 'goggles', 'snowmobiling', 'helmeted', 'drive', 'ATVs', 'heads', 'wheel', 'wheelers', 'empty', 'all', '!', 'gin', 'four-wheeler', 'airborne', 'quad', 'harvested', 'cornfield', 's', 'happy', 'OD', 'playfully', 'soccer', 'tucked', 't-shirt', 'Small', 'artist', 'paints', 'clouds', 'braids', 'colors', 'paper', 'cyclist', 'curved', 'aerodynamic', 'sharp', 'curve', 'pedaling', '\"Man', 'cows', 'graze', 'biker', 'fetch', 'pounces', 'cine', 'old', 'fashioned', 'video', 'steadies', 'aim', 'Girl', 'rosy', 'cheeks', 'lips', 'Border', 'Collie', 'audience', 'dug', 'watch', 'agile', 'onlookers', 'closely', 'smooth', 'stacking', 'Toddler', 'against', 'backdrop', 'shoes', 'rappeling', 'headlamp', 'attached', 'snakeskin', 'Person', 'sprays', 'frog', 'public', 'wood', 'barrior', 'animal', 'bird', 'seeds', 'someone', 'sunflower', 'clinging', 'finger', 'wades', 'guided', 'laughs', 'playful', 'this', 'beige', 'torwards', 'outdoor', 'handstand', 'does', 'sheets', 'upside', 'snowboard', 'surfboard', 'bikes', 'traveling', 'worn', 'motorcycles', 'motorbikes', 'follow', 'dirt-bikes', 'off-road', 'garment', 'flag', 'crescent', 'moon', 'star', 'gown', 'Muslim', 'helps', 'wave', 'Baby', 'half', 'naked', 'chair', 'older', 'back', 'relaxes', 'adobe', 'where', 'bicycles', 'propped', 'cap', 'close', 'parked', 'relaxing', 'folding', '\"Topless', 'slippers', 'navy', 'reclining', 'hauling', 'Both', 'retrieve', 'mouths', 'tug', 'chew', '\"There', 'haired', 'bottled', 'drink', 'tilted', 'spiked', 'party', 'streets', 'they', 'women', 'parade', 'neck-deep', 'vegetation', 'filled', '\"Brown', 'bushes', 'creating', 'splash', 'seaweed', 'lav', 'swimmers', 'kelp', 'foreground', 'sandals', 'short', 'sleeved', 'pinstripe', 'snows', 'furry', 'attempts', 'itself', 'self', 'backpacks', 'placed', 'cardboard', 'bus', 'station', 'bouncing', 'folded', 'beds', 'bedroom', 'snowboarder', 'slope', 'boarders', 'Snowboarders', 'slopes', 'clothing', 'store', 'opening', 'stores', 'piece', 'attire', 'car', 'strip', 'boots', 'stepping', 'van', 'wear', 'game', 'plants', 'crossing', 'greenery', 'suspension', 'tropical', 'caution', 'sign', 'beside', 'bright', 'truck', 'others', 'helping', 'step', 'pulled', 'passengers', 'load', 'brightly', 'poses', 'pig', 'hugs', 'who', '\"Blond', 'embracing', 'event\"', 'hugging', 'pink-hooded', 'stretch', 'bicyclist', 'cross', 'spandex', 'biking', 'Women', 'jogging', 'headset', 'Walkman', 'jogs', 'headphones', 'plant', 'corner', 'Bicyclists', 'intersection', 'bikers', 'stop', 'town', 'without', 'guiding', 'wagon', 'escorts', 'leading', 'Shirtless', 'horse-drawn', 'Shetland', 'hits', 'tee', 'practices', 'hitting', 'baseball', 'adult', 'bats', 'put', 'batting', 'cage', 'spins', 'sun', 'she', 'trumpet', 'marching', 'band', 'teenager', 'trumped', 'Starbucks', 'samples', 'fair', 'Asian', 'apron', 'serving', 'drinks', 'tray', 'barista', 'offering', 'waitress', 'offers', 'complimentary', 'tea', 'patrons', 'try', 'full', 'sledge', 'plain', 'loading', 'items', 'preparing', 'order', 'sneakers', 'leap', 'elderly', 'straw', 'gray', 'sweater', 'arched', 'walk', 'arbor', 'atrium', 'hallway', 'flip', 'flops', 'hood', 'legs', 'sprawled', 'flip-flops', 'boulder', 'mountaineer', 'clear', 'hooded', 'wrestling', '\"two', 'other\"', 'wrestle', 'bending', 'blanket', 'stuffed', 'animals', 'giving', 'war', 'nose', 'piercing', 'silver', 'protruding', 'grimaces', 'dramatic', 'grin', 'grimacing', 'games', 'bar', 'neon', 'hanging', 'bank', 'computer', 'gambling', 'machines', 'rough', 'approach', 'long-haired', 'directions', 'warm', 'weather', 'Busy', 'summer', 'time', 'clothes', 'camouflage', 'squirting', 'guns', 'spraying', 'squirt', 'bloe', 'inground', 'Parents', 'carts', 'twin', 'pushed', 'shaped', 'strollers', 'Twin', 'toddlers', 'alike', 'plastic', 'team', 'uniforms', 'same', 'hats', 'sporting', 'Florida', 'Dolphin', 'caps', 'Marlins', 'flowers', 'shrubbery', 'shaggy', 'long', 'alongside', 'advertisement', 'underground', 'transit', 'backlit', 'subway', 'umbrella', 'Aquos', 'commercial', 'unicycle', 'scooter', 'reaches', 'post', 'concrete', 'landing', 'snack', 'picnic', 'luggage', 'eat', 'refreshment', 'flowery', 'floral', 'purse', 'stretched', 'Dogs', '\"On', 'tussle', 'suspended', 'igloo', 'type', 'dangling', 'strange', 'closes', 'shining', 'closed', 'photo', 'photograph', 'just', 'church', 'Family', 'Taking', 'vacationing', 'begin', 'climb', 'Many', 'pretty', 'cleaning', 'windows', 'yacht', 'barge', 'laughing', 'swing', 'litlle', 'swings', 'spoon', 'heels', 'brick', 'weeds', 'coppery', 'cushion', 'asleep', 'sofa', 'pacifier', 'sucking', 'teddy', 'bear', 'Binky', 'supervision', 'dappled', 'Korean', 'sells', 'soda', 'cans', 'aluminum', 'Vendor', 'selling', 'stall', 'hatted', 'males', 'print', 'gold', 'frown', 'stove', 'pipe', 'makeup', 'benches', 'tile', 'lobby', 'sunglasses', 'overpass', 'mask', 'breathing', 'bald', 'containing', 'flips', '\"Child', 'tumbling', 'poolside', 'denim', 'daughter', 'claps', 'ear', 'Brown', '\"Tan', 'bite', 'Girls', 'sports', 'eye', 'protection', 'female', 'lacrosse', 'players', 'These', 'player', 'number', 'six', '6', 'chased', 'there', 'foal', 'colt', 'approaching', 'thin', 'carpet', 'rug', 'shag', 'suits', 'friends', 'smile', 'ladies', 'bikinis', 'sat', 'reflection', 'burnished', 'marble', 'asian', 'dances', 'hips', 'skirt', 'reflections', 'lakeside', 'placid', 'close-up', 'writing', 'Blurry', 'descending', '\"Three', 'dance', 'brightly-colred', 'kicking', 'cat', 'hissing', 'growling', 'hiding', 'snarling', 'corners', 'approaches', 'police', 'motorcycle', 'motorized', 'muddy', 'motorbike', 'uphill', 'motocross', 'circuit', 'racer', 'jumpsuit', 'display', 'underwear', 'pairs', 'different-colored', 'clothesline', 'granny', 'panties', 'underpants', 'shelter', 'wire', 'awning', 'bicyclists', 'stopped', 'creek', 'waterbed', 'coral', 'leaning', 'focus', 'motion', 'says', 'ADHD', 'clever', 'bowed', 'AD', 'parody', 'AC', 'logo', '\"Young', '\"\"', 'nodding', 'off\"', 'sunset', 'encircling', 'float', 'talk', 'cafe', 'like', 'Union', 'Jack', 'union', 'jack', 'waterspouts', 'bubbling', 'drives', 'waits', 'compact', 'driving', 'handbag', 'collared', 'leashed', 'latte', 'lap', 'enjoys', 'coffee', 'carying', 'crib', 'tries', 'playpen', 'expanse', 'mountainous', 'View', 'summit', 'trots', 'football', 'sprawls', 'fell', 'first', 'seated', 'candle', 'candles', 'birthday', 'celebration', 'place', 'reached', 'age', '5', 'celebrating', 'cake', '\"Woman', 'trotting', 'hardscape', 'About', '12', 'few', 'adults', 'splashed', 'source', 'winter', 'Beautiful', 'treading', 'Cross-country', 'thick', 'almost', '\"One', 'golfing', '\"Tree', 'golf', 'golfers', 'fairway', 'blocking', 'club', 'sleeveless', 'khaki', 'begins', 'lots', 'topless', 'shown', 'cloudy', 'structures', 'passes', 'huts', 'wakeboarder', 'sideways', 'waterskier', 'performs', 'tricks', 'waterskiing', 'speedboat', 'knee', 'fall', 'wakeboard', 'wakeboarding', 'younger', 'watercraft', 'renaissance', 'costumes', 'arrows', 'booth', 'medieval', 'Fayre', 'crouch', 'fish', 'stare', 'goldfish', 'leaguer', 'pitch', 'uniform', 'Ohio', 'contemplates', 'african-american', 'dark-skinned', 'halter', 'chidl', 'latter', 'stuck', 'husky', 'Husky', 'straps', 'turning', 'Dogsled', 'flags', '\"Five', 'mushing', 'coming', 'harnesses', 'joined', 'wide', 'barks', 'shoulder', 'beack', 'fluffy', 'faith', 'grab', 'tables', 'hops', 'talks', 'showing', 'squatting', 'talking', 'signing', 'phone', 'cellphone', 'notepad', '\"Standing', 'flower', 'retaining', 'semi-formal', 'views', 'electronic', 'device', 'frame', 'shopping', 'bag', 'labeled', 'gathers', 'backpacker', 'american', 'carring', 'American', 'hiking', 'hikes', 'swung', 'underneath', 'unseen', 'stool', 'Dark', 'nightclub', 'chairs', 'bar-type', 'including', 'camo', 'diveboard', 'backward', 'backwards', 'gives', 'evil', 'serious', '\"Boy', 'reflective', 'watery', 'baggy', 'block', 'size', 'dirty', 'bottle', 'leotard', 'checkered', 'tight', 'models', 'bars', 'hangs', 'monkey', 'jungle', 'gym', 'ladder', 'swinging', 'saver', 'wings', 'floaties', 'hit', 'tracks', 'railroad', 'track', 'jean', 'capris', 'barefoot', 'bearded', 'turquoise', 'peace', 'stops', 'T-shirt', 'symbol', 'headdress', 'shaved', 'crazy', 'hairdo', 'earrings', 'bound', 'flower-covered', 'misty', 'heather', 'surfboards', 'prepare', 'high-five', 'participating', 'wake-boards', 'attempt', 'give', 'simultaneously', 'decide', 'signal', 'five', 'armor', 'examining', 'tire', 'racers', 'drove', 'motorists', 'oddly', 'designed', 'racing', 'bucket', 'beneath', 'boogie', 'trampoline', 'telephone', 'power', 'lines', 'poles', 'electrical', 'wires', 'puppies', 'chase', 'heavily', 'foliaged', 'cold', 'but', 'morning', 'sets', 'Sled', 'trekking', 'Hello', 'Kitty', 'figure', 'yellowish', 'hello', 'kitty', 'slightly', 'floats', 'peers', 'bulky', 'snoopy', 'huge', 'Beach', 'scene', 'skimpy', 'rain', 'screams', 'squinting', 'still', 'hillside', 'skating', 'instructor', 'skate', 'hold', 'go', 'museum', 'couches', 'lie', 'puffy', 'tired', 'silhouetted', 'stunning', 'retriever', 'transportation', '\"An', 'business', 'quick', 'nap', 'tie', '\"People', 'dusk', 'pharmacy', 'Rite', 'Aid', 'Broadway', 'drug', 'Pharmacy', 'prepared', 'tuxedo', 'bow-tie', 'kissing', 'thing', 'cheek', 'kiss', 'shirts', 'vests', 'kissed', 'formal', 'wear\"', 'balcony', 'circus', 'navigate', 'amusement', 'upper', 'levels', 'carnival', 'attraction', 'brightly-colored', 'urban', 'follows', 'covers', 'tide', 'brown-haired', 'sunshine', 'shines', 'Crocs', 'breaks', 'swords', 'sparring', 'bat', 'Nerf', 'cup', 'rubber', 'chaperone', 'sponge', 'acting', 'referee', 'funny', 'matching', 'polo', 'strike', 'goofy', 'lane', 'gravel', 'land', 'Hiker', 'puppy', 'labs', 'females', 'scarves', 'dresses', 'examine', 'skirts', 'slurps', 'help', 'push', 'donuts', 'among', 'cement', 'fixtures', 'donut', 'shop', 'barriers', 'well-dressed', 'before', 'craft', 'nylon', 'fabric', 'pirate', 'skull', 'saxophone', 'hydrant', 'musical', 'instrument', 'cathing', 'retrieves', 'hind', 'Yorkie', 'far', 'bordered', 'liberty', 'statute', 'crowns', 'photos', 'New', 'York', 'taken', 'balls', 'shed', 'bounced', 'casting', 'rod', 'waders', 'spectators', 'pitbull', 'Labrador', 'firefighter', 'extinguishes', 'fireman', 'firehose', 'engine', 'carjack', 'Firefighter', 'extinguish', 'was', 'backed', 'monument', 'clapping', 'base', 'Washington', 'Memorial', 'Gateway', 'Arch', 'marker', 'house', 'diaper', 'ink', 'pullup', 'vertical', 'logs', 'balances', 'pylons', 'stumps', 'tops', 'posts', 'mirror', 'burgundy', 'hoodie', 'own', 'softball', 'winding', 'throw', 'Kids', 'tosses', 'overcast', 'tossing', '\"At', 'shute', 'emerging', 'poodle', 'leaving', 'blue-striped', 'old-fashioned', 'marked', 'seven', '7', 'circle', 'camping', 'equipment', '\"Little', 'bags', 'flowered', 'peaking', 'leaves', 'peeks', 'foliage', 'rock-climb', 'prefabricated', 'frightened', 'half-dressed', 'bottom', 'surfing', 'made', 'dune', 'snowboarding', 'leaf', 'saddle', 'tub', 'container', 'squeeze', 'bath', 'bin', 'cloth', 'streambed', 'drags', 'rag', 'almost-dried', 'towel', 'bmx', 'bmxer', 'overhang', 'formation', 'tire-swing', 'horizontal', 'crosses', 'hung', 'sniff', 'somthing', 'walkway', 'corridor', 'windowed', 'industrial', 'enjoying', 'terrace', 'either', 'narrow', 'paddlers', 'propel', 'tree-lined', 'wine', 'Wine', 'Shop', 'Twenty', 'Fourth', 'restaurant', 'tak', 'aiming', 'rifle', 'shoots', 'shoot', 'screen', 'laptop', 'earphones', 'Macintosh', 'cover', 'sheet', 'headless', 'mannequins', 'case', 'outfits', 'sunflowers', 'fishes', 'askance', 'stonesign', '\"These', 'Penzance', 'welcomes', 'you', 'hi-viz', 'welcome', 'carved', 'pushes', 'doll', 'mustache', 'plaid', 'elder', 'overlooks', 'florescent', 'speaks', 'overgrown', 'streaked', 'fur', 'uggs', 'beaded', 'belt', 'goth', 'trendy', 'usual', 'pot', 'had', 'kart', 'grinning', 'go-karts', 'excited', 'will', 'be', 'go-cart', 'only', 'branch', 'owner', 'rummages', 'collection', 'stuff', 'pug', 'bends', 'rummage', 'pick', 'merchandise', 'retrieving', 'pack', 'Irish', 'Setter', 'flashlight', 'father', 'lifting', 'brought', 'peak', 'pockets', 'formations', 'ancient', 'star-shaped', 'expansive', 'waterski', 'did', 'boarding', 'towed', 'speed', 'cowboy', 'neckless', 'chain', 'neck', 'roller', 'coaster', 'Las', 'Vegas', 'airport', 'overhead', 'shot', 'casino', 'carefully', 'innertube', 'saying', 'shades', 'roadside', 'brunette', 'combat', 'zebra', 'curb', 'hooked', 'bungee', 'cords', 'lift', 'active', '\"\"\"', 'strapped', 'tether', 'Kid', 'guards', 'rolling', 'competing', 'agility', 'event', 'lifts', 'paw', 'high-fives', 'mannequin', 'palm', 'crash', 'test', 'dummy', 'robot', 'touch', 'high-fiving', 'Grey', 'gentleman', 'rock-climbing', 'ascends', 'Downward', 'lean', 'Slender', 'dragged', 'lands', 'tag', 'zip', 'propelled', 'parasailing', 'second', 'wet\"', 'shake', 'themselves', 'waist', 'finished', 'calculate', 'route', 'bay', 'glares', 'patch', 'bandanna', 'harbor', 'makes', 'fist', 'docks', 'headscarf', 'bathingsuit', 'couch', 'knocks', 'lamp', '\"Baby', 'indoors', 'reaching', 'teal', 'catcher', 'points', 'league', 'pointing', 'oppsite', 'sides', 'teams', 'arguing', 'scenic', 'cobblestone', 'volleyball', 'Athletic', 'spiking', 'demonstrates', 'interesting', 'moves', 'spinning', 'drops', 'great', 'height', 'stares', 'intently', 'green-colored', 'checking', 'vendor', 'forward', 'tracksuit', 'squeezing', 'lemons', 'press', 'necklace', 'freshly', 'squeezed', 'lemonade', 'juice', 'catered', 'dinner', 'dip', 'plates', 'buffet', 'serve', 'plate', 'peek', 'trunk', 'guys', 'touches', 'mans', 'seems', 'ill', 'touched', 'brother', 'cot', 'gloves', 'wrapping', 'speaking', 'box', 'hurdle', 'spaniel', 'clears', 'obstacles', 'pulls', 'cigarette', 'lighting', 'fisherman', 'reeling', 'Mohawk', 'gelled', 'style', 'shade', 'tying', 'ribbon', 'wrist', 'ninja', 'strikes', 'overall', 'karate', 'attacking', 'masked', 'stance', 'martial', 'arts', 'practicing', 'kick', 'peaceful', 'solitary', 'moment', 'German', 'Shephard', 'opened', 'living', 'handles', 'recreational', 'touching', 'seats', 'bleachers', 'Tim', 'hortons', 'patiently', 'show', 'handle', 'stripe', 'sleeve', 'planked', 'graffiti', 'skateboarding', 'skater', 'amidst', 'cloud', 'recently', 'snowed', 'hamburgers', 'kitchen', 'jar', 'mustard', 'spread', 'burgers', 'crawl', 'tattooed', 'transparent', 'tattoos', 'backs', ':', 'modifications', 'bathroom', 'facial', 'razer', 'feeding', 'son', 'sedan', 'himself', 'racket', '2', 'perfom', 'watched', 'muscular', 'raising', 'treeless', 'backpacking', 'following', 'completely', 'hidden', 'hide', 'partially', 'concealed', 'treads', 'fields', 'shoulders', 'beard', 'hilly', 'steers', 'swampy', 'ridden', 'markers', 'jomps', 'disc', 'moss-covered', 'traversing', 'ciff', 'plains', 'distant', 'scales', 'supporting', 'frisbeen', 'fun', 'bouncy', 'centipede', 'favorite', 'plush', 'multi-colored', 'caterpillar', 'burbur', 'Yorkshire', 'bent', 'slanted', 'sloping', 'participate', 'sport', 'strips', 'fenced', 'limb', 'chewing', 'gnawing', 'uncut', 'leafy', 'teeth', 'Russell', 'measured', 'really', 'fribee', 'Third', 'chocolate', 'lens', 'Thie', 'sippy', 'sipping', 'teen', 'third', 'school', 'cartwheel', 'gate', 'unpainted', 'long-necked', 'crashing', 'rapids', 'egret', 'battling', 'kayaks', 'rows', 'kayaker', 'braces', 'goes', 'cyclists', 'pausing', 'chat', 'bottles', 'Men', 'athletic', 'bun', 'bread', 'cellos', 'violins', 'Market', 'Gallery', 'orchestra', 'Five', 'string', 'instruments', 'music', 'quintet', 'branches', 'bloom', 'panelling', 'button', 'dirt-covered', 'class', 'Group', 'halloween', 'glittery', 'shawl', 'companion', 'cruiser', 'tricycles', 'three-wheeled', 'vehicles', 'baskets', 'snarls', 'steps', 'seem', 'guitarist', 'hula-hoops', 'microphones', 'guitar', 'stage', 'nearly', 'mesh', 'enclosed', 'balancing', 'leg', 'We', 'cannot', 'see', 'medatative', 'gestures', 'meditational', 'gesture', 'presses', 'uniquely-shaped', 'cries', 'better', 'desserts', 'peering', 'dragging', 'though', 'emerges', 'collected', 'maneuvers', 'whitewater', 'jeep', 'ditch', 'free', 'hi', 'viz', 'trapped', 'ravine', 'Baseball', 'batter', 'Yankees', 'Yankee', 'warming', 'padded', 'training', 'attack', 'squirts', 'pistol', 'brownish', 'pale', 'tussling', 'bigger', 'downhill', 'wispy', 'rafting', 'Rafting', 'raft', 'rafters', 'squats', 'crouching', 'cutting', 'bowls', 'court', 'breaded', 'shimp', 'diners', 'visible', 'counter', 'mall', 'drapped', 'murky', 'white-water', 'turbulent', 'flannel', 'swing-toy', 'tires', 'Mickey', 'Mouse', 'Blond', 'quilt', 'kilt', 'bare', 'crawling', 'socks', 'beat', 'Closeup', 'peddal', 'bounds', 'underbrush', 'skateboards', 'do', 'homemade', 'boot', 'apartment', 'more', 'longhaired', 'cross-walk', 'Do', 'Not', 'Walk', 'winds', 'leaf-covered', 'hills', 'brook', 'meanders', 'autumn', 'scuba', 'gloved', 'diver', 'snorkel', 'Scuba', 'submerged', 'lobster', 'crustacean', 'found', 'hall', 'hardwood', 'floors', 'floored', 'brighly', 'canes', 'coats', 'purses', 'quiet', 'upon', 'setter', 'ahead', 'Rottwieler', 'Dalmation', 'weimaraner', 'clipped', 'tail', 'corkscrew', 'Heavyset', 'parent', 'fatigue', 'bottoms', 'balding', 'choppy', 'petting', 'zoo', 'goats', 'lambs', 'arena', 'handlers', 'hoodies', 'share', 'footbridge', 'farm', 'pen', 'border', 'collie', 'rallies', 'lamb', 'enclosure', 'goat', 'curly', 'headed', 'waeribng', 'flowing', 'nears', 'upside-down', 'flipping', 'direction', 'gaze', 'fangs', 'revealed', 'prints', 'intense', 'bounce', 'toes\"', 'printed', 'partying', 'gather', 'gazes', 'horizon', 'Bald', '\"Bald', 'blurry', 'casually-dressed', 'risen', 'twirls', 'outcrop', 'kite', 'countryside', 'cloud-covered', 'navigating', 'current', 'wheelie', 'homeless', 'expressway', 'Bum', 'litter', 'underside', 'lower', 'prances', 'lagoon', 'fetching', 'dobbermen', 'Sparrow', 'Pirates', 'Caribbean', 'doo-rag', 'drawn', 'moustache', 'scarf', 'beads', 'Mark', \"'\", 'Mom', 'Finley', 'introduces', 'two-wheeled', 'invention', 'slip', \"'slide\", 'poll', 'mom', 'wristbands', 'jewelry', 'Europe', 'off-camera', 'pause', 'barren', 'uptop', 'boxy', 'handlebars', 'curly-haired', 'grasps', 'teeter', 'totter', 'bones', 'gymnastic', 'maneuver', 'brings', 'dust', 'storm', 'blowing', 'wind', 'stirred', 'pizzeria', 'buzzes', 'zooming', 'Starbuck', 'sips', 'Boys', 'meadow', 'excavating', 'tools', 'scientist', 'digging', 'artifacts', 'brush', 'brushes', 'possible', 'find', 'paleontologist', 'archeologist', 'multicolored', 'skydiver', 'safely', 'parachutes', 'landed', 'para', 'gliders', 'exercises', 'hound', 'felled', 'nips', 'bared', 'knotted', 'canoeing', 'cooking', 'campsite', 'cooks', 'not', 'pouring', 'hay', 'buried', 'pumpkin', 'heart', 'stretchy', 'charm', 'bracelet', 'examines', 'begs', 'begging', 'headphone', 'map', '\"a', 'listening', 'iPod', 'maps', 'directory', 'highway', 'floatation', 'greeting', 'sniffing', 'larger', 'fluid', 'image', 'covering', 'mound', 'elevated', 'Speedo', 'raised', 'extended', 'raises', 'travels', 'portion', 'shaded', 'cricket', 'wicket', 'dimly', 'performer', 'singing', 'sings', 'microphone', 'electric', 'amplifier', 'onstage', 'Guitar', 'outcropping', 'wilderness', 'valleys', 'bubble', 'scrubbing', 'if', 'loofa', 'bathtub', 'yelling', 'crawls', 'knees', 'babies', 'feed', 'snowball', 'snowbound', 'Texas', 'tents', 'Mountain', '\"With', 'already', 'magic', 'magicians', 'magician', 'else', 'feature', 'kicks', 'teammate', 'teammates', 'opponents', 'progress', 'excitedly', 'greet', 'decked', 'razzling', 'broach', 'pearls', 'antiquated', 'pearl', 'opposite', 'lights', 'sinking', 'Toyota', 'corn', 'stacks', 'sailboat', 'photographer', 'partner', '\"Smiling', 'brown-eyed', 'competitive', 'driver', 'swerves', 'professional', 'windbreaker', 'aqua', 'shrubs', 'country', 'festival', 'fenced-in', 'Lean', 'link', 'silhouette', 'buy', 'Pedestrians', 'Times', 'Square', 'auditorium', 'programs', 'Students', 'notes', 'sniffs', 'newly', 'panting', 'snarly', 'multicoloured', 'hoop', 'motorcyclist', 'Motorcyclist', 'rounds', 'demonstration', 'written', 'scalling', 'support', 'sponsored', 'roadway', 'iguanas', 'wrestled', 'reptiles', 'lizards', 'oriental', 'dominance', 'buggies', 'travel', 'racetrack', 'Cars', 'Race', 'Ralley', 'muscle', 'position', 'see-saw', 'perched', 'readying', 'casts', 'perfect', 'shadow', 'jacketed', 'stairway', 'rushing', 'basset', 'rearview', 'tethered', 'VW', 'coloring', 'mirror\"', 'chest', 'shouts', 'joy', 'mouthed', 'expression', 'bunch', 'spreads', 'spiral', 'field\"', '\"Black', 'smacks', 'cracked', 'earth', 'ashen', 'flats', 'picking', 'things', 'spot', 'downriver', 'riverbank', 'wakeboards', 'waterskiis', 'handed', 'jacked', 'water-skiing', 'surfer', 'surfs', 'eyese', 'whiel', 'tickled', 'foggy', 'mist', 'In', 'distorted', 'dreadlocks', 'photographing', 'pasture', 'bush', 'caramel', 'sad', 'Stretched', 'exiting', 'done', 'staircase', 'earring', 'spiky', 'profile', 'punk', 'hairstyle', 'embrace', 'convert', 'Uniformed', 'carousel', 'fake', 'Row', 'form', 'childrens', 'observing', 'talent', 'Onlookers', 'horns', 'antelope', 'wild', 'America', 'races', 'minimal', 'amount', 'wildebeast', 'trips', 'balance', 'garbage', 'strewn', 'underpass', 'drawings', 'graffitied', 'refuse', 'regularly', 'chats', 'human', 'butt', 'trails', 'ask', 'real', 'gas', 'rocking', 'tricycle', 'springs', 'trike', 'Six', 'huskies', 'wheeled', 'canyon', 'hike', 'Topless', 'jogger', 'sheltered', 'runner', 'assists', 'marathon', '13406', 'rainy', 'pours', 'dim', 'stomach', 'headfirst', 'beginning', 'waterskies', 'seagull', 'gull', 'shoreline', 'stripes', 'Long', 'necked', 'much', 'coyote', 'join', 'Wet', 'swimmer', 'varying', 'crouched', 'struggles', 'slipper', 'fuzzy', 'tugging', 'grabs', 'formally', 'potrait', 'informal', 'department', 'focuses', 'mid-sections', 'skateboard\"', 'skaters', 'signals', 'skinned', 'neighborhood', 'dice', 'gal', 'blazing', 'campfire', 'clustered', 'bonfire', 'rocker', 'spotters', 'tried', 'barely', 'climbed', 'carpeting', 'red-seated', 'leashes', '\"Dogs', 'straining', 'owners', 'apart', 'reach', 'companions', 'Kiss-costumed', 'facepaint', 'costume\"', 'Kiss', 'parents', 'gleefully', 'rolled', 'frolics', 'sprinklers', 'boards', 'largley', 'skeleton', 'leafs', 'single', 'elevation', 'Spiderman', 'ringing', 'bell', 'doorbell', 'Halloween', 'spiderman', 'candy', 'rings', 'beachgoers', 'scattered', 'partly', 'Beachgoers', '\"Many', 'costumed', 'diner', 'scary', 'devil', 'lighted', 'raise', 'kneel', 'snowboarders', 'saber', 'glowing', 'sword', 'Sabre', 'Star', 'Wars', 'polka', 'dot', 'polka-dot', 'grove', 'presentation', 'hardhat', 'length', 'tractor-like', 'upset', 'streaming', 'tears', 'make-up', 'Red', 'crosswalk', 'OK', 'Bikers', 'relax', 'converse', 'maroon', 'rope-swinging', 'bend', 'squat', 'carry', 'laborador', 'waring', 'mickey', 'mouse', 'adorn', 'angle', 'stadium', 'sprints', 'floppy', 'licking', 'explores', 'medium', 'sized', 'rangler', 'cargo', 'khakis', 'lounge', 'resort', 'sunbathers', 'plaza', 'European', 'faded', 'sharing', 'serves', 'feeds', 'cream', 'exhibit', 'skips', 'domes', 'design', '\"Small', 'orbs', 'involving', 'swine', 'pet', 'piglet', 'plank', 'acrobatic', 'stunts', 'deflated', 'gotten', 'led', 'bicycler', 'wearubg', 'pit', 'converging', 'cycling', 'cycles', 'diry', 'cannonball', 'unison', 'terrior', 'soaking', 'ends', 'packaged', 'gifts', 'presents', 'checked', 'trays', 'product', 'dead', 'humans', 'master', 'checks', 'muzzle', 'rottweiler', 'cooling', 'kisses', 'goodbye', 'start', 'students', '\"Group', 'schoolchildren', 'drifting', 'fat', 'dingo', 'crag', 'blow', 'wands', 'hoops', 'arcade', 'whack', 'mole', 'Whack', 'Em', 'whacking', 'aliens', 'corndogs', 'showering', 'home', 'facility', 'bathes', 'watering', 'wrapped', 'work', 'tool', 'blower', 'works', 'trash', 'transport', 'multiple', 'sacks', 'caches', 'squeamish', 'reacting', 'punches', 'fighter', 'blocks', 'kickboxer', 'boxers', 'kickbox', 'punching', 'tossed', 'caught', 'faucet', 'spigot', 'turns', 'tap', 'allow', 'boarder', 'dumped', 'surfers', 'crystal', 'surfboarding', 'wakeboarders', 'tourists', 'swordfighting', 'opponent', 'arts-style', 'those', 'persons', 'shape', '4', 'Greenbay', 'Green', 'Bay', 'Packer', 'Packers', 'brindle-coated', 'interacting', 'bulletproof', 'bullet', 'proof', 'smoking', 'smokes', 'scruffy', 'sort', 'Gandhi', 'Ghandi', 'markings', 'basketball', 'angerly', 'basketballs', 'glowers', 'skills', 'dribbles', 'gymnasium', 'dribbling', 'Steve', 'Nash', 'potted', 'Spanish-style', 'pots', 'rollerblading', 'inline', 'Rollerblades', 'travelling', 'skates', 'fishemen', 'enjoy', 'blow-up', 'tubing', 'cork', 'period', 'basket', 'apples', 'supplies', 'scrubland', 'desert', 'space', 'traverse', 'scrubby', 'peaks', 'vike', 'conversation', 'Interracial', 'chatting', 'attrative', 'barbed', 'Skimply', 'clad', 'cowgirl', 'barbwire', 'scantily', 'threatening', 'cavort', 'manner', 'Ivars', 'bystanders', 'ferns', 'dachshunds', 'pane', 'jug', 'washes', 'teenagers', 'columns', 'dyed', 'neon-colored', 'section', 'crate', 'destination', 'grasping', 'performance', 'practice', 'perform', 'derssed', 'gymnastics', 'gymnast', 'somersault', 'workout', 'Gymnast', 'flooring', 'drain', 'crocks', 'grating', 'drainpipe', 'grate', 'threw', 'reddish', 'armful', 'snowsuit', 'parka', '\"Ski', 'Ski', 'Snowy', 'forefront', 'skiny', 'puckering', 'licks', 'ping', 'AstroTurf', 'spout', 'congregate', 'french', 'poodles', 'romp', 'preservers', 'feels', 'world', 'pretends', 'scenery', 'canoes', 'conoe', 'paraglider', 'soars', 'parachuting', 'parachute', 'collecting', 'parachutist', 'unfurled', 'fold', 'gathering', 'used', 'gliding', 'kill', 'Weirmeiner', 'collars', 'paisley', 'yuong', 'asphalt', 'control', 'controller', 'remote', 'PlayStation', 'wets', 'ampitheater', 'vacant', 't-bar', 'pulley', 'garmet', 'cape', 'Adults', 'arrangement', 'stripped', 'tights', 'laps', 'tangled', 'greyhound', 'happening', 'greyhounds', 'finish', 'outlines', 'surrounding', 'colorfully', 'decorated', 'ridding', 'rapidly', 'coasting', 'Snowboarder', 'fresh', 'decoration', 'riders', 'grappling', 'narby', 'engaged', 'physical', 'contact', 'hug', 'arid', 'pouch', 'foothills', 'flipped', 'launcher', 'aid', 'assist', 'glances', 'cots', 'makeshift', 'beanie', 'christmas', 'reindeer', 'headband', 'antlers', 'friend', 'Greyhound', 'Greyhounds', 'Racing', 'leave', 'starting', 'gazebo', 'chicken', 'money', 'obscure', 'carrier', 'juggles', 'market', 'grocery', 'tote', 'sorts', 'groceries', 'concert', 'chasseing', 'beret', 'recreation', '\"an', 'bike\"', 'boulders', 'casual', 'eachothers', 'hang-glider', 'glider', 'parasail', 'Hang', 'parasailors', 'shadowed', 'range', 'bruised', 'rental', 'bookcase', 'videos', 'foggyday', 'Looking', 'prow', 'heading', 'package', 'asking', 'witnesses', 'dealth', 'signpost', 'bundled', 'dark-colored', 'garments', 'upraised', 'library', 'bookstore', 'read', 'trip', 'golden-colored', 'alert', 'protective', 'Dalmatian', 'dalmatian', 'lease', 'hotel', 'island', 'woven', 'toboggan', 'knitted', 'poof', 'woolen', 'identically', 'identical', 'pajama', 'breaking', 'bit', 'icy', 'pass', 'overcoat', '\"Older', 'glassses', 'snowstorm', 'goatee', 'muzzled', 'galloping', 'buckets', 'rivers', 'laundry', 'rags', 'cliffs', 'dusty', '\"Person', 'utensils', 'implements', 'fork', 'knife', 'utilities', 'menacingly', 'environment', 'grimmaces', 'huddle', 'cameras', 'raging', 'strong', 'currents', 'rafter', 'steamy', 'rapid', 'Kayacker', 'downstream', 'Mani', 'calmer', 'Pyranha', 'rear', 'whose', 'snowman', '\"five', 'head\"', 'couples', 'broken', 'hummer', 'damaged', 'carried', 'repair', 'night-time', 'army', 'beat-up', 'Dirty', 'tow', 'peach', 'laid', 'mistletoe', 'knit', 'theme', 'Australian', 'shepherd', '\"three', 'necks', 'cautious', 'calm', 'rugged', 'region', 'detector', 'sleeves', 'miles', 'tiny', 'cow', 'bull', 'someplace', 'distnat', 'hate', 'fists', 'tough', 'cheap', 'Punk', 'mean', 'spring', 'african', 'African', 'tunic', 'canal', 'whist', 'waterway', 'blue-green', 'ponytail', 'face-down', 'places', 'snuggles', 'tinted', 'chin', 'crocodile', 'posed', 'dangerous', 'what', 'jaw', 'ankle', 'Shepherd', 'rolls', 'scratch', 'contorted', 'harmonica', 'guiutarist', 'looming', 'binoculars', 'thermos', 'gazing', 'snowcapped', 'mountian', 'topped', 'traveller', 'glacier', 'giant', 'ballet', 'fairy', 'wand', 'nutcracker', 'butterfly', 'turquiose', 'tutu', 'chow', 'mix', 'euro', 'plats', 'messy', 'junk', 'toilet', 'contracption', 'kitten', 'hoses', 'rockets', 'recoiling', 'action', 'treated', 'Philadelphia', 'Phillie', 'pitcher', 'pitchers', 'bounces', 'swarmed', 'pigeons', 'Pigeons', 'swarm', 'birds', 'individuals', 'filiming', 'photographs', 'barrier', 'Orange', 'peacoat', 'laden', 'digital', 'laugh', 'giggling', 'Foosball', 'developing', 'nation', 'burlap', 'Jeep', 'sinks', 'wheels', 'doors', 'opens', 'drenched', 'downpour', 'sox', 'distressed', 'determined', 'marsh-like', 'mucky', 'mostly', 'snowing', 'falls', 'helments', 'accends', 'soap', 'located', 'off-roading', 'embankment', 'cruising', 'yachts', 'Footballers', 'scrambling', 'keeper', '\"Four', 'score', '3', 'prevent', 'converge', 'swimsuits', 'Swimmers', 'They', 'fog', 'reddish-brown', 'mown', 'nice', 'verdant', 'bustling', 'typical', 'daytime', 'activity', 'sailing', 'everywhere', 'lets', 'thrashed', 'mock', 'Egyptian', 'Egytian-like', 'flood', 'wrings', 'twists', 'wringing', 'material', 'nervous', 'directed', 'stretching', 'sites', 'toss', 'ultimate', 'strawberries', 'raincoat', 'Seattle', 'docked', 'dog-shirt', 'faithful', 'Lady', 'redheaded', 'disk', 'sleeding', 'down\"', 'crevice', 'Hikers', 'clay', 'fruit', 'got', 'berries', 'eyed', 'syrup', 'crossed', 'herself', 'snowbank', 'snowdrift', 'icicle', 'warmly', 'pretending', 'sleds', 'unhappy', 'winks', 'winking', 'LL', 'Bean', 'dives', 'not-so-crowded', 'lifeguards', 'Santa', 'Claus', 'figurine', 'St', 'Bernard', 'rollerskate', 'Rollerblade', 'passed', 'frowning', 'Christmas', 'receives', 'littering', 'vapour', 'piled', '\"This', 'intertube', 'Snow', 'NASCAR', 'sponsorship', 'logos', 'Older', 'emblems', 'choice', 'pencils', 'decorate', 'hods', 'bib', 'orange-stained', 'stone-filled', 'enthusiastically', 'continue', 'wavy', 'weathered', 'smell', 'inspects', 'diagram', 'displayed', 'studies', 'anatomy', 'desk', 'tell', 'customer', 'fortune', 'fishermen', 'peacefully', 'pleasant', 'conditions', 'drift', 'sunshade', 'landform', 'speedos', 'evergreen', 'outrun', 'tread', 'minerature', 'supervising', 'arranged', 'grounded', 'rowboat', 'beached', 'Spider-Man', 'hobby', 'hopping', 'garage', 'rise', 'descend', 'roof', 'worker', 'hard-hat', 'hammer', 'fix', 'cutoff', 'tails', 'muzzles', 'masks', 'rally', 'zooms', 'fans', 'Blue', 'greyish', 'obscuring', 'swatted', 'powered', 'rocket', 'mittened', 'keep-away', 'nature', 'array', 'dumps', 'bounding', 'blouse', 'panes', 'cheerleaders', 'pom-poms', 'pompoms', 'cheerleading', 'neckties', 'foil', 'pom', 'poms', 'routine', 'cheering', 'trailer', 'triangular', 'stunt', 'Running', 'color', '\"Greyhound', 'first\"', 'ran', 'S.C.U.B.A.', 'fins', 'beauty', 'Lilly', 'pads', 'schoolyard', 'classmates', 'Tan', 'park-like', '\"Adults', 'move', 'flock', 'pair', 'Schoolchildren', 'messily', 'pasta', 'spaghetti', 'mess', 'operating', 'keyboard', 'squated', '\"I', 'am', 'Hollywood', 'fame', 'leather', 'Image', 'plushie', 'news', 'grinding', 'crying', 'mocks', 'cry', 'moms', 'somebody', 'barn', 'further', 'eyebrow', 'camera\"', 'handicap', 'signs', 'handicapped', 'cottage', 'cylindrical', 'bale', 'bales', 'lodge', 'starts', 'Skiers', 'ducks', 'elegant', 'geese', 'At', 'least', 'grows', 'deeps', 'beg', 'attentive', 'red-clad', 'Horse', '8', 'rellow', 'youngsters', 'crashes', 'flashing', 'nude', 'rickety', 'bridge\"', 'gorge', 'extremely', 'On', 'nowhere', '\"Six', 'castle', 'build', 'skijoring', 'lesh', 'photographed', 'sightseeing', 'tandem', 'seater', 'security', 'guard', 'officer', 'trot', 'snow-patched', 'retrievers', 'dusted', 'ties', 'Sound', 'Kildare', 'medal', 'bow', 'arrow', 'target', 'firing', 'bullseye', 'archer', 'haystack', 'uncrowded', 'sucks', 'bagpipes', 'tests', 'tone', 'tuner', 'bagpipe', 'adjusting', 'part', 'wrinkled', 'leads', 'clings', 'noticable', 'crack', 'hurdles', '\"Snowboarder', 'fetches', 'drab', 'Teen', 'foreround', 'capped', 'loaded', 'nets', 'Ocean', 'Company', 'odd', 'artistic', 'contraption', 'returns', 'chewed', 'Gonzaga', 'neclace', 'GONTAGA', 'muti', 'pigs', 'aids', 'need', 'attention', 'wheelbarrow', 'lakefront', 'frilly', 'dancing', 'princess', 'because', 'ND', 'fancy', 'tilts', 'upward', 'glove', 'Groucho', 'Marx', 'Blonde', 'novelty', 'rollerskates', 'assisting', 'act', 'ice-skating', 'operate', 'boredom', 'Jewish', 'violin', 'listens', 'cramped', 'lunch', 'middleaged', 'rungs', 'half-completed', 'childing', 'fort', 'stripy', 'built', 'doorway', 'filming', '\"Mother', 'Golden', 'pouting', 'long-handled', 'well', 'apportioned', 'cardigan', 'Middle', 'Eastern', 'campflauge', 'fours', 'Cami', 'hawaiin', 'runway', 'placing', 'playgym', 'tiger', 'colorings', 'Grayhound', 'derby', 'tattoo', 'Indian', 'native', 'indian', 'Native', 'driftwood', 'pumps', 'tabs', 'ceiling', 'taps', 'Pinscher', 'coverings', 'hairnet', 'wrestles', 'nuzzling', 'shirted', 'fitls', 'tourist', 'location', 'wade', 'mushrooms', 'clown', 'whistle', 'blows', 'muffs', 'establishment', 'dimly-lit', 'crime', 'Surfers', 'seawall', 'churns', 'enviorment', 'repel', 'reclines', '\"Tw', 'rubs', 'taught', 'stoops', 'watermelon', 'watermelons', 'airplane', '\"Toddler', 'cones', 'dads', 'cone', 'flames', 'flaming', 'hulahoop', 'trainer', 'pink-coated', 'fingers', 'smeared', 'pudding\"', 'As', 'sunsets', 'reflecting', '\"Someone', 'diferent', 'desert-like', 'Gate', 'Bridge', 'sledding', 'oar', 'Corgis', 'doberman', 'corgi', 'whom', 'palace', 'looling', 'military', 'British', 'guardsman', 'winters', 'panda', 'shoveling', 'snowshovel', 'mini', 'shovel', 'shovels', 'apex', 'Sheppard', 'bting', 'retrieved', 'flooded', 'Japanese', 'schoolgirls', 'lining', 'purchase', 'tickets', 'theater', 'ticket', 'fences', 'passing', 'electricity', 'pylon', 'boxes', 'ourdoors', 'musician', 'perfoms', 'blowup', 'statues', 'Easter', 'sculptures', 'Island', 'phones', 'focused', 'cellphones', 'banks', 'mounds', 'snowbanks', 'landscaped', 'brooms', 'sweeping', 'caravan', 'buggys', 'wiht', 'backview', 'wheelchair', 'scratches', 'observes', 'scratching', 'sandbox', 'pillows', 'furniture', 'squabble', 'twenties', 'liquid', 'mug', 'distored', 'oxford', 'magazine', 'wintery', 'sitts', 'melted', 'Wizards', 'square', 'fill', 'packed', 'climing', 'hop', 'Louis', 'Vuitton', 'widow', 'shops', 'leafless', 'dove', 'abseiling', 'repelling', 'cord', 'rappelling', 'cliffside', 'Extreme', 'No', 'Skiing', 'repels', 'individual', 'dangles', 'technical', 'supported', 'weating', 'cleats', 'waling', 'Lassie', 'dolphins', 'jars', 'hapy', 'jacks', 'sweats', 'peoplw', '\"As', '\"Orange', 'speckled', 'fox', 'comforts', 'fellow', 'members', 'feathers', 'Sheperd', 'virtual', 'video-game', 'projected', 'images', 'foreign', 'umbrellas', 'stay', 'Asia', 'pocket', 'backside', 'boxing', 'donkey', 'brake', 'mule', 'non-working', 'sleeps', 'breaching', 'rimmed', 'actions', 'consumed', 'surroundings', 'barefooted', 'Nat', 'numerous', 'penguins', 'accross', 'waterproofs', 'bundles', 'cameraman', 'settings', 'closed\"', 'legged', 'tram', 'bellbottoms', 'boa', 'pedestrian', 'racquet', 'Miami', 'forehand', 'pawing', 'official', 'soaring', 'daylight', 'terriers', 'cappedhills', 'stopping', 'mountaineers', 'waterfalls', 'quietly', 'darkly', 'file', 'Quite', 'astonishment', 'confronts', 'pets', 'Old', 'slinky', 'sibling', 'cats', 'pump', 'adolescent', 'mixing', 'launched', 'home-made', 'warily', 'investigating', 'sweat', 'youn', 'piggyback', 'adorned', 'wheel-barrow', 'blades', 'Thre', 'strings', 'confetti', 'bluejean', 'stained', 'sweatsuit', 'locked', 'snub', 'smells', 'bringing', 'dining', 'growls', 'barking', 'duke', 'speeds', 'wedding', 'veil', 'bride', 'bridal', 'Bride', 'relection', 'mid-flight', 'zips', 'pebble', 'Fluffy', 'pebbles', 'emitting', 'smoke', 'film', 'videotaped', 'buggy', 'comes', 'grabbing', 'mouthguards', 'called', 'Neptuno', 'midst', 'blankets', 'Tigger', 'royal', 'puffs', 'cubby', 'cheeked', 'poncho', 'robe', 'Friends', 'mid-run', 'payfully', 'kicked', 'ouside', 'side-by-side', 'horseriders', 'horseback', 'Puppy', 'weeping', 'willow', 'kind', 'dropping', 'colourful', 'angels', 'snowsuits', 'kiosk', 'entitled', 'Other', 'Photographs', 'use', 'flexable', 'appearing', 'malnourished', 'whild', 'flight', 'sails', 'Skateboarder', 'rectangular', 'sell', 'clothes\"', 'dirtbikes', 'Dirt', 'assault', 'similar', 'dozen', 'gated', 'brownish-orange', 'harnessed', 'perspective', 'sled-dog', '\"Several', 'tooth', 'spare', 'change', 'amid', 'drummer', 'saxophones', 'storefront', 'drums', 'drum', 'patches', 'forested', 'confront', 'silky', 'sees', 'government', 'collarless', 'courthouse', 'juggling', 'shirtness', 'batons', 'Juggler', 'wolf', 'pencil', 'rubbing', 'lounging', 'Tattooed', 'husky-like', 'samoyads', 'pure', 'melting', 'awaits', 'wicker', 'shit', 'straight', 'ripstik', 'cold-weather', 'styled', 'Freddy', 'Krueger', 'spike', 'batman', 'onesie', 'pointy', 'wrestler', 'posign', 'loaves', 'liking', 'curled', 'ragged', 'assistance', 'donning', 'chiseling', 'Axe', 'hacking', 'snake', 'draping', 'wraps', 'pad', 'grip', 'note', 'writes', 'notebook', 'Teenage', 'natural', 'bobbed', 'digs', 'Afro', 'vert', 'launches', 'quarter', 'removing', 'garter', 'toppless', 'hr', '\"Pack', 'grouped', 'melts', 'bares', 'attacked', 'blindfold', 'blindfolded', 'fleece', 'Arizona', 'prairie', 'edged', 'were', 'ski-ing', 'dalmatians', 'Dalmatians', 'palm-tree', 'broen', 'gloved-hand', 'concentration', 'beverage', 'meet', 'bowling', 'alley', 'Soccer', 'Mr.', 'Potato', 'features', 'pieces', 'Potao', 'Head', 'dark-haired', 'free-climbing', 'glides', 'community', 'rollerskating', 'beagle', 'hides', 'created', 'massive', 'amounts', 'been', 'railings', 'tripod', 'photographic', 'connected', 'movie', 'reviewing', 'took', 'musicians', 'western', 'overcoat\"', 'attending', 'attend', 'speak', 'downward', 'T-ball', 'mid-jump', 'windy', 'chunk', 'Main', 'Street', 'toothpaste', 'dig', 'dollar', 'bill', 'African-American', 'bills', '\"Children', 'process', 'yells', 'offstage', 'forceful', 'grapple', 'Water', 'craw', 'creature', 'crab', 'flautist', 'flute', 'suburban', 'Arabian', 'crooked', 'backbend', 'belly', 'Rottweiler', 'tongues', 'mittens', 'froup', 'unusual', 'trench', 'jetty', 'looked', 'rock-face', 'spotting', 'nurses', 'nursing', 'downtown', 'street-shot', 'Applebee', 'Dave', 'Buster', 'restaurants', 'arriving', 'chickens', 'walls', 'Chinatown', 'City', 'awnings', 'tubular', 'hear', 'Kong', 'point', 'beers', 'towels', 'hopscotch', 'chalked', 'grid', 'doggy', 'exercise', 'Puma', 'hugged', 'PUMA', 'cloaks', 'trim', '\"Some', 'robes', 'cuts', 'cartwheels', 'readied', 'launch', 'Remax', '\"people', 'grass\"', 'bonnet', 'upright', 'steady', 'kid-sized', 'go-kart', 'competition', 'numbered', 'spashes', 'bat-shaped', 'thumbs', 'snorkeling', 'crew', 'scubba', 'blacktop', 'twigs', 'crown', 'bouncey', 'pees', 'walked', 'shreds', 'creeping', 'wildly', 'redish', 'met', 'fedora', 'grownup', 'Minnie', 'polka-dotted', 'illuminated', 'ship', 'ships', 'spouse', 'balck', 'jaket', 'masquerade', 'grins', 'domino', 'severe', 'round', 'horseshoes', 'horseshoe', 'Yong', 'sprinkled', 'ornamental', 'oh', 'crafts', 'Ther', 'crates', 'thumbs-up', 'wearhing', 'furocious', 'returning', 'match', 'intricate', 'designs', 'segway', 'Segway', 'slalom', 'slalom-like', 'zigzag', 'policeman', 'queue', 'buddist', 'worships', 'buddha', 'Buddist', 'prays', 'shrine', 'Monk', 'praying', 'Reflections', 'slacks', 'parasails', 'sail', 'windsurfs', 'crest', 'windsurfer', 'dragon', 'bomber', 'earflaps', 'poster', 'mustached', 'Sombody', \"n't\", 'stars', 'lick', 'Pomeranian', 'bearing', 'dribbled', 'footpath', '\"Hooded', 'marketplace', 'headscarfs', 'rigging', 'mast', 'herding', 'reeds', 'marsh', 'diapers', 'overturned', 'articles', 'amoung', 'maintained', 'wide-legged', 'black-and-white', 'monster', 'ridable', 'tipped', 'stubby', 'ceremony', 'keep', 'wards', 'Dane', 'dachshund', 'electronics', 'engage', 'devices', 'm', 'bushels', 'tulips', 'tulip', 'longsleeve', 'Oklahoma', 'Football', 'Sooners', '50', 'dodges', 'tackle', 'wuth', 'discouraged', 'coach', 'based', 'communications', 'touchline', 'visor', 'ref', 'collegiate', 'footballer', 'UW', 'sidelines', 'at&t', 'cheers', 'congratulate', 'crowds', 'cheer', 'discuss', 'Sooner', 'sideline', 'college', 'tackled', 'jerseys', 'tackling', 'uniformed', 'cheerleader', 'dancer', 'tackles', 'bang', 'quarterback', 'scans', 'offensive', 'protects', 'notre', 'dame', 'timeout', '\"Coach', 'everyone', 'OU', 'coaching', 'injured', 'nursed', 'attempted', 'opposing', 'keeps', 'defending', 'University', 'rival', 'footballers', 'confronted', 'opposition', 'advance', 'would', 'tackler', 'eluding', 'Huskies', 'defenders', 'avoid', 'mascot', 'fives', 'Wisconsin', 'endzone', 'punting', '17', 'onward', 'sooners', 'possession', 'avoiding', 'fumble', 'clutches', 'scrimmage', 'gain', 'receiver', 'referees', 'contest', 'collaborating', 'officials', 'lifted', 'teamates', 'athletes', 'Quarterback', 'receive', 'snap', 'center', 'compete', '23', 'pro', 'layer', 'oppsing', 'defensive', '42', 'punts', '\"Oklahoma', 'kicker', 'football\"', 'jersay', 'footballs', 'appear', 'national', 'anthem', 'staff', 'manager', 'Nike', 'excercises', 'stretches', 'turf', 'Americans', 'fan', '28', 'weas', 'armbands', '#', '19', 'Commuters', 'fro', 'lolly', 'graphic', 'shelves', 'blues', 'brothers', 'Blues', 'Brothers', 'impersonator', 'expressions', 'concerned', 'hand-stand', 'runners', 'parallel', 'sunhat', 'cute', 'Tupperware', 'chains', 'chained', 'girt', 'messenger', 'paneled', 'comfort', 'moonwalk', 'sundress', 'French', 'mark', 'Dachshund', 'colander', 'clowns', 'mad', 'strainer', 'lighthouse', 'Female', 'tower', 'youngster', 'gigantic', 'handbags', 'ollie', 'hooding', 'isolated', 'submerges', 'waterskis', 'speeding', 'inflatbale', 'archway', 'engraved', 'names', 'memorial', 'stiffing', 'farmland', 'tug-of-war', 'tomatos', 'cutout', 'sailor', 'marking', 'drainage', 'sewer', 'pyramid-shaped', 'illustrated', 'dismounts', 'tiles', 'dots', 'foreheads', 'squirted', 'fliers', 'handing', 'papers', 'Fawkes', 'protest', 'catc', 'dobermans', '(', ')', 'Skateboard', 'hospital', 'cast', 'peeking', 'peeping', 'pillar', 'helemt', 'weaving', 'weaves', 'socializing', 'crust', 'Sledding', 'enthusiasts', 'observer', 'wasteland', 'river\"', 'gallery', 'fully', 'clothed', 'lagging', 'scouts', 'showered', 'close-cropped', 'haircut', 'skyward', 'studded', 'Distorted', 'Hawaiian', 'unshaven', 'street\"', 'buzy', 'series', 'walkways', 'spaced', 'maple', 'Twelve', 'diamond', 'seidwalk', 'discs', 'Frisbees', 'Purina', 'Incredible', 'Challenge', 'freesbies', 'mechanical', 'rabbit', 'tape', 'painters', 'superman', 'super', 'heroes', 'Retriever', 'equestrian', 'jumper', 'jockey', 'quarters', 'flows', 'mossy', 'cascades', 'burning', 'split', 'skipping', 'bamboo', 'delivery', 'easels', 'fencing', 'admiring', 'docking', 'iron', 'girder', 'bridges', 'alertly', 'workshop', 'classic', 'Alon', 'steam', 'blurred', 'housing', 'development', 'lipstick', 'make-shift', 'lifevests', 'trains', 'treats', 'backpack\"', 'sheperds', 'bigs', 'includes', 'suspenders', 'min', 'patterned', 'Youngle', 'pail', 'mold', 'objest', 'shelf', 'butts', 'sister', 'muxzzled', 'unamused', 'banner', 'streamer', 'phrase', 'inscribed', 'htting', 'struggling', 'hip', 'wake', '\"Bikers', 'motorcyclists', 'skies', 'roses', 'ducking', 'toothbrush', 'paraglide', 'parasurfer', 'judo', 'mats', 'struggle', 'dojo', 'spar', 'Karate', 'bout', 'parasailer', 'sailboats', 'Elderly', 'learning', 'how', 'rhododendron', 'reviews', 'sunning', 'Buy', 'waterfront', 'Kite', 'short-sleeved', 'slowly', 'ledges', 'rises', 'Drenched', 'poking', 'Teenagers', 'merry-go-round', 'Ferris', 'Wheel', 'tow-headed', 'amuseument', 'sink', 'washer', 'rowers', 'treefilled', 'swetashirts', 'marshy', 'shoulder-high', 'shack', '\"White', 'cobblestones', 'mini-trampoline', '52', 'feild', 'subject', 'netted', 'hooker', 'Ok', 'I', 'bums', 'Peace', 'Mission', 'Portland', 'Oregon', 'belongings', 'prancing', 'sniffed', 'crotch', 'grasslands', 'font', 'fiddles', 'miscellaneous', 'intended', 'saturated', 'herds', 'kiddie', 'focusing', 'murals', 'chaps', 'chainmail', 'codpiece', 'perhaps', 'camel', 'peoples', 'containers', 'groom', 'strapless', 'c', 'novel', 'meeting', 'speech', 'adopted', 'mixed', 'breed', 'shooting', 'fires', 'Lay', 'potato', 'chip', 'chips', 'daschund', 'bark', 'wiener', 'wildflowers', 'palying', 'mulch', 'stirring', 'squating', 'oout', 'waists', 'scarred', 'playtoy', 'pipeline', 'well-kept', 'within', 'shortly', 'trace', 'rising', 'sunrise', 'ashy', 'countertop', 'ribbons', 'bows', 'Where', '?', 'grafitti', 'WHERE', 'ARE', 'YOU', '?\"', 'cigerette', 'graffitti', 'eagerly', 'letters', 'cut-outs', 'letter', 'P.', 'P', 'cutouts', 'shadow-dappled', 'aged', 'spirit', 'pep', 'ralley', 'books', 'huddled', 'celebrities', 'props', 'pretend', 'musicans', 'posh', 'pre-teen', 'sing', 'rights', 'manmade', 'res', 'higher', '\"Bright', 'cob', 'samll', 'noodles', 'cricketer', 'misses', 'batsman', 'seashore', 'mattress', 'hula', 'hooping', '104', 'rounding', 'Silver', 'advertising', 'depicts', 'RV', 'campground', 'dge', 'amongst', 'soldiers', 'civillians', 'busstop', 'ignoring', 'bitten', 'limbs', 'quilted', 'heard', 'Sheep', 'cluster', 'floated', 'wields', 'Scottish', 'global', 'roughhousing', 'play-fighting', 'ejected', 'chute', 'slippery', 'darked', 'i', 'Basketball', 'overhangs', 'overhanging', 'wrap', 'add', 'collects', 'recyclable', 'searching', 'rummaging', 'trashcan', 'Bag', 'observed', 'Spectators', 'screeches', 'stock', 'knee-deep', 'rifles', 'tufts', 'uneven', 'withered', 'tan-and-white', 'dashes', 'complex', '4x4', \"'n'\", 'bum', 'Trash', 'spills', 'noy', 'followed', 'subdivsion', '\"Pedestrians', 'meandering', 'casually', 'blazer', 'sandpit', 'castles', 'sandcastles', 'cupcake', 'shapes', 'guides', 'Sheltie', 'kennel', 'doghouse', 'tire-shaped', 'faux', 'slumped', 'crossbones', 'fton', 'residential', 'hopes', 'nipping', 'cattle', 'bucking', 'pony-tailed', 'sparklers', 'sparkler', 'firework', 'mouth\"', 'massage', 'vibrating', 'recline', 'grilling', 'cornstalks', 'chef', 'roasted', 'husks', 'white-haired', 'thumb', 'apple', 'level', 'than', 'breaker', 'bonnets', 'tumbles', 'Kayaker', 'tips', 'squeezes', 'crevasse', 'bathrobe', 'bulldogs', 'togerther', 'shorthaired', 'sponges', 'madly', 'Shriner', 'Mercury', 'PNC', 'Bank', 'backstroke', 'rash', 'Basset', 'kites', 'snow-capped', 'Bright', 'flown', 'yawning', 'Close-up', 'yawns', 'breath', '\"Swimmer', 'Hero', 'cacti', 'Spring', 'Hill', 'pitching', 'water-wings', 'smilely', 'faced', 'watch\"', 'arch', 'spurting', 'furred', 'cane', 'circular', 'mushroom', 'cin', 'relatively', 'early', 'lampost', 'undershirt', 'contestants', 'pattern', 'shoeless', 'blue-tinted', 'rusty', 'birdcage', 'Blue-eyed', 'non-grassy', 'rushes', 'Yellow', 'greenish', 'photography', 'dimmly', 'engaging', 'conversations', 'studio', 'mingling', 'Biker', 'rodeo', 'contestent', 'Cowboy', 'bucked', 'blown', 'executes', 'loop-the-loop', 'twist', 'twisting', 'loop', 'inverted', 'Izod', 'stiped', 'loose', 'Naked', 'law', 'enforcement', 'sheepdog', 'reception', 'butting', 'woman\"', 'lightly', 'flash', 'removes', 'prepairing', 'extends', 'sack', 'darker-skinned', 'corrugated', 'wanting', 'shoe', 'cotton', 'sandal', 'background\"', 'bust', 'Buddha', 'safari', 'shrowded', 'darkness', 'groupe', 'brilliant', 'teaches', 'teaching', 'Goggled', 'flings', 'flung', 'outstreached', 'tabby', 'backhand', 'twirl', 'sparkling', 'over-alls', 'enthusiastic', 'chests', 'ankle-deep', 'Canon', 'nothing', 'except', 'substance', 'stocking', 'pedestrians', 'Big', 'halo', 'croquet', 'whie', 'defaced', 'bigwheels', 'cycle', 'shouting', 'towarn', 'tissue', 'swinger', 'beachfront', 'Wrestler', 'energizer', 'bunny', 'Energizer', 'numbers', 'footprints', '\"Rocks', 'surround', 'adventurer', 'burrowing', 'wood-stacked', 'site', 'HOMELESS', 'ANYTHING', 'HELPS', 'Stacks', 'happen', 'turkeys', 'lilypads', 'separate', 'lillypads', 'deer', 'dinghy', 'grasses', 'stride', 'surges', 'pops', 'popping', 'parkinglot', 'chews', 'wheat', 'striding', 'marches', 'pedigree', 'chested', 'fierce', 'yet', 'China', 'Shipping', 'CHINA', 'SHIPPING', 'zone', 'surounded', 'parrot', 'barricade', 'rodents', 'aquarium', 'stingray', 'fuchsia', 'emphatically', 'expressing', 'opinion', 'pleadingly', 'purchasing', 'register', 'purchased', 'cashier', 'checkout', 'check-out', 'lighter', 'vending', 'redwood', 'sequoia', 'bushy', 'disheveled', 'poofy', 'attractive', 'Muzzled', 'capes', 'cleared', 'beaten', 'boarded-up', 'abandon', 'boarded', 'rundown', 'win', 'cut-out', 'With', 'blonde-headed', 'protector', 'trained', 'baton', 'objective', 'mid-sized', 'moutainside', 'aimed', 'houses', 'shady', 'draped', 'mitt', 'traditional', 'knee-high', 'navel', 'words', 'eastern', 'Arab', 'themed', 'dark-headed', 'Popsicle', 'smelling', 'smiff', 'behinds', 'skying', 'ski-suit', 'pincer', 'grenade', 'sleve', 'tuxedos', 'carpeted', 'Well', 'mid-leap', 'crystal-clear', 'cookies', 'cookie', 'satchel', 'suitcase', 'labelled', 'LUCKY', 'Lucky', 'overflowing', 'cash', 'missing', 'Caucasian', 'milk', 'spilled', 'Longhorns', 'undone', 'forwards', 'tasting', 'potty-potty', 'awaiting', 'port-a-potty', 'port-o-john', 'potty', 'leapfrog', 'Winnie', 'Pool', 'Pooh', 'behing', 'tightrope', 'Dale', 'Jr.', 'posters', 'Earnhardt', 'rode', 'jogged', 'coastline', 'basement', 'maracas', 'tambourines', 'song', 'metropolitain', 'blank', 'explosion', 'occured', 'Flames', 'engulf', 'para-glider', 'Parachuter', 'operated', 'four-wheeled', 'smokestacks', 'sun-setting', 'hanglider', 'balconies', 'condominium', 'graffiti-heavy', 'neatly', 'trimmed', 'woody', 'tree-covered', 'Bearded', 'member', 'clergy', 'priest', 'Priest', 'tramples', 'stepped', 'shielding', 'trampled', 'Whoa', 'hoofs', 'joins', 'conoes', 'groups', 'boating', 'frolicking', 'oversized', 'Bull', 'Energy', 'Drink', 'Redbull', 'GI', 'fatigues', 'soldier', 'march', 'banners', 'representing', 'times', 'judge', 'baring', 'outstreched', 'cavorts', 'lollipop', 'unoccupied', 'SANTANA', '57', 'sparsely', 'occupied', 'hitter', 'flyaway', 'daughters', 'grown', 'stack', 'tanning', 'sunbathe', 'bracing', 'guide', 'kit', 'breeze', 'tends', 'frying', 'pan', 'ornate', 'Spanish', 'ruin', 'ruins', 'abandoned', 'breastfeeding', 'suckles', 'pinwheel', 'oriential', 'long-sleeved', 'sill', 'windowsill', 'vents', 'clowds', 'Volkswagen', 'Bug', 'vintage', 'admired', 'lime', 'bug', '\"In', 'we', 'beetle', 'coupe', 'autos', 'South', 'tankini', 'poised', 'paralell', 'medow', 'divided', 'clover-filled', 'retriving', 'netting', 'dandilions', 'cereal', 'flaps', 'hearts', 'lawnchair', 'turnaround', 'sun-dappled', 'sombody', 'adjusts', 'aggressive', 'fit', 'skill', 'entertains', 'mime', 'overweight', 'gray-haired', 'lavendar', 'pooh', 'eatery', 'bespectacled', 'mothers', 'fiels', 'black-shirt', 'Brunette', 'hosed', 'Acrobatic', 'entertainers', 'midget', 'bowler', 'acrobatics', 'henna', 'paperwork', 'rack', 'magazines', 'browsing', 'monk', 'swimsuites', 'twirling', 'streamers', 'love', 'language', 'pumped', 'bended', 'strength', 'flexing', 'noodle', 'fairground', 'Gothic', 'athlete', 'launching', 'vault', 'vaulting', 'vaulter', 'clearing', 'picnickers', 'sunbathing', 'call', 'leaned', 'hankerchief', 'pompadour', 'completing', 'fitness', 'excercise', 'hairy', 'learns', 'goose', 'rollerblader', 'grinds', 'dried', 'Gigolo', 'GIGOLO', 'rugby', 'leaped', 'effort', 'loan', 'participates', 'nipple', 'nipples', 'peirced', 'tanned', 'piercings', 'crazily', 'shallows', 'ollies', 'canopy', 'Band', 'roughly', 'model', 'cloak', 'revealing', 'extravagant', 'dress\"', 'cape\"', 'county', 'herd', 'whipping', 'causing', 'pavillion', 'lunches', 'compound', 'powder', 'false', 'swordfight', 'dueling', 'insect', 'dye', 'critter', 'Distant', 'red-haired', 'scarily', 'tartan', '-ependent', 'ones', 'slab', 'howling', 'dogs\"', 'soaker', 'amazed', 'scanner', 'chubby', 'skin', 'sands', 'divers', 'puddles', 'counry', 'Skater', 'nails', 'gesturing', 'awkward', 'streetpole', 'tear', 'sparse', 'tattered', 'West', 'Highland', 'dozes', 'Genetic', 'Freak', 'snout', 'broadly', 'classes', 'booths', 't-shirts', 'afghan', 'short-haired', 'pointer', 'Window', 'blog', 'tug-o-war', 'collapsed', 'jets', 'Beige', 'bulls', 'Cows', 'Hundreds', 'partake', 'bull-run', 'specialized', 'award', 'pinned', 'displays', 'awards', 'ponytails', \"tikes'\", 'bandage', 'bandages', 'shadows', 'depicting', 'blonde-haired', 'tank-top', 'Thank', 'You', 'angel', 'biscuit', 'milkbone', 'mature', 'shorthair', 'shields', 'recieving', 'pressure', 'payer', 'vie', 'picket', 'blond-haired', 'sari', 'thows', 'freestyle', 'suspiciously', 'heeled', 'retreiver', 'tagged', 'fielder', 'capture', 'Hummer', 'BMW', 'smirks', 'dimpled', 'nubby', 'cylinder', 'spays', 'forehead', 'cushions', 'goods', 'possessions', 'oars', 'column', 'Cyclists', 'aqua-colored', 'vat', 'discovery', 'incoming', 'crudely', 'onlooker', 'Skateboarders', 'bulging', 'drivers', 'directs', 'demonstarting', 'steer', 'wristwatch', 'curious', 'ZARA', 'Zara', 'billboard', 'present', 'stroll', 'kept', 'exotic', 'passenger', 'system', 'dance-floor', 'firends', 'flamboyantly', 'featuring', 'hundreds', 'tuft', 'contents', 'steering', 'horn', 'forelegs', 'Sand', 'aerial', 'toe', 'toe-touch', 'toes', 'pink-bottomed', 'soled', 'defecating', 'pooping', 'duffel', 'grss', 'squeak', 'shivering', 'shivers', '\"Girl', 'strolls', 'flapping', 'longeared', 'Infant', 'lime-green', 'flop', 'flip-flop', 'foamy', 'frizzy', 'slide\"', 'fireworks', 'glow', 'necklaces', 'around\"', '4-wheel', '4-wheeler', 'fastened', 'tow-rope', 'becomes', 'copper', '\"Wearing', 'hoolahoops', 'Riders', 'enjoyment', 'descent', 'flume', 'rollercoaster', 'excersizing', 'gorgeous', 'rottweiller', 'stair', 'puppet', 'mobile', 'pastry', 'doughnut', 'Fall', 'return', 'schools', 'campus', 'tobaggons', 'saucers', 'disks', 'brindle', 'pilings', 'waterside', 'visitors', 'Tattoed', 'seahorse', 'gettnig', 'noses', 'emerge', '\"Motorcycle', 'ridge', 'wristband', 'patterened', '\"Near', 'Tall', 'navigates', 'roots', 'bodyboard', 'boogie-board', 'interior', 'catholic', 'religious', 'Pictures', 'captured', 'senior', 'mill', 'sling', 'Above', 'skydiving', 'sky-diving', 'Skydivers', 'cascading', 'drooling', 'barettes', 'hairclips', 'screaming', 'boundary', 'lip', 'paddled', 'canooers', 'conifers', 'waterful', 'waking', 'accordion', 'dad', 'celebrates', 'via', 'web', 'cam', 'Looks', 'celebrate', 'slice', 'special', 'advertisment', 'spreading', 'low-cut', 'weiner', 'wharfs', 'Wharf', 'ferry', 'terminal', 'wharf', 'profusely', 'dumping', 'squints', 'rails', 'outcroping', 'belted', 'bungee-jumping', 'cables', 'bands', 'monkey-bars', 'African-american', 'zip-line', 'policemen', 'officers', 'patroling', 'Policemen', 'flinging', 'dripping', 'whips', 'chopsticks', 'sushi', 'Budweiser-sponsored', 'accelerates', 'dragster', 'Budweiser', 'sprint', 'speedway', 'Smoke', 'spewing', 'sundown', 'ramps', 'Bike', 'Bmx', 'Jumps', 'surprised', 'window\"', 'badly', 'Bull-branded', 'Jesus', 'hell', 'Hell', 'prizes', 'blown-up', 'demonstrating', 'avoids', 'Beijing', 'Olympics', 'roller-coaster', 'shored', 'lack', 'regains', 'composure', 'trailing', 'completes', 'hula-hoop', 'alotment', 'trick\"', '\"Bike', 'clibing', 'festive', 'piling', 'equipments', 'seaguls', 'gren', 'pails', 'telescope', 'Land', 'Rover', 'woodlands', 'roll', 'spool', 'cable', 'pice', 'machinery', 'strawberry', 'turtle', 'tortoise', 'berry', 'fed', 'astride', 'clips', 'carabiner', 'hooking', 'attaching', 'attaches', 'rover', 'automobile', 'beyond', 'gates', 'peer', 'numeral', 'slices', 'card', 'sales', 'merchant', 'umbrella\"', 'mullet', 'unique', 'moss', 'Seated', '25', 'university', 'standind', 'fig', 'tournament', 'lifeboat', 'released', 'rushed', 'alcohol', 'churning', 'coarse', 'ratty', 'elbow', 'unfinished', 'trucks', 'any', 'Gators', 'closer', 'passerby', 'annoyed', 'stockcar', 'guardrail', 'Rollerblader', 'retrive', 'It', 'shark', 'halfway', 'swam', 'videotaping', 'record', 'Styrofoam', 'banjo', 'agency', 'pursuing', 'swing-type', 'sleek', 'passenager', 'sidecar', 'Players', 'scuffle', '\"Nine', 'versus', 'skins', 'powerful', 'awkwardly', 'blocked', 'Number', 'pensively', 'thinks', 'jetskiing', 'shews', 'Russel', 'muzzle\"', 'midstride', 'cartoon', 'dreeds', 'observe', 'crane', '\"Long-necked', 'grazes', 'ban', 'swaetshirt', 'greens', 'supermarket', 'products', 'produce', 'lettuce', 'smal', 'gold-colored', 'Casterol', 'branding', '\"trucks', '22', '29', 'Trucks', 'formula', 'drag', 'twilight', 'unspooled', 'infants', 'bicyclers', 'Lots', 'waterspout', 'perfomed', 'gap', 'closeby', 'rooftop', 'competitively', 'rollerblade', 'burst', 'experimenter', 'breathes', 'obscured', 'fireball', 'shading', 'protecting', 'wig', 'restaraunt', 'Slightly', 'Dobermans', 'pursued', 'inertia', 'collides', 'Hockey', 'collide', 'bumps', 'secured', 'crests', 'emerged', 'Rugby', 'Ruggers', 'become', 'seeing-eye', 'elementary', 'tugs', 'noce', 'shocked', 'when', 'straddle', 'splits', 'twos', 'monkeys', 'quarterpipe', 'Motorcycle', 'bump', '\"Empty', 'ponchos', 'lonely', 'otherwise', 'raincoats', 'devotion', '\"NFL', 'Fan', 'pillared', 'ten', 'classic-style', 'dropped', 'spouts', 'tourquoise', 'double', 'pokes', 'vast', 'controls', 'Bicyclist', 'filling', 'village', 'ladle', 'Yamaha', 'tawny', 'curiously', 'weave', 'nibbling', 'mouthing', '\"through', 'stump\"', 'otuside', 'V', 'given', 'rockstar', 'heavy-metal', 'lace-up', 'cobbled', 'marina', 'blasted', 'graying', 'sewing', 'attacks', 'wallride', 'youth', 'banister', 'metro', 'Firemen', 'firefighters', 'firemen', 'backflips', 'bikina', 'saroog', 'sarongs', 'tip', 'pinkish', 'rollerblades', 'vans', 'Funky', 'raced', 'pavilion', 'gushing', 'allowing', 'Youth', 'curvy', 'barrels', 'thorugh', 'courts', 'escape', 'holder', 'coaches', 'jersy', 'bluejeans', 'force', 'padel', 'pilots', 'riverrafting', 'challange', 'conversing', 'eyebrows', 'mid-speach', 'multi-piercings', 'battles', 'challenge', 'tonge', 'Motorcyclists', 'confused', 'grouchy', 'rippling', 'gound', 'surfboarder', 'Surfer', 'motorcyle', 'Motocross', 'peeing', 'urinating', 'pee', 'creates', 'croquette', '\"prarie', 'white\"', 'coyotes', 'dryed', 'bunk', 'chair-swing', 'skatepark', 'Airplane', 'cockpit', 'plane', 'dashboard', 'vessel', 'proped', 'canoers', 'moutain', 'extreme', 'graffiti-covered', 'strides', 'remaining', 'wants', 'last', 'perforced', 'pyramid', 'masonry', 'Eight', 'innertubes', 'situated', 'victory', 'misspelled', 'mid-afternoon', 'fanning', 'sports-field', 'muffler', 'sparks', 'exhaust', 'bursting', '\"Athlete', 'EASTPAK', 'stunt-bicyclist', 'air\"', 'helicopter', 'fiery', 'colourfully', 'jewels', 'bra', 'Costumed', 'pigeon', '21', '\"rollerblader', 'steps\"', 'Swimmer', 'employees', 'dresswear', 'dishtowel', 'Pink', 'pillowcase', 'PitBull', 'thousand', 'hundred', 'thirty', 'identifier', '\"Gray', 'topples', 'pedal', '3-wheeler', 'throught', 'sailboard', 'tilting', 'Jockey', 'Long-haired', 'bolts', 'sweatshirts', 'miniskirts', 'Verizon', 'minivan', 'Lights', '\"Minivan', 'scantily-clad', 'possibly', 'nose-deep', 'fluorescent', 'Somone', 'loader', 'congregation', 'worshipping', 'temple', 'worshippers', 'producing', 'scraping', 'pumpkins', 'paintball', 'splatter', 'splattered', 'grey-suited', 'admires', 'shell', 'conch', 'viewer', 'bodyless', 'involved', 'examined', 'tale', 'HELL', 'crooswalk', 'spell', 'dolly', 'ate', 'loses', 'sailboarder', '1', 'missed', 'clap', 'excersise', 'slighty', 'linked', 'apparently', 'pitbulls', 'participant', '\"Soccer', 'coliding', 'team\"', '\"Football', 'whit', 'disabled', 'air-filled', 'dunes', 'Mitsubishi', 'blueish', 'sprinkling', 'roads', 'directly', 'motor', 'Bicycle', 'baggage', '11', 'Grayish', '\"Rabbit', 'bunnies', 'rabbits', 'halmets', 'wiping', 'wipes', 'adolescents', 'patchy', 'bikins', 'wall-ride', 'wrinkley', 'breakdancer', 'excitement', 'balanced', 'one-handed', 'swimwear', 'floaters', 'partition', 'lost', 'intensely', 'all-white', '\"Gray-haired', 'react', 'bordering', 'autumnal', 'dumpsters', 'sight', 'separated', 'entering', 'colliding', 'rush', 'trams', 'lasso', 'calf', 'cowboys', 'lassos', 'hustle', 'controlling', 'passageway', 'packs', 'winning', 'Jumping', 'clutching', 'touchdown', 'florist', 'ethnic', 'speakers', 'saris', 'brow', 'steamboat', 'exploring', 'riverboat', 'draw', 'lioness', 'prey', 'bison', 'wildebeest', 'brass', 'jazz', 'saxaphones', '\"young', 'Batman', 'dons', 'protect', 'ladie', 'untangles', 'puck', 'exception', 'singer', 'belts', 'tune', 'headlights', 'haystacks', 'bodysuit', 'trackside', 'graffti', 'stylish', 'smartly', 'nicely', 'stuntman', 'crumbling', 'fend', 'soocerball', 'battle', 'argues', 'striking', 'archways', 'arches', 'curtain', 'quarry', 'worried', 'keeling', 'jack-o-lantern', 'dump', 'pour', 'poured', 'zombies', 'Everybody', 'zombie', 'horro', 'bloodied', 'haloween', 'resembles', 'visits', 'Amish', '\"Amish', 'sect', 'social', 'orange-clad', 'keeping', 'challenging', 'ad', 'guarded', 'United', 'States', 'windshield', 'ax', 'wielding', '\"Cricket', 'kneepads', 'stamds', '\"Lady', 'pring', 'joust', 'jousting', 'Parade', 'horsemen', 'slicker', 'handling', 'DOWN', 'AND', 'OUT', 'buss', 'London', 'Sightseeing', 'ferrett', 'personnel', 'stomachs', 'Military', 'cemetery', 'stereo', 'wetsuits', 'proud', 'fetched', 'black-clad', 'Odeon', '\"Girls', 'ODEON', 'chops', 'preserves', 'stocky', 'stalks', 'piles', 'husk', 'camcorder', 'films', 'enjoyable', 'bleached', 'plugging', 'Pac-man', 'Obama', 'Cheerleaders', 'desolate', '08', 'campaign', 'supporter', '2008', 'presidential', 'election', 'Biden', 'Presidential', 'candidate', 'mate', 'democrat', 'supporters', 'political', 'Chris', 'Gregoire', 'heritage', 'bone', '\"Average', 'everyday', 'cop', 'handgun', 'port', 'john', 'port-o-potties', 'mop', 'portable', 'toilets', 'port-a-potties', 'bathrooms', 'Barack', 'touts', 'Riwal', 'raceway', 'united', 'states', 'celebratory', 'yell', 'streched', 'brides', 'gowns', 'Line', 'headlong', 'knoll', 'badminton', 'freefall', 'coordinator', 'holey', 'whiffle', 'blasts', 'sending', 'upstream', 'swan', 'unfurling', 'swans', 'jeeps', 'Jeeps', 'villages', '\"Outdoor', 'baseman', 'prom', 'flyer', 'promotional', 'marks', 'stains', 'footbride', 'Disney', 'vista', 'highland', 'Movers', 'amused', 'passers', 'story', 'second-story', 'pulleys', 'prop', 'blood', 'hunter', 'characters', 'Michael', 'Jackson', 'Thriller', 'bloody', 'explorer', 'starlet', 'accompanied', 'glee', 'Ring', 'barb-wire', 'barb', 'poor', 'architectural', 'fortess', 'knocking', 'Cyclist', 'entangled', 'fiddle', 'wmoan', 'onrushing', 'stools', 'counters', '\"During', 'element', '\"Shirtless', 'blurring', '\"Racing', '\"Distant', 'athelete', 'handcrank', 'crank', 'withering', 'scampers', 'readies', 'bodies', 'exterior', 'decorative', 'in-synch', 'pasts', 'Redskins', 'scare', 'universal', 'Touchdown', 'color-block', 'bedspread', 'Killer', 'whales', 'Orca', 'seaworld', 'bangles', 'India', 'safron', 'sifting', 'tripped', 'garb', 'waterpark', 'Minor', 'baseball\"', 'looker', 'spill', 'zipping', 'slips', 'accident', 'piggy', 'halves', 'fairies', 'mouthpiece', 'cavorting', 'windsurfing', 'wind-surfer', 'atomic', 'enlarged', 'carpenters', 'protesters', 'moped', 'bicylist', 'thinking', 'pensive', 'romps', 'Middle-aged', 'backless', 'bare-back', 'sound', 'inspecting', 'smile\"', 'paperback', 'consulting', 'Numbered', 'billboards', 'recording', 'computers', 'monitors', 'videocameras', 'teacher', 'filmed', 'Lecture', 'atmosphere', 'parasurfs', 'khaki-colored', 'classroom', 'conference', 'involves', 'laptops', 'presentations', 'slideshow', 'perpendicular', 'reentry', 'entertainment', 'vampires', 'complete', 'vampire', 'goers', 'treck', 'alien', 'wigs', 'won', 'sun-shaped', 'Wolf', 'werewolf', 'elf', 'rapels', 'treetops', 'smock', 'debris', 'landfill', 'rubble', 'scramble', 'allowed', 'root', 'brownish-red', 'signer', 'collapsing', 'fights', 'kiyaking', 'punt', 'seagulls', 'Birds', 'fleeing', 'Seagulls', 'Waves', 'trundles', 'coaster-like', 'mechanisms', 'Rowers', 'furiously', 'bandaged', 'responders', 'jumpsuits', 'girl\"', 'Antics', 'measuring', 'crushed', 'demolished', 'railed', 'swordsman', 'wanders', 'playgroud', 'wipeout', 'ambulance', 'hauled', 'wrecked', 'Recked', 'flatbed', 'collision', 'Wrecked', 'plan', 'bi-plane', 'Ride', 'biplane', 'word', 'Mambo', 'humping', 'mambo', 'vine', 'bead', 'Tribal', 'Italian', 'attentively', 'watersports', 'seperated', 'apparatus', 'scared', 'suite', 'concentrates', 'footwork', 'gains', 'black-green', 'hers', 'tandom', 'biek', 'motivation', 'leader', 'Boat', 'cheered', 'gentlemen', 'Mexican', 'Mexico', 'needlepoint', 'tending', 'Abarrotes', 'Pokemon', 'Very', 'wetsuite', 'steeple', 'ashtray', 'sole', 'bowled', 'backbends', 'backstand', 'skims', 'vibrant', 'sparking', 'armoire', 'squad', 'then', 'drak', 'jungle-gym', 'seas', 'tipping', 'highschool', 'defended', 'velvet', 'black-rimmed', 'sentence', 'turban', 'Palestinian', 'Groups', 'Shows', 'raked', 'half-pipe', 'again', 'buffalo', 'creams', 'underhang', 'daredevil', 'reared', 'sisters', 'hallways', 'colapsable', 'us', '&', 'whispering', 'kimonos', 'geishas', 'whisper', 'wool', 'mitten', 'high-flying', 'forests', 'lakes', 'Gold', 'button-down', 'stange', 'snowploe', 'plow', 'plows', 'manually', 'him\"', 'tumbleweed', 'circles', 'embedded', 'brunettes', 'tv', 'suited', 'showgirls', 'foyer', 'bullhorn', 'megaphone', 'handkerchiefs', 'horn\"', 'trotted', 'crumb', 'skit', 'Samsung', 'SAMSUNG', '90', 'degrees', 'mingle', 'Athletes', 'Horses', 'Jockeys', 'jockeys', 'windsurf', 'surgical', 'angry', 'colonial', 'fashion', 'Victorian', 'hudge', 'Camera', 'populated', 'taping', 'extravagent', 'Thw', 'punch', 'Barefoot', '\"Large', 'prisoner', 'sexy', 'jailbird', 'Chrismas', 'takeing', 'session', 'chimes', 'strap', 'snapping', 'storefronts', 'ballerina', 'backstage', 'applies', 'tiara', 'eyeshadow', 'applying', 'saffron', 'solid', 'throughwindow', 'shutters', 'salt-and-pepper-haired', 'bow-like', 'Sharp', 'aside', 'ipods', 'mp3', 'sheepdogs', 'folds', 'dimond', 'anchored', 'unmanned', 'skids', 'Clause', 'escalator', 'statefarm.com', 'hovering', 'congregated', 'mills', 'chandelier', 'fancily', 'ractrack', 'black-robed', 'Orthodox', 'priests', 'glancing', 'traverses', 'tuxes', 'beverages', 'toast', 'bridesmaids', 'groomsmen', 'entire', 'red-dressed', 'aisle', 'Kingsworth', 'coal', 'protesting', '\"Protesters', 'NO', 'NEW', 'COAL', 'snowpile', 'Musicians', '\"Musicians', 'classical', 'packages', 'piloting', 'poling', 'boatload', 'underfoot', 'Professional', 'bumble', 'bee', 'character', 'wrists', 'Grand', 'Canyon', 'English', 'pub', 'doorstep', 'alligator', 'belongs', 'staue', 'hurrying', 'Tourists', 'fleeces', 'wintry', 'blooming', 'cropped', 'Fit', 'santas', 'clause', 'meditating', 'prayer', 'Religious', 'San', 'Diego', 'hunched', 'SAN', 'DIEGO', 'neat', 'wrestilng', 'dramatically', 'Half', 'facefirst', 'dresser', 'disturbed', 'mural', 'chinese', 'Flock', 'multi-cultural', 'assemble', 'chilly', 'tychy', 'miasto', 'scowls', 'grandmother', 'served', 'meal\"', 'placemats', 'Various', 'tanktops', 'Nitro', 'embroidered', 'soccor', 'leggings', 'similarly', 'cubicle', 'frolic', 'lopes', 'attach', 'forearm', 'vaste', 'rollerskater', 'competitors', 'bash', 'layered', 'motioning', 'McDonalds', 'McDonald', 'backseat', 'staffordshire', 'drumset', 'bobsled', 'kickflip', 'warehouse', '\"Airborne', 'cellphone\"', 'incense', 'burn', 'billowing', 'smoky', 'twig', 'Autumn', 'Mother', 'seafood', 'pursed', 'seaside', 'naturally', 'formed', 'apparantly', 'index', 'furious', 'pyrotechnics', 'explosive', 'effects', 'explosions', 'exposing', 'snow\"', '\"Dark', 'siluettes', 'surveying', 'indigo', 'passifier', 'four-wheel', 'blue-gray', 'pouncing', 'shiny', 'sweaters', 'stoppie', 'Deer', 'blond-hair', 'clump', 'retail', 'busines', 'closeout', 'Speedskater', 'swipes', 'coasts', 'defends', 'Fast', 'paced', 'helplessly', 'lay-up', '\"Miami', 'Clemson', 'in\"', 'podium', 'pedestal', 'indicating', 'expanding', 'strand', 'strung', 'falcon', 'pursues', 'rodent', 'flees', 'hawk', 'Falcon', 'closing', 'swoops', '\"Waterskier', 'surrounds', 'on\"', 'fanny', 'entrance', 'incredible', 'hulk', 'Claws', 'joke', 'disguise', 'disguises', 'nightlife', 'neither', 'metallic', 'sick', 'graffited', 'Fireworks', 'clasped', 'goalkeeper', 'goaltender', 'gallops', 'fireside', 'Christmastime', 'harvest', 'brave', 'evade', 'playmat', 'Adult', 'venue', 'orangish', 'boas', 'manequins', 'walkers', 'pinches', 'onsie', 'monitoring', 'Bohemian', 'basett', 'biscut', 'payphone', 'pay', 'apparel', 'venture', 'dunking', 'jostles', 'slam', 'Player', 'dunks', '33', 'erupts', 'firecracker', '\"fireworks', 'back\"', 'terrain\"', '\"Pale', 'downwards', 'dirtbikers', 'motor-cross', 'whites', 'pilot', 'wetland', 'fronds', 'reson', 'bits', 'darker', 'bag\"', 'ripping', '\"Basketball', '32', 'Hurricanes', 'gingerbread', 'straddling', 'Marching', 'percussionists', 'throat', 'choke', 'joking', 'stumbling', 'piste', 'condoms', 'paraphernalia', 'distribute', 'promting', 'website', 'acrouss', 'busying', 'mowed', 'aboriginal', 'paraglides', 'recliner', 'elephant', 'bright-colored', 'drap', 'elephants', 'turbans', 'pats', 'saddled', 'Choir', 'ensemble', 'save', 'telephot', 'lenses', 'tripods', 'Riding', 'patrollers', 'roller-blader', 'juggle', 'Skier', 'frosty', 'flakes', 'bad', 'tantrum', 'cigars', 'Goucho', 'moustaches', 'dancers', 'cigar', 'mogul', 'Cricket', 'tree-filled', 'branch\"', 'intot', 'Bird', 'Diners', 'Arabic', 'Inside', '\"many', 'texts', 'kakhi', 'SMU', 'accent', 'engulfed', 'Winter', 'rotary', 'dial', 'shirt\"', 'bears', 'prize', 'heron', 'pelican', 'sledder', 'preoccupied', 'middle-aged', 'dart', 'windsurfers', 'shredding', 'sweatshir', 'minding', 'portrate', 'scarfs', 'afternoon', 'flew', 'halfpipe', 'wrestlers', 'snowboards', 'toddles', 'headscarves', 'white-bearded', 'Gentleman', 'abs', 'unzipping', 'Kawasaki', 'paying', 'headwrap', 'THe', 'buoy', 'well-muscled', 'know', 'picure', 'referring', 'periods', 'lavender', 'angrily', 'suffering', 'motor-scooter', 'Team', 'hungry', 'browses', 'wii', 'beak', 'exits', 'deposited', 'contemplating', 'thought', 'chins', 'decorations', 'Judea', 'Those', 'blame', 'Israel', 'hypocrites', 'pristine', 'snowscapes', 'rock-strewn', 'alleyway', 'search', 'rescue', 'culprit', '\"Cheerleader', 'wipe', 'advances', 'dominant', 'pain', 'curls', 'ended', 'loser', 'nine', 'mantle', 'jaws', 'acoustic', 'cringes', 'oval', 'chainsaw', 'weilding', 'carves', 'Gnome', 'carving', 'coveralls', 'screening', 'changing', 'information', 'remove', 'replaces', 'marquee', 'changes', 'moniter', 'gift', 'chairlift', 'licked', 'hurridly', 'kimono', 'dwelling', 'advertisements', 'israei', 'Israeli', 'handkerchief', 'investigate', 'ignore', 'sledders', 'escorted', 'wed', 'wife', 'pastor', 'Newlyweds', 'curling', 'fastens', 'fixes', 'red-vested', 'tablet', 'God', 'judgement', 'Hands', 'cigarettes', 'picutre', 'icey', 'boatful', 'Rafters', 'river-rapids', 'iceskate', 'Chinese', 'dogsled', 'eleven', 'powerwashing', 'busk', 'downsteps', 'alter', 'main', 'slaloms', 'objects', 'draws', 'feel', 'school-aged', 'Roman', 'Candles', 'roman', 'flares', 'married', 'maids', 'competeition', 'helped', 'bridesmaid', 'waterhole', 'glacial', 'airtime', 'affectionately', 'romantically', 'romantic', 'exit', 'eroded', 'alcove', 'curving', 'showroom', 'Mini', 'Coopers', 'auto', 'windmill', 'stacked', 'create', 'tapped', 'mountaintops', 'DC', 'D.C.', 'bundled-up', 'towers', 'procession', 'amphitheater', 'beating', 'baskers', 'african-Americans', 'backset', 'spiritual', 'landmark', 'yoga', 'positions', 'torii', 'lighter-skinned', 'leopard', 'instructing', 'instructs', 'State', 'cards', 'Uno', 'UNO', 'reds', 'yellows', 'additional', 'flopping', 'sumo', 'thinner', 'umpire', 'sash', 'exposition', 'manuever', 'corral', 'pinstriped', 'Chicago', 'defense', 'professionally', 'blindfolds', 'Salvar', 'o', 'Planeta', 'O', 'Greenpeace', 'dalmation', 'propels', 'grayhound', 'sprinting', 'fire-dancer', 'water-filled', 'junction', 'mike', 'Eldery', 'interviewed', 'interviews', 'cycler', 'grey\"', 'magenta', 'reacts', 'constructed', 'Rockstar', 'dacshund', 'Father', 'swooping', 'eagle', 'progressively', 'Teenager', 'observing\"', 'photographers', 'interested', 'frayed', 'Cat', 'pawed', 'streches', 'Gatorade', 'contorts', 'Ballplayer', '93', 'snoring', 'knelt', 'vine-covered', 'fast-food', 'cheeseburger', 'encouraging', 'scores', 'Goal', '\"Women', 'streetlamp', 'Inline', 'prison', 'zippered', 'ability', 'heights', 'tobaggan', 'idea', 'crosswalks', 'policeperson', 'id', 'badges', 'visitor', 'smoked', 'lionist', 'lion', 'Cougar', 'factory', 'streetlights', 'bicycling', 'sum', 'competiting', 'competiton', 'deciding', 'menu', 'soup', 'upclose', 'self-portrait', 'blurs', 'oppose', 'left\"', 'winter-gear', 'historic', 'solo', '\"Outdoors', 'pugs', 'Pugs', 'Nine', 'limousine', 'limo', 'hackey', 'easily', 'Trumpet', 'trombone', 'shaving', 'saw', 'long-spandex', 'squirrel', 'musher', 'waing', 'lockers', 'locker', 'black-haired', 'convention', 'respectively', 'puzzled', '\"Oriental', 'backback', 'German-shepherd', 'human-size', 'exercise-wheel', 'standard', 'jog', 'anciet', 'attemping', 'cube', 'US', 'snowballs', 'glvoes', 'tells', 'secret', 'slender', 'cadet', 'properly', 'planks', 'dense', 'swimcap', 'torso-deep', 'hoist', 'Multiple', 'headcover', 'adjust', 'setup', 'worked', 'schoolgirl', 'schoolboy', 'production', 'shots', 'ca', 'ZCHTV', 'footage', 'reported', 'interviewing', 'crewmen', 'supervise', 'Stunt', 'identification', 'Racedog', 'rectangle', 'photograhi', 'equpitment', 'monitor', 'equpiment', 'antenna', 'flatscreen', 'Backyard', 'Babies', 'projector', 'lecturer', '30', 'operates', 'tiretracks', '13', 'confrontation', 'confronting', 'checkerboard', 'performers', 'checker', 'entertaining', 'pressing', 'defend', 'caucasion', 'fencers', 'duel', 'comfortable', 'eyeglasses', 'guidewire', 'proximity', 'headlight', 'motocycle', 'cattails', 'dodging', 'hot-air', 'inflating', 'pecks', 'Chicken', 'pecking', 'cautiously', 'sure', 'apartments', 'roofs', 'Sumo', 'Patrons', 'siren', 'thatched', 'outwards', 'refrigerator', 'Singer', 'sang', 'bicyler', 'Picture', 'U', 'U.', 'violinist', 'Performers', 'surfaces', 'stroke', 'variety', 'folks', 'ignores', 'Suprised', 'blockers', 'chipmunk', 'untouched', 'railway', 'newspapers', 'flighht', 'manicured', 'Live', 'cabana', 'silhouettes', 'ovals', 'lettering', 'dear', 'Doe', 'comforter', 'planting', 'antennae', 'headbands', 'brown-and-white', 'acroos', 'snowfield', 'cook', 'permed', 'client', 'salon', 'perm', 'suggestive', 'revel', 'halway', 'PORT', 'DU', 'CASQUE', 'OBLIGATOIRE', 'piggy-back', 'walkng', 'turkey', 'roosters', '\"Puppies', 'interact', 'ls', 'cups', 'nametags', 'rock-climber', 'perches', 'half-way', 'pitted', 'napping', 'sveral', 'warning', 'clack', 'Fuzzy', 'concentrating', 'North', 'Carolina', 'gauntlet', 'Radio', 'radio', 'Free', 'Hug', 'advertizing', 'say', 'lanterns', 'borader', 'Burka', 'vocabulary', 'blackboard', 'chalkboard', 'student', 'teach', 'Africans', 'tribal', 'jugs', 'origin', 'colecting', 'common', 'comforting', 'consoling', 'Rotweiler', 'hit\"', 'perfors', 'rust', 'holing', 'protected', 'fending', 'look-alike\"', 'greyish-brown', 'Weimeraners', 'shoulder-deep', 'flippers', 'buttoned', 'fashionably', 'records', 'cds', 'Shoppers', 'curl', 'beaks', 'scrap', 'Competing', 'huskey', 'backing', 'bumpy', 'utility', 'Narrow', 'streetway', 'all-male', 'tutus', 'include', 'guitars', 'gust', 'flurry', 'canon', 'gnaws', 'troupe', 'ballons', 'signage', 'griding', 'outfitted', 'He', 'lavish', 'Crowds', 'Racers', 'rebound', 'figures', 'seedoo', 'scooters', 'clover', '-', 'mosque', 'mosque-like', 'squares', 'trekkies', 'unsual', 'Domino', 'Pizza', 'local', 'reflects', 'woods\"', 'god', 'inspect', 'wisks', 'barechested', 'charges', 'Rodeo', 'charging', 'rips', 'stork', 'donations', 'pressed', 'grasp', 'Wrestlers', 'Stop', 'shot-on-goal', 'knocked', 'circumvents', 'jumpinjg', 'clasp', 'backgroud', 'skii', 'silk', 'motley', 'A-frame', 'adjustments', 'lesson', 'screened', 'roofed', 'hardly', 'hovers', 'soggy', 'well-groomed', 'trousers', 'military-style', 'puff', 'noise', 'maker', 'noisemaker', 'popper', 'ballerinas', 'class\"', 'learn', 'Cute', 'deserted', 'AIG', 'magnificant', 'labradoodle', 'obscene', 'guitarists', 'reveals', 'hat\"', 'upturned', 'custom', 'thread', 'spindle', 'thirds', 'primping', 'camels', 'Legos', 'born', 'Snowboarding', 'hsirt', 'plling', 'shawls', 'barber', 'sled-like', 'RIF=ding', 'siting', 'Pug', 'long-beaked', 'agains', 'Amnesty', 'International', 'interacts', 'exchanges', 'vision', 'Monster', 'roiling', 'commuters', 'dumpster', 'ally', 'rehearsing', 'ninja-like', 'hero', 'Power', 'Rangers', 'Ranger', 'weird', 'wet-suit', 'para-surfing', 'horned', 'strains', 'yougn', 'tucking', 'brush-land', 'green-glow', 'mallard', 'Duck', 'Mallard', 'three-way', 'dressed-up', 'dimlight', 'total', 'district', 'ages', 'backgrounds', 'peanut', 'butter', 'admire', 'flirts', '\"Pleople', 'kilts', 'taped', 'Lambs', 'stoplight', 'gleaming', 'free-falling', 'skydivers', 'Trio', 'waded', 'Ballplayers', 'Catcher', 'personal', 'Womand', 'precariously', 'coutryside', 'Tye-dyed', 'blue\"', 'lowering', 'teases', 'slinging', 'Mardis', 'Gras', 'suggestively', 'breasts', 'bare-chested', 'K2', 'crafted', 'snow-boarder', 'Referee', 'easel', 'coverall', 'paintbrush', 'rim', 'scoring', 'jumpsuites', 'preparation', 'sweatband', 'burned', 'skewed', 'sucker', 'in-line', 'swirls', 'motorbiker', 'bangs', 'browm', 'breakdances', 'rainling', 'bundle', 'Twho', 'gettin', 'sloped', 'swishing', 'seperate', 'overlooked', 'stickball', 'Dew', 'Mountain-Dew', 'dew', 'ant', \"'s-eye-view\", 'Numerous', 'types', 'shipping', 'sub', 'Saharan', 'bandmates', 'associated', 'Afican', 'Airborne', 'spin', 'receiving', 'recieve', 'rice', 'hump', 'almost-pristine', 'traveler', 'embraces', 'pregnant', 'tatooed', 'Celtics', 'watches\"', 'await', 'black-striped', 'jib', 'interlocking', 'off-white', 'hand-railing', 'columned', 'solitude', 'shorter', 'automobiles', 'Coca-Cola', 'taller', 'dooorway', 'trolley', 'masters', 'llama', 'youths', 'emotionally', 'spectate', 'kangaroo', 'somersaulting', 'performed', '\"They', 'Tbe', 'Dirtbikers', 'daring', 'burnt', 'battons', 'Twome', 'sync', 'practising', 'juming', 'rears', 'damp', 'fiveteen', 'exercised', 'athletics', 'littered', 'joyful', 'Guys', 'guessing', 'treks', 'text', 'well-lit', 'Tiny', 'meat', 'desks', 'buses', 'headwraps', 'tugboat', 'aggresively', 'hook', 'defender', 'slouching', 'lunchbox', 'picture\"', 'Nordic', 'smiled', 'cello', 'case\"', 'whizzes', 'piano', 'viewing', 'fastest', 'emits', 'flare', 'indescript', 'escalators', 'expressionless', 'company', '\"Outside', 'swiftly', 'Buddhists', 'Takes', 'advantage', 'motorboat', '\"fisherman', 'motors', 'sun\"', 'secluded', 'investigates', 'coloful', 'red-brown', 'holiday', 'bathe', 'windsailing', 'heavyset', 'fixing', 'large-boned', 'physiques', '\"Behind', '3rd', 'continues', 'multi-story', 'temporary', 'long-boarder', 'steap', 'farward', 'geyser', 'lkievely', 'tinsel', 'faint', 'content', 'torn', 'surronded', 'rotweiler', 'videotapes', 'rose', '528', 'Shotput', 'outfut', 'wounded', 'wounds', 'tongee', 'gith', 'dhe', 'mountin', 'awe', 'toy\"', 'rounded', 'hapily', 'pinestraw', 'accessories', 'memorabilia', 'Veteran', 'Heavy', 'horizontally-striped', '\"Wet', 'communal', 'darts', 'cafeteria', 'easy', 'defying', 'gravity', 'negotiates', 'extravagantly-haired', 'stiffly-posed', 'h', 'sequins', 'final', 'queen', 'donates', 'panhandler', 'handout', 'Italy', 'pong', 'mid-swing', 'Artists', 'mosaic', 'foldable', 'geological', 'saucer', 'paraskier', 'paragliding', 'flailing', 'canned', 'soda\"', 'collapses', 'pastel', 'pastels', 'seesaw', 'dine', 'fowl', 'coconut', 'tightly', 'bullfighting', 'regalia', 'matador', 'Bullrider', 'jumpy', 'midway', 'Booths', 'Espana', 'streaks', 'Spain', 'earpiece', 'earphone', 'bluetooth', 'long-legged', 'aquatic', 'elbows', '\"Guys', 'walled', 'thoroughly', 'scottish', 'bagpipers', 'exibit', 'strokes', 'furnace', 'sewn', 'emblazoned', 'playy', 'flattened', 'punctured', 'grownups', 'dong', 'Andy', 'Rodderick', 'Roddick', 'Tennis', 'fronmt', 'pedalling', 'lecturing', 'lecture', 'clue', 'stadning', 'baptized', 'Kayak', 'Spray', 'obscures', 'torso', 'applauding', '281', 'Runner', 'clapped', 'merry', 'triangle', 'unner', 'overturn', 'beaver', 'Serena', 'Williams', 'milling', 'skeptically', '\"Parade', 'ruined', 'once', 'champ', 'Rafael', 'Nadal', '\"Nadal', 'headband\"', 'Mets', 'Harly', 'Davison', 'moter', 'chess', 'blossoming', 'flowering', 'cherry', 'blossom', 'blossoms', 'racquet\"', 'hazmat', 'stretcher', 'biohazard', 'gurnee', 'Oceanside', 'oak', 'occassion', 'gorup', 'armchair', 'gazed', 'trials', 'graffiti-filled', 'La', 'Quinta', 'anticipating', 'widows', 'X', 'flea', 'bananas', 'plantains', 'open-air', 'fairly', 'icicles', 'wrangle', 'wrangles', 'jumping\"', 'shorline', 'Fire', 'Flaming', 'coated', 'wooly', 'lump', 'shawled', 'Turbaned', 'firetruck', 'composed', 'gauzey', 'turbans\"', 'nussle', 'zip-up', 'nudges', 'stoll', 'Police', 'gemmed', 'bookshelf', 'bookshelves', 'recorder', 'ladys', 'fries', 'v', 'mama', 'cub', 'violently', 'steal', 'synchronized', 'dunk', 'doge', 'eggs', 'egg', 'speaker', 'spoke', 'osme', 'meetinghall', 'cements', 'Bannister', 'cyclers', 'Ten', 'amazing', 'signature', 'document', 'signed', 'sponsor', 'motorcycling', 'submissive', 'longish', 'seal', 'fighters', '\"Of', 'these', 'black-blue', 'litle', 'mini-race', 'tabloid', 'slush', 'ski-lift', 'Peolple', 'looms', 'telegraph', 'skislope', 'Dupar', 'write', 'Fellows', 'slates', 'dotted', 'Watching', 'backlegs', 'OT', 'domed', 'protester', 'pro-America', 'anti-tax', 'Dont', 'tax', 'me', 'bro!', '661', 'wrecks', 'carreis', '97', 'fleecy', 'choir', 'pins', 'blays', 'CBS', 'mic', 'question', 'smilling', 'experiences', 'excites', 'Dad', 'dancefloor', 'formally-dressed', 'upwards', 'Einstein', 'Albert', 'polar', 'Painting', 'glassess', 'avrovulcan.com', 'googles', '\"Sweating', 'swing-set', 'mesa', 'Scenic', 'fooling', 'lifesavers', 'long-distance', 'name', 'lanyard', 'vase', 'Barber', 'restroom', 'Penske', 'Indy', 'pits', 'TEAM', 'PENSKE', 'playes', 'stringless', 'gondola', 'operators', 'gondoliers', 'Venice', 'tones', 'proudly', 'spikes', 'Islamic', 'holy', 'divind', 'Diver', 'gallopsing', 'sheperd', 'booklets', 'telescopes', 'rolled-up', 'bouquet', 'Car', 'DJ', 'DJs', 'entertain', 'roped', 'bullfighter', 'skewers', 'stabs', 'bullfight', 'sock', 'struck', 'bases', 'coached', 'needs', 'acrobat', 'entangles', 'twisted', 'ballplayer', 'shortstop', 'science', 'Armour', 'Speed', 'Field', 'digger', 'dirtbed', 'verbal', 'exchange', 'perplexed', 'people\"', 'eyeing', 'Rescue', 'rustric', 'anticipation', 'Crow', 'Best', 'sprawling', 'fly-fishing', 'Bridal', 'railling', 'poppies', 'Concentration', 'ethnicity', 'refugees', 'families', 'UN', 'texting', 'charged', 'dandelion', 'frames', 'choreographed', 'gothically', 'anime', 'cosplay', 'Ice', 'heap', 'Male', 'peddled', '\"Catcher', 'game\"', 'hte', 'peddles', 'towing', 'Photographer', 'fronr', 'armstand', 'granite', 'Canadian', 'Subaru', 'stirs', 'spokes', 'dolphin', 'sip', 'dirtracing', 'resembling', 'locomotives', 'dragsters', 'overwhelmed', 'onslaught', 'East', 'cow-like', 'ox', 'trophy', 'accepts', 'winner', 'Winning', 'atheletes', 'Time', 'lapse', 'ropey', 'sponsors', '\"Bearded', 'blurry\"', 'cathedral', 'lamppost', 'fiesty', 'foul', 'scowling', 'bouncer', 'coast', 'layup', 'drill', 'rustic', 'chart', 'handwritten', 'notice', 'knight', 'holes', 'king', 'raling', 'oxen', 'rollerbladers', 'aerodynamically', 'Rollerbladers', '75', 'grassland', 'tour', 'calming', 'protectors', 'entwined', 'stiars', 'intervening', 'tee-shirt', 'againest', 'stood', 'shells', 'cannon', 'soar', 'stubbled', 'wearfing', 'goalies', 'half-buried', 'shire', 'passin', 'belly-surfing', 'mishap', 'Trainer', 'pamphlets', 'cause', 'unpaved', 'Middle-Eastern', 'targeting', 'hard-hats', 'chestnut', 'pace', 'gallop', 'Hindu', 'citizens', 'foreigners', 'enters', 'amazement', 'non', 'HDR', 'cathcer', 'intercept', 'supports', 'homebase', 'ponytailed', 'obsured', 'recoils', 'occasion', 'lapel', '\"Laying', 'rung', 'pitches', 'LaFayette', 'Softball', 'bunchh', 'cuddling', 'cower', 'brownstone', 'stoop', 'sheilding', 'ads', 'our', 'nestled', 'snuggling', 'rather', '\"Seven', 'boe', 'takedown', 'Marine', 'take-down', 'jukebox', 'hand-in-hand', 'mussels', 'bongo', 'gnarly', '\"Surfer', 'aerobatics', 'underneat', 'flaring', 'David', 'Beckham', 'canvasses', 'enforcment', 'owl', 'widespread', 'Figure', 'jet-skis', 'Motorcross', 'manuals', 'Joggers', 'Marathon', 'Runners', 'red-uniformed', 'white-suited', 'disrupt', 'face-paint', 'bicycle-cross', 'skeleton-printed', 'button-up', 'milkweed', 'pods', 'ways', 'crochet', 'showgirl', 'fixer', 'currently', 'summersault', 'accents', 'Chihuahua', 'sticker', 'badge', '\"Red-headed', 'Flickr', 'sportswear', 'one-armed', 'crow', 'rasing', 'cheerfully', 'retangular', 'bungee-type', 'slingshot', 'Twp', '\"Couple', 'brightly-lit', 'eyepatch', 'flower-bed', 'bowing', 'mainly', 'grainy', 'Brian', 'Nugent', 'goal-keeper', 'angled', 'Childern', 'Fathers', 'canals', 'ganilla', 'caring', 'kneeled', 'circled', 'decoy-animal', 'evident', 'red-clothed', 'spotlight', 'bass', 'padding', 'aquestrian', 'harpsichord', 'pianist', 'ceramic', 'disgusted', 'Dinner', 'patriotic', 'poorly-lit', 'riverwater', 'fiercely', 'less', 'developed', 'gutarist', 'upfront', 'mandolin', 'plucking', 'chello', 'stringed', 'accented', 'ringed', 'nip', 'housekeeping', 'waitresses', 'another\"', 'stages', 'worm', 'addressing', 'diverse', 'winces', 'rail\"', 'comic', 'superhero', 'xmen', 'menus', 'waiter', 'orders', 'resaurant', 'popped', '\"Inside', 'overnight', 'hurdle-jumper', 'track-and-field', 'pups', 'momma', 'hummingbird', 'offf', 'skimming', 'witches', 'graduation', 'fundraising', 'tented', 'yellow-suited', 'yellow-gold', 'sashes', 'aggitates', 'all-terrain', 'sends', 'lacross', 'oppenents', 'spokesmodels', 'hotrod', 'debri', 'fourwheeler', 'dirty-blonde', 'dandelions', 'seed', 'rowed', 'Adoring', 'overfilled', 'shabby', 'Wolf-like', 'wiffle', 'glide', 'VFW', 'funeral', 'Members', 'fraternal', 'organization', 'graveyard', '\"Men', 'trows', 'zig', 'zagging', 'lookout', 'viewpoint', 'median', 'bumpers', 'nascar', 'scoop', 'bulldozer', 'kinds', 'softdrinks', \"o'clock\", 'loooking', 'Muscular', 'windboarder', 'windboard', 'That', 'World', 'mounted', 'on-lookers', 'multistory', 'inch', 'Ti', 'Chi', 'areas', 'suburbs', 'passage', 'mountain-climbing', 'ascend', 'Highschoolers', 'Teens', 'Yound', 'tho', 'convoy', 'Army', 'belly-smacker', 'lightsaber', 'Ont', 'actor', 'interestingly', 'cheerful', 'naval', 'open-mouthed', 'Peoople', 'suns', 'rays', 'outlined', 'forms', 'deeper', 'flexibility', 'enough', 'Most', 'Grey-blue', 'portfolio', 'cases', 'roller-skating', 'exposure', 'path\"', 'Special', 'contestant', 'homes', 'ball-thrower', 'Business', 'Smartly', 'bearer', 'petals', 'waterboard', 'unknown', 'shaft', 'mortar', 'romping', 'swirling', 'mail', 'dips', 'brief', 'overhear', '\"Baseball', 'pepco', 'middle-eastern', 'carton', 'Winston', 'headresses', 'hovered', 'cordoned', 'loops', 'aerobatic', 'coiled', 'sleep', 'collies', 'dodge', 'dodgeball', 'boods', 'tumble', 'kickboxing', 'MMA', 'Iove', 'headdresses', 'message', 'Love', 'huddles', 'fingertips', 'egde', 'sliiding', 'microphone\"', 'chief', 'headgear', 'liked', 'Indians', 'nations', 'cowgirls', 'Canada', 'ques', 'restrain', 'voice', 'binocular', 'Sightseers', 'scope', 'hunt', 'outfir', 'broom', 'Clown', 'Cowboys', 'tame', 'stop-action', 'soaks', 'interrupts', 'goals', 'losing', 'pullovers', 'beckons', '\"Yellow', 'tilling', 'thatch', 'gardening', 'soil', 'hoes', 'Workers', 'gover', 'presenting', 'certificate', 'accepting', 'announcer', 'official-looking', 'perfume', 'overtop', 'perused', 'shoppers', 'greenhouse', 'nursery', 'browse', 'herbs', 'Racks', 'coping', 'vigorous', 'bring', 'urge', '58', 'Shelton', 'Lacrosse', 'exciting', 'varied', 'Kisses', 'vegetable', 'fruits', 'vegetables', 'jacuzzi', 'laughed', 'competes', 'Fat', 'drooping', 'skidded', 'breaststroke', 'everything', 'blur', 'giong', 'beams', 'fishscales', 'tatoos', 'unconventional', '\"man', 'pound', 'discovers', 'bakery', 'buying', 'shoulderbag', 'shorts\"', 'organizing', 'boogieboard', 'spider-patterned', 'goofing', 'startled', 'impact', 'competitor', 'astro', 'Japanese-sponsored', 'bohemians', 'prance', 'cart\"', 'somehow', 'HP', 'branded', 'endorsement-covered', 'headwear', 'vandalized', 'Sports', 'hamming', 'mine', 'brige', 'edges', 'tend', 'rakes', 'Mutltiple', 'soundproof', 'pole\"', 'motorcrossing', '157', 'drips', 'rested', 'brighty', 'inline-skates', 'Fisheye', 'agents', 'accompanying', 'tophats', 'most', 'hoists', 'retreiving', 'ump', 't-ball', 'stays', 'cosplayers', 'actors', 'salt', 'Superman', 'activities', 'clifftop', 'facepaintings', '\"Skateboarding', 'sidwalk', 'replaced', 'vaults', 'backstrokes', 'straggle', 'poorly', 'midfield', 'League', '\"Boys', 'hatchback', 'swept', 'teeing', 'queens', 'women\"', 'mirrored', 'sphere', 'Popsicles', 'popscicles', 'lollipops', 'popcycles', 'imagery', 'crucifixion', 'Christ', 'crucified', 'coffin', 'Pall', 'bearers', 'casket', 'Panasonic', 'encounters', 'probably', 'Groom', 'handheld', 'back-to-back', 'high-rise', 'outise', 'sidewalks', 'swing\"', 'judges', 'rates', 'panel', 'impress', 'serveral', '10', 'gaurdian', 'graffiti-strewn', 'homerun', 'safe', 'fails', 'british', 'ceremonial', 'tassel', 'stoic', 'fringe', 'rippled', 'brown-spotted', 'ghost', 'busters', 'Ghostbusters', 'ghostbuster', 'impersonators', 'stockings', 'chunky', 'ripped', 'lounges', 'swirl', 'arrives', 'zig-zag', 'walk-way', 'ocean\"', 'washed', 'showerhead', 'pelicans', 'flocking', 'Colorful', 'sprinkers', 'squeals', 'bystander', 'wierd', 'paddock', 'Rear', 'walker', 'may', 'contemporary', 'corporate', 'sprinkles', 'sprinking', 'kaki', 'top-hats', 'Javelin', 'vaulated', 'treed', 'midpitch', 'profession', 'livestock', 'swinsuit', 'scored', 'Olympic', 'medals', '\"BMX', 'lock', 'powerboats', 'aboard', 'beanches', 'icing', 'lifevest', 'jubilant', 'burns', 'Dupont', 'Circle', 'Hanna', 'Montana', 'artists', 'desert\"', 'modeling', 'catwalk', 'spacious', 'emty', 'sportwoman', 'sportman', 'demonstrate', 'spin-art', 'earmuffs', 'bland', 'washing', 'Martial', 'album', 'hedge', 'behinf', 'fireplug', 'woooden', 'pier-like', 'peircings', 'fadora', 'spectating', 'mardi', 'gra', 'Mardi', 'Beads', 'abdomen', 'midriff', 'gay', 'pride', 'shredded', 'Will', 'Sox', 'propeller', 'mommy', 'plungles', 'positioned', 'lame', 'justice', 'bracelets', 'garland', 'Brazilian', 'lei', 'waaves', 'Leaping', '\"Colorfully', 'mono-color', 'provocative', 'Unified', 'Pride', 'overshadowed', 'rollskating', 'Joker', 'policewoman', '\"Policewoman', 'iceburg', 'somersaults', 'cartwheeling', 'shin', 'mermaid', 'chemical', 'hilltops', 'trudge', 'shocks', 'produces', 'heating', 'pirates', 'mudfight', 'mud-wrestle', 'wading-pool', 'beats', 'helment', 'buckled', 'state', 'Dirtbike', 'ash', 'snowflake', 'handle\"', 'Shadowed', 'rocks\"', 'seabird', 'dipping', 'ladles', 'brandishes', 'masses', 'shoelaces', 'piggybacking', 'rotating', 'aligator', 'camper', 'swarming', 'Snowmobiler', 'buys', 'big-box', 'eccentric', 'Frog', 'Hopper', 'white-metal', 'hopper', '\"Crowded', 'cheery', 'skyscrapers', 'tier', 'Boats', 'Animal', 'dinosaur', 'stunt-leap', '\"Lone', 'ball\"', 'solicits', 'comprised', 'newlywed', 'guests', 'cinderblock', 'chili', 'cheese', 'dog\"', 'obese', 'wodden', 'even', 'raining', 'unexcited', 'plywood', 'streght', 'Pelican', 'here', 'girlfriends', 'GRAHAM', 'antique', 'ornament', 'Kites', 'Bicycles', 'railgrind', 'handrails', 'aloft', 'enterance', 'literature', 'litttle', 'vinyl', 'black-yellow', 'snare', 'swimmies', 'water-wear', 'skipped', 'adornment', 'dizzy', 'antoher', 'robust', '\"Overweight', 'propping', 'cleavage', 'tatoo', 'milkshake', 'barrette', 'pursing', 'gradual', 'half-smile', 'handstands', 'fear', 'leotards', 'parlor', 'silverware', 'tan-skinned', 'kiddy', 'two-piece', 'Slip', 'Slide', 'lilies', 'two-tone', 'perked', 'Flowers', 'brindle-colored', 'farmers', 'vendors', 'organic', 'farmer', 'Linet', 'dreary', 'visiting', '\"Street', 'Firefighters', 'Fireman', 'Terriers', 'key', 'white-colored', 'Ipod', 'multilple', 'crows', 'snacks', 'frisbie', 'moutnain', 'gesticulates', 'Wal', 'Mart', 'Wall', 'unifrom', 'walmart', 'encourages', 'weimaraners', 'Persian', 'responding', 'seller', 'outline', 'Dragon', 'joyfully', 'widely', 'nech', 'planter', 'cruise', 'expose', 'happiness', 'veteran', 'greets', 'zepra', 'overshadows', 'stared', 'toll', 'pipes', 'fluorecent', 'directing', 'director', 'drills', 'snow-gear', 'pf', 'internet', 'cocked', 'shite', 'accompanies', 'Yerba', 'Buena', 'Center', 'Arts', 'tidal', 'overflow', 'prestends', 'pinata', 'body-board', 'buries', 'burrows', 'camps', 'drumming', 'banging', 'pans', 'tundra', 'snapshot', 'ee', 'roundabout', '80', 'stepstool', 'thong', 'half-naked', 'questioningly', 'Waist', 'brawl', 'dragons', 'Year', 'adventures', 'gyro', 'butchers', 'beef', 'uplifted', 'corgie', 'Patrick', 'Day', 'dressing', 'Patricks', 'shamrocks', 'plenty', 'sweatpants', 'bartender', 'camera-phone', 'snowfall', 'Silhouette', 'filed', '\"Closeup', 'flexible', 'bog', 'straddles', 'ornaments', 'toolbox', 'retrives', 'possessively', 'retreived', 'dries', 'howls', 'Springer', 'Spaniel', 'springtime', 'crosslegged', 'approachs', 'barbeque', 'fantasy', 'wax', '84', 'Peterson', 'yellow-grassed', 'orangesunset\"', 'medium-sized', 'red-carpeted', 'persues', 'thrower', 'shares', 'outs', 'dolls', 'strolling', 'Gloved', 'hangong', '\"Sandy', 'rods', 'hoodoos', '\"Interesting', 'scent', 'Barechested', 'sand\"', 'terrorizes', '\"Green', 'stoney', 'Bigg', 'conical', 'golden-brown', 'look-alike', 'Top-down', 'delivering', 'fathers', 'dandylions', 'daisies', 'out\"', 'sweashirt', 'spoted', 'midjump', 'bottle\"', 'streams', 'panoramic', 'backsides', '\"Balck', 'quaint', 'Cobblestone', 'grazing', 'offered', 'Photo', 'Sillhouttes', 'remember', 'Armenian', 'genocide', '1915', '1923', 'related', 'Genocide', 'dealing', 'flanked', 'crowd\"', 'cross-legged', 'semi-cloudy', 'orange-hooded', 'certificates', 'diplomas', 'excess', 'woamn', 'ground\"', 'impeach', 'Impeach', '\"War', 'spelling', 'IMPEACH', 'Hugs', 'persue', 'anticipates', 'challenges', '625', 'aided', 'sombrero', 'mobility', 'Senior', 'citizen', 'multi-color', 'creepy', 'petterned', 'billiards', 'cue', 'seventh', 'grond', 'measures', 'depth', 'steaks', 'thck', 'Stars', 'Fame', 'fantastic', 'marvel', 'Retreiver', 'circling', 'slimy', 'beach\"', 'discussion', '\"Talk', 'sour', 'butterfly-catcher', 'let', 'shook', 'shave', 'twisty', 'exhibt', 'idyllic', 'scull', 'pontoon', 'oiled', 'suntan', 'lotion', 'suntanning', 'smacking', 'clowning', 'locking', 'locks', 'knuckle', 'lazily', 'calico', 'cradling', 'seek', 'threshold', 'jewlery', 'braided', 'foraging', 'bareback', 'arranging', 'banana', 'acts', 'ups', 'push-up', 'histerically', 'laughing\"', 'Truck', 'rackets', 'tent-like', 'grotto', 'forearms', 'ankle-high', 'sun-lit', 'forcing', 'smashed', 'face-painted', 'Trees', 'reflected', 'tightropes', 'Ambulance', 'berets', 'FedEx', 'trooper', 'tge', 'riverside', 'seeking', 'humorous', 'ilks', 'Bounce', 'honest', 'trade', 'poem', 'Giant', 'Giants', 'poems', 'Desperate', 'creative', 'garner', 'zaftig', 'Kerry', 'Park', 'Space', 'Needle', 'pebbly', 'driver-side', 'mysterious', 'Wilbert', 'opportunity', 'direct', 'flaggers', 'bodyboarder', 'flotation', 'mid-climb', 'maintain', 'fingerhold', 'thrust', 'spash', 'notices', 'ducky', 'shadowy', 'leather-clad', 'punkish', 'nibbles', 'vacation', 'run-down', 'affixed', 'dilapidated', 'shuttered', 'Horseback', 'R.V.', 'finds', 'sloppy', '!\"', 'swallow', 'hoof', 'bronze', 'marine-life-themed', 'troll', 'forth', 'jeans\"', 'went', 'AVEDA', 'established', 'slipping', 'chewed-up', 'Real', 'headline', 'Change', 'bandanas', 'cloths', 'gray-green', 'ion', 'finishes', 'pilar', 'torch', '\"Jumping', 'spelunker', 'trek', 'jumpos', 'exited', 'build-a-bear', 'Build', 'Bear', 'backround', 'climbes', 'extending', 'Twins', 'buff', 'weights', 'hippie', 'organized', 'teeshirt', 'messanger', 'caged', 'flashes', 'maneuvering', 'hoddie', 'jaywalk', 'taxis', 'aerobics', 'exercising', 'above-ground', 'soles', 'frowns', 'donkeys', 'mules', 'Sole', 'determination', 'equiment', 'feamle', 'Ladies', 'matchin', 'pitched', 'savanah', 'Shaggy', 'swear', 'floatlys', 'stucco', 'jumpropes', 'mid-day', 'sillouhette', 'daschunds', 'wishing', 'Helmeted', 'civil', 'reenactment', 'cannons', 'War', 'reenactors', 'backgound', 'capri', 'entertainer', 'curtsey', 'spangles', 'goldenrod', 'porcelain', 'recital', 'Eleven', 'feathery', 'fishers', 'fish\"', 'someones', 'checkstand', 'aprons', 'rattan', 'multi-print', 'hillock', 'powdery', 'playroom', 'Smilling', 'lited', 'blue-robed', 'upper-class', 'wizard', 'Ritz', 'cracker', 'wagging', 'hooded-coat', 'raingear', 'mansion', 'Matt', 'ACE', 'ace', 'outward', 'viewfinder', 'angles', 'footrace', 'School', 'smear', 'shine', 'shoe-shine', 'shiner', 'customers', 'cuddle', 'encouraged', 'collapsable', 'emerald', 'dunked', 'arc', 'frisbree', 'whil', 'palid', 'youg', 'belaying', 'propelling', 'shoulder-length', 'muscles', 'ferris', 'algae', 'brickwall', 'fairgrounds', 'Farris', 'Simpsons', 'convienance', 'joint', 'Slurpees', 'convienience', 'Look', 'Right', 'convenience', 'slushies', 'highchair', 'pudding', 'jello', 'shepherds', 'Hear', 'evil\"', 'frustrated', 'silohuetted', 'redhead', 'Walkers', 'powerlines', 'lingers', 'bedroll', 'spitting', 'spits', '1950s', 'meter', 'bleak', 'wolf-like', 'snowpants', 'tentatively', 're', 'chutes', 'paneling', 'chest\"', 'Ypoung', 'hippies', 'wig\"', 'rugs', 'kayer', 'Tinkerbell', 'TinkerBell', 'wide-brimmed', 'Mastif', '\"Brightly', 'pagent', 'Hall', 'cruisship', 'assorted', 'yarn', 'braiding', 'yarn-like', 'sillhouetted', 'wedgie', 'gaurd', 'attampts', 'glassy', '\"Marathon', 'bras', 'outfield', 'smelled', 'brown-and-black', 'crocs', 'Croc', 'healthy', 'lawnmower', 'groomed', 'white-footed', 'Fries', 'fisher', 'my', 'best', 'buddy', 'waterproof', 'Lone', 'pastures', 'rock-climbs', '\"kids', 'building\"', 'decortive', 'long-bearded', 'broad', 'brimmed', 'fur-trimmed', 'Similarly', 'hot-pink', 'slouched', 'ATM', 'withdrawing', 'brwon', 'Rock', 'Rocky', 'Beagle', 'waterline', 'cresting', 'creamy', 'frosting', 'encripted', 'snowpacked', 'nest', 'shaky', 'slat', 'driftrood', 'sunlit', 'Rays', 'consumer', 'Walmart', 'wake-board', 'bodysurfs', '\"Ever', 'since', 'started', 'pinball', 'keffiyahs', 'swatting', 'containig', 'rainstorm', 'breezeway', 'cocker', 'spaniels', 'dumbbell', 'weight', 'majestically', 'scrolled', 'patterns']\n",
            "9865 {'PAD': 0, 'A': 1, '<s>': 2, 'child': 3, 'in': 4, 'a': 5, 'pink': 6, 'dress': 7, 'is': 8, 'climbing': 9, 'up': 10, 'set': 11, 'of': 12, 'stairs': 13, 'an': 14, 'entry': 15, 'way': 16, '.': 17, '</s>': 18, 'girl': 19, 'going': 20, 'into': 21, 'wooden': 22, 'building': 23, 'little': 24, 'playhouse': 25, 'the': 26, 'to': 27, 'her': 28, 'cabin': 29, 'black': 30, 'dog': 31, 'and': 32, 'spotted': 33, 'are': 34, 'fighting': 35, 'tri-colored': 36, 'playing': 37, 'with': 38, 'each': 39, 'other': 40, 'on': 41, 'road': 42, 'white': 43, 'brown': 44, 'spots': 45, 'staring': 46, 'at': 47, 'street': 48, 'Two': 49, 'dogs': 50, 'different': 51, 'breeds': 52, 'looking': 53, 'pavement': 54, 'moving': 55, 'toward': 56, 'covered': 57, 'paint': 58, 'sits': 59, 'front': 60, 'painted': 61, 'rainbow': 62, 'hands': 63, 'bowl': 64, 'sitting': 65, 'large': 66, 'small': 67, 'grass': 68, 'plays': 69, 'fingerpaints': 70, 'canvas': 71, 'it': 72, 'There': 73, 'pigtails': 74, 'painting': 75, 'Young': 76, 'outside': 77, 'man': 78, 'lays': 79, 'bench': 80, 'while': 81, 'his': 82, 'by': 83, 'him': 84, 'which': 85, 'also': 86, 'tied': 87, 'sleeping': 88, 'next': 89, 'shirtless': 90, 'lies': 91, 'park': 92, 'laying': 93, 'holding': 94, 'leash': 95, 'ground': 96, 'orange': 97, 'hat': 98, 'starring': 99, 'something': 100, 'wears': 101, 'glasses': 102, 'gauges': 103, 'wearing': 104, 'Blitz': 105, 'beer': 106, 'can': 107, 'crocheted': 108, 'The': 109, 'pierced': 110, 'ears': 111, 'rope': 112, 'net': 113, 'red': 114, 'roping': 115, 'climbs': 116, 'bridge': 117, 'grips': 118, 'onto': 119, 'ropes': 120, 'playground': 121, 'running': 122, 'grassy': 123, 'garden': 124, 'surrounded': 125, 'fence': 126, 'through': 127, 'Boston': 128, 'terrier': 129, 'Terrier': 130, 'lush': 131, 'green': 132, 'runs': 133, 'near': 134, '\"A': 135, 'shakes': 136, 'its': 137, 'head': 138, 'shore': 139, ',': 140, 'ball': 141, '.\"': 142, 'edge': 143, 'beach': 144, '\"Dog': 145, 'feet': 146, 'stands': 147, 'shaking': 148, 'off': 149, 'water\"': 150, 'White': 151, 'water': 152, 'standing': 153, 'turned': 154, 'one': 155, 'side': 156, 'boy': 157, 'smiles': 158, 'stony': 159, 'wall': 160, 'city': 161, 'overalls': 162, 'working': 163, 'stone': 164, 'young': 165, 'aross': 166, 'walking': 167, 'paved': 168, 'metal': 169, 'pole': 170, 'behind': 171, 'Smiling': 172, 'shirt': 173, 'blue': 174, 'jeans': 175, 'rock': 176, 'leaps': 177, 'over': 178, 'log': 179, 'grey': 180, 'leaping': 181, 'fallen': 182, 'tree': 183, 'mottled': 184, 'collar': 185, 'jumping': 186, 'jumped': 187, 'stump': 188, 'snow': 189, 'field': 190, 'surface': 191, 'displaying': 192, 'pictures': 193, 'skier': 194, 'skis': 195, 'past': 196, 'another': 197, 'paintings': 198, 'person': 199, 'framed': 200, 'looks': 201, 'trees': 202, 'Man': 203, 'artwork': 204, 'for': 205, 'sale': 206, 'collage': 207, 'cliff': 208, 'group': 209, 'people': 210, 'belays': 211, 'Seven': 212, 'climbers': 213, 'ascending': 214, 'face': 215, 'whilst': 216, 'Several': 217, 'row': 218, 'watches': 219, 'holds': 220, 'line': 221, 'chases': 222, 'from': 223, 'sprinkler': 224, 'lawn': 225, 'hose': 226, 'Large': 227, 'away': 228, 'prepares': 229, 'catch': 230, 'thrown': 231, 'object': 232, 'nearby': 233, 'cars': 234, 'about': 235, 'yellow': 236, 'mouth': 237, 'toy': 238, 'ready': 239, 'flying': 240, 'air': 241, 'after': 242, 'get': 243, 'jumps': 244, 'towards': 245, 'trying': 246, 'midair': 247, 'woman': 248, 'waters': 249, 'big': 250, 'lake': 251, 'lone': 252, 'duck': 253, 'swimming': 254, 'several': 255, 'around': 256, 'watching': 257, 'waves': 258, 'hand': 259, '\"Two': 260, 'facing': 261, 'skyline': 262, 'couple': 263, 'infant': 264, 'being': 265, 'held': 266, 'male': 267, 'pond': 268, 'stroller': 269, 'sit': 270, 'baby': 271, 'their': 272, 'newborn': 273, 'under': 274, 'care': 275, 'along': 276, 'body': 277, 'Couple': 278, 'outdoors': 279, 'surf': 280, 'lab': 281, 'tags': 282, 'frolicks': 283, 'splashes': 284, 'This': 285, 'splashing': 286, 'drilling': 287, 'hole': 288, 'ice': 289, 'frozen': 290, 'men': 291, 'fishing': 292, 'play': 293, 'making': 294, 'turn': 295, 'soft': 296, 'sand': 297, 'together': 298, 'tan': 299, 'sandy': 300, 'uses': 301, 'picks': 302, 'crampons': 303, 'scale': 304, 'climber': 305, 'jacket': 306, 'pants': 307, 'scaling': 308, 'An': 309, 'waterfall': 310, 'two': 311, 'Climber': 312, 'carries': 313, 'as': 314, 'he': 315, 'walks': 316, 'carrying': 317, 'has': 318, 'item': 319, 'wet': 320, 'kayak': 321, 'life': 322, 'jackets': 323, 'rowing': 324, 'canoe': 325, 'gentle': 326, 'ride': 327, 'courtyard': 328, 'catching': 329, 'Black': 330, 'snaps': 331, 'lunges': 332, 'Chocolate': 333, 'Lab': 334, 'too': 335, 'late': 336, 'captures': 337, 'driveway': 338, 'stick': 339, 'kneeling': 340, 'goalie': 341, 'hockey': 342, 'guarding': 343, 'goal': 344, 'kid': 345, 'rink': 346, 'right': 347, '\"Hockey': 348, 'crouches': 349, 'modern': 350, 'art': 351, 'structure': 352, 'glass': 353, 'reads': 354, 'newspaper': 355, 'sculpture': 356, 'office': 357, 'statue': 358, 'backpack': 359, 'buildings': 360, 'reading': 361, 'tent': 362, 'enter': 363, 'setting': 364, 'hut': 365, 'iced': 366, 'tarp': 367, 'snowy': 368, 'three': 369, 'Three': 370, 'hill': 371, 'sky': 372, 'them': 373, 'stand': 374, 'kneels': 375, 'skyscraper': 376, 'very': 377, 'tall': 378, 'Behind': 379, 'distance': 380, 'camera': 381, 'bites': 382, 'hard': 383, 'treat': 384, 'biting': 385, 'baked': 386, 'good': 387, 'putting': 388, 'both': 389, 'eats': 390, 'food': 391, 'table': 392, 'eating': 393, 'pizza': 394, 'tin': 395, 'dish': 396, 'People': 397, 'mountainside': 398, 'check': 399, 'out': 400, 'view': 401, 'hilltop': 402, 'overlooking': 403, 'valley': 404, 'hang': 405, 'top': 406, 'overlook': 407, 'rest': 408, 'ledge': 409, 'above': 410, 'moutains': 411, 'down': 412, 'many': 413, 'inflatable': 414, 'boats': 415, 'kayakers': 416, 'railing': 417, 'rafts': 418, 'below': 419, 'crowd': 420, 'jersey': 421, 'pose': 422, 'some': 423, 'multiracial': 424, 'posing': 425, 'picture': 426, '\"Asian': 427, 'blond': 428, 'background': 429, 'Guy': 430, 'striped': 431, 'guy': 432, 'takeout': 433, 'television': 434, 'floor': 435, 'fast': 436, 'meal': 437, 'Someone': 438, 'TV': 439, 'teens': 440, 'Crowd': 441, 'rail': 442, 'crowded': 443, 'takes': 444, 'jump': 445, 'skateboard': 446, 'performing': 447, 'trick': 448, 'leans': 449, 'skateboarder': 450, 'doing': 451, 'board': 452, 'platform': 453, 'skateboarders': 454, 'paddling': 455, 'river': 456, 'seen': 457, 'kayaking': 458, 'paddles': 459, 'boat': 460, 'paddle': 461, 'shallow': 462, 'girls': 463, 'ocean': 464, 'four': 465, 'children': 466, 'pajamas': 467, 'have': 468, 'pillow': 469, 'fight': 470, 'kids': 471, 'pillow-fight': 472, 'bed': 473, 'Children': 474, 'having': 475, 'Four': 476, 'constructions': 477, 'workers': 478, 'beam': 479, 'taking': 480, 'break': 481, 'construction': 482, 'I-beam': 483, 'take': 484, 'seat': 485, 'steel': 486, 'boys': 487, 'puddle': 488, 'balloon': 489, 'mud': 490, 'sunny': 491, 'day': 492, 'appears': 493, 'wait': 494, 'hailing': 495, 'taxi': 496, 'signaling': 497, 'traffic': 498, 'blonde': 499, 'hair': 500, 'tube': 501, 'waving': 502, 'arm': 503, 'oncoming': 504, 'brochure': 505, 'train': 506, 'rides': 507, 'magizine': 508, 'book': 509, 'pamphlet': 510, 'Child': 511, 'rocky': 512, 'run': 513, 'across': 514, 'stones': 515, 'area': 516, 'descends': 517, 'end': 518, 'high': 519, 'diving': 520, 'pool': 521, 'dive': 522, 'window': 523, 'overshirt': 524, 'tank': 525, 'chrome': 526, 'door': 527, 'puts': 528, 'elevator': 529, 'light-colored': 530, 'Light': 531, 'swim': 532, 'shorts': 533, 'trunks': 534, 'arms': 535, 'outstretched': 536, 'hiker': 537, 'bluff': 538, 'mountains': 539, 'ski': 540, \"'s\": 541, 'landscape': 542, 'snow-covered': 543, 'mountain': 544, 'beautiful': 545, 'pauses': 546, 'mountaintop': 547, 'attempting': 548, 'purple': 549, 'low': 550, 'cut': 551, 'yard': 552, 'Frisbee': 553, 'parking': 554, 'lot': 555, 'middle': 556, 'during': 557, 'heavy': 558, 'mat': 559, 'between': 560, 'SUV': 561, 'pickup': 562, 'open': 563, 'busy': 564, 'terrain': 565, 'woolly': 566, 'Doberman': 567, 'One': 568, 'chasing': 569, 'catches': 570, 'tennis': 571, ',\"': 572, 'multicolor': 573, 'balloons': 574, 'night': 575, 'hot': 576, 'lit': 577, 'lined': 578, 'nighttime': 579, 'helmet': 580, 'bike': 581, 'miniature': 582, 'dirt': 583, 'bicycle': 584, 'race': 585, 'pedals': 586, 'quickly': 587, 'BMX': 588, 'eight': 589, 'gathered': 590, 'dark': 591, 'porch': 592, 'darkened': 593, 'room': 594, 'throwing': 595, 'cleans': 596, 'bubbles': 597, 'suds': 598, 'wiped': 599, 'clean': 600, 'foam': 601, 'ramp': 602, 'soapy': 603, 'getting': 604, 'cleaned': 605, 'slides': 606, 'slide': 607, 'wading': 608, 'toys': 609, 'floating': 610, 'backyard': 611, 'sliding': 612, 'colorful': 613, 'tubes': 614, 'falling': 615, 'colored': 616, 'wetsuit': 617, 'toddler': 618, 'waiting': 619, 'come': 620, 'so': 621, '\"While': 622, 'droplets': 623, 'fly': 624, 'throws': 625, 'sticks': 626, 'tongue': 627, 'Another': 628, 'make': 629, 'faces': 630, 'smiling': 631, 'sticking': 632, 'look': 633, 'silly': 634, 'horse': 635, 'sweatshirt': 636, 'fire': 637, 'barrel': 638, 'lead': 639, 'horses': 640, 'contained': 641, 'bulldog': 642, 'sheep': 643, 'boxer': 644, 'pushing': 645, 'anouther': 646, 'skinny': 647, 'smaller': 648, 'int': 649, 'various': 650, 'sizes': 651, 'lady': 652, 'no': 653, 'dock': 654, 'deck': 655, 'closeup': 656, 'that': 657, 'paws': 658, 'lying': 659, 'resting': 660, 'tiled': 661, 'eyes': 662, 'rests': 663, 'patio': 664, 'bricks': 665, 'artificial': 666, 'safety': 667, 'harness': 668, 'indoor': 669, '\"The': 670, 'rocks': 671, 'Woman': 672, 'ring': 673, 'jumphouse': 674, 'teenage': 675, 'seating': 676, 'inflated': 677, 'family': 678, 'tractor': 679, 'Polaris': 680, 'vehicle': 681, 'played': 682, 'wheeler': 683, 'riding': 684, 'ATV': 685, 'costume': 686, 'left': 687, 'sequined': 688, 'feather': 689, 'sidewalk': 690, 'salmon': 691, 'bikini': 692, ';': 693, 'outfit': 694, 'drinking': 695, 'pop': 696, 'approached': 697, 'flamboyant': 698, 'dressed': 699, 'feathered': 700, 'headress': 701, 'Skiiers': 702, 'forest': 703, 'skiing': 704, 'wooded': 705, 'cross-country': 706, 'skiers': 707, 'woodland': 708, 'trail': 709, 'woods': 710, 'hikers': 711, 'pathway': 712, 'light': 713, 'path': 714, 'happily': 715, 'Energetic': 716, 'mother': 717, 'boardwalk': 718, 'sea': 719, 'Some': 720, 'pier': 721, 'evening': 722, 'pony': 723, 'wintertime': 724, 'atop': 725, 'draft': 726, 'n': 727, 'daft': 728, 'pull': 729, 'cart': 730, 'golden': 731, 'sleigh': 732, 'driven': 733, 'coat': 734, 'pulling': 735, 'carriage': 736, 'sled': 737, 'steered': 738, 'sheer': 739, 'using': 740, 'flat': 741, 'rappels': 742, 'steep': 743, 'incline': 744, 'vest': 745, 'inside': 746, 'dome': 747, 'Shaft': 748, 'cave': 749, 'shows': 750, 'spelunkers': 751, 'Spelunkers': 752, 'cavern': 753, 'bathed': 754, 'sunlight': 755, 'backpackers': 756, 'lay': 757, 'dry': 758, 'camp': 759, 'gear': 760, 'chalk': 761, 'portrait': 762, 'stream': 763, 'drawing': 764, 'barn-like': 765, 'elaborate': 766, 'illustration': 767, 'deep': 768, 'pile': 769, 'fountain': 770, 'fountains': 771, 'sprayed': 772, 'Corgi': 773, 'tunnel': 774, 'course': 775, 'Dog': 776, 'obstacle': 777, 'obedience': 778, 'swimsuit': 779, 'Little': 780, 'handrail': 781, 'bathing': 782, 'suit': 783, 'spray': 784, 'soaked': 785, 'jet': 786, 'shower': 787, 'gets': 788, 'underwater': 789, 'red-headed': 790, 'swims': 791, 'gun': 792, 'foot': 793, 'aims': 794, 'fireplace': 795, 'new': 796, 'light-up': 797, 'Boy': 798, 'pointed': 799, 'alone': 800, 'jagged': 801, 'snowmobile': 802, 'mid': 803, 'snowmobiler': 804, 'flies': 805, 'rider': 806, 'or': 807, 'machine': 808, 'pine': 809, 'Rider': 810, 'rural': 811, 'snowmobiles': 812, 'helmets': 813, 'goggles': 814, 'snowmobiling': 815, 'helmeted': 816, 'drive': 817, 'ATVs': 818, 'heads': 819, 'wheel': 820, 'wheelers': 821, 'empty': 822, 'all': 823, '!': 824, 'gin': 825, 'four-wheeler': 826, 'airborne': 827, 'quad': 828, 'harvested': 829, 'cornfield': 830, 's': 831, 'happy': 832, 'OD': 833, 'playfully': 834, 'soccer': 835, 'tucked': 836, 't-shirt': 837, 'Small': 838, 'artist': 839, 'paints': 840, 'clouds': 841, 'braids': 842, 'colors': 843, 'paper': 844, 'cyclist': 845, 'curved': 846, 'aerodynamic': 847, 'sharp': 848, 'curve': 849, 'pedaling': 850, '\"Man': 851, 'cows': 852, 'graze': 853, 'biker': 854, 'fetch': 855, 'pounces': 856, 'cine': 857, 'old': 858, 'fashioned': 859, 'video': 860, 'steadies': 861, 'aim': 862, 'Girl': 863, 'rosy': 864, 'cheeks': 865, 'lips': 866, 'Border': 867, 'Collie': 868, 'audience': 869, 'dug': 870, 'watch': 871, 'agile': 872, 'onlookers': 873, 'closely': 874, 'smooth': 875, 'stacking': 876, 'Toddler': 877, 'against': 878, 'backdrop': 879, 'shoes': 880, 'rappeling': 881, 'headlamp': 882, 'attached': 883, 'snakeskin': 884, 'Person': 885, 'sprays': 886, 'frog': 887, 'public': 888, 'wood': 889, 'barrior': 890, 'animal': 891, 'bird': 892, 'seeds': 893, 'someone': 894, 'sunflower': 895, 'clinging': 896, 'finger': 897, 'wades': 898, 'guided': 899, 'laughs': 900, 'playful': 901, 'this': 902, 'beige': 903, 'torwards': 904, 'outdoor': 905, 'handstand': 906, 'does': 907, 'sheets': 908, 'upside': 909, 'snowboard': 910, 'surfboard': 911, 'bikes': 912, 'traveling': 913, 'worn': 914, 'motorcycles': 915, 'motorbikes': 916, 'follow': 917, 'dirt-bikes': 918, 'off-road': 919, 'garment': 920, 'flag': 921, 'crescent': 922, 'moon': 923, 'star': 924, 'gown': 925, 'Muslim': 926, 'helps': 927, 'wave': 928, 'Baby': 929, 'half': 930, 'naked': 931, 'chair': 932, 'older': 933, 'back': 934, 'relaxes': 935, 'adobe': 936, 'where': 937, 'bicycles': 938, 'propped': 939, 'cap': 940, 'close': 941, 'parked': 942, 'relaxing': 943, 'folding': 944, '\"Topless': 945, 'slippers': 946, 'navy': 947, 'reclining': 948, 'hauling': 949, 'Both': 950, 'retrieve': 951, 'mouths': 952, 'tug': 953, 'chew': 954, '\"There': 955, 'haired': 956, 'bottled': 957, 'drink': 958, 'tilted': 959, 'spiked': 960, 'party': 961, 'streets': 962, 'they': 963, 'women': 964, 'parade': 965, 'neck-deep': 966, 'vegetation': 967, 'filled': 968, '\"Brown': 969, 'bushes': 970, 'creating': 971, 'splash': 972, 'seaweed': 973, 'lav': 974, 'swimmers': 975, 'kelp': 976, 'foreground': 977, 'sandals': 978, 'short': 979, 'sleeved': 980, 'pinstripe': 981, 'snows': 982, 'furry': 983, 'attempts': 984, 'itself': 985, 'self': 986, 'backpacks': 987, 'placed': 988, 'cardboard': 989, 'bus': 990, 'station': 991, 'bouncing': 992, 'folded': 993, 'beds': 994, 'bedroom': 995, 'snowboarder': 996, 'slope': 997, 'boarders': 998, 'Snowboarders': 999, 'slopes': 1000, 'clothing': 1001, 'store': 1002, 'opening': 1003, 'stores': 1004, 'piece': 1005, 'attire': 1006, 'car': 1007, 'strip': 1008, 'boots': 1009, 'stepping': 1010, 'van': 1011, 'wear': 1012, 'game': 1013, 'plants': 1014, 'crossing': 1015, 'greenery': 1016, 'suspension': 1017, 'tropical': 1018, 'caution': 1019, 'sign': 1020, 'beside': 1021, 'bright': 1022, 'truck': 1023, 'others': 1024, 'helping': 1025, 'step': 1026, 'pulled': 1027, 'passengers': 1028, 'load': 1029, 'brightly': 1030, 'poses': 1031, 'pig': 1032, 'hugs': 1033, 'who': 1034, '\"Blond': 1035, 'embracing': 1036, 'event\"': 1037, 'hugging': 1038, 'pink-hooded': 1039, 'stretch': 1040, 'bicyclist': 1041, 'cross': 1042, 'spandex': 1043, 'biking': 1044, 'Women': 1045, 'jogging': 1046, 'headset': 1047, 'Walkman': 1048, 'jogs': 1049, 'headphones': 1050, 'plant': 1051, 'corner': 1052, 'Bicyclists': 1053, 'intersection': 1054, 'bikers': 1055, 'stop': 1056, 'town': 1057, 'without': 1058, 'guiding': 1059, 'wagon': 1060, 'escorts': 1061, 'leading': 1062, 'Shirtless': 1063, 'horse-drawn': 1064, 'Shetland': 1065, 'hits': 1066, 'tee': 1067, 'practices': 1068, 'hitting': 1069, 'baseball': 1070, 'adult': 1071, 'bats': 1072, 'put': 1073, 'batting': 1074, 'cage': 1075, 'spins': 1076, 'sun': 1077, 'she': 1078, 'trumpet': 1079, 'marching': 1080, 'band': 1081, 'teenager': 1082, 'trumped': 1083, 'Starbucks': 1084, 'samples': 1085, 'fair': 1086, 'Asian': 1087, 'apron': 1088, 'serving': 1089, 'drinks': 1090, 'tray': 1091, 'barista': 1092, 'offering': 1093, 'waitress': 1094, 'offers': 1095, 'complimentary': 1096, 'tea': 1097, 'patrons': 1098, 'try': 1099, 'full': 1100, 'sledge': 1101, 'plain': 1102, 'loading': 1103, 'items': 1104, 'preparing': 1105, 'order': 1106, 'sneakers': 1107, 'leap': 1108, 'elderly': 1109, 'straw': 1110, 'gray': 1111, 'sweater': 1112, 'arched': 1113, 'walk': 1114, 'arbor': 1115, 'atrium': 1116, 'hallway': 1117, 'flip': 1118, 'flops': 1119, 'hood': 1120, 'legs': 1121, 'sprawled': 1122, 'flip-flops': 1123, 'boulder': 1124, 'mountaineer': 1125, 'clear': 1126, 'hooded': 1127, 'wrestling': 1128, '\"two': 1129, 'other\"': 1130, 'wrestle': 1131, 'bending': 1132, 'blanket': 1133, 'stuffed': 1134, 'animals': 1135, 'giving': 1136, 'war': 1137, 'nose': 1138, 'piercing': 1139, 'silver': 1140, 'protruding': 1141, 'grimaces': 1142, 'dramatic': 1143, 'grin': 1144, 'grimacing': 1145, 'games': 1146, 'bar': 1147, 'neon': 1148, 'hanging': 1149, 'bank': 1150, 'computer': 1151, 'gambling': 1152, 'machines': 1153, 'rough': 1154, 'approach': 1155, 'long-haired': 1156, 'directions': 1157, 'warm': 1158, 'weather': 1159, 'Busy': 1160, 'summer': 1161, 'time': 1162, 'clothes': 1163, 'camouflage': 1164, 'squirting': 1165, 'guns': 1166, 'spraying': 1167, 'squirt': 1168, 'bloe': 1169, 'inground': 1170, 'Parents': 1171, 'carts': 1172, 'twin': 1173, 'pushed': 1174, 'shaped': 1175, 'strollers': 1176, 'Twin': 1177, 'toddlers': 1178, 'alike': 1179, 'plastic': 1180, 'team': 1181, 'uniforms': 1182, 'same': 1183, 'hats': 1184, 'sporting': 1185, 'Florida': 1186, 'Dolphin': 1187, 'caps': 1188, 'Marlins': 1189, 'flowers': 1190, 'shrubbery': 1191, 'shaggy': 1192, 'long': 1193, 'alongside': 1194, 'advertisement': 1195, 'underground': 1196, 'transit': 1197, 'backlit': 1198, 'subway': 1199, 'umbrella': 1200, 'Aquos': 1201, 'commercial': 1202, 'unicycle': 1203, 'scooter': 1204, 'reaches': 1205, 'post': 1206, 'concrete': 1207, 'landing': 1208, 'snack': 1209, 'picnic': 1210, 'luggage': 1211, 'eat': 1212, 'refreshment': 1213, 'flowery': 1214, 'floral': 1215, 'purse': 1216, 'stretched': 1217, 'Dogs': 1218, '\"On': 1219, 'tussle': 1220, 'suspended': 1221, 'igloo': 1222, 'type': 1223, 'dangling': 1224, 'strange': 1225, 'closes': 1226, 'shining': 1227, 'closed': 1228, 'photo': 1229, 'photograph': 1230, 'just': 1231, 'church': 1232, 'Family': 1233, 'Taking': 1234, 'vacationing': 1235, 'begin': 1236, 'climb': 1237, 'Many': 1238, 'pretty': 1239, 'cleaning': 1240, 'windows': 1241, 'yacht': 1242, 'barge': 1243, 'laughing': 1244, 'swing': 1245, 'litlle': 1246, 'swings': 1247, 'spoon': 1248, 'heels': 1249, 'brick': 1250, 'weeds': 1251, 'coppery': 1252, 'cushion': 1253, 'asleep': 1254, 'sofa': 1255, 'pacifier': 1256, 'sucking': 1257, 'teddy': 1258, 'bear': 1259, 'Binky': 1260, 'supervision': 1261, 'dappled': 1262, 'Korean': 1263, 'sells': 1264, 'soda': 1265, 'cans': 1266, 'aluminum': 1267, 'Vendor': 1268, 'selling': 1269, 'stall': 1270, 'hatted': 1271, 'males': 1272, 'print': 1273, 'gold': 1274, 'frown': 1275, 'stove': 1276, 'pipe': 1277, 'makeup': 1278, 'benches': 1279, 'tile': 1280, 'lobby': 1281, 'sunglasses': 1282, 'overpass': 1283, 'mask': 1284, 'breathing': 1285, 'bald': 1286, 'containing': 1287, 'flips': 1288, '\"Child': 1289, 'tumbling': 1290, 'poolside': 1291, 'denim': 1292, 'daughter': 1293, 'claps': 1294, 'ear': 1295, 'Brown': 1296, '\"Tan': 1297, 'bite': 1298, 'Girls': 1299, 'sports': 1300, 'eye': 1301, 'protection': 1302, 'female': 1303, 'lacrosse': 1304, 'players': 1305, 'These': 1306, 'player': 1307, 'number': 1308, 'six': 1309, '6': 1310, 'chased': 1311, 'there': 1312, 'foal': 1313, 'colt': 1314, 'approaching': 1315, 'thin': 1316, 'carpet': 1317, 'rug': 1318, 'shag': 1319, 'suits': 1320, 'friends': 1321, 'smile': 1322, 'ladies': 1323, 'bikinis': 1324, 'sat': 1325, 'reflection': 1326, 'burnished': 1327, 'marble': 1328, 'asian': 1329, 'dances': 1330, 'hips': 1331, 'skirt': 1332, 'reflections': 1333, 'lakeside': 1334, 'placid': 1335, 'close-up': 1336, 'writing': 1337, 'Blurry': 1338, 'descending': 1339, '\"Three': 1340, 'dance': 1341, 'brightly-colred': 1342, 'kicking': 1343, 'cat': 1344, 'hissing': 1345, 'growling': 1346, 'hiding': 1347, 'snarling': 1348, 'corners': 1349, 'approaches': 1350, 'police': 1351, 'motorcycle': 1352, 'motorized': 1353, 'muddy': 1354, 'motorbike': 1355, 'uphill': 1356, 'motocross': 1357, 'circuit': 1358, 'racer': 1359, 'jumpsuit': 1360, 'display': 1361, 'underwear': 1362, 'pairs': 1363, 'different-colored': 1364, 'clothesline': 1365, 'granny': 1366, 'panties': 1367, 'underpants': 1368, 'shelter': 1369, 'wire': 1370, 'awning': 1371, 'bicyclists': 1372, 'stopped': 1373, 'creek': 1374, 'waterbed': 1375, 'coral': 1376, 'leaning': 1377, 'focus': 1378, 'motion': 1379, 'says': 1380, 'ADHD': 1381, 'clever': 1382, 'bowed': 1383, 'AD': 1384, 'parody': 1385, 'AC': 1386, 'logo': 1387, '\"Young': 1388, '\"\"': 1389, 'nodding': 1390, 'off\"': 1391, 'sunset': 1392, 'encircling': 1393, 'float': 1394, 'talk': 1395, 'cafe': 1396, 'like': 1397, 'Union': 1398, 'Jack': 1399, 'union': 1400, 'jack': 1401, 'waterspouts': 1402, 'bubbling': 1403, 'drives': 1404, 'waits': 1405, 'compact': 1406, 'driving': 1407, 'handbag': 1408, 'collared': 1409, 'leashed': 1410, 'latte': 1411, 'lap': 1412, 'enjoys': 1413, 'coffee': 1414, 'carying': 1415, 'crib': 1416, 'tries': 1417, 'playpen': 1418, 'expanse': 1419, 'mountainous': 1420, 'View': 1421, 'summit': 1422, 'trots': 1423, 'football': 1424, 'sprawls': 1425, 'fell': 1426, 'first': 1427, 'seated': 1428, 'candle': 1429, 'candles': 1430, 'birthday': 1431, 'celebration': 1432, 'place': 1433, 'reached': 1434, 'age': 1435, '5': 1436, 'celebrating': 1437, 'cake': 1438, '\"Woman': 1439, 'trotting': 1440, 'hardscape': 1441, 'About': 1442, '12': 1443, 'few': 1444, 'adults': 1445, 'splashed': 1446, 'source': 1447, 'winter': 1448, 'Beautiful': 1449, 'treading': 1450, 'Cross-country': 1451, 'thick': 1452, 'almost': 1453, '\"One': 1454, 'golfing': 1455, '\"Tree': 1456, 'golf': 1457, 'golfers': 1458, 'fairway': 1459, 'blocking': 1460, 'club': 1461, 'sleeveless': 1462, 'khaki': 1463, 'begins': 1464, 'lots': 1465, 'topless': 1466, 'shown': 1467, 'cloudy': 1468, 'structures': 1469, 'passes': 1470, 'huts': 1471, 'wakeboarder': 1472, 'sideways': 1473, 'waterskier': 1474, 'performs': 1475, 'tricks': 1476, 'waterskiing': 1477, 'speedboat': 1478, 'knee': 1479, 'fall': 1480, 'wakeboard': 1481, 'wakeboarding': 1482, 'younger': 1483, 'watercraft': 1484, 'renaissance': 1485, 'costumes': 1486, 'arrows': 1487, 'booth': 1488, 'medieval': 1489, 'Fayre': 1490, 'crouch': 1491, 'fish': 1492, 'stare': 1493, 'goldfish': 1494, 'leaguer': 1495, 'pitch': 1496, 'uniform': 1497, 'Ohio': 1498, 'contemplates': 1499, 'african-american': 1500, 'dark-skinned': 1501, 'halter': 1502, 'chidl': 1503, 'latter': 1504, 'stuck': 1505, 'husky': 1506, 'Husky': 1507, 'straps': 1508, 'turning': 1509, 'Dogsled': 1510, 'flags': 1511, '\"Five': 1512, 'mushing': 1513, 'coming': 1514, 'harnesses': 1515, 'joined': 1516, 'wide': 1517, 'barks': 1518, 'shoulder': 1519, 'beack': 1520, 'fluffy': 1521, 'faith': 1522, 'grab': 1523, 'tables': 1524, 'hops': 1525, 'talks': 1526, 'showing': 1527, 'squatting': 1528, 'talking': 1529, 'signing': 1530, 'phone': 1531, 'cellphone': 1532, 'notepad': 1533, '\"Standing': 1534, 'flower': 1535, 'retaining': 1536, 'semi-formal': 1537, 'views': 1538, 'electronic': 1539, 'device': 1540, 'frame': 1541, 'shopping': 1542, 'bag': 1543, 'labeled': 1544, 'gathers': 1545, 'backpacker': 1546, 'american': 1547, 'carring': 1548, 'American': 1549, 'hiking': 1550, 'hikes': 1551, 'swung': 1552, 'underneath': 1553, 'unseen': 1554, 'stool': 1555, 'Dark': 1556, 'nightclub': 1557, 'chairs': 1558, 'bar-type': 1559, 'including': 1560, 'camo': 1561, 'diveboard': 1562, 'backward': 1563, 'backwards': 1564, 'gives': 1565, 'evil': 1566, 'serious': 1567, '\"Boy': 1568, 'reflective': 1569, 'watery': 1570, 'baggy': 1571, 'block': 1572, 'size': 1573, 'dirty': 1574, 'bottle': 1575, 'leotard': 1576, 'checkered': 1577, 'tight': 1578, 'models': 1579, 'bars': 1580, 'hangs': 1581, 'monkey': 1582, 'jungle': 1583, 'gym': 1584, 'ladder': 1585, 'swinging': 1586, 'saver': 1587, 'wings': 1588, 'floaties': 1589, 'hit': 1590, 'tracks': 1591, 'railroad': 1592, 'track': 1593, 'jean': 1594, 'capris': 1595, 'barefoot': 1596, 'bearded': 1597, 'turquoise': 1598, 'peace': 1599, 'stops': 1600, 'T-shirt': 1601, 'symbol': 1602, 'headdress': 1603, 'shaved': 1604, 'crazy': 1605, 'hairdo': 1606, 'earrings': 1607, 'bound': 1608, 'flower-covered': 1609, 'misty': 1610, 'heather': 1611, 'surfboards': 1612, 'prepare': 1613, 'high-five': 1614, 'participating': 1615, 'wake-boards': 1616, 'attempt': 1617, 'give': 1618, 'simultaneously': 1619, 'decide': 1620, 'signal': 1621, 'five': 1622, 'armor': 1623, 'examining': 1624, 'tire': 1625, 'racers': 1626, 'drove': 1627, 'motorists': 1628, 'oddly': 1629, 'designed': 1630, 'racing': 1631, 'bucket': 1632, 'beneath': 1633, 'boogie': 1634, 'trampoline': 1635, 'telephone': 1636, 'power': 1637, 'lines': 1638, 'poles': 1639, 'electrical': 1640, 'wires': 1641, 'puppies': 1642, 'chase': 1643, 'heavily': 1644, 'foliaged': 1645, 'cold': 1646, 'but': 1647, 'morning': 1648, 'sets': 1649, 'Sled': 1650, 'trekking': 1651, 'Hello': 1652, 'Kitty': 1653, 'figure': 1654, 'yellowish': 1655, 'hello': 1656, 'kitty': 1657, 'slightly': 1658, 'floats': 1659, 'peers': 1660, 'bulky': 1661, 'snoopy': 1662, 'huge': 1663, 'Beach': 1664, 'scene': 1665, 'skimpy': 1666, 'rain': 1667, 'screams': 1668, 'squinting': 1669, 'still': 1670, 'hillside': 1671, 'skating': 1672, 'instructor': 1673, 'skate': 1674, 'hold': 1675, 'go': 1676, 'museum': 1677, 'couches': 1678, 'lie': 1679, 'puffy': 1680, 'tired': 1681, 'silhouetted': 1682, 'stunning': 1683, 'retriever': 1684, 'transportation': 1685, '\"An': 1686, 'business': 1687, 'quick': 1688, 'nap': 1689, 'tie': 1690, '\"People': 1691, 'dusk': 1692, 'pharmacy': 1693, 'Rite': 1694, 'Aid': 1695, 'Broadway': 1696, 'drug': 1697, 'Pharmacy': 1698, 'prepared': 1699, 'tuxedo': 1700, 'bow-tie': 1701, 'kissing': 1702, 'thing': 1703, 'cheek': 1704, 'kiss': 1705, 'shirts': 1706, 'vests': 1707, 'kissed': 1708, 'formal': 1709, 'wear\"': 1710, 'balcony': 1711, 'circus': 1712, 'navigate': 1713, 'amusement': 1714, 'upper': 1715, 'levels': 1716, 'carnival': 1717, 'attraction': 1718, 'brightly-colored': 1719, 'urban': 1720, 'follows': 1721, 'covers': 1722, 'tide': 1723, 'brown-haired': 1724, 'sunshine': 1725, 'shines': 1726, 'Crocs': 1727, 'breaks': 1728, 'swords': 1729, 'sparring': 1730, 'bat': 1731, 'Nerf': 1732, 'cup': 1733, 'rubber': 1734, 'chaperone': 1735, 'sponge': 1736, 'acting': 1737, 'referee': 1738, 'funny': 1739, 'matching': 1740, 'polo': 1741, 'strike': 1742, 'goofy': 1743, 'lane': 1744, 'gravel': 1745, 'land': 1746, 'Hiker': 1747, 'puppy': 1748, 'labs': 1749, 'females': 1750, 'scarves': 1751, 'dresses': 1752, 'examine': 1753, 'skirts': 1754, 'slurps': 1755, 'help': 1756, 'push': 1757, 'donuts': 1758, 'among': 1759, 'cement': 1760, 'fixtures': 1761, 'donut': 1762, 'shop': 1763, 'barriers': 1764, 'well-dressed': 1765, 'before': 1766, 'craft': 1767, 'nylon': 1768, 'fabric': 1769, 'pirate': 1770, 'skull': 1771, 'saxophone': 1772, 'hydrant': 1773, 'musical': 1774, 'instrument': 1775, 'cathing': 1776, 'retrieves': 1777, 'hind': 1778, 'Yorkie': 1779, 'far': 1780, 'bordered': 1781, 'liberty': 1782, 'statute': 1783, 'crowns': 1784, 'photos': 1785, 'New': 1786, 'York': 1787, 'taken': 1788, 'balls': 1789, 'shed': 1790, 'bounced': 1791, 'casting': 1792, 'rod': 1793, 'waders': 1794, 'spectators': 1795, 'pitbull': 1796, 'Labrador': 1797, 'firefighter': 1798, 'extinguishes': 1799, 'fireman': 1800, 'firehose': 1801, 'engine': 1802, 'carjack': 1803, 'Firefighter': 1804, 'extinguish': 1805, 'was': 1806, 'backed': 1807, 'monument': 1808, 'clapping': 1809, 'base': 1810, 'Washington': 1811, 'Memorial': 1812, 'Gateway': 1813, 'Arch': 1814, 'marker': 1815, 'house': 1816, 'diaper': 1817, 'ink': 1818, 'pullup': 1819, 'vertical': 1820, 'logs': 1821, 'balances': 1822, 'pylons': 1823, 'stumps': 1824, 'tops': 1825, 'posts': 1826, 'mirror': 1827, 'burgundy': 1828, 'hoodie': 1829, 'own': 1830, 'softball': 1831, 'winding': 1832, 'throw': 1833, 'Kids': 1834, 'tosses': 1835, 'overcast': 1836, 'tossing': 1837, '\"At': 1838, 'shute': 1839, 'emerging': 1840, 'poodle': 1841, 'leaving': 1842, 'blue-striped': 1843, 'old-fashioned': 1844, 'marked': 1845, 'seven': 1846, '7': 1847, 'circle': 1848, 'camping': 1849, 'equipment': 1850, '\"Little': 1851, 'bags': 1852, 'flowered': 1853, 'peaking': 1854, 'leaves': 1855, 'peeks': 1856, 'foliage': 1857, 'rock-climb': 1858, 'prefabricated': 1859, 'frightened': 1860, 'half-dressed': 1861, 'bottom': 1862, 'surfing': 1863, 'made': 1864, 'dune': 1865, 'snowboarding': 1866, 'leaf': 1867, 'saddle': 1868, 'tub': 1869, 'container': 1870, 'squeeze': 1871, 'bath': 1872, 'bin': 1873, 'cloth': 1874, 'streambed': 1875, 'drags': 1876, 'rag': 1877, 'almost-dried': 1878, 'towel': 1879, 'bmx': 1880, 'bmxer': 1881, 'overhang': 1882, 'formation': 1883, 'tire-swing': 1884, 'horizontal': 1885, 'crosses': 1886, 'hung': 1887, 'sniff': 1888, 'somthing': 1889, 'walkway': 1890, 'corridor': 1891, 'windowed': 1892, 'industrial': 1893, 'enjoying': 1894, 'terrace': 1895, 'either': 1896, 'narrow': 1897, 'paddlers': 1898, 'propel': 1899, 'tree-lined': 1900, 'wine': 1901, 'Wine': 1902, 'Shop': 1903, 'Twenty': 1904, 'Fourth': 1905, 'restaurant': 1906, 'tak': 1907, 'aiming': 1908, 'rifle': 1909, 'shoots': 1910, 'shoot': 1911, 'screen': 1912, 'laptop': 1913, 'earphones': 1914, 'Macintosh': 1915, 'cover': 1916, 'sheet': 1917, 'headless': 1918, 'mannequins': 1919, 'case': 1920, 'outfits': 1921, 'sunflowers': 1922, 'fishes': 1923, 'askance': 1924, 'stonesign': 1925, '\"These': 1926, 'Penzance': 1927, 'welcomes': 1928, 'you': 1929, 'hi-viz': 1930, 'welcome': 1931, 'carved': 1932, 'pushes': 1933, 'doll': 1934, 'mustache': 1935, 'plaid': 1936, 'elder': 1937, 'overlooks': 1938, 'florescent': 1939, 'speaks': 1940, 'overgrown': 1941, 'streaked': 1942, 'fur': 1943, 'uggs': 1944, 'beaded': 1945, 'belt': 1946, 'goth': 1947, 'trendy': 1948, 'usual': 1949, 'pot': 1950, 'had': 1951, 'kart': 1952, 'grinning': 1953, 'go-karts': 1954, 'excited': 1955, 'will': 1956, 'be': 1957, 'go-cart': 1958, 'only': 1959, 'branch': 1960, 'owner': 1961, 'rummages': 1962, 'collection': 1963, 'stuff': 1964, 'pug': 1965, 'bends': 1966, 'rummage': 1967, 'pick': 1968, 'merchandise': 1969, 'retrieving': 1970, 'pack': 1971, 'Irish': 1972, 'Setter': 1973, 'flashlight': 1974, 'father': 1975, 'lifting': 1976, 'brought': 1977, 'peak': 1978, 'pockets': 1979, 'formations': 1980, 'ancient': 1981, 'star-shaped': 1982, 'expansive': 1983, 'waterski': 1984, 'did': 1985, 'boarding': 1986, 'towed': 1987, 'speed': 1988, 'cowboy': 1989, 'neckless': 1990, 'chain': 1991, 'neck': 1992, 'roller': 1993, 'coaster': 1994, 'Las': 1995, 'Vegas': 1996, 'airport': 1997, 'overhead': 1998, 'shot': 1999, 'casino': 2000, 'carefully': 2001, 'innertube': 2002, 'saying': 2003, 'shades': 2004, 'roadside': 2005, 'brunette': 2006, 'combat': 2007, 'zebra': 2008, 'curb': 2009, 'hooked': 2010, 'bungee': 2011, 'cords': 2012, 'lift': 2013, 'active': 2014, '\"\"\"': 2015, 'strapped': 2016, 'tether': 2017, 'Kid': 2018, 'guards': 2019, 'rolling': 2020, 'competing': 2021, 'agility': 2022, 'event': 2023, 'lifts': 2024, 'paw': 2025, 'high-fives': 2026, 'mannequin': 2027, 'palm': 2028, 'crash': 2029, 'test': 2030, 'dummy': 2031, 'robot': 2032, 'touch': 2033, 'high-fiving': 2034, 'Grey': 2035, 'gentleman': 2036, 'rock-climbing': 2037, 'ascends': 2038, 'Downward': 2039, 'lean': 2040, 'Slender': 2041, 'dragged': 2042, 'lands': 2043, 'tag': 2044, 'zip': 2045, 'propelled': 2046, 'parasailing': 2047, 'second': 2048, 'wet\"': 2049, 'shake': 2050, 'themselves': 2051, 'waist': 2052, 'finished': 2053, 'calculate': 2054, 'route': 2055, 'bay': 2056, 'glares': 2057, 'patch': 2058, 'bandanna': 2059, 'harbor': 2060, 'makes': 2061, 'fist': 2062, 'docks': 2063, 'headscarf': 2064, 'bathingsuit': 2065, 'couch': 2066, 'knocks': 2067, 'lamp': 2068, '\"Baby': 2069, 'indoors': 2070, 'reaching': 2071, 'teal': 2072, 'catcher': 2073, 'points': 2074, 'league': 2075, 'pointing': 2076, 'oppsite': 2077, 'sides': 2078, 'teams': 2079, 'arguing': 2080, 'scenic': 2081, 'cobblestone': 2082, 'volleyball': 2083, 'Athletic': 2084, 'spiking': 2085, 'demonstrates': 2086, 'interesting': 2087, 'moves': 2088, 'spinning': 2089, 'drops': 2090, 'great': 2091, 'height': 2092, 'stares': 2093, 'intently': 2094, 'green-colored': 2095, 'checking': 2096, 'vendor': 2097, 'forward': 2098, 'tracksuit': 2099, 'squeezing': 2100, 'lemons': 2101, 'press': 2102, 'necklace': 2103, 'freshly': 2104, 'squeezed': 2105, 'lemonade': 2106, 'juice': 2107, 'catered': 2108, 'dinner': 2109, 'dip': 2110, 'plates': 2111, 'buffet': 2112, 'serve': 2113, 'plate': 2114, 'peek': 2115, 'trunk': 2116, 'guys': 2117, 'touches': 2118, 'mans': 2119, 'seems': 2120, 'ill': 2121, 'touched': 2122, 'brother': 2123, 'cot': 2124, 'gloves': 2125, 'wrapping': 2126, 'speaking': 2127, 'box': 2128, 'hurdle': 2129, 'spaniel': 2130, 'clears': 2131, 'obstacles': 2132, 'pulls': 2133, 'cigarette': 2134, 'lighting': 2135, 'fisherman': 2136, 'reeling': 2137, 'Mohawk': 2138, 'gelled': 2139, 'style': 2140, 'shade': 2141, 'tying': 2142, 'ribbon': 2143, 'wrist': 2144, 'ninja': 2145, 'strikes': 2146, 'overall': 2147, 'karate': 2148, 'attacking': 2149, 'masked': 2150, 'stance': 2151, 'martial': 2152, 'arts': 2153, 'practicing': 2154, 'kick': 2155, 'peaceful': 2156, 'solitary': 2157, 'moment': 2158, 'German': 2159, 'Shephard': 2160, 'opened': 2161, 'living': 2162, 'handles': 2163, 'recreational': 2164, 'touching': 2165, 'seats': 2166, 'bleachers': 2167, 'Tim': 2168, 'hortons': 2169, 'patiently': 2170, 'show': 2171, 'handle': 2172, 'stripe': 2173, 'sleeve': 2174, 'planked': 2175, 'graffiti': 2176, 'skateboarding': 2177, 'skater': 2178, 'amidst': 2179, 'cloud': 2180, 'recently': 2181, 'snowed': 2182, 'hamburgers': 2183, 'kitchen': 2184, 'jar': 2185, 'mustard': 2186, 'spread': 2187, 'burgers': 2188, 'crawl': 2189, 'tattooed': 2190, 'transparent': 2191, 'tattoos': 2192, 'backs': 2193, ':': 2194, 'modifications': 2195, 'bathroom': 2196, 'facial': 2197, 'razer': 2198, 'feeding': 2199, 'son': 2200, 'sedan': 2201, 'himself': 2202, 'racket': 2203, '2': 2204, 'perfom': 2205, 'watched': 2206, 'muscular': 2207, 'raising': 2208, 'treeless': 2209, 'backpacking': 2210, 'following': 2211, 'completely': 2212, 'hidden': 2213, 'hide': 2214, 'partially': 2215, 'concealed': 2216, 'treads': 2217, 'fields': 2218, 'shoulders': 2219, 'beard': 2220, 'hilly': 2221, 'steers': 2222, 'swampy': 2223, 'ridden': 2224, 'markers': 2225, 'jomps': 2226, 'disc': 2227, 'moss-covered': 2228, 'traversing': 2229, 'ciff': 2230, 'plains': 2231, 'distant': 2232, 'scales': 2233, 'supporting': 2234, 'frisbeen': 2235, 'fun': 2236, 'bouncy': 2237, 'centipede': 2238, 'favorite': 2239, 'plush': 2240, 'multi-colored': 2241, 'caterpillar': 2242, 'burbur': 2243, 'Yorkshire': 2244, 'bent': 2245, 'slanted': 2246, 'sloping': 2247, 'participate': 2248, 'sport': 2249, 'strips': 2250, 'fenced': 2251, 'limb': 2252, 'chewing': 2253, 'gnawing': 2254, 'uncut': 2255, 'leafy': 2256, 'teeth': 2257, 'Russell': 2258, 'measured': 2259, 'really': 2260, 'fribee': 2261, 'Third': 2262, 'chocolate': 2263, 'lens': 2264, 'Thie': 2265, 'sippy': 2266, 'sipping': 2267, 'teen': 2268, 'third': 2269, 'school': 2270, 'cartwheel': 2271, 'gate': 2272, 'unpainted': 2273, 'long-necked': 2274, 'crashing': 2275, 'rapids': 2276, 'egret': 2277, 'battling': 2278, 'kayaks': 2279, 'rows': 2280, 'kayaker': 2281, 'braces': 2282, 'goes': 2283, 'cyclists': 2284, 'pausing': 2285, 'chat': 2286, 'bottles': 2287, 'Men': 2288, 'athletic': 2289, 'bun': 2290, 'bread': 2291, 'cellos': 2292, 'violins': 2293, 'Market': 2294, 'Gallery': 2295, 'orchestra': 2296, 'Five': 2297, 'string': 2298, 'instruments': 2299, 'music': 2300, 'quintet': 2301, 'branches': 2302, 'bloom': 2303, 'panelling': 2304, 'button': 2305, 'dirt-covered': 2306, 'class': 2307, 'Group': 2308, 'halloween': 2309, 'glittery': 2310, 'shawl': 2311, 'companion': 2312, 'cruiser': 2313, 'tricycles': 2314, 'three-wheeled': 2315, 'vehicles': 2316, 'baskets': 2317, 'snarls': 2318, 'steps': 2319, 'seem': 2320, 'guitarist': 2321, 'hula-hoops': 2322, 'microphones': 2323, 'guitar': 2324, 'stage': 2325, 'nearly': 2326, 'mesh': 2327, 'enclosed': 2328, 'balancing': 2329, 'leg': 2330, 'We': 2331, 'cannot': 2332, 'see': 2333, 'medatative': 2334, 'gestures': 2335, 'meditational': 2336, 'gesture': 2337, 'presses': 2338, 'uniquely-shaped': 2339, 'cries': 2340, 'better': 2341, 'desserts': 2342, 'peering': 2343, 'dragging': 2344, 'though': 2345, 'emerges': 2346, 'collected': 2347, 'maneuvers': 2348, 'whitewater': 2349, 'jeep': 2350, 'ditch': 2351, 'free': 2352, 'hi': 2353, 'viz': 2354, 'trapped': 2355, 'ravine': 2356, 'Baseball': 2357, 'batter': 2358, 'Yankees': 2359, 'Yankee': 2360, 'warming': 2361, 'padded': 2362, 'training': 2363, 'attack': 2364, 'squirts': 2365, 'pistol': 2366, 'brownish': 2367, 'pale': 2368, 'tussling': 2369, 'bigger': 2370, 'downhill': 2371, 'wispy': 2372, 'rafting': 2373, 'Rafting': 2374, 'raft': 2375, 'rafters': 2376, 'squats': 2377, 'crouching': 2378, 'cutting': 2379, 'bowls': 2380, 'court': 2381, 'breaded': 2382, 'shimp': 2383, 'diners': 2384, 'visible': 2385, 'counter': 2386, 'mall': 2387, 'drapped': 2388, 'murky': 2389, 'white-water': 2390, 'turbulent': 2391, 'flannel': 2392, 'swing-toy': 2393, 'tires': 2394, 'Mickey': 2395, 'Mouse': 2396, 'Blond': 2397, 'quilt': 2398, 'kilt': 2399, 'bare': 2400, 'crawling': 2401, 'socks': 2402, 'beat': 2403, 'Closeup': 2404, 'peddal': 2405, 'bounds': 2406, 'underbrush': 2407, 'skateboards': 2408, 'do': 2409, 'homemade': 2410, 'boot': 2411, 'apartment': 2412, 'more': 2413, 'longhaired': 2414, 'cross-walk': 2415, 'Do': 2416, 'Not': 2417, 'Walk': 2418, 'winds': 2419, 'leaf-covered': 2420, 'hills': 2421, 'brook': 2422, 'meanders': 2423, 'autumn': 2424, 'scuba': 2425, 'gloved': 2426, 'diver': 2427, 'snorkel': 2428, 'Scuba': 2429, 'submerged': 2430, 'lobster': 2431, 'crustacean': 2432, 'found': 2433, 'hall': 2434, 'hardwood': 2435, 'floors': 2436, 'floored': 2437, 'brighly': 2438, 'canes': 2439, 'coats': 2440, 'purses': 2441, 'quiet': 2442, 'upon': 2443, 'setter': 2444, 'ahead': 2445, 'Rottwieler': 2446, 'Dalmation': 2447, 'weimaraner': 2448, 'clipped': 2449, 'tail': 2450, 'corkscrew': 2451, 'Heavyset': 2452, 'parent': 2453, 'fatigue': 2454, 'bottoms': 2455, 'balding': 2456, 'choppy': 2457, 'petting': 2458, 'zoo': 2459, 'goats': 2460, 'lambs': 2461, 'arena': 2462, 'handlers': 2463, 'hoodies': 2464, 'share': 2465, 'footbridge': 2466, 'farm': 2467, 'pen': 2468, 'border': 2469, 'collie': 2470, 'rallies': 2471, 'lamb': 2472, 'enclosure': 2473, 'goat': 2474, 'curly': 2475, 'headed': 2476, 'waeribng': 2477, 'flowing': 2478, 'nears': 2479, 'upside-down': 2480, 'flipping': 2481, 'direction': 2482, 'gaze': 2483, 'fangs': 2484, 'revealed': 2485, 'prints': 2486, 'intense': 2487, 'bounce': 2488, 'toes\"': 2489, 'printed': 2490, 'partying': 2491, 'gather': 2492, 'gazes': 2493, 'horizon': 2494, 'Bald': 2495, '\"Bald': 2496, 'blurry': 2497, 'casually-dressed': 2498, 'risen': 2499, 'twirls': 2500, 'outcrop': 2501, 'kite': 2502, 'countryside': 2503, 'cloud-covered': 2504, 'navigating': 2505, 'current': 2506, 'wheelie': 2507, 'homeless': 2508, 'expressway': 2509, 'Bum': 2510, 'litter': 2511, 'underside': 2512, 'lower': 2513, 'prances': 2514, 'lagoon': 2515, 'fetching': 2516, 'dobbermen': 2517, 'Sparrow': 2518, 'Pirates': 2519, 'Caribbean': 2520, 'doo-rag': 2521, 'drawn': 2522, 'moustache': 2523, 'scarf': 2524, 'beads': 2525, 'Mark': 2526, \"'\": 2527, 'Mom': 2528, 'Finley': 2529, 'introduces': 2530, 'two-wheeled': 2531, 'invention': 2532, 'slip': 2533, \"'slide\": 2534, 'poll': 2535, 'mom': 2536, 'wristbands': 2537, 'jewelry': 2538, 'Europe': 2539, 'off-camera': 2540, 'pause': 2541, 'barren': 2542, 'uptop': 2543, 'boxy': 2544, 'handlebars': 2545, 'curly-haired': 2546, 'grasps': 2547, 'teeter': 2548, 'totter': 2549, 'bones': 2550, 'gymnastic': 2551, 'maneuver': 2552, 'brings': 2553, 'dust': 2554, 'storm': 2555, 'blowing': 2556, 'wind': 2557, 'stirred': 2558, 'pizzeria': 2559, 'buzzes': 2560, 'zooming': 2561, 'Starbuck': 2562, 'sips': 2563, 'Boys': 2564, 'meadow': 2565, 'excavating': 2566, 'tools': 2567, 'scientist': 2568, 'digging': 2569, 'artifacts': 2570, 'brush': 2571, 'brushes': 2572, 'possible': 2573, 'find': 2574, 'paleontologist': 2575, 'archeologist': 2576, 'multicolored': 2577, 'skydiver': 2578, 'safely': 2579, 'parachutes': 2580, 'landed': 2581, 'para': 2582, 'gliders': 2583, 'exercises': 2584, 'hound': 2585, 'felled': 2586, 'nips': 2587, 'bared': 2588, 'knotted': 2589, 'canoeing': 2590, 'cooking': 2591, 'campsite': 2592, 'cooks': 2593, 'not': 2594, 'pouring': 2595, 'hay': 2596, 'buried': 2597, 'pumpkin': 2598, 'heart': 2599, 'stretchy': 2600, 'charm': 2601, 'bracelet': 2602, 'examines': 2603, 'begs': 2604, 'begging': 2605, 'headphone': 2606, 'map': 2607, '\"a': 2608, 'listening': 2609, 'iPod': 2610, 'maps': 2611, 'directory': 2612, 'highway': 2613, 'floatation': 2614, 'greeting': 2615, 'sniffing': 2616, 'larger': 2617, 'fluid': 2618, 'image': 2619, 'covering': 2620, 'mound': 2621, 'elevated': 2622, 'Speedo': 2623, 'raised': 2624, 'extended': 2625, 'raises': 2626, 'travels': 2627, 'portion': 2628, 'shaded': 2629, 'cricket': 2630, 'wicket': 2631, 'dimly': 2632, 'performer': 2633, 'singing': 2634, 'sings': 2635, 'microphone': 2636, 'electric': 2637, 'amplifier': 2638, 'onstage': 2639, 'Guitar': 2640, 'outcropping': 2641, 'wilderness': 2642, 'valleys': 2643, 'bubble': 2644, 'scrubbing': 2645, 'if': 2646, 'loofa': 2647, 'bathtub': 2648, 'yelling': 2649, 'crawls': 2650, 'knees': 2651, 'babies': 2652, 'feed': 2653, 'snowball': 2654, 'snowbound': 2655, 'Texas': 2656, 'tents': 2657, 'Mountain': 2658, '\"With': 2659, 'already': 2660, 'magic': 2661, 'magicians': 2662, 'magician': 2663, 'else': 2664, 'feature': 2665, 'kicks': 2666, 'teammate': 2667, 'teammates': 2668, 'opponents': 2669, 'progress': 2670, 'excitedly': 2671, 'greet': 2672, 'decked': 2673, 'razzling': 2674, 'broach': 2675, 'pearls': 2676, 'antiquated': 2677, 'pearl': 2678, 'opposite': 2679, 'lights': 2680, 'sinking': 2681, 'Toyota': 2682, 'corn': 2683, 'stacks': 2684, 'sailboat': 2685, 'photographer': 2686, 'partner': 2687, '\"Smiling': 2688, 'brown-eyed': 2689, 'competitive': 2690, 'driver': 2691, 'swerves': 2692, 'professional': 2693, 'windbreaker': 2694, 'aqua': 2695, 'shrubs': 2696, 'country': 2697, 'festival': 2698, 'fenced-in': 2699, 'Lean': 2700, 'link': 2701, 'silhouette': 2702, 'buy': 2703, 'Pedestrians': 2704, 'Times': 2705, 'Square': 2706, 'auditorium': 2707, 'programs': 2708, 'Students': 2709, 'notes': 2710, 'sniffs': 2711, 'newly': 2712, 'panting': 2713, 'snarly': 2714, 'multicoloured': 2715, 'hoop': 2716, 'motorcyclist': 2717, 'Motorcyclist': 2718, 'rounds': 2719, 'demonstration': 2720, 'written': 2721, 'scalling': 2722, 'support': 2723, 'sponsored': 2724, 'roadway': 2725, 'iguanas': 2726, 'wrestled': 2727, 'reptiles': 2728, 'lizards': 2729, 'oriental': 2730, 'dominance': 2731, 'buggies': 2732, 'travel': 2733, 'racetrack': 2734, 'Cars': 2735, 'Race': 2736, 'Ralley': 2737, 'muscle': 2738, 'position': 2739, 'see-saw': 2740, 'perched': 2741, 'readying': 2742, 'casts': 2743, 'perfect': 2744, 'shadow': 2745, 'jacketed': 2746, 'stairway': 2747, 'rushing': 2748, 'basset': 2749, 'rearview': 2750, 'tethered': 2751, 'VW': 2752, 'coloring': 2753, 'mirror\"': 2754, 'chest': 2755, 'shouts': 2756, 'joy': 2757, 'mouthed': 2758, 'expression': 2759, 'bunch': 2760, 'spreads': 2761, 'spiral': 2762, 'field\"': 2763, '\"Black': 2764, 'smacks': 2765, 'cracked': 2766, 'earth': 2767, 'ashen': 2768, 'flats': 2769, 'picking': 2770, 'things': 2771, 'spot': 2772, 'downriver': 2773, 'riverbank': 2774, 'wakeboards': 2775, 'waterskiis': 2776, 'handed': 2777, 'jacked': 2778, 'water-skiing': 2779, 'surfer': 2780, 'surfs': 2781, 'eyese': 2782, 'whiel': 2783, 'tickled': 2784, 'foggy': 2785, 'mist': 2786, 'In': 2787, 'distorted': 2788, 'dreadlocks': 2789, 'photographing': 2790, 'pasture': 2791, 'bush': 2792, 'caramel': 2793, 'sad': 2794, 'Stretched': 2795, 'exiting': 2796, 'done': 2797, 'staircase': 2798, 'earring': 2799, 'spiky': 2800, 'profile': 2801, 'punk': 2802, 'hairstyle': 2803, 'embrace': 2804, 'convert': 2805, 'Uniformed': 2806, 'carousel': 2807, 'fake': 2808, 'Row': 2809, 'form': 2810, 'childrens': 2811, 'observing': 2812, 'talent': 2813, 'Onlookers': 2814, 'horns': 2815, 'antelope': 2816, 'wild': 2817, 'America': 2818, 'races': 2819, 'minimal': 2820, 'amount': 2821, 'wildebeast': 2822, 'trips': 2823, 'balance': 2824, 'garbage': 2825, 'strewn': 2826, 'underpass': 2827, 'drawings': 2828, 'graffitied': 2829, 'refuse': 2830, 'regularly': 2831, 'chats': 2832, 'human': 2833, 'butt': 2834, 'trails': 2835, 'ask': 2836, 'real': 2837, 'gas': 2838, 'rocking': 2839, 'tricycle': 2840, 'springs': 2841, 'trike': 2842, 'Six': 2843, 'huskies': 2844, 'wheeled': 2845, 'canyon': 2846, 'hike': 2847, 'Topless': 2848, 'jogger': 2849, 'sheltered': 2850, 'runner': 2851, 'assists': 2852, 'marathon': 2853, '13406': 2854, 'rainy': 2855, 'pours': 2856, 'dim': 2857, 'stomach': 2858, 'headfirst': 2859, 'beginning': 2860, 'waterskies': 2861, 'seagull': 2862, 'gull': 2863, 'shoreline': 2864, 'stripes': 2865, 'Long': 2866, 'necked': 2867, 'much': 2868, 'coyote': 2869, 'join': 2870, 'Wet': 2871, 'swimmer': 2872, 'varying': 2873, 'crouched': 2874, 'struggles': 2875, 'slipper': 2876, 'fuzzy': 2877, 'tugging': 2878, 'grabs': 2879, 'formally': 2880, 'potrait': 2881, 'informal': 2882, 'department': 2883, 'focuses': 2884, 'mid-sections': 2885, 'skateboard\"': 2886, 'skaters': 2887, 'signals': 2888, 'skinned': 2889, 'neighborhood': 2890, 'dice': 2891, 'gal': 2892, 'blazing': 2893, 'campfire': 2894, 'clustered': 2895, 'bonfire': 2896, 'rocker': 2897, 'spotters': 2898, 'tried': 2899, 'barely': 2900, 'climbed': 2901, 'carpeting': 2902, 'red-seated': 2903, 'leashes': 2904, '\"Dogs': 2905, 'straining': 2906, 'owners': 2907, 'apart': 2908, 'reach': 2909, 'companions': 2910, 'Kiss-costumed': 2911, 'facepaint': 2912, 'costume\"': 2913, 'Kiss': 2914, 'parents': 2915, 'gleefully': 2916, 'rolled': 2917, 'frolics': 2918, 'sprinklers': 2919, 'boards': 2920, 'largley': 2921, 'skeleton': 2922, 'leafs': 2923, 'single': 2924, 'elevation': 2925, 'Spiderman': 2926, 'ringing': 2927, 'bell': 2928, 'doorbell': 2929, 'Halloween': 2930, 'spiderman': 2931, 'candy': 2932, 'rings': 2933, 'beachgoers': 2934, 'scattered': 2935, 'partly': 2936, 'Beachgoers': 2937, '\"Many': 2938, 'costumed': 2939, 'diner': 2940, 'scary': 2941, 'devil': 2942, 'lighted': 2943, 'raise': 2944, 'kneel': 2945, 'snowboarders': 2946, 'saber': 2947, 'glowing': 2948, 'sword': 2949, 'Sabre': 2950, 'Star': 2951, 'Wars': 2952, 'polka': 2953, 'dot': 2954, 'polka-dot': 2955, 'grove': 2956, 'presentation': 2957, 'hardhat': 2958, 'length': 2959, 'tractor-like': 2960, 'upset': 2961, 'streaming': 2962, 'tears': 2963, 'make-up': 2964, 'Red': 2965, 'crosswalk': 2966, 'OK': 2967, 'Bikers': 2968, 'relax': 2969, 'converse': 2970, 'maroon': 2971, 'rope-swinging': 2972, 'bend': 2973, 'squat': 2974, 'carry': 2975, 'laborador': 2976, 'waring': 2977, 'mickey': 2978, 'mouse': 2979, 'adorn': 2980, 'angle': 2981, 'stadium': 2982, 'sprints': 2983, 'floppy': 2984, 'licking': 2985, 'explores': 2986, 'medium': 2987, 'sized': 2988, 'rangler': 2989, 'cargo': 2990, 'khakis': 2991, 'lounge': 2992, 'resort': 2993, 'sunbathers': 2994, 'plaza': 2995, 'European': 2996, 'faded': 2997, 'sharing': 2998, 'serves': 2999, 'feeds': 3000, 'cream': 3001, 'exhibit': 3002, 'skips': 3003, 'domes': 3004, 'design': 3005, '\"Small': 3006, 'orbs': 3007, 'involving': 3008, 'swine': 3009, 'pet': 3010, 'piglet': 3011, 'plank': 3012, 'acrobatic': 3013, 'stunts': 3014, 'deflated': 3015, 'gotten': 3016, 'led': 3017, 'bicycler': 3018, 'wearubg': 3019, 'pit': 3020, 'converging': 3021, 'cycling': 3022, 'cycles': 3023, 'diry': 3024, 'cannonball': 3025, 'unison': 3026, 'terrior': 3027, 'soaking': 3028, 'ends': 3029, 'packaged': 3030, 'gifts': 3031, 'presents': 3032, 'checked': 3033, 'trays': 3034, 'product': 3035, 'dead': 3036, 'humans': 3037, 'master': 3038, 'checks': 3039, 'muzzle': 3040, 'rottweiler': 3041, 'cooling': 3042, 'kisses': 3043, 'goodbye': 3044, 'start': 3045, 'students': 3046, '\"Group': 3047, 'schoolchildren': 3048, 'drifting': 3049, 'fat': 3050, 'dingo': 3051, 'crag': 3052, 'blow': 3053, 'wands': 3054, 'hoops': 3055, 'arcade': 3056, 'whack': 3057, 'mole': 3058, 'Whack': 3059, 'Em': 3060, 'whacking': 3061, 'aliens': 3062, 'corndogs': 3063, 'showering': 3064, 'home': 3065, 'facility': 3066, 'bathes': 3067, 'watering': 3068, 'wrapped': 3069, 'work': 3070, 'tool': 3071, 'blower': 3072, 'works': 3073, 'trash': 3074, 'transport': 3075, 'multiple': 3076, 'sacks': 3077, 'caches': 3078, 'squeamish': 3079, 'reacting': 3080, 'punches': 3081, 'fighter': 3082, 'blocks': 3083, 'kickboxer': 3084, 'boxers': 3085, 'kickbox': 3086, 'punching': 3087, 'tossed': 3088, 'caught': 3089, 'faucet': 3090, 'spigot': 3091, 'turns': 3092, 'tap': 3093, 'allow': 3094, 'boarder': 3095, 'dumped': 3096, 'surfers': 3097, 'crystal': 3098, 'surfboarding': 3099, 'wakeboarders': 3100, 'tourists': 3101, 'swordfighting': 3102, 'opponent': 3103, 'arts-style': 3104, 'those': 3105, 'persons': 3106, 'shape': 3107, '4': 3108, 'Greenbay': 3109, 'Green': 3110, 'Bay': 3111, 'Packer': 3112, 'Packers': 3113, 'brindle-coated': 3114, 'interacting': 3115, 'bulletproof': 3116, 'bullet': 3117, 'proof': 3118, 'smoking': 3119, 'smokes': 3120, 'scruffy': 3121, 'sort': 3122, 'Gandhi': 3123, 'Ghandi': 3124, 'markings': 3125, 'basketball': 3126, 'angerly': 3127, 'basketballs': 3128, 'glowers': 3129, 'skills': 3130, 'dribbles': 3131, 'gymnasium': 3132, 'dribbling': 3133, 'Steve': 3134, 'Nash': 3135, 'potted': 3136, 'Spanish-style': 3137, 'pots': 3138, 'rollerblading': 3139, 'inline': 3140, 'Rollerblades': 3141, 'travelling': 3142, 'skates': 3143, 'fishemen': 3144, 'enjoy': 3145, 'blow-up': 3146, 'tubing': 3147, 'cork': 3148, 'period': 3149, 'basket': 3150, 'apples': 3151, 'supplies': 3152, 'scrubland': 3153, 'desert': 3154, 'space': 3155, 'traverse': 3156, 'scrubby': 3157, 'peaks': 3158, 'vike': 3159, 'conversation': 3160, 'Interracial': 3161, 'chatting': 3162, 'attrative': 3163, 'barbed': 3164, 'Skimply': 3165, 'clad': 3166, 'cowgirl': 3167, 'barbwire': 3168, 'scantily': 3169, 'threatening': 3170, 'cavort': 3171, 'manner': 3172, 'Ivars': 3173, 'bystanders': 3174, 'ferns': 3175, 'dachshunds': 3176, 'pane': 3177, 'jug': 3178, 'washes': 3179, 'teenagers': 3180, 'columns': 3181, 'dyed': 3182, 'neon-colored': 3183, 'section': 3184, 'crate': 3185, 'destination': 3186, 'grasping': 3187, 'performance': 3188, 'practice': 3189, 'perform': 3190, 'derssed': 3191, 'gymnastics': 3192, 'gymnast': 3193, 'somersault': 3194, 'workout': 3195, 'Gymnast': 3196, 'flooring': 3197, 'drain': 3198, 'crocks': 3199, 'grating': 3200, 'drainpipe': 3201, 'grate': 3202, 'threw': 3203, 'reddish': 3204, 'armful': 3205, 'snowsuit': 3206, 'parka': 3207, '\"Ski': 3208, 'Ski': 3209, 'Snowy': 3210, 'forefront': 3211, 'skiny': 3212, 'puckering': 3213, 'licks': 3214, 'ping': 3215, 'AstroTurf': 3216, 'spout': 3217, 'congregate': 3218, 'french': 3219, 'poodles': 3220, 'romp': 3221, 'preservers': 3222, 'feels': 3223, 'world': 3224, 'pretends': 3225, 'scenery': 3226, 'canoes': 3227, 'conoe': 3228, 'paraglider': 3229, 'soars': 3230, 'parachuting': 3231, 'parachute': 3232, 'collecting': 3233, 'parachutist': 3234, 'unfurled': 3235, 'fold': 3236, 'gathering': 3237, 'used': 3238, 'gliding': 3239, 'kill': 3240, 'Weirmeiner': 3241, 'collars': 3242, 'paisley': 3243, 'yuong': 3244, 'asphalt': 3245, 'control': 3246, 'controller': 3247, 'remote': 3248, 'PlayStation': 3249, 'wets': 3250, 'ampitheater': 3251, 'vacant': 3252, 't-bar': 3253, 'pulley': 3254, 'garmet': 3255, 'cape': 3256, 'Adults': 3257, 'arrangement': 3258, 'stripped': 3259, 'tights': 3260, 'laps': 3261, 'tangled': 3262, 'greyhound': 3263, 'happening': 3264, 'greyhounds': 3265, 'finish': 3266, 'outlines': 3267, 'surrounding': 3268, 'colorfully': 3269, 'decorated': 3270, 'ridding': 3271, 'rapidly': 3272, 'coasting': 3273, 'Snowboarder': 3274, 'fresh': 3275, 'decoration': 3276, 'riders': 3277, 'grappling': 3278, 'narby': 3279, 'engaged': 3280, 'physical': 3281, 'contact': 3282, 'hug': 3283, 'arid': 3284, 'pouch': 3285, 'foothills': 3286, 'flipped': 3287, 'launcher': 3288, 'aid': 3289, 'assist': 3290, 'glances': 3291, 'cots': 3292, 'makeshift': 3293, 'beanie': 3294, 'christmas': 3295, 'reindeer': 3296, 'headband': 3297, 'antlers': 3298, 'friend': 3299, 'Greyhound': 3300, 'Greyhounds': 3301, 'Racing': 3302, 'leave': 3303, 'starting': 3304, 'gazebo': 3305, 'chicken': 3306, 'money': 3307, 'obscure': 3308, 'carrier': 3309, 'juggles': 3310, 'market': 3311, 'grocery': 3312, 'tote': 3313, 'sorts': 3314, 'groceries': 3315, 'concert': 3316, 'chasseing': 3317, 'beret': 3318, 'recreation': 3319, '\"an': 3320, 'bike\"': 3321, 'boulders': 3322, 'casual': 3323, 'eachothers': 3324, 'hang-glider': 3325, 'glider': 3326, 'parasail': 3327, 'Hang': 3328, 'parasailors': 3329, 'shadowed': 3330, 'range': 3331, 'bruised': 3332, 'rental': 3333, 'bookcase': 3334, 'videos': 3335, 'foggyday': 3336, 'Looking': 3337, 'prow': 3338, 'heading': 3339, 'package': 3340, 'asking': 3341, 'witnesses': 3342, 'dealth': 3343, 'signpost': 3344, 'bundled': 3345, 'dark-colored': 3346, 'garments': 3347, 'upraised': 3348, 'library': 3349, 'bookstore': 3350, 'read': 3351, 'trip': 3352, 'golden-colored': 3353, 'alert': 3354, 'protective': 3355, 'Dalmatian': 3356, 'dalmatian': 3357, 'lease': 3358, 'hotel': 3359, 'island': 3360, 'woven': 3361, 'toboggan': 3362, 'knitted': 3363, 'poof': 3364, 'woolen': 3365, 'identically': 3366, 'identical': 3367, 'pajama': 3368, 'breaking': 3369, 'bit': 3370, 'icy': 3371, 'pass': 3372, 'overcoat': 3373, '\"Older': 3374, 'glassses': 3375, 'snowstorm': 3376, 'goatee': 3377, 'muzzled': 3378, 'galloping': 3379, 'buckets': 3380, 'rivers': 3381, 'laundry': 3382, 'rags': 3383, 'cliffs': 3384, 'dusty': 3385, '\"Person': 3386, 'utensils': 3387, 'implements': 3388, 'fork': 3389, 'knife': 3390, 'utilities': 3391, 'menacingly': 3392, 'environment': 3393, 'grimmaces': 3394, 'huddle': 3395, 'cameras': 3396, 'raging': 3397, 'strong': 3398, 'currents': 3399, 'rafter': 3400, 'steamy': 3401, 'rapid': 3402, 'Kayacker': 3403, 'downstream': 3404, 'Mani': 3405, 'calmer': 3406, 'Pyranha': 3407, 'rear': 3408, 'whose': 3409, 'snowman': 3410, '\"five': 3411, 'head\"': 3412, 'couples': 3413, 'broken': 3414, 'hummer': 3415, 'damaged': 3416, 'carried': 3417, 'repair': 3418, 'night-time': 3419, 'army': 3420, 'beat-up': 3421, 'Dirty': 3422, 'tow': 3423, 'peach': 3424, 'laid': 3425, 'mistletoe': 3426, 'knit': 3427, 'theme': 3428, 'Australian': 3429, 'shepherd': 3430, '\"three': 3431, 'necks': 3432, 'cautious': 3433, 'calm': 3434, 'rugged': 3435, 'region': 3436, 'detector': 3437, 'sleeves': 3438, 'miles': 3439, 'tiny': 3440, 'cow': 3441, 'bull': 3442, 'someplace': 3443, 'distnat': 3444, 'hate': 3445, 'fists': 3446, 'tough': 3447, 'cheap': 3448, 'Punk': 3449, 'mean': 3450, 'spring': 3451, 'african': 3452, 'African': 3453, 'tunic': 3454, 'canal': 3455, 'whist': 3456, 'waterway': 3457, 'blue-green': 3458, 'ponytail': 3459, 'face-down': 3460, 'places': 3461, 'snuggles': 3462, 'tinted': 3463, 'chin': 3464, 'crocodile': 3465, 'posed': 3466, 'dangerous': 3467, 'what': 3468, 'jaw': 3469, 'ankle': 3470, 'Shepherd': 3471, 'rolls': 3472, 'scratch': 3473, 'contorted': 3474, 'harmonica': 3475, 'guiutarist': 3476, 'looming': 3477, 'binoculars': 3478, 'thermos': 3479, 'gazing': 3480, 'snowcapped': 3481, 'mountian': 3482, 'topped': 3483, 'traveller': 3484, 'glacier': 3485, 'giant': 3486, 'ballet': 3487, 'fairy': 3488, 'wand': 3489, 'nutcracker': 3490, 'butterfly': 3491, 'turquiose': 3492, 'tutu': 3493, 'chow': 3494, 'mix': 3495, 'euro': 3496, 'plats': 3497, 'messy': 3498, 'junk': 3499, 'toilet': 3500, 'contracption': 3501, 'kitten': 3502, 'hoses': 3503, 'rockets': 3504, 'recoiling': 3505, 'action': 3506, 'treated': 3507, 'Philadelphia': 3508, 'Phillie': 3509, 'pitcher': 3510, 'pitchers': 3511, 'bounces': 3512, 'swarmed': 3513, 'pigeons': 3514, 'Pigeons': 3515, 'swarm': 3516, 'birds': 3517, 'individuals': 3518, 'filiming': 3519, 'photographs': 3520, 'barrier': 3521, 'Orange': 3522, 'peacoat': 3523, 'laden': 3524, 'digital': 3525, 'laugh': 3526, 'giggling': 3527, 'Foosball': 3528, 'developing': 3529, 'nation': 3530, 'burlap': 3531, 'Jeep': 3532, 'sinks': 3533, 'wheels': 3534, 'doors': 3535, 'opens': 3536, 'drenched': 3537, 'downpour': 3538, 'sox': 3539, 'distressed': 3540, 'determined': 3541, 'marsh-like': 3542, 'mucky': 3543, 'mostly': 3544, 'snowing': 3545, 'falls': 3546, 'helments': 3547, 'accends': 3548, 'soap': 3549, 'located': 3550, 'off-roading': 3551, 'embankment': 3552, 'cruising': 3553, 'yachts': 3554, 'Footballers': 3555, 'scrambling': 3556, 'keeper': 3557, '\"Four': 3558, 'score': 3559, '3': 3560, 'prevent': 3561, 'converge': 3562, 'swimsuits': 3563, 'Swimmers': 3564, 'They': 3565, 'fog': 3566, 'reddish-brown': 3567, 'mown': 3568, 'nice': 3569, 'verdant': 3570, 'bustling': 3571, 'typical': 3572, 'daytime': 3573, 'activity': 3574, 'sailing': 3575, 'everywhere': 3576, 'lets': 3577, 'thrashed': 3578, 'mock': 3579, 'Egyptian': 3580, 'Egytian-like': 3581, 'flood': 3582, 'wrings': 3583, 'twists': 3584, 'wringing': 3585, 'material': 3586, 'nervous': 3587, 'directed': 3588, 'stretching': 3589, 'sites': 3590, 'toss': 3591, 'ultimate': 3592, 'strawberries': 3593, 'raincoat': 3594, 'Seattle': 3595, 'docked': 3596, 'dog-shirt': 3597, 'faithful': 3598, 'Lady': 3599, 'redheaded': 3600, 'disk': 3601, 'sleeding': 3602, 'down\"': 3603, 'crevice': 3604, 'Hikers': 3605, 'clay': 3606, 'fruit': 3607, 'got': 3608, 'berries': 3609, 'eyed': 3610, 'syrup': 3611, 'crossed': 3612, 'herself': 3613, 'snowbank': 3614, 'snowdrift': 3615, 'icicle': 3616, 'warmly': 3617, 'pretending': 3618, 'sleds': 3619, 'unhappy': 3620, 'winks': 3621, 'winking': 3622, 'LL': 3623, 'Bean': 3624, 'dives': 3625, 'not-so-crowded': 3626, 'lifeguards': 3627, 'Santa': 3628, 'Claus': 3629, 'figurine': 3630, 'St': 3631, 'Bernard': 3632, 'rollerskate': 3633, 'Rollerblade': 3634, 'passed': 3635, 'frowning': 3636, 'Christmas': 3637, 'receives': 3638, 'littering': 3639, 'vapour': 3640, 'piled': 3641, '\"This': 3642, 'intertube': 3643, 'Snow': 3644, 'NASCAR': 3645, 'sponsorship': 3646, 'logos': 3647, 'Older': 3648, 'emblems': 3649, 'choice': 3650, 'pencils': 3651, 'decorate': 3652, 'hods': 3653, 'bib': 3654, 'orange-stained': 3655, 'stone-filled': 3656, 'enthusiastically': 3657, 'continue': 3658, 'wavy': 3659, 'weathered': 3660, 'smell': 3661, 'inspects': 3662, 'diagram': 3663, 'displayed': 3664, 'studies': 3665, 'anatomy': 3666, 'desk': 3667, 'tell': 3668, 'customer': 3669, 'fortune': 3670, 'fishermen': 3671, 'peacefully': 3672, 'pleasant': 3673, 'conditions': 3674, 'drift': 3675, 'sunshade': 3676, 'landform': 3677, 'speedos': 3678, 'evergreen': 3679, 'outrun': 3680, 'tread': 3681, 'minerature': 3682, 'supervising': 3683, 'arranged': 3684, 'grounded': 3685, 'rowboat': 3686, 'beached': 3687, 'Spider-Man': 3688, 'hobby': 3689, 'hopping': 3690, 'garage': 3691, 'rise': 3692, 'descend': 3693, 'roof': 3694, 'worker': 3695, 'hard-hat': 3696, 'hammer': 3697, 'fix': 3698, 'cutoff': 3699, 'tails': 3700, 'muzzles': 3701, 'masks': 3702, 'rally': 3703, 'zooms': 3704, 'fans': 3705, 'Blue': 3706, 'greyish': 3707, 'obscuring': 3708, 'swatted': 3709, 'powered': 3710, 'rocket': 3711, 'mittened': 3712, 'keep-away': 3713, 'nature': 3714, 'array': 3715, 'dumps': 3716, 'bounding': 3717, 'blouse': 3718, 'panes': 3719, 'cheerleaders': 3720, 'pom-poms': 3721, 'pompoms': 3722, 'cheerleading': 3723, 'neckties': 3724, 'foil': 3725, 'pom': 3726, 'poms': 3727, 'routine': 3728, 'cheering': 3729, 'trailer': 3730, 'triangular': 3731, 'stunt': 3732, 'Running': 3733, 'color': 3734, '\"Greyhound': 3735, 'first\"': 3736, 'ran': 3737, 'S.C.U.B.A.': 3738, 'fins': 3739, 'beauty': 3740, 'Lilly': 3741, 'pads': 3742, 'schoolyard': 3743, 'classmates': 3744, 'Tan': 3745, 'park-like': 3746, '\"Adults': 3747, 'move': 3748, 'flock': 3749, 'pair': 3750, 'Schoolchildren': 3751, 'messily': 3752, 'pasta': 3753, 'spaghetti': 3754, 'mess': 3755, 'operating': 3756, 'keyboard': 3757, 'squated': 3758, '\"I': 3759, 'am': 3760, 'Hollywood': 3761, 'fame': 3762, 'leather': 3763, 'Image': 3764, 'plushie': 3765, 'news': 3766, 'grinding': 3767, 'crying': 3768, 'mocks': 3769, 'cry': 3770, 'moms': 3771, 'somebody': 3772, 'barn': 3773, 'further': 3774, 'eyebrow': 3775, 'camera\"': 3776, 'handicap': 3777, 'signs': 3778, 'handicapped': 3779, 'cottage': 3780, 'cylindrical': 3781, 'bale': 3782, 'bales': 3783, 'lodge': 3784, 'starts': 3785, 'Skiers': 3786, 'ducks': 3787, 'elegant': 3788, 'geese': 3789, 'At': 3790, 'least': 3791, 'grows': 3792, 'deeps': 3793, 'beg': 3794, 'attentive': 3795, 'red-clad': 3796, 'Horse': 3797, '8': 3798, 'rellow': 3799, 'youngsters': 3800, 'crashes': 3801, 'flashing': 3802, 'nude': 3803, 'rickety': 3804, 'bridge\"': 3805, 'gorge': 3806, 'extremely': 3807, 'On': 3808, 'nowhere': 3809, '\"Six': 3810, 'castle': 3811, 'build': 3812, 'skijoring': 3813, 'lesh': 3814, 'photographed': 3815, 'sightseeing': 3816, 'tandem': 3817, 'seater': 3818, 'security': 3819, 'guard': 3820, 'officer': 3821, 'trot': 3822, 'snow-patched': 3823, 'retrievers': 3824, 'dusted': 3825, 'ties': 3826, 'Sound': 3827, 'Kildare': 3828, 'medal': 3829, 'bow': 3830, 'arrow': 3831, 'target': 3832, 'firing': 3833, 'bullseye': 3834, 'archer': 3835, 'haystack': 3836, 'uncrowded': 3837, 'sucks': 3838, 'bagpipes': 3839, 'tests': 3840, 'tone': 3841, 'tuner': 3842, 'bagpipe': 3843, 'adjusting': 3844, 'part': 3845, 'wrinkled': 3846, 'leads': 3847, 'clings': 3848, 'noticable': 3849, 'crack': 3850, 'hurdles': 3851, '\"Snowboarder': 3852, 'fetches': 3853, 'drab': 3854, 'Teen': 3855, 'foreround': 3856, 'capped': 3857, 'loaded': 3858, 'nets': 3859, 'Ocean': 3860, 'Company': 3861, 'odd': 3862, 'artistic': 3863, 'contraption': 3864, 'returns': 3865, 'chewed': 3866, 'Gonzaga': 3867, 'neclace': 3868, 'GONTAGA': 3869, 'muti': 3870, 'pigs': 3871, 'aids': 3872, 'need': 3873, 'attention': 3874, 'wheelbarrow': 3875, 'lakefront': 3876, 'frilly': 3877, 'dancing': 3878, 'princess': 3879, 'because': 3880, 'ND': 3881, 'fancy': 3882, 'tilts': 3883, 'upward': 3884, 'glove': 3885, 'Groucho': 3886, 'Marx': 3887, 'Blonde': 3888, 'novelty': 3889, 'rollerskates': 3890, 'assisting': 3891, 'act': 3892, 'ice-skating': 3893, 'operate': 3894, 'boredom': 3895, 'Jewish': 3896, 'violin': 3897, 'listens': 3898, 'cramped': 3899, 'lunch': 3900, 'middleaged': 3901, 'rungs': 3902, 'half-completed': 3903, 'childing': 3904, 'fort': 3905, 'stripy': 3906, 'built': 3907, 'doorway': 3908, 'filming': 3909, '\"Mother': 3910, 'Golden': 3911, 'pouting': 3912, 'long-handled': 3913, 'well': 3914, 'apportioned': 3915, 'cardigan': 3916, 'Middle': 3917, 'Eastern': 3918, 'campflauge': 3919, 'fours': 3920, 'Cami': 3921, 'hawaiin': 3922, 'runway': 3923, 'placing': 3924, 'playgym': 3925, 'tiger': 3926, 'colorings': 3927, 'Grayhound': 3928, 'derby': 3929, 'tattoo': 3930, 'Indian': 3931, 'native': 3932, 'indian': 3933, 'Native': 3934, 'driftwood': 3935, 'pumps': 3936, 'tabs': 3937, 'ceiling': 3938, 'taps': 3939, 'Pinscher': 3940, 'coverings': 3941, 'hairnet': 3942, 'wrestles': 3943, 'nuzzling': 3944, 'shirted': 3945, 'fitls': 3946, 'tourist': 3947, 'location': 3948, 'wade': 3949, 'mushrooms': 3950, 'clown': 3951, 'whistle': 3952, 'blows': 3953, 'muffs': 3954, 'establishment': 3955, 'dimly-lit': 3956, 'crime': 3957, 'Surfers': 3958, 'seawall': 3959, 'churns': 3960, 'enviorment': 3961, 'repel': 3962, 'reclines': 3963, '\"Tw': 3964, 'rubs': 3965, 'taught': 3966, 'stoops': 3967, 'watermelon': 3968, 'watermelons': 3969, 'airplane': 3970, '\"Toddler': 3971, 'cones': 3972, 'dads': 3973, 'cone': 3974, 'flames': 3975, 'flaming': 3976, 'hulahoop': 3977, 'trainer': 3978, 'pink-coated': 3979, 'fingers': 3980, 'smeared': 3981, 'pudding\"': 3982, 'As': 3983, 'sunsets': 3984, 'reflecting': 3985, '\"Someone': 3986, 'diferent': 3987, 'desert-like': 3988, 'Gate': 3989, 'Bridge': 3990, 'sledding': 3991, 'oar': 3992, 'Corgis': 3993, 'doberman': 3994, 'corgi': 3995, 'whom': 3996, 'palace': 3997, 'looling': 3998, 'military': 3999, 'British': 4000, 'guardsman': 4001, 'winters': 4002, 'panda': 4003, 'shoveling': 4004, 'snowshovel': 4005, 'mini': 4006, 'shovel': 4007, 'shovels': 4008, 'apex': 4009, 'Sheppard': 4010, 'bting': 4011, 'retrieved': 4012, 'flooded': 4013, 'Japanese': 4014, 'schoolgirls': 4015, 'lining': 4016, 'purchase': 4017, 'tickets': 4018, 'theater': 4019, 'ticket': 4020, 'fences': 4021, 'passing': 4022, 'electricity': 4023, 'pylon': 4024, 'boxes': 4025, 'ourdoors': 4026, 'musician': 4027, 'perfoms': 4028, 'blowup': 4029, 'statues': 4030, 'Easter': 4031, 'sculptures': 4032, 'Island': 4033, 'phones': 4034, 'focused': 4035, 'cellphones': 4036, 'banks': 4037, 'mounds': 4038, 'snowbanks': 4039, 'landscaped': 4040, 'brooms': 4041, 'sweeping': 4042, 'caravan': 4043, 'buggys': 4044, 'wiht': 4045, 'backview': 4046, 'wheelchair': 4047, 'scratches': 4048, 'observes': 4049, 'scratching': 4050, 'sandbox': 4051, 'pillows': 4052, 'furniture': 4053, 'squabble': 4054, 'twenties': 4055, 'liquid': 4056, 'mug': 4057, 'distored': 4058, 'oxford': 4059, 'magazine': 4060, 'wintery': 4061, 'sitts': 4062, 'melted': 4063, 'Wizards': 4064, 'square': 4065, 'fill': 4066, 'packed': 4067, 'climing': 4068, 'hop': 4069, 'Louis': 4070, 'Vuitton': 4071, 'widow': 4072, 'shops': 4073, 'leafless': 4074, 'dove': 4075, 'abseiling': 4076, 'repelling': 4077, 'cord': 4078, 'rappelling': 4079, 'cliffside': 4080, 'Extreme': 4081, 'No': 4082, 'Skiing': 4083, 'repels': 4084, 'individual': 4085, 'dangles': 4086, 'technical': 4087, 'supported': 4088, 'weating': 4089, 'cleats': 4090, 'waling': 4091, 'Lassie': 4092, 'dolphins': 4093, 'jars': 4094, 'hapy': 4095, 'jacks': 4096, 'sweats': 4097, 'peoplw': 4098, '\"As': 4099, '\"Orange': 4100, 'speckled': 4101, 'fox': 4102, 'comforts': 4103, 'fellow': 4104, 'members': 4105, 'feathers': 4106, 'Sheperd': 4107, 'virtual': 4108, 'video-game': 4109, 'projected': 4110, 'images': 4111, 'foreign': 4112, 'umbrellas': 4113, 'stay': 4114, 'Asia': 4115, 'pocket': 4116, 'backside': 4117, 'boxing': 4118, 'donkey': 4119, 'brake': 4120, 'mule': 4121, 'non-working': 4122, 'sleeps': 4123, 'breaching': 4124, 'rimmed': 4125, 'actions': 4126, 'consumed': 4127, 'surroundings': 4128, 'barefooted': 4129, 'Nat': 4130, 'numerous': 4131, 'penguins': 4132, 'accross': 4133, 'waterproofs': 4134, 'bundles': 4135, 'cameraman': 4136, 'settings': 4137, 'closed\"': 4138, 'legged': 4139, 'tram': 4140, 'bellbottoms': 4141, 'boa': 4142, 'pedestrian': 4143, 'racquet': 4144, 'Miami': 4145, 'forehand': 4146, 'pawing': 4147, 'official': 4148, 'soaring': 4149, 'daylight': 4150, 'terriers': 4151, 'cappedhills': 4152, 'stopping': 4153, 'mountaineers': 4154, 'waterfalls': 4155, 'quietly': 4156, 'darkly': 4157, 'file': 4158, 'Quite': 4159, 'astonishment': 4160, 'confronts': 4161, 'pets': 4162, 'Old': 4163, 'slinky': 4164, 'sibling': 4165, 'cats': 4166, 'pump': 4167, 'adolescent': 4168, 'mixing': 4169, 'launched': 4170, 'home-made': 4171, 'warily': 4172, 'investigating': 4173, 'sweat': 4174, 'youn': 4175, 'piggyback': 4176, 'adorned': 4177, 'wheel-barrow': 4178, 'blades': 4179, 'Thre': 4180, 'strings': 4181, 'confetti': 4182, 'bluejean': 4183, 'stained': 4184, 'sweatsuit': 4185, 'locked': 4186, 'snub': 4187, 'smells': 4188, 'bringing': 4189, 'dining': 4190, 'growls': 4191, 'barking': 4192, 'duke': 4193, 'speeds': 4194, 'wedding': 4195, 'veil': 4196, 'bride': 4197, 'bridal': 4198, 'Bride': 4199, 'relection': 4200, 'mid-flight': 4201, 'zips': 4202, 'pebble': 4203, 'Fluffy': 4204, 'pebbles': 4205, 'emitting': 4206, 'smoke': 4207, 'film': 4208, 'videotaped': 4209, 'buggy': 4210, 'comes': 4211, 'grabbing': 4212, 'mouthguards': 4213, 'called': 4214, 'Neptuno': 4215, 'midst': 4216, 'blankets': 4217, 'Tigger': 4218, 'royal': 4219, 'puffs': 4220, 'cubby': 4221, 'cheeked': 4222, 'poncho': 4223, 'robe': 4224, 'Friends': 4225, 'mid-run': 4226, 'payfully': 4227, 'kicked': 4228, 'ouside': 4229, 'side-by-side': 4230, 'horseriders': 4231, 'horseback': 4232, 'Puppy': 4233, 'weeping': 4234, 'willow': 4235, 'kind': 4236, 'dropping': 4237, 'colourful': 4238, 'angels': 4239, 'snowsuits': 4240, 'kiosk': 4241, 'entitled': 4242, 'Other': 4243, 'Photographs': 4244, 'use': 4245, 'flexable': 4246, 'appearing': 4247, 'malnourished': 4248, 'whild': 4249, 'flight': 4250, 'sails': 4251, 'Skateboarder': 4252, 'rectangular': 4253, 'sell': 4254, 'clothes\"': 4255, 'dirtbikes': 4256, 'Dirt': 4257, 'assault': 4258, 'similar': 4259, 'dozen': 4260, 'gated': 4261, 'brownish-orange': 4262, 'harnessed': 4263, 'perspective': 4264, 'sled-dog': 4265, '\"Several': 4266, 'tooth': 4267, 'spare': 4268, 'change': 4269, 'amid': 4270, 'drummer': 4271, 'saxophones': 4272, 'storefront': 4273, 'drums': 4274, 'drum': 4275, 'patches': 4276, 'forested': 4277, 'confront': 4278, 'silky': 4279, 'sees': 4280, 'government': 4281, 'collarless': 4282, 'courthouse': 4283, 'juggling': 4284, 'shirtness': 4285, 'batons': 4286, 'Juggler': 4287, 'wolf': 4288, 'pencil': 4289, 'rubbing': 4290, 'lounging': 4291, 'Tattooed': 4292, 'husky-like': 4293, 'samoyads': 4294, 'pure': 4295, 'melting': 4296, 'awaits': 4297, 'wicker': 4298, 'shit': 4299, 'straight': 4300, 'ripstik': 4301, 'cold-weather': 4302, 'styled': 4303, 'Freddy': 4304, 'Krueger': 4305, 'spike': 4306, 'batman': 4307, 'onesie': 4308, 'pointy': 4309, 'wrestler': 4310, 'posign': 4311, 'loaves': 4312, 'liking': 4313, 'curled': 4314, 'ragged': 4315, 'assistance': 4316, 'donning': 4317, 'chiseling': 4318, 'Axe': 4319, 'hacking': 4320, 'snake': 4321, 'draping': 4322, 'wraps': 4323, 'pad': 4324, 'grip': 4325, 'note': 4326, 'writes': 4327, 'notebook': 4328, 'Teenage': 4329, 'natural': 4330, 'bobbed': 4331, 'digs': 4332, 'Afro': 4333, 'vert': 4334, 'launches': 4335, 'quarter': 4336, 'removing': 4337, 'garter': 4338, 'toppless': 4339, 'hr': 4340, '\"Pack': 4341, 'grouped': 4342, 'melts': 4343, 'bares': 4344, 'attacked': 4345, 'blindfold': 4346, 'blindfolded': 4347, 'fleece': 4348, 'Arizona': 4349, 'prairie': 4350, 'edged': 4351, 'were': 4352, 'ski-ing': 4353, 'dalmatians': 4354, 'Dalmatians': 4355, 'palm-tree': 4356, 'broen': 4357, 'gloved-hand': 4358, 'concentration': 4359, 'beverage': 4360, 'meet': 4361, 'bowling': 4362, 'alley': 4363, 'Soccer': 4364, 'Mr.': 4365, 'Potato': 4366, 'features': 4367, 'pieces': 4368, 'Potao': 4369, 'Head': 4370, 'dark-haired': 4371, 'free-climbing': 4372, 'glides': 4373, 'community': 4374, 'rollerskating': 4375, 'beagle': 4376, 'hides': 4377, 'created': 4378, 'massive': 4379, 'amounts': 4380, 'been': 4381, 'railings': 4382, 'tripod': 4383, 'photographic': 4384, 'connected': 4385, 'movie': 4386, 'reviewing': 4387, 'took': 4388, 'musicians': 4389, 'western': 4390, 'overcoat\"': 4391, 'attending': 4392, 'attend': 4393, 'speak': 4394, 'downward': 4395, 'T-ball': 4396, 'mid-jump': 4397, 'windy': 4398, 'chunk': 4399, 'Main': 4400, 'Street': 4401, 'toothpaste': 4402, 'dig': 4403, 'dollar': 4404, 'bill': 4405, 'African-American': 4406, 'bills': 4407, '\"Children': 4408, 'process': 4409, 'yells': 4410, 'offstage': 4411, 'forceful': 4412, 'grapple': 4413, 'Water': 4414, 'craw': 4415, 'creature': 4416, 'crab': 4417, 'flautist': 4418, 'flute': 4419, 'suburban': 4420, 'Arabian': 4421, 'crooked': 4422, 'backbend': 4423, 'belly': 4424, 'Rottweiler': 4425, 'tongues': 4426, 'mittens': 4427, 'froup': 4428, 'unusual': 4429, 'trench': 4430, 'jetty': 4431, 'looked': 4432, 'rock-face': 4433, 'spotting': 4434, 'nurses': 4435, 'nursing': 4436, 'downtown': 4437, 'street-shot': 4438, 'Applebee': 4439, 'Dave': 4440, 'Buster': 4441, 'restaurants': 4442, 'arriving': 4443, 'chickens': 4444, 'walls': 4445, 'Chinatown': 4446, 'City': 4447, 'awnings': 4448, 'tubular': 4449, 'hear': 4450, 'Kong': 4451, 'point': 4452, 'beers': 4453, 'towels': 4454, 'hopscotch': 4455, 'chalked': 4456, 'grid': 4457, 'doggy': 4458, 'exercise': 4459, 'Puma': 4460, 'hugged': 4461, 'PUMA': 4462, 'cloaks': 4463, 'trim': 4464, '\"Some': 4465, 'robes': 4466, 'cuts': 4467, 'cartwheels': 4468, 'readied': 4469, 'launch': 4470, 'Remax': 4471, '\"people': 4472, 'grass\"': 4473, 'bonnet': 4474, 'upright': 4475, 'steady': 4476, 'kid-sized': 4477, 'go-kart': 4478, 'competition': 4479, 'numbered': 4480, 'spashes': 4481, 'bat-shaped': 4482, 'thumbs': 4483, 'snorkeling': 4484, 'crew': 4485, 'scubba': 4486, 'blacktop': 4487, 'twigs': 4488, 'crown': 4489, 'bouncey': 4490, 'pees': 4491, 'walked': 4492, 'shreds': 4493, 'creeping': 4494, 'wildly': 4495, 'redish': 4496, 'met': 4497, 'fedora': 4498, 'grownup': 4499, 'Minnie': 4500, 'polka-dotted': 4501, 'illuminated': 4502, 'ship': 4503, 'ships': 4504, 'spouse': 4505, 'balck': 4506, 'jaket': 4507, 'masquerade': 4508, 'grins': 4509, 'domino': 4510, 'severe': 4511, 'round': 4512, 'horseshoes': 4513, 'horseshoe': 4514, 'Yong': 4515, 'sprinkled': 4516, 'ornamental': 4517, 'oh': 4518, 'crafts': 4519, 'Ther': 4520, 'crates': 4521, 'thumbs-up': 4522, 'wearhing': 4523, 'furocious': 4524, 'returning': 4525, 'match': 4526, 'intricate': 4527, 'designs': 4528, 'segway': 4529, 'Segway': 4530, 'slalom': 4531, 'slalom-like': 4532, 'zigzag': 4533, 'policeman': 4534, 'queue': 4535, 'buddist': 4536, 'worships': 4537, 'buddha': 4538, 'Buddist': 4539, 'prays': 4540, 'shrine': 4541, 'Monk': 4542, 'praying': 4543, 'Reflections': 4544, 'slacks': 4545, 'parasails': 4546, 'sail': 4547, 'windsurfs': 4548, 'crest': 4549, 'windsurfer': 4550, 'dragon': 4551, 'bomber': 4552, 'earflaps': 4553, 'poster': 4554, 'mustached': 4555, 'Sombody': 4556, \"n't\": 4557, 'stars': 4558, 'lick': 4559, 'Pomeranian': 4560, 'bearing': 4561, 'dribbled': 4562, 'footpath': 4563, '\"Hooded': 4564, 'marketplace': 4565, 'headscarfs': 4566, 'rigging': 4567, 'mast': 4568, 'herding': 4569, 'reeds': 4570, 'marsh': 4571, 'diapers': 4572, 'overturned': 4573, 'articles': 4574, 'amoung': 4575, 'maintained': 4576, 'wide-legged': 4577, 'black-and-white': 4578, 'monster': 4579, 'ridable': 4580, 'tipped': 4581, 'stubby': 4582, 'ceremony': 4583, 'keep': 4584, 'wards': 4585, 'Dane': 4586, 'dachshund': 4587, 'electronics': 4588, 'engage': 4589, 'devices': 4590, 'm': 4591, 'bushels': 4592, 'tulips': 4593, 'tulip': 4594, 'longsleeve': 4595, 'Oklahoma': 4596, 'Football': 4597, 'Sooners': 4598, '50': 4599, 'dodges': 4600, 'tackle': 4601, 'wuth': 4602, 'discouraged': 4603, 'coach': 4604, 'based': 4605, 'communications': 4606, 'touchline': 4607, 'visor': 4608, 'ref': 4609, 'collegiate': 4610, 'footballer': 4611, 'UW': 4612, 'sidelines': 4613, 'at&t': 4614, 'cheers': 4615, 'congratulate': 4616, 'crowds': 4617, 'cheer': 4618, 'discuss': 4619, 'Sooner': 4620, 'sideline': 4621, 'college': 4622, 'tackled': 4623, 'jerseys': 4624, 'tackling': 4625, 'uniformed': 4626, 'cheerleader': 4627, 'dancer': 4628, 'tackles': 4629, 'bang': 4630, 'quarterback': 4631, 'scans': 4632, 'offensive': 4633, 'protects': 4634, 'notre': 4635, 'dame': 4636, 'timeout': 4637, '\"Coach': 4638, 'everyone': 4639, 'OU': 4640, 'coaching': 4641, 'injured': 4642, 'nursed': 4643, 'attempted': 4644, 'opposing': 4645, 'keeps': 4646, 'defending': 4647, 'University': 4648, 'rival': 4649, 'footballers': 4650, 'confronted': 4651, 'opposition': 4652, 'advance': 4653, 'would': 4654, 'tackler': 4655, 'eluding': 4656, 'Huskies': 4657, 'defenders': 4658, 'avoid': 4659, 'mascot': 4660, 'fives': 4661, 'Wisconsin': 4662, 'endzone': 4663, 'punting': 4664, '17': 4665, 'onward': 4666, 'sooners': 4667, 'possession': 4668, 'avoiding': 4669, 'fumble': 4670, 'clutches': 4671, 'scrimmage': 4672, 'gain': 4673, 'receiver': 4674, 'referees': 4675, 'contest': 4676, 'collaborating': 4677, 'officials': 4678, 'lifted': 4679, 'teamates': 4680, 'athletes': 4681, 'Quarterback': 4682, 'receive': 4683, 'snap': 4684, 'center': 4685, 'compete': 4686, '23': 4687, 'pro': 4688, 'layer': 4689, 'oppsing': 4690, 'defensive': 4691, '42': 4692, 'punts': 4693, '\"Oklahoma': 4694, 'kicker': 4695, 'football\"': 4696, 'jersay': 4697, 'footballs': 4698, 'appear': 4699, 'national': 4700, 'anthem': 4701, 'staff': 4702, 'manager': 4703, 'Nike': 4704, 'excercises': 4705, 'stretches': 4706, 'turf': 4707, 'Americans': 4708, 'fan': 4709, '28': 4710, 'weas': 4711, 'armbands': 4712, '#': 4713, '19': 4714, 'Commuters': 4715, 'fro': 4716, 'lolly': 4717, 'graphic': 4718, 'shelves': 4719, 'blues': 4720, 'brothers': 4721, 'Blues': 4722, 'Brothers': 4723, 'impersonator': 4724, 'expressions': 4725, 'concerned': 4726, 'hand-stand': 4727, 'runners': 4728, 'parallel': 4729, 'sunhat': 4730, 'cute': 4731, 'Tupperware': 4732, 'chains': 4733, 'chained': 4734, 'girt': 4735, 'messenger': 4736, 'paneled': 4737, 'comfort': 4738, 'moonwalk': 4739, 'sundress': 4740, 'French': 4741, 'mark': 4742, 'Dachshund': 4743, 'colander': 4744, 'clowns': 4745, 'mad': 4746, 'strainer': 4747, 'lighthouse': 4748, 'Female': 4749, 'tower': 4750, 'youngster': 4751, 'gigantic': 4752, 'handbags': 4753, 'ollie': 4754, 'hooding': 4755, 'isolated': 4756, 'submerges': 4757, 'waterskis': 4758, 'speeding': 4759, 'inflatbale': 4760, 'archway': 4761, 'engraved': 4762, 'names': 4763, 'memorial': 4764, 'stiffing': 4765, 'farmland': 4766, 'tug-of-war': 4767, 'tomatos': 4768, 'cutout': 4769, 'sailor': 4770, 'marking': 4771, 'drainage': 4772, 'sewer': 4773, 'pyramid-shaped': 4774, 'illustrated': 4775, 'dismounts': 4776, 'tiles': 4777, 'dots': 4778, 'foreheads': 4779, 'squirted': 4780, 'fliers': 4781, 'handing': 4782, 'papers': 4783, 'Fawkes': 4784, 'protest': 4785, 'catc': 4786, 'dobermans': 4787, '(': 4788, ')': 4789, 'Skateboard': 4790, 'hospital': 4791, 'cast': 4792, 'peeking': 4793, 'peeping': 4794, 'pillar': 4795, 'helemt': 4796, 'weaving': 4797, 'weaves': 4798, 'socializing': 4799, 'crust': 4800, 'Sledding': 4801, 'enthusiasts': 4802, 'observer': 4803, 'wasteland': 4804, 'river\"': 4805, 'gallery': 4806, 'fully': 4807, 'clothed': 4808, 'lagging': 4809, 'scouts': 4810, 'showered': 4811, 'close-cropped': 4812, 'haircut': 4813, 'skyward': 4814, 'studded': 4815, 'Distorted': 4816, 'Hawaiian': 4817, 'unshaven': 4818, 'street\"': 4819, 'buzy': 4820, 'series': 4821, 'walkways': 4822, 'spaced': 4823, 'maple': 4824, 'Twelve': 4825, 'diamond': 4826, 'seidwalk': 4827, 'discs': 4828, 'Frisbees': 4829, 'Purina': 4830, 'Incredible': 4831, 'Challenge': 4832, 'freesbies': 4833, 'mechanical': 4834, 'rabbit': 4835, 'tape': 4836, 'painters': 4837, 'superman': 4838, 'super': 4839, 'heroes': 4840, 'Retriever': 4841, 'equestrian': 4842, 'jumper': 4843, 'jockey': 4844, 'quarters': 4845, 'flows': 4846, 'mossy': 4847, 'cascades': 4848, 'burning': 4849, 'split': 4850, 'skipping': 4851, 'bamboo': 4852, 'delivery': 4853, 'easels': 4854, 'fencing': 4855, 'admiring': 4856, 'docking': 4857, 'iron': 4858, 'girder': 4859, 'bridges': 4860, 'alertly': 4861, 'workshop': 4862, 'classic': 4863, 'Alon': 4864, 'steam': 4865, 'blurred': 4866, 'housing': 4867, 'development': 4868, 'lipstick': 4869, 'make-shift': 4870, 'lifevests': 4871, 'trains': 4872, 'treats': 4873, 'backpack\"': 4874, 'sheperds': 4875, 'bigs': 4876, 'includes': 4877, 'suspenders': 4878, 'min': 4879, 'patterned': 4880, 'Youngle': 4881, 'pail': 4882, 'mold': 4883, 'objest': 4884, 'shelf': 4885, 'butts': 4886, 'sister': 4887, 'muxzzled': 4888, 'unamused': 4889, 'banner': 4890, 'streamer': 4891, 'phrase': 4892, 'inscribed': 4893, 'htting': 4894, 'struggling': 4895, 'hip': 4896, 'wake': 4897, '\"Bikers': 4898, 'motorcyclists': 4899, 'skies': 4900, 'roses': 4901, 'ducking': 4902, 'toothbrush': 4903, 'paraglide': 4904, 'parasurfer': 4905, 'judo': 4906, 'mats': 4907, 'struggle': 4908, 'dojo': 4909, 'spar': 4910, 'Karate': 4911, 'bout': 4912, 'parasailer': 4913, 'sailboats': 4914, 'Elderly': 4915, 'learning': 4916, 'how': 4917, 'rhododendron': 4918, 'reviews': 4919, 'sunning': 4920, 'Buy': 4921, 'waterfront': 4922, 'Kite': 4923, 'short-sleeved': 4924, 'slowly': 4925, 'ledges': 4926, 'rises': 4927, 'Drenched': 4928, 'poking': 4929, 'Teenagers': 4930, 'merry-go-round': 4931, 'Ferris': 4932, 'Wheel': 4933, 'tow-headed': 4934, 'amuseument': 4935, 'sink': 4936, 'washer': 4937, 'rowers': 4938, 'treefilled': 4939, 'swetashirts': 4940, 'marshy': 4941, 'shoulder-high': 4942, 'shack': 4943, '\"White': 4944, 'cobblestones': 4945, 'mini-trampoline': 4946, '52': 4947, 'feild': 4948, 'subject': 4949, 'netted': 4950, 'hooker': 4951, 'Ok': 4952, 'I': 4953, 'bums': 4954, 'Peace': 4955, 'Mission': 4956, 'Portland': 4957, 'Oregon': 4958, 'belongings': 4959, 'prancing': 4960, 'sniffed': 4961, 'crotch': 4962, 'grasslands': 4963, 'font': 4964, 'fiddles': 4965, 'miscellaneous': 4966, 'intended': 4967, 'saturated': 4968, 'herds': 4969, 'kiddie': 4970, 'focusing': 4971, 'murals': 4972, 'chaps': 4973, 'chainmail': 4974, 'codpiece': 4975, 'perhaps': 4976, 'camel': 4977, 'peoples': 4978, 'containers': 4979, 'groom': 4980, 'strapless': 4981, 'c': 4982, 'novel': 4983, 'meeting': 4984, 'speech': 4985, 'adopted': 4986, 'mixed': 4987, 'breed': 4988, 'shooting': 4989, 'fires': 4990, 'Lay': 4991, 'potato': 4992, 'chip': 4993, 'chips': 4994, 'daschund': 4995, 'bark': 4996, 'wiener': 4997, 'wildflowers': 4998, 'palying': 4999, 'mulch': 5000, 'stirring': 5001, 'squating': 5002, 'oout': 5003, 'waists': 5004, 'scarred': 5005, 'playtoy': 5006, 'pipeline': 5007, 'well-kept': 5008, 'within': 5009, 'shortly': 5010, 'trace': 5011, 'rising': 5012, 'sunrise': 5013, 'ashy': 5014, 'countertop': 5015, 'ribbons': 5016, 'bows': 5017, 'Where': 5018, '?': 5019, 'grafitti': 5020, 'WHERE': 5021, 'ARE': 5022, 'YOU': 5023, '?\"': 5024, 'cigerette': 5025, 'graffitti': 5026, 'eagerly': 5027, 'letters': 5028, 'cut-outs': 5029, 'letter': 5030, 'P.': 5031, 'P': 5032, 'cutouts': 5033, 'shadow-dappled': 5034, 'aged': 5035, 'spirit': 5036, 'pep': 5037, 'ralley': 5038, 'books': 5039, 'huddled': 5040, 'celebrities': 5041, 'props': 5042, 'pretend': 5043, 'musicans': 5044, 'posh': 5045, 'pre-teen': 5046, 'sing': 5047, 'rights': 5048, 'manmade': 5049, 'res': 5050, 'higher': 5051, '\"Bright': 5052, 'cob': 5053, 'samll': 5054, 'noodles': 5055, 'cricketer': 5056, 'misses': 5057, 'batsman': 5058, 'seashore': 5059, 'mattress': 5060, 'hula': 5061, 'hooping': 5062, '104': 5063, 'rounding': 5064, 'Silver': 5065, 'advertising': 5066, 'depicts': 5067, 'RV': 5068, 'campground': 5069, 'dge': 5070, 'amongst': 5071, 'soldiers': 5072, 'civillians': 5073, 'busstop': 5074, 'ignoring': 5075, 'bitten': 5076, 'limbs': 5077, 'quilted': 5078, 'heard': 5079, 'Sheep': 5080, 'cluster': 5081, 'floated': 5082, 'wields': 5083, 'Scottish': 5084, 'global': 5085, 'roughhousing': 5086, 'play-fighting': 5087, 'ejected': 5088, 'chute': 5089, 'slippery': 5090, 'darked': 5091, 'i': 5092, 'Basketball': 5093, 'overhangs': 5094, 'overhanging': 5095, 'wrap': 5096, 'add': 5097, 'collects': 5098, 'recyclable': 5099, 'searching': 5100, 'rummaging': 5101, 'trashcan': 5102, 'Bag': 5103, 'observed': 5104, 'Spectators': 5105, 'screeches': 5106, 'stock': 5107, 'knee-deep': 5108, 'rifles': 5109, 'tufts': 5110, 'uneven': 5111, 'withered': 5112, 'tan-and-white': 5113, 'dashes': 5114, 'complex': 5115, '4x4': 5116, \"'n'\": 5117, 'bum': 5118, 'Trash': 5119, 'spills': 5120, 'noy': 5121, 'followed': 5122, 'subdivsion': 5123, '\"Pedestrians': 5124, 'meandering': 5125, 'casually': 5126, 'blazer': 5127, 'sandpit': 5128, 'castles': 5129, 'sandcastles': 5130, 'cupcake': 5131, 'shapes': 5132, 'guides': 5133, 'Sheltie': 5134, 'kennel': 5135, 'doghouse': 5136, 'tire-shaped': 5137, 'faux': 5138, 'slumped': 5139, 'crossbones': 5140, 'fton': 5141, 'residential': 5142, 'hopes': 5143, 'nipping': 5144, 'cattle': 5145, 'bucking': 5146, 'pony-tailed': 5147, 'sparklers': 5148, 'sparkler': 5149, 'firework': 5150, 'mouth\"': 5151, 'massage': 5152, 'vibrating': 5153, 'recline': 5154, 'grilling': 5155, 'cornstalks': 5156, 'chef': 5157, 'roasted': 5158, 'husks': 5159, 'white-haired': 5160, 'thumb': 5161, 'apple': 5162, 'level': 5163, 'than': 5164, 'breaker': 5165, 'bonnets': 5166, 'tumbles': 5167, 'Kayaker': 5168, 'tips': 5169, 'squeezes': 5170, 'crevasse': 5171, 'bathrobe': 5172, 'bulldogs': 5173, 'togerther': 5174, 'shorthaired': 5175, 'sponges': 5176, 'madly': 5177, 'Shriner': 5178, 'Mercury': 5179, 'PNC': 5180, 'Bank': 5181, 'backstroke': 5182, 'rash': 5183, 'Basset': 5184, 'kites': 5185, 'snow-capped': 5186, 'Bright': 5187, 'flown': 5188, 'yawning': 5189, 'Close-up': 5190, 'yawns': 5191, 'breath': 5192, '\"Swimmer': 5193, 'Hero': 5194, 'cacti': 5195, 'Spring': 5196, 'Hill': 5197, 'pitching': 5198, 'water-wings': 5199, 'smilely': 5200, 'faced': 5201, 'watch\"': 5202, 'arch': 5203, 'spurting': 5204, 'furred': 5205, 'cane': 5206, 'circular': 5207, 'mushroom': 5208, 'cin': 5209, 'relatively': 5210, 'early': 5211, 'lampost': 5212, 'undershirt': 5213, 'contestants': 5214, 'pattern': 5215, 'shoeless': 5216, 'blue-tinted': 5217, 'rusty': 5218, 'birdcage': 5219, 'Blue-eyed': 5220, 'non-grassy': 5221, 'rushes': 5222, 'Yellow': 5223, 'greenish': 5224, 'photography': 5225, 'dimmly': 5226, 'engaging': 5227, 'conversations': 5228, 'studio': 5229, 'mingling': 5230, 'Biker': 5231, 'rodeo': 5232, 'contestent': 5233, 'Cowboy': 5234, 'bucked': 5235, 'blown': 5236, 'executes': 5237, 'loop-the-loop': 5238, 'twist': 5239, 'twisting': 5240, 'loop': 5241, 'inverted': 5242, 'Izod': 5243, 'stiped': 5244, 'loose': 5245, 'Naked': 5246, 'law': 5247, 'enforcement': 5248, 'sheepdog': 5249, 'reception': 5250, 'butting': 5251, 'woman\"': 5252, 'lightly': 5253, 'flash': 5254, 'removes': 5255, 'prepairing': 5256, 'extends': 5257, 'sack': 5258, 'darker-skinned': 5259, 'corrugated': 5260, 'wanting': 5261, 'shoe': 5262, 'cotton': 5263, 'sandal': 5264, 'background\"': 5265, 'bust': 5266, 'Buddha': 5267, 'safari': 5268, 'shrowded': 5269, 'darkness': 5270, 'groupe': 5271, 'brilliant': 5272, 'teaches': 5273, 'teaching': 5274, 'Goggled': 5275, 'flings': 5276, 'flung': 5277, 'outstreached': 5278, 'tabby': 5279, 'backhand': 5280, 'twirl': 5281, 'sparkling': 5282, 'over-alls': 5283, 'enthusiastic': 5284, 'chests': 5285, 'ankle-deep': 5286, 'Canon': 5287, 'nothing': 5288, 'except': 5289, 'substance': 5290, 'stocking': 5291, 'pedestrians': 5292, 'Big': 5293, 'halo': 5294, 'croquet': 5295, 'whie': 5296, 'defaced': 5297, 'bigwheels': 5298, 'cycle': 5299, 'shouting': 5300, 'towarn': 5301, 'tissue': 5302, 'swinger': 5303, 'beachfront': 5304, 'Wrestler': 5305, 'energizer': 5306, 'bunny': 5307, 'Energizer': 5308, 'numbers': 5309, 'footprints': 5310, '\"Rocks': 5311, 'surround': 5312, 'adventurer': 5313, 'burrowing': 5314, 'wood-stacked': 5315, 'site': 5316, 'HOMELESS': 5317, 'ANYTHING': 5318, 'HELPS': 5319, 'Stacks': 5320, 'happen': 5321, 'turkeys': 5322, 'lilypads': 5323, 'separate': 5324, 'lillypads': 5325, 'deer': 5326, 'dinghy': 5327, 'grasses': 5328, 'stride': 5329, 'surges': 5330, 'pops': 5331, 'popping': 5332, 'parkinglot': 5333, 'chews': 5334, 'wheat': 5335, 'striding': 5336, 'marches': 5337, 'pedigree': 5338, 'chested': 5339, 'fierce': 5340, 'yet': 5341, 'China': 5342, 'Shipping': 5343, 'CHINA': 5344, 'SHIPPING': 5345, 'zone': 5346, 'surounded': 5347, 'parrot': 5348, 'barricade': 5349, 'rodents': 5350, 'aquarium': 5351, 'stingray': 5352, 'fuchsia': 5353, 'emphatically': 5354, 'expressing': 5355, 'opinion': 5356, 'pleadingly': 5357, 'purchasing': 5358, 'register': 5359, 'purchased': 5360, 'cashier': 5361, 'checkout': 5362, 'check-out': 5363, 'lighter': 5364, 'vending': 5365, 'redwood': 5366, 'sequoia': 5367, 'bushy': 5368, 'disheveled': 5369, 'poofy': 5370, 'attractive': 5371, 'Muzzled': 5372, 'capes': 5373, 'cleared': 5374, 'beaten': 5375, 'boarded-up': 5376, 'abandon': 5377, 'boarded': 5378, 'rundown': 5379, 'win': 5380, 'cut-out': 5381, 'With': 5382, 'blonde-headed': 5383, 'protector': 5384, 'trained': 5385, 'baton': 5386, 'objective': 5387, 'mid-sized': 5388, 'moutainside': 5389, 'aimed': 5390, 'houses': 5391, 'shady': 5392, 'draped': 5393, 'mitt': 5394, 'traditional': 5395, 'knee-high': 5396, 'navel': 5397, 'words': 5398, 'eastern': 5399, 'Arab': 5400, 'themed': 5401, 'dark-headed': 5402, 'Popsicle': 5403, 'smelling': 5404, 'smiff': 5405, 'behinds': 5406, 'skying': 5407, 'ski-suit': 5408, 'pincer': 5409, 'grenade': 5410, 'sleve': 5411, 'tuxedos': 5412, 'carpeted': 5413, 'Well': 5414, 'mid-leap': 5415, 'crystal-clear': 5416, 'cookies': 5417, 'cookie': 5418, 'satchel': 5419, 'suitcase': 5420, 'labelled': 5421, 'LUCKY': 5422, 'Lucky': 5423, 'overflowing': 5424, 'cash': 5425, 'missing': 5426, 'Caucasian': 5427, 'milk': 5428, 'spilled': 5429, 'Longhorns': 5430, 'undone': 5431, 'forwards': 5432, 'tasting': 5433, 'potty-potty': 5434, 'awaiting': 5435, 'port-a-potty': 5436, 'port-o-john': 5437, 'potty': 5438, 'leapfrog': 5439, 'Winnie': 5440, 'Pool': 5441, 'Pooh': 5442, 'behing': 5443, 'tightrope': 5444, 'Dale': 5445, 'Jr.': 5446, 'posters': 5447, 'Earnhardt': 5448, 'rode': 5449, 'jogged': 5450, 'coastline': 5451, 'basement': 5452, 'maracas': 5453, 'tambourines': 5454, 'song': 5455, 'metropolitain': 5456, 'blank': 5457, 'explosion': 5458, 'occured': 5459, 'Flames': 5460, 'engulf': 5461, 'para-glider': 5462, 'Parachuter': 5463, 'operated': 5464, 'four-wheeled': 5465, 'smokestacks': 5466, 'sun-setting': 5467, 'hanglider': 5468, 'balconies': 5469, 'condominium': 5470, 'graffiti-heavy': 5471, 'neatly': 5472, 'trimmed': 5473, 'woody': 5474, 'tree-covered': 5475, 'Bearded': 5476, 'member': 5477, 'clergy': 5478, 'priest': 5479, 'Priest': 5480, 'tramples': 5481, 'stepped': 5482, 'shielding': 5483, 'trampled': 5484, 'Whoa': 5485, 'hoofs': 5486, 'joins': 5487, 'conoes': 5488, 'groups': 5489, 'boating': 5490, 'frolicking': 5491, 'oversized': 5492, 'Bull': 5493, 'Energy': 5494, 'Drink': 5495, 'Redbull': 5496, 'GI': 5497, 'fatigues': 5498, 'soldier': 5499, 'march': 5500, 'banners': 5501, 'representing': 5502, 'times': 5503, 'judge': 5504, 'baring': 5505, 'outstreched': 5506, 'cavorts': 5507, 'lollipop': 5508, 'unoccupied': 5509, 'SANTANA': 5510, '57': 5511, 'sparsely': 5512, 'occupied': 5513, 'hitter': 5514, 'flyaway': 5515, 'daughters': 5516, 'grown': 5517, 'stack': 5518, 'tanning': 5519, 'sunbathe': 5520, 'bracing': 5521, 'guide': 5522, 'kit': 5523, 'breeze': 5524, 'tends': 5525, 'frying': 5526, 'pan': 5527, 'ornate': 5528, 'Spanish': 5529, 'ruin': 5530, 'ruins': 5531, 'abandoned': 5532, 'breastfeeding': 5533, 'suckles': 5534, 'pinwheel': 5535, 'oriential': 5536, 'long-sleeved': 5537, 'sill': 5538, 'windowsill': 5539, 'vents': 5540, 'clowds': 5541, 'Volkswagen': 5542, 'Bug': 5543, 'vintage': 5544, 'admired': 5545, 'lime': 5546, 'bug': 5547, '\"In': 5548, 'we': 5549, 'beetle': 5550, 'coupe': 5551, 'autos': 5552, 'South': 5553, 'tankini': 5554, 'poised': 5555, 'paralell': 5556, 'medow': 5557, 'divided': 5558, 'clover-filled': 5559, 'retriving': 5560, 'netting': 5561, 'dandilions': 5562, 'cereal': 5563, 'flaps': 5564, 'hearts': 5565, 'lawnchair': 5566, 'turnaround': 5567, 'sun-dappled': 5568, 'sombody': 5569, 'adjusts': 5570, 'aggressive': 5571, 'fit': 5572, 'skill': 5573, 'entertains': 5574, 'mime': 5575, 'overweight': 5576, 'gray-haired': 5577, 'lavendar': 5578, 'pooh': 5579, 'eatery': 5580, 'bespectacled': 5581, 'mothers': 5582, 'fiels': 5583, 'black-shirt': 5584, 'Brunette': 5585, 'hosed': 5586, 'Acrobatic': 5587, 'entertainers': 5588, 'midget': 5589, 'bowler': 5590, 'acrobatics': 5591, 'henna': 5592, 'paperwork': 5593, 'rack': 5594, 'magazines': 5595, 'browsing': 5596, 'monk': 5597, 'swimsuites': 5598, 'twirling': 5599, 'streamers': 5600, 'love': 5601, 'language': 5602, 'pumped': 5603, 'bended': 5604, 'strength': 5605, 'flexing': 5606, 'noodle': 5607, 'fairground': 5608, 'Gothic': 5609, 'athlete': 5610, 'launching': 5611, 'vault': 5612, 'vaulting': 5613, 'vaulter': 5614, 'clearing': 5615, 'picnickers': 5616, 'sunbathing': 5617, 'call': 5618, 'leaned': 5619, 'hankerchief': 5620, 'pompadour': 5621, 'completing': 5622, 'fitness': 5623, 'excercise': 5624, 'hairy': 5625, 'learns': 5626, 'goose': 5627, 'rollerblader': 5628, 'grinds': 5629, 'dried': 5630, 'Gigolo': 5631, 'GIGOLO': 5632, 'rugby': 5633, 'leaped': 5634, 'effort': 5635, 'loan': 5636, 'participates': 5637, 'nipple': 5638, 'nipples': 5639, 'peirced': 5640, 'tanned': 5641, 'piercings': 5642, 'crazily': 5643, 'shallows': 5644, 'ollies': 5645, 'canopy': 5646, 'Band': 5647, 'roughly': 5648, 'model': 5649, 'cloak': 5650, 'revealing': 5651, 'extravagant': 5652, 'dress\"': 5653, 'cape\"': 5654, 'county': 5655, 'herd': 5656, 'whipping': 5657, 'causing': 5658, 'pavillion': 5659, 'lunches': 5660, 'compound': 5661, 'powder': 5662, 'false': 5663, 'swordfight': 5664, 'dueling': 5665, 'insect': 5666, 'dye': 5667, 'critter': 5668, 'Distant': 5669, 'red-haired': 5670, 'scarily': 5671, 'tartan': 5672, '-ependent': 5673, 'ones': 5674, 'slab': 5675, 'howling': 5676, 'dogs\"': 5677, 'soaker': 5678, 'amazed': 5679, 'scanner': 5680, 'chubby': 5681, 'skin': 5682, 'sands': 5683, 'divers': 5684, 'puddles': 5685, 'counry': 5686, 'Skater': 5687, 'nails': 5688, 'gesturing': 5689, 'awkward': 5690, 'streetpole': 5691, 'tear': 5692, 'sparse': 5693, 'tattered': 5694, 'West': 5695, 'Highland': 5696, 'dozes': 5697, 'Genetic': 5698, 'Freak': 5699, 'snout': 5700, 'broadly': 5701, 'classes': 5702, 'booths': 5703, 't-shirts': 5704, 'afghan': 5705, 'short-haired': 5706, 'pointer': 5707, 'Window': 5708, 'blog': 5709, 'tug-o-war': 5710, 'collapsed': 5711, 'jets': 5712, 'Beige': 5713, 'bulls': 5714, 'Cows': 5715, 'Hundreds': 5716, 'partake': 5717, 'bull-run': 5718, 'specialized': 5719, 'award': 5720, 'pinned': 5721, 'displays': 5722, 'awards': 5723, 'ponytails': 5724, \"tikes'\": 5725, 'bandage': 5726, 'bandages': 5727, 'shadows': 5728, 'depicting': 5729, 'blonde-haired': 5730, 'tank-top': 5731, 'Thank': 5732, 'You': 5733, 'angel': 5734, 'biscuit': 5735, 'milkbone': 5736, 'mature': 5737, 'shorthair': 5738, 'shields': 5739, 'recieving': 5740, 'pressure': 5741, 'payer': 5742, 'vie': 5743, 'picket': 5744, 'blond-haired': 5745, 'sari': 5746, 'thows': 5747, 'freestyle': 5748, 'suspiciously': 5749, 'heeled': 5750, 'retreiver': 5751, 'tagged': 5752, 'fielder': 5753, 'capture': 5754, 'Hummer': 5755, 'BMW': 5756, 'smirks': 5757, 'dimpled': 5758, 'nubby': 5759, 'cylinder': 5760, 'spays': 5761, 'forehead': 5762, 'cushions': 5763, 'goods': 5764, 'possessions': 5765, 'oars': 5766, 'column': 5767, 'Cyclists': 5768, 'aqua-colored': 5769, 'vat': 5770, 'discovery': 5771, 'incoming': 5772, 'crudely': 5773, 'onlooker': 5774, 'Skateboarders': 5775, 'bulging': 5776, 'drivers': 5777, 'directs': 5778, 'demonstarting': 5779, 'steer': 5780, 'wristwatch': 5781, 'curious': 5782, 'ZARA': 5783, 'Zara': 5784, 'billboard': 5785, 'present': 5786, 'stroll': 5787, 'kept': 5788, 'exotic': 5789, 'passenger': 5790, 'system': 5791, 'dance-floor': 5792, 'firends': 5793, 'flamboyantly': 5794, 'featuring': 5795, 'hundreds': 5796, 'tuft': 5797, 'contents': 5798, 'steering': 5799, 'horn': 5800, 'forelegs': 5801, 'Sand': 5802, 'aerial': 5803, 'toe': 5804, 'toe-touch': 5805, 'toes': 5806, 'pink-bottomed': 5807, 'soled': 5808, 'defecating': 5809, 'pooping': 5810, 'duffel': 5811, 'grss': 5812, 'squeak': 5813, 'shivering': 5814, 'shivers': 5815, '\"Girl': 5816, 'strolls': 5817, 'flapping': 5818, 'longeared': 5819, 'Infant': 5820, 'lime-green': 5821, 'flop': 5822, 'flip-flop': 5823, 'foamy': 5824, 'frizzy': 5825, 'slide\"': 5826, 'fireworks': 5827, 'glow': 5828, 'necklaces': 5829, 'around\"': 5830, '4-wheel': 5831, '4-wheeler': 5832, 'fastened': 5833, 'tow-rope': 5834, 'becomes': 5835, 'copper': 5836, '\"Wearing': 5837, 'hoolahoops': 5838, 'Riders': 5839, 'enjoyment': 5840, 'descent': 5841, 'flume': 5842, 'rollercoaster': 5843, 'excersizing': 5844, 'gorgeous': 5845, 'rottweiller': 5846, 'stair': 5847, 'puppet': 5848, 'mobile': 5849, 'pastry': 5850, 'doughnut': 5851, 'Fall': 5852, 'return': 5853, 'schools': 5854, 'campus': 5855, 'tobaggons': 5856, 'saucers': 5857, 'disks': 5858, 'brindle': 5859, 'pilings': 5860, 'waterside': 5861, 'visitors': 5862, 'Tattoed': 5863, 'seahorse': 5864, 'gettnig': 5865, 'noses': 5866, 'emerge': 5867, '\"Motorcycle': 5868, 'ridge': 5869, 'wristband': 5870, 'patterened': 5871, '\"Near': 5872, 'Tall': 5873, 'navigates': 5874, 'roots': 5875, 'bodyboard': 5876, 'boogie-board': 5877, 'interior': 5878, 'catholic': 5879, 'religious': 5880, 'Pictures': 5881, 'captured': 5882, 'senior': 5883, 'mill': 5884, 'sling': 5885, 'Above': 5886, 'skydiving': 5887, 'sky-diving': 5888, 'Skydivers': 5889, 'cascading': 5890, 'drooling': 5891, 'barettes': 5892, 'hairclips': 5893, 'screaming': 5894, 'boundary': 5895, 'lip': 5896, 'paddled': 5897, 'canooers': 5898, 'conifers': 5899, 'waterful': 5900, 'waking': 5901, 'accordion': 5902, 'dad': 5903, 'celebrates': 5904, 'via': 5905, 'web': 5906, 'cam': 5907, 'Looks': 5908, 'celebrate': 5909, 'slice': 5910, 'special': 5911, 'advertisment': 5912, 'spreading': 5913, 'low-cut': 5914, 'weiner': 5915, 'wharfs': 5916, 'Wharf': 5917, 'ferry': 5918, 'terminal': 5919, 'wharf': 5920, 'profusely': 5921, 'dumping': 5922, 'squints': 5923, 'rails': 5924, 'outcroping': 5925, 'belted': 5926, 'bungee-jumping': 5927, 'cables': 5928, 'bands': 5929, 'monkey-bars': 5930, 'African-american': 5931, 'zip-line': 5932, 'policemen': 5933, 'officers': 5934, 'patroling': 5935, 'Policemen': 5936, 'flinging': 5937, 'dripping': 5938, 'whips': 5939, 'chopsticks': 5940, 'sushi': 5941, 'Budweiser-sponsored': 5942, 'accelerates': 5943, 'dragster': 5944, 'Budweiser': 5945, 'sprint': 5946, 'speedway': 5947, 'Smoke': 5948, 'spewing': 5949, 'sundown': 5950, 'ramps': 5951, 'Bike': 5952, 'Bmx': 5953, 'Jumps': 5954, 'surprised': 5955, 'window\"': 5956, 'badly': 5957, 'Bull-branded': 5958, 'Jesus': 5959, 'hell': 5960, 'Hell': 5961, 'prizes': 5962, 'blown-up': 5963, 'demonstrating': 5964, 'avoids': 5965, 'Beijing': 5966, 'Olympics': 5967, 'roller-coaster': 5968, 'shored': 5969, 'lack': 5970, 'regains': 5971, 'composure': 5972, 'trailing': 5973, 'completes': 5974, 'hula-hoop': 5975, 'alotment': 5976, 'trick\"': 5977, '\"Bike': 5978, 'clibing': 5979, 'festive': 5980, 'piling': 5981, 'equipments': 5982, 'seaguls': 5983, 'gren': 5984, 'pails': 5985, 'telescope': 5986, 'Land': 5987, 'Rover': 5988, 'woodlands': 5989, 'roll': 5990, 'spool': 5991, 'cable': 5992, 'pice': 5993, 'machinery': 5994, 'strawberry': 5995, 'turtle': 5996, 'tortoise': 5997, 'berry': 5998, 'fed': 5999, 'astride': 6000, 'clips': 6001, 'carabiner': 6002, 'hooking': 6003, 'attaching': 6004, 'attaches': 6005, 'rover': 6006, 'automobile': 6007, 'beyond': 6008, 'gates': 6009, 'peer': 6010, 'numeral': 6011, 'slices': 6012, 'card': 6013, 'sales': 6014, 'merchant': 6015, 'umbrella\"': 6016, 'mullet': 6017, 'unique': 6018, 'moss': 6019, 'Seated': 6020, '25': 6021, 'university': 6022, 'standind': 6023, 'fig': 6024, 'tournament': 6025, 'lifeboat': 6026, 'released': 6027, 'rushed': 6028, 'alcohol': 6029, 'churning': 6030, 'coarse': 6031, 'ratty': 6032, 'elbow': 6033, 'unfinished': 6034, 'trucks': 6035, 'any': 6036, 'Gators': 6037, 'closer': 6038, 'passerby': 6039, 'annoyed': 6040, 'stockcar': 6041, 'guardrail': 6042, 'Rollerblader': 6043, 'retrive': 6044, 'It': 6045, 'shark': 6046, 'halfway': 6047, 'swam': 6048, 'videotaping': 6049, 'record': 6050, 'Styrofoam': 6051, 'banjo': 6052, 'agency': 6053, 'pursuing': 6054, 'swing-type': 6055, 'sleek': 6056, 'passenager': 6057, 'sidecar': 6058, 'Players': 6059, 'scuffle': 6060, '\"Nine': 6061, 'versus': 6062, 'skins': 6063, 'powerful': 6064, 'awkwardly': 6065, 'blocked': 6066, 'Number': 6067, 'pensively': 6068, 'thinks': 6069, 'jetskiing': 6070, 'shews': 6071, 'Russel': 6072, 'muzzle\"': 6073, 'midstride': 6074, 'cartoon': 6075, 'dreeds': 6076, 'observe': 6077, 'crane': 6078, '\"Long-necked': 6079, 'grazes': 6080, 'ban': 6081, 'swaetshirt': 6082, 'greens': 6083, 'supermarket': 6084, 'products': 6085, 'produce': 6086, 'lettuce': 6087, 'smal': 6088, 'gold-colored': 6089, 'Casterol': 6090, 'branding': 6091, '\"trucks': 6092, '22': 6093, '29': 6094, 'Trucks': 6095, 'formula': 6096, 'drag': 6097, 'twilight': 6098, 'unspooled': 6099, 'infants': 6100, 'bicyclers': 6101, 'Lots': 6102, 'waterspout': 6103, 'perfomed': 6104, 'gap': 6105, 'closeby': 6106, 'rooftop': 6107, 'competitively': 6108, 'rollerblade': 6109, 'burst': 6110, 'experimenter': 6111, 'breathes': 6112, 'obscured': 6113, 'fireball': 6114, 'shading': 6115, 'protecting': 6116, 'wig': 6117, 'restaraunt': 6118, 'Slightly': 6119, 'Dobermans': 6120, 'pursued': 6121, 'inertia': 6122, 'collides': 6123, 'Hockey': 6124, 'collide': 6125, 'bumps': 6126, 'secured': 6127, 'crests': 6128, 'emerged': 6129, 'Rugby': 6130, 'Ruggers': 6131, 'become': 6132, 'seeing-eye': 6133, 'elementary': 6134, 'tugs': 6135, 'noce': 6136, 'shocked': 6137, 'when': 6138, 'straddle': 6139, 'splits': 6140, 'twos': 6141, 'monkeys': 6142, 'quarterpipe': 6143, 'Motorcycle': 6144, 'bump': 6145, '\"Empty': 6146, 'ponchos': 6147, 'lonely': 6148, 'otherwise': 6149, 'raincoats': 6150, 'devotion': 6151, '\"NFL': 6152, 'Fan': 6153, 'pillared': 6154, 'ten': 6155, 'classic-style': 6156, 'dropped': 6157, 'spouts': 6158, 'tourquoise': 6159, 'double': 6160, 'pokes': 6161, 'vast': 6162, 'controls': 6163, 'Bicyclist': 6164, 'filling': 6165, 'village': 6166, 'ladle': 6167, 'Yamaha': 6168, 'tawny': 6169, 'curiously': 6170, 'weave': 6171, 'nibbling': 6172, 'mouthing': 6173, '\"through': 6174, 'stump\"': 6175, 'otuside': 6176, 'V': 6177, 'given': 6178, 'rockstar': 6179, 'heavy-metal': 6180, 'lace-up': 6181, 'cobbled': 6182, 'marina': 6183, 'blasted': 6184, 'graying': 6185, 'sewing': 6186, 'attacks': 6187, 'wallride': 6188, 'youth': 6189, 'banister': 6190, 'metro': 6191, 'Firemen': 6192, 'firefighters': 6193, 'firemen': 6194, 'backflips': 6195, 'bikina': 6196, 'saroog': 6197, 'sarongs': 6198, 'tip': 6199, 'pinkish': 6200, 'rollerblades': 6201, 'vans': 6202, 'Funky': 6203, 'raced': 6204, 'pavilion': 6205, 'gushing': 6206, 'allowing': 6207, 'Youth': 6208, 'curvy': 6209, 'barrels': 6210, 'thorugh': 6211, 'courts': 6212, 'escape': 6213, 'holder': 6214, 'coaches': 6215, 'jersy': 6216, 'bluejeans': 6217, 'force': 6218, 'padel': 6219, 'pilots': 6220, 'riverrafting': 6221, 'challange': 6222, 'conversing': 6223, 'eyebrows': 6224, 'mid-speach': 6225, 'multi-piercings': 6226, 'battles': 6227, 'challenge': 6228, 'tonge': 6229, 'Motorcyclists': 6230, 'confused': 6231, 'grouchy': 6232, 'rippling': 6233, 'gound': 6234, 'surfboarder': 6235, 'Surfer': 6236, 'motorcyle': 6237, 'Motocross': 6238, 'peeing': 6239, 'urinating': 6240, 'pee': 6241, 'creates': 6242, 'croquette': 6243, '\"prarie': 6244, 'white\"': 6245, 'coyotes': 6246, 'dryed': 6247, 'bunk': 6248, 'chair-swing': 6249, 'skatepark': 6250, 'Airplane': 6251, 'cockpit': 6252, 'plane': 6253, 'dashboard': 6254, 'vessel': 6255, 'proped': 6256, 'canoers': 6257, 'moutain': 6258, 'extreme': 6259, 'graffiti-covered': 6260, 'strides': 6261, 'remaining': 6262, 'wants': 6263, 'last': 6264, 'perforced': 6265, 'pyramid': 6266, 'masonry': 6267, 'Eight': 6268, 'innertubes': 6269, 'situated': 6270, 'victory': 6271, 'misspelled': 6272, 'mid-afternoon': 6273, 'fanning': 6274, 'sports-field': 6275, 'muffler': 6276, 'sparks': 6277, 'exhaust': 6278, 'bursting': 6279, '\"Athlete': 6280, 'EASTPAK': 6281, 'stunt-bicyclist': 6282, 'air\"': 6283, 'helicopter': 6284, 'fiery': 6285, 'colourfully': 6286, 'jewels': 6287, 'bra': 6288, 'Costumed': 6289, 'pigeon': 6290, '21': 6291, '\"rollerblader': 6292, 'steps\"': 6293, 'Swimmer': 6294, 'employees': 6295, 'dresswear': 6296, 'dishtowel': 6297, 'Pink': 6298, 'pillowcase': 6299, 'PitBull': 6300, 'thousand': 6301, 'hundred': 6302, 'thirty': 6303, 'identifier': 6304, '\"Gray': 6305, 'topples': 6306, 'pedal': 6307, '3-wheeler': 6308, 'throught': 6309, 'sailboard': 6310, 'tilting': 6311, 'Jockey': 6312, 'Long-haired': 6313, 'bolts': 6314, 'sweatshirts': 6315, 'miniskirts': 6316, 'Verizon': 6317, 'minivan': 6318, 'Lights': 6319, '\"Minivan': 6320, 'scantily-clad': 6321, 'possibly': 6322, 'nose-deep': 6323, 'fluorescent': 6324, 'Somone': 6325, 'loader': 6326, 'congregation': 6327, 'worshipping': 6328, 'temple': 6329, 'worshippers': 6330, 'producing': 6331, 'scraping': 6332, 'pumpkins': 6333, 'paintball': 6334, 'splatter': 6335, 'splattered': 6336, 'grey-suited': 6337, 'admires': 6338, 'shell': 6339, 'conch': 6340, 'viewer': 6341, 'bodyless': 6342, 'involved': 6343, 'examined': 6344, 'tale': 6345, 'HELL': 6346, 'crooswalk': 6347, 'spell': 6348, 'dolly': 6349, 'ate': 6350, 'loses': 6351, 'sailboarder': 6352, '1': 6353, 'missed': 6354, 'clap': 6355, 'excersise': 6356, 'slighty': 6357, 'linked': 6358, 'apparently': 6359, 'pitbulls': 6360, 'participant': 6361, '\"Soccer': 6362, 'coliding': 6363, 'team\"': 6364, '\"Football': 6365, 'whit': 6366, 'disabled': 6367, 'air-filled': 6368, 'dunes': 6369, 'Mitsubishi': 6370, 'blueish': 6371, 'sprinkling': 6372, 'roads': 6373, 'directly': 6374, 'motor': 6375, 'Bicycle': 6376, 'baggage': 6377, '11': 6378, 'Grayish': 6379, '\"Rabbit': 6380, 'bunnies': 6381, 'rabbits': 6382, 'halmets': 6383, 'wiping': 6384, 'wipes': 6385, 'adolescents': 6386, 'patchy': 6387, 'bikins': 6388, 'wall-ride': 6389, 'wrinkley': 6390, 'breakdancer': 6391, 'excitement': 6392, 'balanced': 6393, 'one-handed': 6394, 'swimwear': 6395, 'floaters': 6396, 'partition': 6397, 'lost': 6398, 'intensely': 6399, 'all-white': 6400, '\"Gray-haired': 6401, 'react': 6402, 'bordering': 6403, 'autumnal': 6404, 'dumpsters': 6405, 'sight': 6406, 'separated': 6407, 'entering': 6408, 'colliding': 6409, 'rush': 6410, 'trams': 6411, 'lasso': 6412, 'calf': 6413, 'cowboys': 6414, 'lassos': 6415, 'hustle': 6416, 'controlling': 6417, 'passageway': 6418, 'packs': 6419, 'winning': 6420, 'Jumping': 6421, 'clutching': 6422, 'touchdown': 6423, 'florist': 6424, 'ethnic': 6425, 'speakers': 6426, 'saris': 6427, 'brow': 6428, 'steamboat': 6429, 'exploring': 6430, 'riverboat': 6431, 'draw': 6432, 'lioness': 6433, 'prey': 6434, 'bison': 6435, 'wildebeest': 6436, 'brass': 6437, 'jazz': 6438, 'saxaphones': 6439, '\"young': 6440, 'Batman': 6441, 'dons': 6442, 'protect': 6443, 'ladie': 6444, 'untangles': 6445, 'puck': 6446, 'exception': 6447, 'singer': 6448, 'belts': 6449, 'tune': 6450, 'headlights': 6451, 'haystacks': 6452, 'bodysuit': 6453, 'trackside': 6454, 'graffti': 6455, 'stylish': 6456, 'smartly': 6457, 'nicely': 6458, 'stuntman': 6459, 'crumbling': 6460, 'fend': 6461, 'soocerball': 6462, 'battle': 6463, 'argues': 6464, 'striking': 6465, 'archways': 6466, 'arches': 6467, 'curtain': 6468, 'quarry': 6469, 'worried': 6470, 'keeling': 6471, 'jack-o-lantern': 6472, 'dump': 6473, 'pour': 6474, 'poured': 6475, 'zombies': 6476, 'Everybody': 6477, 'zombie': 6478, 'horro': 6479, 'bloodied': 6480, 'haloween': 6481, 'resembles': 6482, 'visits': 6483, 'Amish': 6484, '\"Amish': 6485, 'sect': 6486, 'social': 6487, 'orange-clad': 6488, 'keeping': 6489, 'challenging': 6490, 'ad': 6491, 'guarded': 6492, 'United': 6493, 'States': 6494, 'windshield': 6495, 'ax': 6496, 'wielding': 6497, '\"Cricket': 6498, 'kneepads': 6499, 'stamds': 6500, '\"Lady': 6501, 'pring': 6502, 'joust': 6503, 'jousting': 6504, 'Parade': 6505, 'horsemen': 6506, 'slicker': 6507, 'handling': 6508, 'DOWN': 6509, 'AND': 6510, 'OUT': 6511, 'buss': 6512, 'London': 6513, 'Sightseeing': 6514, 'ferrett': 6515, 'personnel': 6516, 'stomachs': 6517, 'Military': 6518, 'cemetery': 6519, 'stereo': 6520, 'wetsuits': 6521, 'proud': 6522, 'fetched': 6523, 'black-clad': 6524, 'Odeon': 6525, '\"Girls': 6526, 'ODEON': 6527, 'chops': 6528, 'preserves': 6529, 'stocky': 6530, 'stalks': 6531, 'piles': 6532, 'husk': 6533, 'camcorder': 6534, 'films': 6535, 'enjoyable': 6536, 'bleached': 6537, 'plugging': 6538, 'Pac-man': 6539, 'Obama': 6540, 'Cheerleaders': 6541, 'desolate': 6542, '08': 6543, 'campaign': 6544, 'supporter': 6545, '2008': 6546, 'presidential': 6547, 'election': 6548, 'Biden': 6549, 'Presidential': 6550, 'candidate': 6551, 'mate': 6552, 'democrat': 6553, 'supporters': 6554, 'political': 6555, 'Chris': 6556, 'Gregoire': 6557, 'heritage': 6558, 'bone': 6559, '\"Average': 6560, 'everyday': 6561, 'cop': 6562, 'handgun': 6563, 'port': 6564, 'john': 6565, 'port-o-potties': 6566, 'mop': 6567, 'portable': 6568, 'toilets': 6569, 'port-a-potties': 6570, 'bathrooms': 6571, 'Barack': 6572, 'touts': 6573, 'Riwal': 6574, 'raceway': 6575, 'united': 6576, 'states': 6577, 'celebratory': 6578, 'yell': 6579, 'streched': 6580, 'brides': 6581, 'gowns': 6582, 'Line': 6583, 'headlong': 6584, 'knoll': 6585, 'badminton': 6586, 'freefall': 6587, 'coordinator': 6588, 'holey': 6589, 'whiffle': 6590, 'blasts': 6591, 'sending': 6592, 'upstream': 6593, 'swan': 6594, 'unfurling': 6595, 'swans': 6596, 'jeeps': 6597, 'Jeeps': 6598, 'villages': 6599, '\"Outdoor': 6600, 'baseman': 6601, 'prom': 6602, 'flyer': 6603, 'promotional': 6604, 'marks': 6605, 'stains': 6606, 'footbride': 6607, 'Disney': 6608, 'vista': 6609, 'highland': 6610, 'Movers': 6611, 'amused': 6612, 'passers': 6613, 'story': 6614, 'second-story': 6615, 'pulleys': 6616, 'prop': 6617, 'blood': 6618, 'hunter': 6619, 'characters': 6620, 'Michael': 6621, 'Jackson': 6622, 'Thriller': 6623, 'bloody': 6624, 'explorer': 6625, 'starlet': 6626, 'accompanied': 6627, 'glee': 6628, 'Ring': 6629, 'barb-wire': 6630, 'barb': 6631, 'poor': 6632, 'architectural': 6633, 'fortess': 6634, 'knocking': 6635, 'Cyclist': 6636, 'entangled': 6637, 'fiddle': 6638, 'wmoan': 6639, 'onrushing': 6640, 'stools': 6641, 'counters': 6642, '\"During': 6643, 'element': 6644, '\"Shirtless': 6645, 'blurring': 6646, '\"Racing': 6647, '\"Distant': 6648, 'athelete': 6649, 'handcrank': 6650, 'crank': 6651, 'withering': 6652, 'scampers': 6653, 'readies': 6654, 'bodies': 6655, 'exterior': 6656, 'decorative': 6657, 'in-synch': 6658, 'pasts': 6659, 'Redskins': 6660, 'scare': 6661, 'universal': 6662, 'Touchdown': 6663, 'color-block': 6664, 'bedspread': 6665, 'Killer': 6666, 'whales': 6667, 'Orca': 6668, 'seaworld': 6669, 'bangles': 6670, 'India': 6671, 'safron': 6672, 'sifting': 6673, 'tripped': 6674, 'garb': 6675, 'waterpark': 6676, 'Minor': 6677, 'baseball\"': 6678, 'looker': 6679, 'spill': 6680, 'zipping': 6681, 'slips': 6682, 'accident': 6683, 'piggy': 6684, 'halves': 6685, 'fairies': 6686, 'mouthpiece': 6687, 'cavorting': 6688, 'windsurfing': 6689, 'wind-surfer': 6690, 'atomic': 6691, 'enlarged': 6692, 'carpenters': 6693, 'protesters': 6694, 'moped': 6695, 'bicylist': 6696, 'thinking': 6697, 'pensive': 6698, 'romps': 6699, 'Middle-aged': 6700, 'backless': 6701, 'bare-back': 6702, 'sound': 6703, 'inspecting': 6704, 'smile\"': 6705, 'paperback': 6706, 'consulting': 6707, 'Numbered': 6708, 'billboards': 6709, 'recording': 6710, 'computers': 6711, 'monitors': 6712, 'videocameras': 6713, 'teacher': 6714, 'filmed': 6715, 'Lecture': 6716, 'atmosphere': 6717, 'parasurfs': 6718, 'khaki-colored': 6719, 'classroom': 6720, 'conference': 6721, 'involves': 6722, 'laptops': 6723, 'presentations': 6724, 'slideshow': 6725, 'perpendicular': 6726, 'reentry': 6727, 'entertainment': 6728, 'vampires': 6729, 'complete': 6730, 'vampire': 6731, 'goers': 6732, 'treck': 6733, 'alien': 6734, 'wigs': 6735, 'won': 6736, 'sun-shaped': 6737, 'Wolf': 6738, 'werewolf': 6739, 'elf': 6740, 'rapels': 6741, 'treetops': 6742, 'smock': 6743, 'debris': 6744, 'landfill': 6745, 'rubble': 6746, 'scramble': 6747, 'allowed': 6748, 'root': 6749, 'brownish-red': 6750, 'signer': 6751, 'collapsing': 6752, 'fights': 6753, 'kiyaking': 6754, 'punt': 6755, 'seagulls': 6756, 'Birds': 6757, 'fleeing': 6758, 'Seagulls': 6759, 'Waves': 6760, 'trundles': 6761, 'coaster-like': 6762, 'mechanisms': 6763, 'Rowers': 6764, 'furiously': 6765, 'bandaged': 6766, 'responders': 6767, 'jumpsuits': 6768, 'girl\"': 6769, 'Antics': 6770, 'measuring': 6771, 'crushed': 6772, 'demolished': 6773, 'railed': 6774, 'swordsman': 6775, 'wanders': 6776, 'playgroud': 6777, 'wipeout': 6778, 'ambulance': 6779, 'hauled': 6780, 'wrecked': 6781, 'Recked': 6782, 'flatbed': 6783, 'collision': 6784, 'Wrecked': 6785, 'plan': 6786, 'bi-plane': 6787, 'Ride': 6788, 'biplane': 6789, 'word': 6790, 'Mambo': 6791, 'humping': 6792, 'mambo': 6793, 'vine': 6794, 'bead': 6795, 'Tribal': 6796, 'Italian': 6797, 'attentively': 6798, 'watersports': 6799, 'seperated': 6800, 'apparatus': 6801, 'scared': 6802, 'suite': 6803, 'concentrates': 6804, 'footwork': 6805, 'gains': 6806, 'black-green': 6807, 'hers': 6808, 'tandom': 6809, 'biek': 6810, 'motivation': 6811, 'leader': 6812, 'Boat': 6813, 'cheered': 6814, 'gentlemen': 6815, 'Mexican': 6816, 'Mexico': 6817, 'needlepoint': 6818, 'tending': 6819, 'Abarrotes': 6820, 'Pokemon': 6821, 'Very': 6822, 'wetsuite': 6823, 'steeple': 6824, 'ashtray': 6825, 'sole': 6826, 'bowled': 6827, 'backbends': 6828, 'backstand': 6829, 'skims': 6830, 'vibrant': 6831, 'sparking': 6832, 'armoire': 6833, 'squad': 6834, 'then': 6835, 'drak': 6836, 'jungle-gym': 6837, 'seas': 6838, 'tipping': 6839, 'highschool': 6840, 'defended': 6841, 'velvet': 6842, 'black-rimmed': 6843, 'sentence': 6844, 'turban': 6845, 'Palestinian': 6846, 'Groups': 6847, 'Shows': 6848, 'raked': 6849, 'half-pipe': 6850, 'again': 6851, 'buffalo': 6852, 'creams': 6853, 'underhang': 6854, 'daredevil': 6855, 'reared': 6856, 'sisters': 6857, 'hallways': 6858, 'colapsable': 6859, 'us': 6860, '&': 6861, 'whispering': 6862, 'kimonos': 6863, 'geishas': 6864, 'whisper': 6865, 'wool': 6866, 'mitten': 6867, 'high-flying': 6868, 'forests': 6869, 'lakes': 6870, 'Gold': 6871, 'button-down': 6872, 'stange': 6873, 'snowploe': 6874, 'plow': 6875, 'plows': 6876, 'manually': 6877, 'him\"': 6878, 'tumbleweed': 6879, 'circles': 6880, 'embedded': 6881, 'brunettes': 6882, 'tv': 6883, 'suited': 6884, 'showgirls': 6885, 'foyer': 6886, 'bullhorn': 6887, 'megaphone': 6888, 'handkerchiefs': 6889, 'horn\"': 6890, 'trotted': 6891, 'crumb': 6892, 'skit': 6893, 'Samsung': 6894, 'SAMSUNG': 6895, '90': 6896, 'degrees': 6897, 'mingle': 6898, 'Athletes': 6899, 'Horses': 6900, 'Jockeys': 6901, 'jockeys': 6902, 'windsurf': 6903, 'surgical': 6904, 'angry': 6905, 'colonial': 6906, 'fashion': 6907, 'Victorian': 6908, 'hudge': 6909, 'Camera': 6910, 'populated': 6911, 'taping': 6912, 'extravagent': 6913, 'Thw': 6914, 'punch': 6915, 'Barefoot': 6916, '\"Large': 6917, 'prisoner': 6918, 'sexy': 6919, 'jailbird': 6920, 'Chrismas': 6921, 'takeing': 6922, 'session': 6923, 'chimes': 6924, 'strap': 6925, 'snapping': 6926, 'storefronts': 6927, 'ballerina': 6928, 'backstage': 6929, 'applies': 6930, 'tiara': 6931, 'eyeshadow': 6932, 'applying': 6933, 'saffron': 6934, 'solid': 6935, 'throughwindow': 6936, 'shutters': 6937, 'salt-and-pepper-haired': 6938, 'bow-like': 6939, 'Sharp': 6940, 'aside': 6941, 'ipods': 6942, 'mp3': 6943, 'sheepdogs': 6944, 'folds': 6945, 'dimond': 6946, 'anchored': 6947, 'unmanned': 6948, 'skids': 6949, 'Clause': 6950, 'escalator': 6951, 'statefarm.com': 6952, 'hovering': 6953, 'congregated': 6954, 'mills': 6955, 'chandelier': 6956, 'fancily': 6957, 'ractrack': 6958, 'black-robed': 6959, 'Orthodox': 6960, 'priests': 6961, 'glancing': 6962, 'traverses': 6963, 'tuxes': 6964, 'beverages': 6965, 'toast': 6966, 'bridesmaids': 6967, 'groomsmen': 6968, 'entire': 6969, 'red-dressed': 6970, 'aisle': 6971, 'Kingsworth': 6972, 'coal': 6973, 'protesting': 6974, '\"Protesters': 6975, 'NO': 6976, 'NEW': 6977, 'COAL': 6978, 'snowpile': 6979, 'Musicians': 6980, '\"Musicians': 6981, 'classical': 6982, 'packages': 6983, 'piloting': 6984, 'poling': 6985, 'boatload': 6986, 'underfoot': 6987, 'Professional': 6988, 'bumble': 6989, 'bee': 6990, 'character': 6991, 'wrists': 6992, 'Grand': 6993, 'Canyon': 6994, 'English': 6995, 'pub': 6996, 'doorstep': 6997, 'alligator': 6998, 'belongs': 6999, 'staue': 7000, 'hurrying': 7001, 'Tourists': 7002, 'fleeces': 7003, 'wintry': 7004, 'blooming': 7005, 'cropped': 7006, 'Fit': 7007, 'santas': 7008, 'clause': 7009, 'meditating': 7010, 'prayer': 7011, 'Religious': 7012, 'San': 7013, 'Diego': 7014, 'hunched': 7015, 'SAN': 7016, 'DIEGO': 7017, 'neat': 7018, 'wrestilng': 7019, 'dramatically': 7020, 'Half': 7021, 'facefirst': 7022, 'dresser': 7023, 'disturbed': 7024, 'mural': 7025, 'chinese': 7026, 'Flock': 7027, 'multi-cultural': 7028, 'assemble': 7029, 'chilly': 7030, 'tychy': 7031, 'miasto': 7032, 'scowls': 7033, 'grandmother': 7034, 'served': 7035, 'meal\"': 7036, 'placemats': 7037, 'Various': 7038, 'tanktops': 7039, 'Nitro': 7040, 'embroidered': 7041, 'soccor': 7042, 'leggings': 7043, 'similarly': 7044, 'cubicle': 7045, 'frolic': 7046, 'lopes': 7047, 'attach': 7048, 'forearm': 7049, 'vaste': 7050, 'rollerskater': 7051, 'competitors': 7052, 'bash': 7053, 'layered': 7054, 'motioning': 7055, 'McDonalds': 7056, 'McDonald': 7057, 'backseat': 7058, 'staffordshire': 7059, 'drumset': 7060, 'bobsled': 7061, 'kickflip': 7062, 'warehouse': 7063, '\"Airborne': 7064, 'cellphone\"': 7065, 'incense': 7066, 'burn': 7067, 'billowing': 7068, 'smoky': 7069, 'twig': 7070, 'Autumn': 7071, 'Mother': 7072, 'seafood': 7073, 'pursed': 7074, 'seaside': 7075, 'naturally': 7076, 'formed': 7077, 'apparantly': 7078, 'index': 7079, 'furious': 7080, 'pyrotechnics': 7081, 'explosive': 7082, 'effects': 7083, 'explosions': 7084, 'exposing': 7085, 'snow\"': 7086, '\"Dark': 7087, 'siluettes': 7088, 'surveying': 7089, 'indigo': 7090, 'passifier': 7091, 'four-wheel': 7092, 'blue-gray': 7093, 'pouncing': 7094, 'shiny': 7095, 'sweaters': 7096, 'stoppie': 7097, 'Deer': 7098, 'blond-hair': 7099, 'clump': 7100, 'retail': 7101, 'busines': 7102, 'closeout': 7103, 'Speedskater': 7104, 'swipes': 7105, 'coasts': 7106, 'defends': 7107, 'Fast': 7108, 'paced': 7109, 'helplessly': 7110, 'lay-up': 7111, '\"Miami': 7112, 'Clemson': 7113, 'in\"': 7114, 'podium': 7115, 'pedestal': 7116, 'indicating': 7117, 'expanding': 7118, 'strand': 7119, 'strung': 7120, 'falcon': 7121, 'pursues': 7122, 'rodent': 7123, 'flees': 7124, 'hawk': 7125, 'Falcon': 7126, 'closing': 7127, 'swoops': 7128, '\"Waterskier': 7129, 'surrounds': 7130, 'on\"': 7131, 'fanny': 7132, 'entrance': 7133, 'incredible': 7134, 'hulk': 7135, 'Claws': 7136, 'joke': 7137, 'disguise': 7138, 'disguises': 7139, 'nightlife': 7140, 'neither': 7141, 'metallic': 7142, 'sick': 7143, 'graffited': 7144, 'Fireworks': 7145, 'clasped': 7146, 'goalkeeper': 7147, 'goaltender': 7148, 'gallops': 7149, 'fireside': 7150, 'Christmastime': 7151, 'harvest': 7152, 'brave': 7153, 'evade': 7154, 'playmat': 7155, 'Adult': 7156, 'venue': 7157, 'orangish': 7158, 'boas': 7159, 'manequins': 7160, 'walkers': 7161, 'pinches': 7162, 'onsie': 7163, 'monitoring': 7164, 'Bohemian': 7165, 'basett': 7166, 'biscut': 7167, 'payphone': 7168, 'pay': 7169, 'apparel': 7170, 'venture': 7171, 'dunking': 7172, 'jostles': 7173, 'slam': 7174, 'Player': 7175, 'dunks': 7176, '33': 7177, 'erupts': 7178, 'firecracker': 7179, '\"fireworks': 7180, 'back\"': 7181, 'terrain\"': 7182, '\"Pale': 7183, 'downwards': 7184, 'dirtbikers': 7185, 'motor-cross': 7186, 'whites': 7187, 'pilot': 7188, 'wetland': 7189, 'fronds': 7190, 'reson': 7191, 'bits': 7192, 'darker': 7193, 'bag\"': 7194, 'ripping': 7195, '\"Basketball': 7196, '32': 7197, 'Hurricanes': 7198, 'gingerbread': 7199, 'straddling': 7200, 'Marching': 7201, 'percussionists': 7202, 'throat': 7203, 'choke': 7204, 'joking': 7205, 'stumbling': 7206, 'piste': 7207, 'condoms': 7208, 'paraphernalia': 7209, 'distribute': 7210, 'promting': 7211, 'website': 7212, 'acrouss': 7213, 'busying': 7214, 'mowed': 7215, 'aboriginal': 7216, 'paraglides': 7217, 'recliner': 7218, 'elephant': 7219, 'bright-colored': 7220, 'drap': 7221, 'elephants': 7222, 'turbans': 7223, 'pats': 7224, 'saddled': 7225, 'Choir': 7226, 'ensemble': 7227, 'save': 7228, 'telephot': 7229, 'lenses': 7230, 'tripods': 7231, 'Riding': 7232, 'patrollers': 7233, 'roller-blader': 7234, 'juggle': 7235, 'Skier': 7236, 'frosty': 7237, 'flakes': 7238, 'bad': 7239, 'tantrum': 7240, 'cigars': 7241, 'Goucho': 7242, 'moustaches': 7243, 'dancers': 7244, 'cigar': 7245, 'mogul': 7246, 'Cricket': 7247, 'tree-filled': 7248, 'branch\"': 7249, 'intot': 7250, 'Bird': 7251, 'Diners': 7252, 'Arabic': 7253, 'Inside': 7254, '\"many': 7255, 'texts': 7256, 'kakhi': 7257, 'SMU': 7258, 'accent': 7259, 'engulfed': 7260, 'Winter': 7261, 'rotary': 7262, 'dial': 7263, 'shirt\"': 7264, 'bears': 7265, 'prize': 7266, 'heron': 7267, 'pelican': 7268, 'sledder': 7269, 'preoccupied': 7270, 'middle-aged': 7271, 'dart': 7272, 'windsurfers': 7273, 'shredding': 7274, 'sweatshir': 7275, 'minding': 7276, 'portrate': 7277, 'scarfs': 7278, 'afternoon': 7279, 'flew': 7280, 'halfpipe': 7281, 'wrestlers': 7282, 'snowboards': 7283, 'toddles': 7284, 'headscarves': 7285, 'white-bearded': 7286, 'Gentleman': 7287, 'abs': 7288, 'unzipping': 7289, 'Kawasaki': 7290, 'paying': 7291, 'headwrap': 7292, 'THe': 7293, 'buoy': 7294, 'well-muscled': 7295, 'know': 7296, 'picure': 7297, 'referring': 7298, 'periods': 7299, 'lavender': 7300, 'angrily': 7301, 'suffering': 7302, 'motor-scooter': 7303, 'Team': 7304, 'hungry': 7305, 'browses': 7306, 'wii': 7307, 'beak': 7308, 'exits': 7309, 'deposited': 7310, 'contemplating': 7311, 'thought': 7312, 'chins': 7313, 'decorations': 7314, 'Judea': 7315, 'Those': 7316, 'blame': 7317, 'Israel': 7318, 'hypocrites': 7319, 'pristine': 7320, 'snowscapes': 7321, 'rock-strewn': 7322, 'alleyway': 7323, 'search': 7324, 'rescue': 7325, 'culprit': 7326, '\"Cheerleader': 7327, 'wipe': 7328, 'advances': 7329, 'dominant': 7330, 'pain': 7331, 'curls': 7332, 'ended': 7333, 'loser': 7334, 'nine': 7335, 'mantle': 7336, 'jaws': 7337, 'acoustic': 7338, 'cringes': 7339, 'oval': 7340, 'chainsaw': 7341, 'weilding': 7342, 'carves': 7343, 'Gnome': 7344, 'carving': 7345, 'coveralls': 7346, 'screening': 7347, 'changing': 7348, 'information': 7349, 'remove': 7350, 'replaces': 7351, 'marquee': 7352, 'changes': 7353, 'moniter': 7354, 'gift': 7355, 'chairlift': 7356, 'licked': 7357, 'hurridly': 7358, 'kimono': 7359, 'dwelling': 7360, 'advertisements': 7361, 'israei': 7362, 'Israeli': 7363, 'handkerchief': 7364, 'investigate': 7365, 'ignore': 7366, 'sledders': 7367, 'escorted': 7368, 'wed': 7369, 'wife': 7370, 'pastor': 7371, 'Newlyweds': 7372, 'curling': 7373, 'fastens': 7374, 'fixes': 7375, 'red-vested': 7376, 'tablet': 7377, 'God': 7378, 'judgement': 7379, 'Hands': 7380, 'cigarettes': 7381, 'picutre': 7382, 'icey': 7383, 'boatful': 7384, 'Rafters': 7385, 'river-rapids': 7386, 'iceskate': 7387, 'Chinese': 7388, 'dogsled': 7389, 'eleven': 7390, 'powerwashing': 7391, 'busk': 7392, 'downsteps': 7393, 'alter': 7394, 'main': 7395, 'slaloms': 7396, 'objects': 7397, 'draws': 7398, 'feel': 7399, 'school-aged': 7400, 'Roman': 7401, 'Candles': 7402, 'roman': 7403, 'flares': 7404, 'married': 7405, 'maids': 7406, 'competeition': 7407, 'helped': 7408, 'bridesmaid': 7409, 'waterhole': 7410, 'glacial': 7411, 'airtime': 7412, 'affectionately': 7413, 'romantically': 7414, 'romantic': 7415, 'exit': 7416, 'eroded': 7417, 'alcove': 7418, 'curving': 7419, 'showroom': 7420, 'Mini': 7421, 'Coopers': 7422, 'auto': 7423, 'windmill': 7424, 'stacked': 7425, 'create': 7426, 'tapped': 7427, 'mountaintops': 7428, 'DC': 7429, 'D.C.': 7430, 'bundled-up': 7431, 'towers': 7432, 'procession': 7433, 'amphitheater': 7434, 'beating': 7435, 'baskers': 7436, 'african-Americans': 7437, 'backset': 7438, 'spiritual': 7439, 'landmark': 7440, 'yoga': 7441, 'positions': 7442, 'torii': 7443, 'lighter-skinned': 7444, 'leopard': 7445, 'instructing': 7446, 'instructs': 7447, 'State': 7448, 'cards': 7449, 'Uno': 7450, 'UNO': 7451, 'reds': 7452, 'yellows': 7453, 'additional': 7454, 'flopping': 7455, 'sumo': 7456, 'thinner': 7457, 'umpire': 7458, 'sash': 7459, 'exposition': 7460, 'manuever': 7461, 'corral': 7462, 'pinstriped': 7463, 'Chicago': 7464, 'defense': 7465, 'professionally': 7466, 'blindfolds': 7467, 'Salvar': 7468, 'o': 7469, 'Planeta': 7470, 'O': 7471, 'Greenpeace': 7472, 'dalmation': 7473, 'propels': 7474, 'grayhound': 7475, 'sprinting': 7476, 'fire-dancer': 7477, 'water-filled': 7478, 'junction': 7479, 'mike': 7480, 'Eldery': 7481, 'interviewed': 7482, 'interviews': 7483, 'cycler': 7484, 'grey\"': 7485, 'magenta': 7486, 'reacts': 7487, 'constructed': 7488, 'Rockstar': 7489, 'dacshund': 7490, 'Father': 7491, 'swooping': 7492, 'eagle': 7493, 'progressively': 7494, 'Teenager': 7495, 'observing\"': 7496, 'photographers': 7497, 'interested': 7498, 'frayed': 7499, 'Cat': 7500, 'pawed': 7501, 'streches': 7502, 'Gatorade': 7503, 'contorts': 7504, 'Ballplayer': 7505, '93': 7506, 'snoring': 7507, 'knelt': 7508, 'vine-covered': 7509, 'fast-food': 7510, 'cheeseburger': 7511, 'encouraging': 7512, 'scores': 7513, 'Goal': 7514, '\"Women': 7515, 'streetlamp': 7516, 'Inline': 7517, 'prison': 7518, 'zippered': 7519, 'ability': 7520, 'heights': 7521, 'tobaggan': 7522, 'idea': 7523, 'crosswalks': 7524, 'policeperson': 7525, 'id': 7526, 'badges': 7527, 'visitor': 7528, 'smoked': 7529, 'lionist': 7530, 'lion': 7531, 'Cougar': 7532, 'factory': 7533, 'streetlights': 7534, 'bicycling': 7535, 'sum': 7536, 'competiting': 7537, 'competiton': 7538, 'deciding': 7539, 'menu': 7540, 'soup': 7541, 'upclose': 7542, 'self-portrait': 7543, 'blurs': 7544, 'oppose': 7545, 'left\"': 7546, 'winter-gear': 7547, 'historic': 7548, 'solo': 7549, '\"Outdoors': 7550, 'pugs': 7551, 'Pugs': 7552, 'Nine': 7553, 'limousine': 7554, 'limo': 7555, 'hackey': 7556, 'easily': 7557, 'Trumpet': 7558, 'trombone': 7559, 'shaving': 7560, 'saw': 7561, 'long-spandex': 7562, 'squirrel': 7563, 'musher': 7564, 'waing': 7565, 'lockers': 7566, 'locker': 7567, 'black-haired': 7568, 'convention': 7569, 'respectively': 7570, 'puzzled': 7571, '\"Oriental': 7572, 'backback': 7573, 'German-shepherd': 7574, 'human-size': 7575, 'exercise-wheel': 7576, 'standard': 7577, 'jog': 7578, 'anciet': 7579, 'attemping': 7580, 'cube': 7581, 'US': 7582, 'snowballs': 7583, 'glvoes': 7584, 'tells': 7585, 'secret': 7586, 'slender': 7587, 'cadet': 7588, 'properly': 7589, 'planks': 7590, 'dense': 7591, 'swimcap': 7592, 'torso-deep': 7593, 'hoist': 7594, 'Multiple': 7595, 'headcover': 7596, 'adjust': 7597, 'setup': 7598, 'worked': 7599, 'schoolgirl': 7600, 'schoolboy': 7601, 'production': 7602, 'shots': 7603, 'ca': 7604, 'ZCHTV': 7605, 'footage': 7606, 'reported': 7607, 'interviewing': 7608, 'crewmen': 7609, 'supervise': 7610, 'Stunt': 7611, 'identification': 7612, 'Racedog': 7613, 'rectangle': 7614, 'photograhi': 7615, 'equpitment': 7616, 'monitor': 7617, 'equpiment': 7618, 'antenna': 7619, 'flatscreen': 7620, 'Backyard': 7621, 'Babies': 7622, 'projector': 7623, 'lecturer': 7624, '30': 7625, 'operates': 7626, 'tiretracks': 7627, '13': 7628, 'confrontation': 7629, 'confronting': 7630, 'checkerboard': 7631, 'performers': 7632, 'checker': 7633, 'entertaining': 7634, 'pressing': 7635, 'defend': 7636, 'caucasion': 7637, 'fencers': 7638, 'duel': 7639, 'comfortable': 7640, 'eyeglasses': 7641, 'guidewire': 7642, 'proximity': 7643, 'headlight': 7644, 'motocycle': 7645, 'cattails': 7646, 'dodging': 7647, 'hot-air': 7648, 'inflating': 7649, 'pecks': 7650, 'Chicken': 7651, 'pecking': 7652, 'cautiously': 7653, 'sure': 7654, 'apartments': 7655, 'roofs': 7656, 'Sumo': 7657, 'Patrons': 7658, 'siren': 7659, 'thatched': 7660, 'outwards': 7661, 'refrigerator': 7662, 'Singer': 7663, 'sang': 7664, 'bicyler': 7665, 'Picture': 7666, 'U': 7667, 'U.': 7668, 'violinist': 7669, 'Performers': 7670, 'surfaces': 7671, 'stroke': 7672, 'variety': 7673, 'folks': 7674, 'ignores': 7675, 'Suprised': 7676, 'blockers': 7677, 'chipmunk': 7678, 'untouched': 7679, 'railway': 7680, 'newspapers': 7681, 'flighht': 7682, 'manicured': 7683, 'Live': 7684, 'cabana': 7685, 'silhouettes': 7686, 'ovals': 7687, 'lettering': 7688, 'dear': 7689, 'Doe': 7690, 'comforter': 7691, 'planting': 7692, 'antennae': 7693, 'headbands': 7694, 'brown-and-white': 7695, 'acroos': 7696, 'snowfield': 7697, 'cook': 7698, 'permed': 7699, 'client': 7700, 'salon': 7701, 'perm': 7702, 'suggestive': 7703, 'revel': 7704, 'halway': 7705, 'PORT': 7706, 'DU': 7707, 'CASQUE': 7708, 'OBLIGATOIRE': 7709, 'piggy-back': 7710, 'walkng': 7711, 'turkey': 7712, 'roosters': 7713, '\"Puppies': 7714, 'interact': 7715, 'ls': 7716, 'cups': 7717, 'nametags': 7718, 'rock-climber': 7719, 'perches': 7720, 'half-way': 7721, 'pitted': 7722, 'napping': 7723, 'sveral': 7724, 'warning': 7725, 'clack': 7726, 'Fuzzy': 7727, 'concentrating': 7728, 'North': 7729, 'Carolina': 7730, 'gauntlet': 7731, 'Radio': 7732, 'radio': 7733, 'Free': 7734, 'Hug': 7735, 'advertizing': 7736, 'say': 7737, 'lanterns': 7738, 'borader': 7739, 'Burka': 7740, 'vocabulary': 7741, 'blackboard': 7742, 'chalkboard': 7743, 'student': 7744, 'teach': 7745, 'Africans': 7746, 'tribal': 7747, 'jugs': 7748, 'origin': 7749, 'colecting': 7750, 'common': 7751, 'comforting': 7752, 'consoling': 7753, 'Rotweiler': 7754, 'hit\"': 7755, 'perfors': 7756, 'rust': 7757, 'holing': 7758, 'protected': 7759, 'fending': 7760, 'look-alike\"': 7761, 'greyish-brown': 7762, 'Weimeraners': 7763, 'shoulder-deep': 7764, 'flippers': 7765, 'buttoned': 7766, 'fashionably': 7767, 'records': 7768, 'cds': 7769, 'Shoppers': 7770, 'curl': 7771, 'beaks': 7772, 'scrap': 7773, 'Competing': 7774, 'huskey': 7775, 'backing': 7776, 'bumpy': 7777, 'utility': 7778, 'Narrow': 7779, 'streetway': 7780, 'all-male': 7781, 'tutus': 7782, 'include': 7783, 'guitars': 7784, 'gust': 7785, 'flurry': 7786, 'canon': 7787, 'gnaws': 7788, 'troupe': 7789, 'ballons': 7790, 'signage': 7791, 'griding': 7792, 'outfitted': 7793, 'He': 7794, 'lavish': 7795, 'Crowds': 7796, 'Racers': 7797, 'rebound': 7798, 'figures': 7799, 'seedoo': 7800, 'scooters': 7801, 'clover': 7802, '-': 7803, 'mosque': 7804, 'mosque-like': 7805, 'squares': 7806, 'trekkies': 7807, 'unsual': 7808, 'Domino': 7809, 'Pizza': 7810, 'local': 7811, 'reflects': 7812, 'woods\"': 7813, 'god': 7814, 'inspect': 7815, 'wisks': 7816, 'barechested': 7817, 'charges': 7818, 'Rodeo': 7819, 'charging': 7820, 'rips': 7821, 'stork': 7822, 'donations': 7823, 'pressed': 7824, 'grasp': 7825, 'Wrestlers': 7826, 'Stop': 7827, 'shot-on-goal': 7828, 'knocked': 7829, 'circumvents': 7830, 'jumpinjg': 7831, 'clasp': 7832, 'backgroud': 7833, 'skii': 7834, 'silk': 7835, 'motley': 7836, 'A-frame': 7837, 'adjustments': 7838, 'lesson': 7839, 'screened': 7840, 'roofed': 7841, 'hardly': 7842, 'hovers': 7843, 'soggy': 7844, 'well-groomed': 7845, 'trousers': 7846, 'military-style': 7847, 'puff': 7848, 'noise': 7849, 'maker': 7850, 'noisemaker': 7851, 'popper': 7852, 'ballerinas': 7853, 'class\"': 7854, 'learn': 7855, 'Cute': 7856, 'deserted': 7857, 'AIG': 7858, 'magnificant': 7859, 'labradoodle': 7860, 'obscene': 7861, 'guitarists': 7862, 'reveals': 7863, 'hat\"': 7864, 'upturned': 7865, 'custom': 7866, 'thread': 7867, 'spindle': 7868, 'thirds': 7869, 'primping': 7870, 'camels': 7871, 'Legos': 7872, 'born': 7873, 'Snowboarding': 7874, 'hsirt': 7875, 'plling': 7876, 'shawls': 7877, 'barber': 7878, 'sled-like': 7879, 'RIF=ding': 7880, 'siting': 7881, 'Pug': 7882, 'long-beaked': 7883, 'agains': 7884, 'Amnesty': 7885, 'International': 7886, 'interacts': 7887, 'exchanges': 7888, 'vision': 7889, 'Monster': 7890, 'roiling': 7891, 'commuters': 7892, 'dumpster': 7893, 'ally': 7894, 'rehearsing': 7895, 'ninja-like': 7896, 'hero': 7897, 'Power': 7898, 'Rangers': 7899, 'Ranger': 7900, 'weird': 7901, 'wet-suit': 7902, 'para-surfing': 7903, 'horned': 7904, 'strains': 7905, 'yougn': 7906, 'tucking': 7907, 'brush-land': 7908, 'green-glow': 7909, 'mallard': 7910, 'Duck': 7911, 'Mallard': 7912, 'three-way': 7913, 'dressed-up': 7914, 'dimlight': 7915, 'total': 7916, 'district': 7917, 'ages': 7918, 'backgrounds': 7919, 'peanut': 7920, 'butter': 7921, 'admire': 7922, 'flirts': 7923, '\"Pleople': 7924, 'kilts': 7925, 'taped': 7926, 'Lambs': 7927, 'stoplight': 7928, 'gleaming': 7929, 'free-falling': 7930, 'skydivers': 7931, 'Trio': 7932, 'waded': 7933, 'Ballplayers': 7934, 'Catcher': 7935, 'personal': 7936, 'Womand': 7937, 'precariously': 7938, 'coutryside': 7939, 'Tye-dyed': 7940, 'blue\"': 7941, 'lowering': 7942, 'teases': 7943, 'slinging': 7944, 'Mardis': 7945, 'Gras': 7946, 'suggestively': 7947, 'breasts': 7948, 'bare-chested': 7949, 'K2': 7950, 'crafted': 7951, 'snow-boarder': 7952, 'Referee': 7953, 'easel': 7954, 'coverall': 7955, 'paintbrush': 7956, 'rim': 7957, 'scoring': 7958, 'jumpsuites': 7959, 'preparation': 7960, 'sweatband': 7961, 'burned': 7962, 'skewed': 7963, 'sucker': 7964, 'in-line': 7965, 'swirls': 7966, 'motorbiker': 7967, 'bangs': 7968, 'browm': 7969, 'breakdances': 7970, 'rainling': 7971, 'bundle': 7972, 'Twho': 7973, 'gettin': 7974, 'sloped': 7975, 'swishing': 7976, 'seperate': 7977, 'overlooked': 7978, 'stickball': 7979, 'Dew': 7980, 'Mountain-Dew': 7981, 'dew': 7982, 'ant': 7983, \"'s-eye-view\": 7984, 'Numerous': 7985, 'types': 7986, 'shipping': 7987, 'sub': 7988, 'Saharan': 7989, 'bandmates': 7990, 'associated': 7991, 'Afican': 7992, 'Airborne': 7993, 'spin': 7994, 'receiving': 7995, 'recieve': 7996, 'rice': 7997, 'hump': 7998, 'almost-pristine': 7999, 'traveler': 8000, 'embraces': 8001, 'pregnant': 8002, 'tatooed': 8003, 'Celtics': 8004, 'watches\"': 8005, 'await': 8006, 'black-striped': 8007, 'jib': 8008, 'interlocking': 8009, 'off-white': 8010, 'hand-railing': 8011, 'columned': 8012, 'solitude': 8013, 'shorter': 8014, 'automobiles': 8015, 'Coca-Cola': 8016, 'taller': 8017, 'dooorway': 8018, 'trolley': 8019, 'masters': 8020, 'llama': 8021, 'youths': 8022, 'emotionally': 8023, 'spectate': 8024, 'kangaroo': 8025, 'somersaulting': 8026, 'performed': 8027, '\"They': 8028, 'Tbe': 8029, 'Dirtbikers': 8030, 'daring': 8031, 'burnt': 8032, 'battons': 8033, 'Twome': 8034, 'sync': 8035, 'practising': 8036, 'juming': 8037, 'rears': 8038, 'damp': 8039, 'fiveteen': 8040, 'exercised': 8041, 'athletics': 8042, 'littered': 8043, 'joyful': 8044, 'Guys': 8045, 'guessing': 8046, 'treks': 8047, 'text': 8048, 'well-lit': 8049, 'Tiny': 8050, 'meat': 8051, 'desks': 8052, 'buses': 8053, 'headwraps': 8054, 'tugboat': 8055, 'aggresively': 8056, 'hook': 8057, 'defender': 8058, 'slouching': 8059, 'lunchbox': 8060, 'picture\"': 8061, 'Nordic': 8062, 'smiled': 8063, 'cello': 8064, 'case\"': 8065, 'whizzes': 8066, 'piano': 8067, 'viewing': 8068, 'fastest': 8069, 'emits': 8070, 'flare': 8071, 'indescript': 8072, 'escalators': 8073, 'expressionless': 8074, 'company': 8075, '\"Outside': 8076, 'swiftly': 8077, 'Buddhists': 8078, 'Takes': 8079, 'advantage': 8080, 'motorboat': 8081, '\"fisherman': 8082, 'motors': 8083, 'sun\"': 8084, 'secluded': 8085, 'investigates': 8086, 'coloful': 8087, 'red-brown': 8088, 'holiday': 8089, 'bathe': 8090, 'windsailing': 8091, 'heavyset': 8092, 'fixing': 8093, 'large-boned': 8094, 'physiques': 8095, '\"Behind': 8096, '3rd': 8097, 'continues': 8098, 'multi-story': 8099, 'temporary': 8100, 'long-boarder': 8101, 'steap': 8102, 'farward': 8103, 'geyser': 8104, 'lkievely': 8105, 'tinsel': 8106, 'faint': 8107, 'content': 8108, 'torn': 8109, 'surronded': 8110, 'rotweiler': 8111, 'videotapes': 8112, 'rose': 8113, '528': 8114, 'Shotput': 8115, 'outfut': 8116, 'wounded': 8117, 'wounds': 8118, 'tongee': 8119, 'gith': 8120, 'dhe': 8121, 'mountin': 8122, 'awe': 8123, 'toy\"': 8124, 'rounded': 8125, 'hapily': 8126, 'pinestraw': 8127, 'accessories': 8128, 'memorabilia': 8129, 'Veteran': 8130, 'Heavy': 8131, 'horizontally-striped': 8132, '\"Wet': 8133, 'communal': 8134, 'darts': 8135, 'cafeteria': 8136, 'easy': 8137, 'defying': 8138, 'gravity': 8139, 'negotiates': 8140, 'extravagantly-haired': 8141, 'stiffly-posed': 8142, 'h': 8143, 'sequins': 8144, 'final': 8145, 'queen': 8146, 'donates': 8147, 'panhandler': 8148, 'handout': 8149, 'Italy': 8150, 'pong': 8151, 'mid-swing': 8152, 'Artists': 8153, 'mosaic': 8154, 'foldable': 8155, 'geological': 8156, 'saucer': 8157, 'paraskier': 8158, 'paragliding': 8159, 'flailing': 8160, 'canned': 8161, 'soda\"': 8162, 'collapses': 8163, 'pastel': 8164, 'pastels': 8165, 'seesaw': 8166, 'dine': 8167, 'fowl': 8168, 'coconut': 8169, 'tightly': 8170, 'bullfighting': 8171, 'regalia': 8172, 'matador': 8173, 'Bullrider': 8174, 'jumpy': 8175, 'midway': 8176, 'Booths': 8177, 'Espana': 8178, 'streaks': 8179, 'Spain': 8180, 'earpiece': 8181, 'earphone': 8182, 'bluetooth': 8183, 'long-legged': 8184, 'aquatic': 8185, 'elbows': 8186, '\"Guys': 8187, 'walled': 8188, 'thoroughly': 8189, 'scottish': 8190, 'bagpipers': 8191, 'exibit': 8192, 'strokes': 8193, 'furnace': 8194, 'sewn': 8195, 'emblazoned': 8196, 'playy': 8197, 'flattened': 8198, 'punctured': 8199, 'grownups': 8200, 'dong': 8201, 'Andy': 8202, 'Rodderick': 8203, 'Roddick': 8204, 'Tennis': 8205, 'fronmt': 8206, 'pedalling': 8207, 'lecturing': 8208, 'lecture': 8209, 'clue': 8210, 'stadning': 8211, 'baptized': 8212, 'Kayak': 8213, 'Spray': 8214, 'obscures': 8215, 'torso': 8216, 'applauding': 8217, '281': 8218, 'Runner': 8219, 'clapped': 8220, 'merry': 8221, 'triangle': 8222, 'unner': 8223, 'overturn': 8224, 'beaver': 8225, 'Serena': 8226, 'Williams': 8227, 'milling': 8228, 'skeptically': 8229, '\"Parade': 8230, 'ruined': 8231, 'once': 8232, 'champ': 8233, 'Rafael': 8234, 'Nadal': 8235, '\"Nadal': 8236, 'headband\"': 8237, 'Mets': 8238, 'Harly': 8239, 'Davison': 8240, 'moter': 8241, 'chess': 8242, 'blossoming': 8243, 'flowering': 8244, 'cherry': 8245, 'blossom': 8246, 'blossoms': 8247, 'racquet\"': 8248, 'hazmat': 8249, 'stretcher': 8250, 'biohazard': 8251, 'gurnee': 8252, 'Oceanside': 8253, 'oak': 8254, 'occassion': 8255, 'gorup': 8256, 'armchair': 8257, 'gazed': 8258, 'trials': 8259, 'graffiti-filled': 8260, 'La': 8261, 'Quinta': 8262, 'anticipating': 8263, 'widows': 8264, 'X': 8265, 'flea': 8266, 'bananas': 8267, 'plantains': 8268, 'open-air': 8269, 'fairly': 8270, 'icicles': 8271, 'wrangle': 8272, 'wrangles': 8273, 'jumping\"': 8274, 'shorline': 8275, 'Fire': 8276, 'Flaming': 8277, 'coated': 8278, 'wooly': 8279, 'lump': 8280, 'shawled': 8281, 'Turbaned': 8282, 'firetruck': 8283, 'composed': 8284, 'gauzey': 8285, 'turbans\"': 8286, 'nussle': 8287, 'zip-up': 8288, 'nudges': 8289, 'stoll': 8290, 'Police': 8291, 'gemmed': 8292, 'bookshelf': 8293, 'bookshelves': 8294, 'recorder': 8295, 'ladys': 8296, 'fries': 8297, 'v': 8298, 'mama': 8299, 'cub': 8300, 'violently': 8301, 'steal': 8302, 'synchronized': 8303, 'dunk': 8304, 'doge': 8305, 'eggs': 8306, 'egg': 8307, 'speaker': 8308, 'spoke': 8309, 'osme': 8310, 'meetinghall': 8311, 'cements': 8312, 'Bannister': 8313, 'cyclers': 8314, 'Ten': 8315, 'amazing': 8316, 'signature': 8317, 'document': 8318, 'signed': 8319, 'sponsor': 8320, 'motorcycling': 8321, 'submissive': 8322, 'longish': 8323, 'seal': 8324, 'fighters': 8325, '\"Of': 8326, 'these': 8327, 'black-blue': 8328, 'litle': 8329, 'mini-race': 8330, 'tabloid': 8331, 'slush': 8332, 'ski-lift': 8333, 'Peolple': 8334, 'looms': 8335, 'telegraph': 8336, 'skislope': 8337, 'Dupar': 8338, 'write': 8339, 'Fellows': 8340, 'slates': 8341, 'dotted': 8342, 'Watching': 8343, 'backlegs': 8344, 'OT': 8345, 'domed': 8346, 'protester': 8347, 'pro-America': 8348, 'anti-tax': 8349, 'Dont': 8350, 'tax': 8351, 'me': 8352, 'bro!': 8353, '661': 8354, 'wrecks': 8355, 'carreis': 8356, '97': 8357, 'fleecy': 8358, 'choir': 8359, 'pins': 8360, 'blays': 8361, 'CBS': 8362, 'mic': 8363, 'question': 8364, 'smilling': 8365, 'experiences': 8366, 'excites': 8367, 'Dad': 8368, 'dancefloor': 8369, 'formally-dressed': 8370, 'upwards': 8371, 'Einstein': 8372, 'Albert': 8373, 'polar': 8374, 'Painting': 8375, 'glassess': 8376, 'avrovulcan.com': 8377, 'googles': 8378, '\"Sweating': 8379, 'swing-set': 8380, 'mesa': 8381, 'Scenic': 8382, 'fooling': 8383, 'lifesavers': 8384, 'long-distance': 8385, 'name': 8386, 'lanyard': 8387, 'vase': 8388, 'Barber': 8389, 'restroom': 8390, 'Penske': 8391, 'Indy': 8392, 'pits': 8393, 'TEAM': 8394, 'PENSKE': 8395, 'playes': 8396, 'stringless': 8397, 'gondola': 8398, 'operators': 8399, 'gondoliers': 8400, 'Venice': 8401, 'tones': 8402, 'proudly': 8403, 'spikes': 8404, 'Islamic': 8405, 'holy': 8406, 'divind': 8407, 'Diver': 8408, 'gallopsing': 8409, 'sheperd': 8410, 'booklets': 8411, 'telescopes': 8412, 'rolled-up': 8413, 'bouquet': 8414, 'Car': 8415, 'DJ': 8416, 'DJs': 8417, 'entertain': 8418, 'roped': 8419, 'bullfighter': 8420, 'skewers': 8421, 'stabs': 8422, 'bullfight': 8423, 'sock': 8424, 'struck': 8425, 'bases': 8426, 'coached': 8427, 'needs': 8428, 'acrobat': 8429, 'entangles': 8430, 'twisted': 8431, 'ballplayer': 8432, 'shortstop': 8433, 'science': 8434, 'Armour': 8435, 'Speed': 8436, 'Field': 8437, 'digger': 8438, 'dirtbed': 8439, 'verbal': 8440, 'exchange': 8441, 'perplexed': 8442, 'people\"': 8443, 'eyeing': 8444, 'Rescue': 8445, 'rustric': 8446, 'anticipation': 8447, 'Crow': 8448, 'Best': 8449, 'sprawling': 8450, 'fly-fishing': 8451, 'Bridal': 8452, 'railling': 8453, 'poppies': 8454, 'Concentration': 8455, 'ethnicity': 8456, 'refugees': 8457, 'families': 8458, 'UN': 8459, 'texting': 8460, 'charged': 8461, 'dandelion': 8462, 'frames': 8463, 'choreographed': 8464, 'gothically': 8465, 'anime': 8466, 'cosplay': 8467, 'Ice': 8468, 'heap': 8469, 'Male': 8470, 'peddled': 8471, '\"Catcher': 8472, 'game\"': 8473, 'hte': 8474, 'peddles': 8475, 'towing': 8476, 'Photographer': 8477, 'fronr': 8478, 'armstand': 8479, 'granite': 8480, 'Canadian': 8481, 'Subaru': 8482, 'stirs': 8483, 'spokes': 8484, 'dolphin': 8485, 'sip': 8486, 'dirtracing': 8487, 'resembling': 8488, 'locomotives': 8489, 'dragsters': 8490, 'overwhelmed': 8491, 'onslaught': 8492, 'East': 8493, 'cow-like': 8494, 'ox': 8495, 'trophy': 8496, 'accepts': 8497, 'winner': 8498, 'Winning': 8499, 'atheletes': 8500, 'Time': 8501, 'lapse': 8502, 'ropey': 8503, 'sponsors': 8504, '\"Bearded': 8505, 'blurry\"': 8506, 'cathedral': 8507, 'lamppost': 8508, 'fiesty': 8509, 'foul': 8510, 'scowling': 8511, 'bouncer': 8512, 'coast': 8513, 'layup': 8514, 'drill': 8515, 'rustic': 8516, 'chart': 8517, 'handwritten': 8518, 'notice': 8519, 'knight': 8520, 'holes': 8521, 'king': 8522, 'raling': 8523, 'oxen': 8524, 'rollerbladers': 8525, 'aerodynamically': 8526, 'Rollerbladers': 8527, '75': 8528, 'grassland': 8529, 'tour': 8530, 'calming': 8531, 'protectors': 8532, 'entwined': 8533, 'stiars': 8534, 'intervening': 8535, 'tee-shirt': 8536, 'againest': 8537, 'stood': 8538, 'shells': 8539, 'cannon': 8540, 'soar': 8541, 'stubbled': 8542, 'wearfing': 8543, 'goalies': 8544, 'half-buried': 8545, 'shire': 8546, 'passin': 8547, 'belly-surfing': 8548, 'mishap': 8549, 'Trainer': 8550, 'pamphlets': 8551, 'cause': 8552, 'unpaved': 8553, 'Middle-Eastern': 8554, 'targeting': 8555, 'hard-hats': 8556, 'chestnut': 8557, 'pace': 8558, 'gallop': 8559, 'Hindu': 8560, 'citizens': 8561, 'foreigners': 8562, 'enters': 8563, 'amazement': 8564, 'non': 8565, 'HDR': 8566, 'cathcer': 8567, 'intercept': 8568, 'supports': 8569, 'homebase': 8570, 'ponytailed': 8571, 'obsured': 8572, 'recoils': 8573, 'occasion': 8574, 'lapel': 8575, '\"Laying': 8576, 'rung': 8577, 'pitches': 8578, 'LaFayette': 8579, 'Softball': 8580, 'bunchh': 8581, 'cuddling': 8582, 'cower': 8583, 'brownstone': 8584, 'stoop': 8585, 'sheilding': 8586, 'ads': 8587, 'our': 8588, 'nestled': 8589, 'snuggling': 8590, 'rather': 8591, '\"Seven': 8592, 'boe': 8593, 'takedown': 8594, 'Marine': 8595, 'take-down': 8596, 'jukebox': 8597, 'hand-in-hand': 8598, 'mussels': 8599, 'bongo': 8600, 'gnarly': 8601, '\"Surfer': 8602, 'aerobatics': 8603, 'underneat': 8604, 'flaring': 8605, 'David': 8606, 'Beckham': 8607, 'canvasses': 8608, 'enforcment': 8609, 'owl': 8610, 'widespread': 8611, 'Figure': 8612, 'jet-skis': 8613, 'Motorcross': 8614, 'manuals': 8615, 'Joggers': 8616, 'Marathon': 8617, 'Runners': 8618, 'red-uniformed': 8619, 'white-suited': 8620, 'disrupt': 8621, 'face-paint': 8622, 'bicycle-cross': 8623, 'skeleton-printed': 8624, 'button-up': 8625, 'milkweed': 8626, 'pods': 8627, 'ways': 8628, 'crochet': 8629, 'showgirl': 8630, 'fixer': 8631, 'currently': 8632, 'summersault': 8633, 'accents': 8634, 'Chihuahua': 8635, 'sticker': 8636, 'badge': 8637, '\"Red-headed': 8638, 'Flickr': 8639, 'sportswear': 8640, 'one-armed': 8641, 'crow': 8642, 'rasing': 8643, 'cheerfully': 8644, 'retangular': 8645, 'bungee-type': 8646, 'slingshot': 8647, 'Twp': 8648, '\"Couple': 8649, 'brightly-lit': 8650, 'eyepatch': 8651, 'flower-bed': 8652, 'bowing': 8653, 'mainly': 8654, 'grainy': 8655, 'Brian': 8656, 'Nugent': 8657, 'goal-keeper': 8658, 'angled': 8659, 'Childern': 8660, 'Fathers': 8661, 'canals': 8662, 'ganilla': 8663, 'caring': 8664, 'kneeled': 8665, 'circled': 8666, 'decoy-animal': 8667, 'evident': 8668, 'red-clothed': 8669, 'spotlight': 8670, 'bass': 8671, 'padding': 8672, 'aquestrian': 8673, 'harpsichord': 8674, 'pianist': 8675, 'ceramic': 8676, 'disgusted': 8677, 'Dinner': 8678, 'patriotic': 8679, 'poorly-lit': 8680, 'riverwater': 8681, 'fiercely': 8682, 'less': 8683, 'developed': 8684, 'gutarist': 8685, 'upfront': 8686, 'mandolin': 8687, 'plucking': 8688, 'chello': 8689, 'stringed': 8690, 'accented': 8691, 'ringed': 8692, 'nip': 8693, 'housekeeping': 8694, 'waitresses': 8695, 'another\"': 8696, 'stages': 8697, 'worm': 8698, 'addressing': 8699, 'diverse': 8700, 'winces': 8701, 'rail\"': 8702, 'comic': 8703, 'superhero': 8704, 'xmen': 8705, 'menus': 8706, 'waiter': 8707, 'orders': 8708, 'resaurant': 8709, 'popped': 8710, '\"Inside': 8711, 'overnight': 8712, 'hurdle-jumper': 8713, 'track-and-field': 8714, 'pups': 8715, 'momma': 8716, 'hummingbird': 8717, 'offf': 8718, 'skimming': 8719, 'witches': 8720, 'graduation': 8721, 'fundraising': 8722, 'tented': 8723, 'yellow-suited': 8724, 'yellow-gold': 8725, 'sashes': 8726, 'aggitates': 8727, 'all-terrain': 8728, 'sends': 8729, 'lacross': 8730, 'oppenents': 8731, 'spokesmodels': 8732, 'hotrod': 8733, 'debri': 8734, 'fourwheeler': 8735, 'dirty-blonde': 8736, 'dandelions': 8737, 'seed': 8738, 'rowed': 8739, 'Adoring': 8740, 'overfilled': 8741, 'shabby': 8742, 'Wolf-like': 8743, 'wiffle': 8744, 'glide': 8745, 'VFW': 8746, 'funeral': 8747, 'Members': 8748, 'fraternal': 8749, 'organization': 8750, 'graveyard': 8751, '\"Men': 8752, 'trows': 8753, 'zig': 8754, 'zagging': 8755, 'lookout': 8756, 'viewpoint': 8757, 'median': 8758, 'bumpers': 8759, 'nascar': 8760, 'scoop': 8761, 'bulldozer': 8762, 'kinds': 8763, 'softdrinks': 8764, \"o'clock\": 8765, 'loooking': 8766, 'Muscular': 8767, 'windboarder': 8768, 'windboard': 8769, 'That': 8770, 'World': 8771, 'mounted': 8772, 'on-lookers': 8773, 'multistory': 8774, 'inch': 8775, 'Ti': 8776, 'Chi': 8777, 'areas': 8778, 'suburbs': 8779, 'passage': 8780, 'mountain-climbing': 8781, 'ascend': 8782, 'Highschoolers': 8783, 'Teens': 8784, 'Yound': 8785, 'tho': 8786, 'convoy': 8787, 'Army': 8788, 'belly-smacker': 8789, 'lightsaber': 8790, 'Ont': 8791, 'actor': 8792, 'interestingly': 8793, 'cheerful': 8794, 'naval': 8795, 'open-mouthed': 8796, 'Peoople': 8797, 'suns': 8798, 'rays': 8799, 'outlined': 8800, 'forms': 8801, 'deeper': 8802, 'flexibility': 8803, 'enough': 8804, 'Most': 8805, 'Grey-blue': 8806, 'portfolio': 8807, 'cases': 8808, 'roller-skating': 8809, 'exposure': 8810, 'path\"': 8811, 'Special': 8812, 'contestant': 8813, 'homes': 8814, 'ball-thrower': 8815, 'Business': 8816, 'Smartly': 8817, 'bearer': 8818, 'petals': 8819, 'waterboard': 8820, 'unknown': 8821, 'shaft': 8822, 'mortar': 8823, 'romping': 8824, 'swirling': 8825, 'mail': 8826, 'dips': 8827, 'brief': 8828, 'overhear': 8829, '\"Baseball': 8830, 'pepco': 8831, 'middle-eastern': 8832, 'carton': 8833, 'Winston': 8834, 'headresses': 8835, 'hovered': 8836, 'cordoned': 8837, 'loops': 8838, 'aerobatic': 8839, 'coiled': 8840, 'sleep': 8841, 'collies': 8842, 'dodge': 8843, 'dodgeball': 8844, 'boods': 8845, 'tumble': 8846, 'kickboxing': 8847, 'MMA': 8848, 'Iove': 8849, 'headdresses': 8850, 'message': 8851, 'Love': 8852, 'huddles': 8853, 'fingertips': 8854, 'egde': 8855, 'sliiding': 8856, 'microphone\"': 8857, 'chief': 8858, 'headgear': 8859, 'liked': 8860, 'Indians': 8861, 'nations': 8862, 'cowgirls': 8863, 'Canada': 8864, 'ques': 8865, 'restrain': 8866, 'voice': 8867, 'binocular': 8868, 'Sightseers': 8869, 'scope': 8870, 'hunt': 8871, 'outfir': 8872, 'broom': 8873, 'Clown': 8874, 'Cowboys': 8875, 'tame': 8876, 'stop-action': 8877, 'soaks': 8878, 'interrupts': 8879, 'goals': 8880, 'losing': 8881, 'pullovers': 8882, 'beckons': 8883, '\"Yellow': 8884, 'tilling': 8885, 'thatch': 8886, 'gardening': 8887, 'soil': 8888, 'hoes': 8889, 'Workers': 8890, 'gover': 8891, 'presenting': 8892, 'certificate': 8893, 'accepting': 8894, 'announcer': 8895, 'official-looking': 8896, 'perfume': 8897, 'overtop': 8898, 'perused': 8899, 'shoppers': 8900, 'greenhouse': 8901, 'nursery': 8902, 'browse': 8903, 'herbs': 8904, 'Racks': 8905, 'coping': 8906, 'vigorous': 8907, 'bring': 8908, 'urge': 8909, '58': 8910, 'Shelton': 8911, 'Lacrosse': 8912, 'exciting': 8913, 'varied': 8914, 'Kisses': 8915, 'vegetable': 8916, 'fruits': 8917, 'vegetables': 8918, 'jacuzzi': 8919, 'laughed': 8920, 'competes': 8921, 'Fat': 8922, 'drooping': 8923, 'skidded': 8924, 'breaststroke': 8925, 'everything': 8926, 'blur': 8927, 'giong': 8928, 'beams': 8929, 'fishscales': 8930, 'tatoos': 8931, 'unconventional': 8932, '\"man': 8933, 'pound': 8934, 'discovers': 8935, 'bakery': 8936, 'buying': 8937, 'shoulderbag': 8938, 'shorts\"': 8939, 'organizing': 8940, 'boogieboard': 8941, 'spider-patterned': 8942, 'goofing': 8943, 'startled': 8944, 'impact': 8945, 'competitor': 8946, 'astro': 8947, 'Japanese-sponsored': 8948, 'bohemians': 8949, 'prance': 8950, 'cart\"': 8951, 'somehow': 8952, 'HP': 8953, 'branded': 8954, 'endorsement-covered': 8955, 'headwear': 8956, 'vandalized': 8957, 'Sports': 8958, 'hamming': 8959, 'mine': 8960, 'brige': 8961, 'edges': 8962, 'tend': 8963, 'rakes': 8964, 'Mutltiple': 8965, 'soundproof': 8966, 'pole\"': 8967, 'motorcrossing': 8968, '157': 8969, 'drips': 8970, 'rested': 8971, 'brighty': 8972, 'inline-skates': 8973, 'Fisheye': 8974, 'agents': 8975, 'accompanying': 8976, 'tophats': 8977, 'most': 8978, 'hoists': 8979, 'retreiving': 8980, 'ump': 8981, 't-ball': 8982, 'stays': 8983, 'cosplayers': 8984, 'actors': 8985, 'salt': 8986, 'Superman': 8987, 'activities': 8988, 'clifftop': 8989, 'facepaintings': 8990, '\"Skateboarding': 8991, 'sidwalk': 8992, 'replaced': 8993, 'vaults': 8994, 'backstrokes': 8995, 'straggle': 8996, 'poorly': 8997, 'midfield': 8998, 'League': 8999, '\"Boys': 9000, 'hatchback': 9001, 'swept': 9002, 'teeing': 9003, 'queens': 9004, 'women\"': 9005, 'mirrored': 9006, 'sphere': 9007, 'Popsicles': 9008, 'popscicles': 9009, 'lollipops': 9010, 'popcycles': 9011, 'imagery': 9012, 'crucifixion': 9013, 'Christ': 9014, 'crucified': 9015, 'coffin': 9016, 'Pall': 9017, 'bearers': 9018, 'casket': 9019, 'Panasonic': 9020, 'encounters': 9021, 'probably': 9022, 'Groom': 9023, 'handheld': 9024, 'back-to-back': 9025, 'high-rise': 9026, 'outise': 9027, 'sidewalks': 9028, 'swing\"': 9029, 'judges': 9030, 'rates': 9031, 'panel': 9032, 'impress': 9033, 'serveral': 9034, '10': 9035, 'gaurdian': 9036, 'graffiti-strewn': 9037, 'homerun': 9038, 'safe': 9039, 'fails': 9040, 'british': 9041, 'ceremonial': 9042, 'tassel': 9043, 'stoic': 9044, 'fringe': 9045, 'rippled': 9046, 'brown-spotted': 9047, 'ghost': 9048, 'busters': 9049, 'Ghostbusters': 9050, 'ghostbuster': 9051, 'impersonators': 9052, 'stockings': 9053, 'chunky': 9054, 'ripped': 9055, 'lounges': 9056, 'swirl': 9057, 'arrives': 9058, 'zig-zag': 9059, 'walk-way': 9060, 'ocean\"': 9061, 'washed': 9062, 'showerhead': 9063, 'pelicans': 9064, 'flocking': 9065, 'Colorful': 9066, 'sprinkers': 9067, 'squeals': 9068, 'bystander': 9069, 'wierd': 9070, 'paddock': 9071, 'Rear': 9072, 'walker': 9073, 'may': 9074, 'contemporary': 9075, 'corporate': 9076, 'sprinkles': 9077, 'sprinking': 9078, 'kaki': 9079, 'top-hats': 9080, 'Javelin': 9081, 'vaulated': 9082, 'treed': 9083, 'midpitch': 9084, 'profession': 9085, 'livestock': 9086, 'swinsuit': 9087, 'scored': 9088, 'Olympic': 9089, 'medals': 9090, '\"BMX': 9091, 'lock': 9092, 'powerboats': 9093, 'aboard': 9094, 'beanches': 9095, 'icing': 9096, 'lifevest': 9097, 'jubilant': 9098, 'burns': 9099, 'Dupont': 9100, 'Circle': 9101, 'Hanna': 9102, 'Montana': 9103, 'artists': 9104, 'desert\"': 9105, 'modeling': 9106, 'catwalk': 9107, 'spacious': 9108, 'emty': 9109, 'sportwoman': 9110, 'sportman': 9111, 'demonstrate': 9112, 'spin-art': 9113, 'earmuffs': 9114, 'bland': 9115, 'washing': 9116, 'Martial': 9117, 'album': 9118, 'hedge': 9119, 'behinf': 9120, 'fireplug': 9121, 'woooden': 9122, 'pier-like': 9123, 'peircings': 9124, 'fadora': 9125, 'spectating': 9126, 'mardi': 9127, 'gra': 9128, 'Mardi': 9129, 'Beads': 9130, 'abdomen': 9131, 'midriff': 9132, 'gay': 9133, 'pride': 9134, 'shredded': 9135, 'Will': 9136, 'Sox': 9137, 'propeller': 9138, 'mommy': 9139, 'plungles': 9140, 'positioned': 9141, 'lame': 9142, 'justice': 9143, 'bracelets': 9144, 'garland': 9145, 'Brazilian': 9146, 'lei': 9147, 'waaves': 9148, 'Leaping': 9149, '\"Colorfully': 9150, 'mono-color': 9151, 'provocative': 9152, 'Unified': 9153, 'Pride': 9154, 'overshadowed': 9155, 'rollskating': 9156, 'Joker': 9157, 'policewoman': 9158, '\"Policewoman': 9159, 'iceburg': 9160, 'somersaults': 9161, 'cartwheeling': 9162, 'shin': 9163, 'mermaid': 9164, 'chemical': 9165, 'hilltops': 9166, 'trudge': 9167, 'shocks': 9168, 'produces': 9169, 'heating': 9170, 'pirates': 9171, 'mudfight': 9172, 'mud-wrestle': 9173, 'wading-pool': 9174, 'beats': 9175, 'helment': 9176, 'buckled': 9177, 'state': 9178, 'Dirtbike': 9179, 'ash': 9180, 'snowflake': 9181, 'handle\"': 9182, 'Shadowed': 9183, 'rocks\"': 9184, 'seabird': 9185, 'dipping': 9186, 'ladles': 9187, 'brandishes': 9188, 'masses': 9189, 'shoelaces': 9190, 'piggybacking': 9191, 'rotating': 9192, 'aligator': 9193, 'camper': 9194, 'swarming': 9195, 'Snowmobiler': 9196, 'buys': 9197, 'big-box': 9198, 'eccentric': 9199, 'Frog': 9200, 'Hopper': 9201, 'white-metal': 9202, 'hopper': 9203, '\"Crowded': 9204, 'cheery': 9205, 'skyscrapers': 9206, 'tier': 9207, 'Boats': 9208, 'Animal': 9209, 'dinosaur': 9210, 'stunt-leap': 9211, '\"Lone': 9212, 'ball\"': 9213, 'solicits': 9214, 'comprised': 9215, 'newlywed': 9216, 'guests': 9217, 'cinderblock': 9218, 'chili': 9219, 'cheese': 9220, 'dog\"': 9221, 'obese': 9222, 'wodden': 9223, 'even': 9224, 'raining': 9225, 'unexcited': 9226, 'plywood': 9227, 'streght': 9228, 'Pelican': 9229, 'here': 9230, 'girlfriends': 9231, 'GRAHAM': 9232, 'antique': 9233, 'ornament': 9234, 'Kites': 9235, 'Bicycles': 9236, 'railgrind': 9237, 'handrails': 9238, 'aloft': 9239, 'enterance': 9240, 'literature': 9241, 'litttle': 9242, 'vinyl': 9243, 'black-yellow': 9244, 'snare': 9245, 'swimmies': 9246, 'water-wear': 9247, 'skipped': 9248, 'adornment': 9249, 'dizzy': 9250, 'antoher': 9251, 'robust': 9252, '\"Overweight': 9253, 'propping': 9254, 'cleavage': 9255, 'tatoo': 9256, 'milkshake': 9257, 'barrette': 9258, 'pursing': 9259, 'gradual': 9260, 'half-smile': 9261, 'handstands': 9262, 'fear': 9263, 'leotards': 9264, 'parlor': 9265, 'silverware': 9266, 'tan-skinned': 9267, 'kiddy': 9268, 'two-piece': 9269, 'Slip': 9270, 'Slide': 9271, 'lilies': 9272, 'two-tone': 9273, 'perked': 9274, 'Flowers': 9275, 'brindle-colored': 9276, 'farmers': 9277, 'vendors': 9278, 'organic': 9279, 'farmer': 9280, 'Linet': 9281, 'dreary': 9282, 'visiting': 9283, '\"Street': 9284, 'Firefighters': 9285, 'Fireman': 9286, 'Terriers': 9287, 'key': 9288, 'white-colored': 9289, 'Ipod': 9290, 'multilple': 9291, 'crows': 9292, 'snacks': 9293, 'frisbie': 9294, 'moutnain': 9295, 'gesticulates': 9296, 'Wal': 9297, 'Mart': 9298, 'Wall': 9299, 'unifrom': 9300, 'walmart': 9301, 'encourages': 9302, 'weimaraners': 9303, 'Persian': 9304, 'responding': 9305, 'seller': 9306, 'outline': 9307, 'Dragon': 9308, 'joyfully': 9309, 'widely': 9310, 'nech': 9311, 'planter': 9312, 'cruise': 9313, 'expose': 9314, 'happiness': 9315, 'veteran': 9316, 'greets': 9317, 'zepra': 9318, 'overshadows': 9319, 'stared': 9320, 'toll': 9321, 'pipes': 9322, 'fluorecent': 9323, 'directing': 9324, 'director': 9325, 'drills': 9326, 'snow-gear': 9327, 'pf': 9328, 'internet': 9329, 'cocked': 9330, 'shite': 9331, 'accompanies': 9332, 'Yerba': 9333, 'Buena': 9334, 'Center': 9335, 'Arts': 9336, 'tidal': 9337, 'overflow': 9338, 'prestends': 9339, 'pinata': 9340, 'body-board': 9341, 'buries': 9342, 'burrows': 9343, 'camps': 9344, 'drumming': 9345, 'banging': 9346, 'pans': 9347, 'tundra': 9348, 'snapshot': 9349, 'ee': 9350, 'roundabout': 9351, '80': 9352, 'stepstool': 9353, 'thong': 9354, 'half-naked': 9355, 'questioningly': 9356, 'Waist': 9357, 'brawl': 9358, 'dragons': 9359, 'Year': 9360, 'adventures': 9361, 'gyro': 9362, 'butchers': 9363, 'beef': 9364, 'uplifted': 9365, 'corgie': 9366, 'Patrick': 9367, 'Day': 9368, 'dressing': 9369, 'Patricks': 9370, 'shamrocks': 9371, 'plenty': 9372, 'sweatpants': 9373, 'bartender': 9374, 'camera-phone': 9375, 'snowfall': 9376, 'Silhouette': 9377, 'filed': 9378, '\"Closeup': 9379, 'flexible': 9380, 'bog': 9381, 'straddles': 9382, 'ornaments': 9383, 'toolbox': 9384, 'retrives': 9385, 'possessively': 9386, 'retreived': 9387, 'dries': 9388, 'howls': 9389, 'Springer': 9390, 'Spaniel': 9391, 'springtime': 9392, 'crosslegged': 9393, 'approachs': 9394, 'barbeque': 9395, 'fantasy': 9396, 'wax': 9397, '84': 9398, 'Peterson': 9399, 'yellow-grassed': 9400, 'orangesunset\"': 9401, 'medium-sized': 9402, 'red-carpeted': 9403, 'persues': 9404, 'thrower': 9405, 'shares': 9406, 'outs': 9407, 'dolls': 9408, 'strolling': 9409, 'Gloved': 9410, 'hangong': 9411, '\"Sandy': 9412, 'rods': 9413, 'hoodoos': 9414, '\"Interesting': 9415, 'scent': 9416, 'Barechested': 9417, 'sand\"': 9418, 'terrorizes': 9419, '\"Green': 9420, 'stoney': 9421, 'Bigg': 9422, 'conical': 9423, 'golden-brown': 9424, 'look-alike': 9425, 'Top-down': 9426, 'delivering': 9427, 'fathers': 9428, 'dandylions': 9429, 'daisies': 9430, 'out\"': 9431, 'sweashirt': 9432, 'spoted': 9433, 'midjump': 9434, 'bottle\"': 9435, 'streams': 9436, 'panoramic': 9437, 'backsides': 9438, '\"Balck': 9439, 'quaint': 9440, 'Cobblestone': 9441, 'grazing': 9442, 'offered': 9443, 'Photo': 9444, 'Sillhouttes': 9445, 'remember': 9446, 'Armenian': 9447, 'genocide': 9448, '1915': 9449, '1923': 9450, 'related': 9451, 'Genocide': 9452, 'dealing': 9453, 'flanked': 9454, 'crowd\"': 9455, 'cross-legged': 9456, 'semi-cloudy': 9457, 'orange-hooded': 9458, 'certificates': 9459, 'diplomas': 9460, 'excess': 9461, 'woamn': 9462, 'ground\"': 9463, 'impeach': 9464, 'Impeach': 9465, '\"War': 9466, 'spelling': 9467, 'IMPEACH': 9468, 'Hugs': 9469, 'persue': 9470, 'anticipates': 9471, 'challenges': 9472, '625': 9473, 'aided': 9474, 'sombrero': 9475, 'mobility': 9476, 'Senior': 9477, 'citizen': 9478, 'multi-color': 9479, 'creepy': 9480, 'petterned': 9481, 'billiards': 9482, 'cue': 9483, 'seventh': 9484, 'grond': 9485, 'measures': 9486, 'depth': 9487, 'steaks': 9488, 'thck': 9489, 'Stars': 9490, 'Fame': 9491, 'fantastic': 9492, 'marvel': 9493, 'Retreiver': 9494, 'circling': 9495, 'slimy': 9496, 'beach\"': 9497, 'discussion': 9498, '\"Talk': 9499, 'sour': 9500, 'butterfly-catcher': 9501, 'let': 9502, 'shook': 9503, 'shave': 9504, 'twisty': 9505, 'exhibt': 9506, 'idyllic': 9507, 'scull': 9508, 'pontoon': 9509, 'oiled': 9510, 'suntan': 9511, 'lotion': 9512, 'suntanning': 9513, 'smacking': 9514, 'clowning': 9515, 'locking': 9516, 'locks': 9517, 'knuckle': 9518, 'lazily': 9519, 'calico': 9520, 'cradling': 9521, 'seek': 9522, 'threshold': 9523, 'jewlery': 9524, 'braided': 9525, 'foraging': 9526, 'bareback': 9527, 'arranging': 9528, 'banana': 9529, 'acts': 9530, 'ups': 9531, 'push-up': 9532, 'histerically': 9533, 'laughing\"': 9534, 'Truck': 9535, 'rackets': 9536, 'tent-like': 9537, 'grotto': 9538, 'forearms': 9539, 'ankle-high': 9540, 'sun-lit': 9541, 'forcing': 9542, 'smashed': 9543, 'face-painted': 9544, 'Trees': 9545, 'reflected': 9546, 'tightropes': 9547, 'Ambulance': 9548, 'berets': 9549, 'FedEx': 9550, 'trooper': 9551, 'tge': 9552, 'riverside': 9553, 'seeking': 9554, 'humorous': 9555, 'ilks': 9556, 'Bounce': 9557, 'honest': 9558, 'trade': 9559, 'poem': 9560, 'Giant': 9561, 'Giants': 9562, 'poems': 9563, 'Desperate': 9564, 'creative': 9565, 'garner': 9566, 'zaftig': 9567, 'Kerry': 9568, 'Park': 9569, 'Space': 9570, 'Needle': 9571, 'pebbly': 9572, 'driver-side': 9573, 'mysterious': 9574, 'Wilbert': 9575, 'opportunity': 9576, 'direct': 9577, 'flaggers': 9578, 'bodyboarder': 9579, 'flotation': 9580, 'mid-climb': 9581, 'maintain': 9582, 'fingerhold': 9583, 'thrust': 9584, 'spash': 9585, 'notices': 9586, 'ducky': 9587, 'shadowy': 9588, 'leather-clad': 9589, 'punkish': 9590, 'nibbles': 9591, 'vacation': 9592, 'run-down': 9593, 'affixed': 9594, 'dilapidated': 9595, 'shuttered': 9596, 'Horseback': 9597, 'R.V.': 9598, 'finds': 9599, 'sloppy': 9600, '!\"': 9601, 'swallow': 9602, 'hoof': 9603, 'bronze': 9604, 'marine-life-themed': 9605, 'troll': 9606, 'forth': 9607, 'jeans\"': 9608, 'went': 9609, 'AVEDA': 9610, 'established': 9611, 'slipping': 9612, 'chewed-up': 9613, 'Real': 9614, 'headline': 9615, 'Change': 9616, 'bandanas': 9617, 'cloths': 9618, 'gray-green': 9619, 'ion': 9620, 'finishes': 9621, 'pilar': 9622, 'torch': 9623, '\"Jumping': 9624, 'spelunker': 9625, 'trek': 9626, 'jumpos': 9627, 'exited': 9628, 'build-a-bear': 9629, 'Build': 9630, 'Bear': 9631, 'backround': 9632, 'climbes': 9633, 'extending': 9634, 'Twins': 9635, 'buff': 9636, 'weights': 9637, 'hippie': 9638, 'organized': 9639, 'teeshirt': 9640, 'messanger': 9641, 'caged': 9642, 'flashes': 9643, 'maneuvering': 9644, 'hoddie': 9645, 'jaywalk': 9646, 'taxis': 9647, 'aerobics': 9648, 'exercising': 9649, 'above-ground': 9650, 'soles': 9651, 'frowns': 9652, 'donkeys': 9653, 'mules': 9654, 'Sole': 9655, 'determination': 9656, 'equiment': 9657, 'feamle': 9658, 'Ladies': 9659, 'matchin': 9660, 'pitched': 9661, 'savanah': 9662, 'Shaggy': 9663, 'swear': 9664, 'floatlys': 9665, 'stucco': 9666, 'jumpropes': 9667, 'mid-day': 9668, 'sillouhette': 9669, 'daschunds': 9670, 'wishing': 9671, 'Helmeted': 9672, 'civil': 9673, 'reenactment': 9674, 'cannons': 9675, 'War': 9676, 'reenactors': 9677, 'backgound': 9678, 'capri': 9679, 'entertainer': 9680, 'curtsey': 9681, 'spangles': 9682, 'goldenrod': 9683, 'porcelain': 9684, 'recital': 9685, 'Eleven': 9686, 'feathery': 9687, 'fishers': 9688, 'fish\"': 9689, 'someones': 9690, 'checkstand': 9691, 'aprons': 9692, 'rattan': 9693, 'multi-print': 9694, 'hillock': 9695, 'powdery': 9696, 'playroom': 9697, 'Smilling': 9698, 'lited': 9699, 'blue-robed': 9700, 'upper-class': 9701, 'wizard': 9702, 'Ritz': 9703, 'cracker': 9704, 'wagging': 9705, 'hooded-coat': 9706, 'raingear': 9707, 'mansion': 9708, 'Matt': 9709, 'ACE': 9710, 'ace': 9711, 'outward': 9712, 'viewfinder': 9713, 'angles': 9714, 'footrace': 9715, 'School': 9716, 'smear': 9717, 'shine': 9718, 'shoe-shine': 9719, 'shiner': 9720, 'customers': 9721, 'cuddle': 9722, 'encouraged': 9723, 'collapsable': 9724, 'emerald': 9725, 'dunked': 9726, 'arc': 9727, 'frisbree': 9728, 'whil': 9729, 'palid': 9730, 'youg': 9731, 'belaying': 9732, 'propelling': 9733, 'shoulder-length': 9734, 'muscles': 9735, 'ferris': 9736, 'algae': 9737, 'brickwall': 9738, 'fairgrounds': 9739, 'Farris': 9740, 'Simpsons': 9741, 'convienance': 9742, 'joint': 9743, 'Slurpees': 9744, 'convienience': 9745, 'Look': 9746, 'Right': 9747, 'convenience': 9748, 'slushies': 9749, 'highchair': 9750, 'pudding': 9751, 'jello': 9752, 'shepherds': 9753, 'Hear': 9754, 'evil\"': 9755, 'frustrated': 9756, 'silohuetted': 9757, 'redhead': 9758, 'Walkers': 9759, 'powerlines': 9760, 'lingers': 9761, 'bedroll': 9762, 'spitting': 9763, 'spits': 9764, '1950s': 9765, 'meter': 9766, 'bleak': 9767, 'wolf-like': 9768, 'snowpants': 9769, 'tentatively': 9770, 're': 9771, 'chutes': 9772, 'paneling': 9773, 'chest\"': 9774, 'Ypoung': 9775, 'hippies': 9776, 'wig\"': 9777, 'rugs': 9778, 'kayer': 9779, 'Tinkerbell': 9780, 'TinkerBell': 9781, 'wide-brimmed': 9782, 'Mastif': 9783, '\"Brightly': 9784, 'pagent': 9785, 'Hall': 9786, 'cruisship': 9787, 'assorted': 9788, 'yarn': 9789, 'braiding': 9790, 'yarn-like': 9791, 'sillhouetted': 9792, 'wedgie': 9793, 'gaurd': 9794, 'attampts': 9795, 'glassy': 9796, '\"Marathon': 9797, 'bras': 9798, 'outfield': 9799, 'smelled': 9800, 'brown-and-black': 9801, 'crocs': 9802, 'Croc': 9803, 'healthy': 9804, 'lawnmower': 9805, 'groomed': 9806, 'white-footed': 9807, 'Fries': 9808, 'fisher': 9809, 'my': 9810, 'best': 9811, 'buddy': 9812, 'waterproof': 9813, 'Lone': 9814, 'pastures': 9815, 'rock-climbs': 9816, '\"kids': 9817, 'building\"': 9818, 'decortive': 9819, 'long-bearded': 9820, 'broad': 9821, 'brimmed': 9822, 'fur-trimmed': 9823, 'Similarly': 9824, 'hot-pink': 9825, 'slouched': 9826, 'ATM': 9827, 'withdrawing': 9828, 'brwon': 9829, 'Rock': 9830, 'Rocky': 9831, 'Beagle': 9832, 'waterline': 9833, 'cresting': 9834, 'creamy': 9835, 'frosting': 9836, 'encripted': 9837, 'snowpacked': 9838, 'nest': 9839, 'shaky': 9840, 'slat': 9841, 'driftrood': 9842, 'sunlit': 9843, 'Rays': 9844, 'consumer': 9845, 'Walmart': 9846, 'wake-board': 9847, 'bodysurfs': 9848, '\"Ever': 9849, 'since': 9850, 'started': 9851, 'pinball': 9852, 'keffiyahs': 9853, 'swatting': 9854, 'containig': 9855, 'rainstorm': 9856, 'breezeway': 9857, 'cocker': 9858, 'spaniels': 9859, 'dumbbell': 9860, 'weight': 9861, 'majestically': 9862, 'scrolled': 9863, 'patterns': 9864}\n"
          ]
        }
      ]
    },
    {
      "cell_type": "code",
      "source": [
        "def caption_to_tensor(caption, max_len_batch):\n",
        "    caption_arr = np.zeros(max_len_batch)\n",
        "    caption += ['PAD' for i in range(max_len_batch-len(caption))]\n",
        "    for i in range(max_len_batch):\n",
        "        caption_arr[i] = word_to_index[caption[i]]\n",
        "    return torch.Tensor(caption_arr)\n",
        "\n",
        "caption_example = ['A', 'child', 'climbing', 'up', 'stairs']\n",
        "print(caption_example + ['PAD' for i in range(10-len(caption_example))])\n",
        "print(caption_to_tensor(caption_example, 10))"
      ],
      "metadata": {
        "id": "e_K_V0eLFI3C"
      },
      "execution_count": null,
      "outputs": []
    },
    {
      "cell_type": "code",
      "source": [
        "def scores_to_caption(scores):\n",
        "    predicted_indices = torch.argmax(scores, -1)\n",
        "    predicted_captions = []\n",
        "    for i in range(n_test):\n",
        "        j = 0\n",
        "        while j \n",
        "    return ret"
      ],
      "metadata": {
        "id": "PxBhfY3LYYOn"
      },
      "execution_count": null,
      "outputs": []
    },
    {
      "cell_type": "code",
      "source": [
        "def make_batch(batch_number):\n",
        "    batch_index_first = batch_number * BATCH_SIZE\n",
        "    batch_index_final = min(n_train, (batch_number+1)*BATCH_SIZE)\n",
        "    # compute maximum caption length in batch\n",
        "    max_len_batch = 0\n",
        "    for i in range(batch_index_first, batch_index_final):\n",
        "        if len(image_captions_train[i][1:]) > max_len_batch:\n",
        "            max_len_batch = len(image_captions_train[i][1:])\n",
        "    X_train_batch = torch.zeros((BATCH_SIZE, feature_dim[0],feature_dim[1], feature_dim[2]))\n",
        "    Y_train_batch = torch.zeros((BATCH_SIZE, max_len_batch))\n",
        "    for i in range(batch_index_first, batch_index_final):\n",
        "        j = i - batch_index_first\n",
        "        image, caption = image_captions_train[i][0], image_captions_train[i][1:]\n",
        "        X_train_batch[j] = features_train[image]\n",
        "        Y_train_batch[j] = caption_to_tensor(caption, max_len_batch)\n",
        "    return X_train_batch, torch.flatten(Y_train_batch), Y_train_batch, max_len_batch\n",
        "\n",
        "X_train_batch, Y_train_batch, Y_train_batch_unflattened, max_len_batch = make_batch(0)\n",
        "print(X_train_batch.shape, Y_train_batch.shape, max_len_batch)"
      ],
      "metadata": {
        "colab": {
          "base_uri": "https://localhost:8080/"
        },
        "id": "sPVRtFnv3tnh",
        "outputId": "47e8a9c9-68ab-406d-d2fa-ed9624b8f341"
      },
      "execution_count": null,
      "outputs": [
        {
          "output_type": "stream",
          "name": "stdout",
          "text": [
            "torch.Size([10, 512, 7, 7]) torch.Size([190]) 19\n"
          ]
        }
      ]
    },
    {
      "cell_type": "code",
      "source": [
        "def make_test():\n",
        "    X_test = torch.zeros((n_test, feature_dim[0],feature_dim[1], feature_dim[2]))\n",
        "    for i in range(0, n_test):\n",
        "        image = image_captions_test[i][0]\n",
        "        X_test[i] = features_test[image]\n",
        "    return X_test\n",
        "\n",
        "X_test = make_test()\n",
        "print(X_test.shape)"
      ],
      "metadata": {
        "colab": {
          "base_uri": "https://localhost:8080/"
        },
        "id": "ZDWFEYwpVsFM",
        "outputId": "bad0b9cd-9f73-45c8-83e8-541f2e3c3515"
      },
      "execution_count": null,
      "outputs": [
        {
          "output_type": "stream",
          "name": "stdout",
          "text": [
            "torch.Size([4050, 512, 7, 7])\n"
          ]
        }
      ]
    },
    {
      "cell_type": "code",
      "source": [
        "class EncoderCNN(nn.Module):\n",
        "\n",
        "    def __init__(self, feature_dim, embedding_dim):\n",
        "        super(Encoder, self).__init__()\n",
        "        self.encoder = nn.Sequential(nn.Conv2d(in_channels=feature_dim[0], out_channels=256, kernel_size=(3,3), stride=1, padding=0),\n",
        "                                     torch.nn.BatchNorm2d(num_features=256, eps=1e-05, momentum=0.1, affine=True, track_running_stats=True, device=None, dtype=None),\n",
        "                                     nn.ReLU(),\n",
        "                                     nn.Conv2d(in_channels=256, out_channels=128, kernel_size=(3,3), stride=1, padding=0),\n",
        "                                     torch.nn.BatchNorm2d(num_features=128, eps=1e-05, momentum=0.1, affine=True, track_running_stats=True, device=None, dtype=None),\n",
        "                                     nn.ReLU(),\n",
        "                                     nn.Linear(in_features=128*feature_dim[1]*feature_dim[2], out_features=embedding_dim))\n",
        "\n",
        "    def forward(self, features):\n",
        "        return self.encoder(features)"
      ],
      "metadata": {
        "id": "_OscfZusTWzI"
      },
      "execution_count": null,
      "outputs": []
    },
    {
      "cell_type": "code",
      "source": [
        "class DecoderLSTM(nn.Module):\n",
        "\n",
        "    def __init__(self, embedding_dim, hidden_dim):\n",
        "        super(RNNTagger, self).__init__()\n",
        "        self.lstm = nn.LSTM(embedding_dim, hidden_dim, batch_first=True)\n",
        "        self.hidden2tag = nn.Linear(hidden_dim, embedding_dim)\n",
        "        self.softmax = nn.Softmax(dim=-1)\n",
        "\n",
        "    def forward(self, in_sequence):\n",
        "        lstm_out, _ = self.lstm(in_sequence)\n",
        "        tag_space = self.hidden2tag(lstm_out)\n",
        "        tag_scores = self.softmax(tag_space)\n",
        "        return tag_scores"
      ],
      "metadata": {
        "id": "FGbYR0d6TeNJ"
      },
      "execution_count": null,
      "outputs": []
    },
    {
      "cell_type": "code",
      "source": [
        "def teacher_forcer(encoded_features, Y_train_batch_unflattened, max_len_batch):\n",
        "    label_output = np.zeros((BATCH_SIZE, max_len_batch, embedding_dim))\n",
        "    # Index of samples in the current batch\n",
        "    for idx_sentence in range(BATCH_SIZE):\n",
        "        for idx_word in range(max_len_batch):\n",
        "            if idx_word == 0:\n",
        "                label_output[idx_sentence, idx_word, :] = encoded_features[idx_sentence, :]\n",
        "            else:\n",
        "                label_output[idx_sentence, idx_word, Y_train_batch_unflattened[idx_sentence, idx_word - 1]] = 1\n",
        "    return label_output"
      ],
      "metadata": {
        "id": "JDrpQUwpi_14"
      },
      "execution_count": null,
      "outputs": []
    },
    {
      "cell_type": "code",
      "source": [
        "def experiment():\n",
        "    encoder = EncoderCNN(feature_dim, embedding_dim)\n",
        "    decoder = DecoderLSTM(feature_dim, embedding_dim, HIDDEN_DIM)\n",
        "    loss_func = nn.CrossEntropyLoss()\n",
        "    optimizer = torch.optim.Adam([{'params':encoder.parameters()},\n",
        "                                  {'params':decoder.parameters()}], lr=LEARN_RATE, momentum=0.9)\n",
        "    num_batches = n_train//BATCH_SIZE\n",
        "    for epoch in range(NUM_EPOCHS):\n",
        "        epoch_loss = 0\n",
        "        for batch_number in range(num_batches):\n",
        "            optimizer.zero_grad()\n",
        "            X_train_batch, Y_train_batch, Y_train_batch_unflattened, max_len_batch = make_batch(batch_number)\n",
        "            encoded_features = encoder(X_train_batch)\n",
        "            in_sequence = teacher_forcer(encoded_features, Y_train_batch_unflattened, max_len_batch)\n",
        "            scores = decoder(in_sequence)\n",
        "            loss = loss_func(scores.reshape((BATCH_SIZE*max_len_batch, embedding_dim)), Y_train_batch)\n",
        "            loss.backward()\n",
        "            optimizer.step()\n",
        "        # evaluate encoder decoder on test data\n",
        "        encoded_features_test = encoder(X_test)\n",
        "        in_sequence_test = teacher_forcer(encoded_features_test, Y_test_batch_unflattened, max_len_test)\n",
        "        scores_test = decoder(in_sequence_test)\n",
        "        \n",
        "        bleu_score = evaluate(pred, image_captions_test)"
      ],
      "metadata": {
        "id": "eKkCpXv4UJL1"
      },
      "execution_count": null,
      "outputs": []
    },
    {
      "cell_type": "code",
      "source": [
        "def experiment():\n",
        "    encoder = EncoderCNN(feature_dim, embedding_dim)\n",
        "    decoder = DecoderLSTM(feature_dim, embedding_dim, HIDDEN_DIM)\n",
        "    loss_func = nn.CrossEntropyLoss()\n",
        "    optimizer = torch.optim.Adam([{'params':encoder.parameters()},\n",
        "                                  {'params':decoder.parameters()}], lr=LEARN_RATE, momentum=0.9)\n",
        "    num_batches = n_train//BATCH_SIZE\n",
        "    for epoch in range(NUM_EPOCHS):\n",
        "        epoch_loss = 0\n",
        "        for batch_number in range(num_batches):\n",
        "            optimizer.zero_grad()\n",
        "            X_train_batch, Y_train_batch, Y_train_batch_unflattened, max_len_batch = make_batch(batch_number)\n",
        "            encoded_features = encoder(X_train_batch)\n",
        "            in_sequence = teacher_forcer(encoded_features, Y_train_batch_unflattened, max_len_batch)\n",
        "            scores = decoder(in_sequence)\n",
        "            loss = loss_func(scores.reshape((BATCH_SIZE*max_len_batch, embedding_dim)), Y_train_batch)\n",
        "            loss.backward()\n",
        "            optimizer.step()\n",
        "        \n",
        "        \n",
        "\n",
        "        bleu_score = evaluate(pred, Y_test_tensor)"
      ],
      "metadata": {
        "id": "GL_qeIDdSF8D"
      },
      "execution_count": null,
      "outputs": []
    },
    {
      "cell_type": "code",
      "source": [
        "def experiment():\n",
        "    encoder = EncoderCNN(feature_dim, embedding_dim)\n",
        "    decoder = DecoderLSTM(feature_dim, embedding_dim, HIDDEN_DIM)\n",
        "    loss_func = nn.CrossEntropyLoss()\n",
        "    optimizer = torch.optim.Adam([{'params':encoder.parameters()},\n",
        "                                  {'params':decoder.parameters()}], lr=LEARN_RATE, momentum=0.9)\n",
        "    num_batches = n_train//BATCH_SIZE\n",
        "    for epoch in range(NUM_EPOCHS):\n",
        "        epoch_loss = 0\n",
        "        for batch_number in range(num_batches):\n",
        "            optimizer.zero_grad()\n",
        "            X_train_batch, Y_train_batch, Y_train_batch_unflattened, max_len_batch = make_batch(batch_number)\n",
        "            encoded_features = encoder(X_train_batch)\n",
        "            in_sequence = teacher_forcer(encoded_features, Y_train_batch_unflattened, max_len_batch)\n",
        "\n",
        "\n"
      ],
      "metadata": {
        "id": "EESDMOwSdgIy"
      },
      "execution_count": null,
      "outputs": []
    },
    {
      "cell_type": "code",
      "source": [
        "def experiment():\n",
        "    # initialise model\n",
        "    model = RNNTagger(EMBED_DIM, HIDDEN_DIM, len(tags))\n",
        "    loss_func = nn.CrossEntropyLoss()\n",
        "    optimiser = torch.optim.Adam(params=model.parameters(),\n",
        "                                 lr=LEARN_RATE)\n",
        "    # pre train stuff\n",
        "    epochs, accuracies = [], []\n",
        "    pre_train_accuracy = model_accuracy(model(X_test_tensor), Y_test_tensor)\n",
        "    epochs.append(0)\n",
        "    accuracies.append(pre_train_accuracy)\n",
        "    print('%s 0/%d %.4f%%'%('-'*NUM_EPOCHS,\n",
        "                            NUM_EPOCHS,\n",
        "                            pre_train_accuracy*100))\n",
        "    # train\n",
        "    num_batch = int(n_train/BATCH_SIZE)\n",
        "    for epoch in range(0, NUM_EPOCHS):\n",
        "        epoch_loss = 0\n",
        "        for batch in range(0, num_batch):\n",
        "            optimiser.zero_grad()\n",
        "            X_train_batch, Y_train_batch, max_len_batch = make_batch(batch)\n",
        "            scores = model(X_train_batch)\n",
        "            loss = loss_func(scores.reshape((BATCH_SIZE*max_len_batch, len(tags))), Y_train_batch)\n",
        "            loss.backward()\n",
        "            epoch_loss += loss\n",
        "            optimiser.step()\n",
        "        epochs.append(epoch+1)\n",
        "        accuracy = model_accuracy(model(X_test_tensor), Y_test_tensor)\n",
        "        accuracies.append(accuracy)\n",
        "        print('%s%s %d/%d %.4f%%'%('#'*(epoch+1),\n",
        "                                   '-'*(NUM_EPOCHS-epoch-1),\n",
        "                                   epoch+1,\n",
        "                                   NUM_EPOCHS,\n",
        "                                   accuracy*100))\n",
        "    # plot\n",
        "    plt.plot(epochs, [100*i for i in accuracies], \"-.\", color='lightskyblue')\n",
        "    plt.show()\n",
        "    return"
      ],
      "metadata": {
        "id": "YuHKADOQhYNp"
      },
      "execution_count": null,
      "outputs": []
    }
  ]
}