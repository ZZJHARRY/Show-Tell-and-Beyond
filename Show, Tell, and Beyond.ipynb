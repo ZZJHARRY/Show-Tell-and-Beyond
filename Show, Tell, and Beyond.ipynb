{
  "nbformat": 4,
  "nbformat_minor": 0,
  "metadata": {
    "colab": {
      "name": "EECS_442_Final_Project.ipynb",
      "provenance": [],
      "collapsed_sections": []
    },
    "kernelspec": {
      "name": "python3",
      "display_name": "Python 3"
    },
    "language_info": {
      "name": "python"
    },
    "accelerator": "GPU",
    "widgets": {
      "application/vnd.jupyter.widget-state+json": {
        "845be626796f465b9a03315ad4bca91c": {
          "model_module": "@jupyter-widgets/controls",
          "model_name": "HBoxModel",
          "model_module_version": "1.5.0",
          "state": {
            "_view_name": "HBoxView",
            "_dom_classes": [],
            "_model_name": "HBoxModel",
            "_view_module": "@jupyter-widgets/controls",
            "_model_module_version": "1.5.0",
            "_view_count": null,
            "_view_module_version": "1.5.0",
            "box_style": "",
            "layout": "IPY_MODEL_eabe317f17d84a98bdecdedd3a9b729d",
            "_model_module": "@jupyter-widgets/controls",
            "children": [
              "IPY_MODEL_915656c957e148c385725254604e82a6",
              "IPY_MODEL_70839ca14a7e4290961d3e77a60b24e2",
              "IPY_MODEL_051c23d1e0b0459589ad7fa11851bf1f"
            ]
          }
        },
        "eabe317f17d84a98bdecdedd3a9b729d": {
          "model_module": "@jupyter-widgets/base",
          "model_name": "LayoutModel",
          "model_module_version": "1.2.0",
          "state": {
            "_view_name": "LayoutView",
            "grid_template_rows": null,
            "right": null,
            "justify_content": null,
            "_view_module": "@jupyter-widgets/base",
            "overflow": null,
            "_model_module_version": "1.2.0",
            "_view_count": null,
            "flex_flow": null,
            "width": null,
            "min_width": null,
            "border": null,
            "align_items": null,
            "bottom": null,
            "_model_module": "@jupyter-widgets/base",
            "top": null,
            "grid_column": null,
            "overflow_y": null,
            "overflow_x": null,
            "grid_auto_flow": null,
            "grid_area": null,
            "grid_template_columns": null,
            "flex": null,
            "_model_name": "LayoutModel",
            "justify_items": null,
            "grid_row": null,
            "max_height": null,
            "align_content": null,
            "visibility": null,
            "align_self": null,
            "height": null,
            "min_height": null,
            "padding": null,
            "grid_auto_rows": null,
            "grid_gap": null,
            "max_width": null,
            "order": null,
            "_view_module_version": "1.2.0",
            "grid_template_areas": null,
            "object_position": null,
            "object_fit": null,
            "grid_auto_columns": null,
            "margin": null,
            "display": null,
            "left": null
          }
        },
        "915656c957e148c385725254604e82a6": {
          "model_module": "@jupyter-widgets/controls",
          "model_name": "HTMLModel",
          "model_module_version": "1.5.0",
          "state": {
            "_view_name": "HTMLView",
            "style": "IPY_MODEL_c7803050e2754cddbd987be1ee74ba95",
            "_dom_classes": [],
            "description": "",
            "_model_name": "HTMLModel",
            "placeholder": "​",
            "_view_module": "@jupyter-widgets/controls",
            "_model_module_version": "1.5.0",
            "value": "100%",
            "_view_count": null,
            "_view_module_version": "1.5.0",
            "description_tooltip": null,
            "_model_module": "@jupyter-widgets/controls",
            "layout": "IPY_MODEL_71f7e9cb8f3e4d73bce91f5cf7d66454"
          }
        },
        "70839ca14a7e4290961d3e77a60b24e2": {
          "model_module": "@jupyter-widgets/controls",
          "model_name": "FloatProgressModel",
          "model_module_version": "1.5.0",
          "state": {
            "_view_name": "ProgressView",
            "style": "IPY_MODEL_d0f9d598eb2a4c62b518a08d3d9de2d3",
            "_dom_classes": [],
            "description": "",
            "_model_name": "FloatProgressModel",
            "bar_style": "success",
            "max": 46830571,
            "_view_module": "@jupyter-widgets/controls",
            "_model_module_version": "1.5.0",
            "value": 46830571,
            "_view_count": null,
            "_view_module_version": "1.5.0",
            "orientation": "horizontal",
            "min": 0,
            "description_tooltip": null,
            "_model_module": "@jupyter-widgets/controls",
            "layout": "IPY_MODEL_7b3eb76681664aec8af93b8c3bec8e6b"
          }
        },
        "051c23d1e0b0459589ad7fa11851bf1f": {
          "model_module": "@jupyter-widgets/controls",
          "model_name": "HTMLModel",
          "model_module_version": "1.5.0",
          "state": {
            "_view_name": "HTMLView",
            "style": "IPY_MODEL_07c922601a124c1b8dd1942b221c0884",
            "_dom_classes": [],
            "description": "",
            "_model_name": "HTMLModel",
            "placeholder": "​",
            "_view_module": "@jupyter-widgets/controls",
            "_model_module_version": "1.5.0",
            "value": " 44.7M/44.7M [00:00&lt;00:00, 117MB/s]",
            "_view_count": null,
            "_view_module_version": "1.5.0",
            "description_tooltip": null,
            "_model_module": "@jupyter-widgets/controls",
            "layout": "IPY_MODEL_b97f5b94670946bc8abe30c0e7b3a446"
          }
        },
        "c7803050e2754cddbd987be1ee74ba95": {
          "model_module": "@jupyter-widgets/controls",
          "model_name": "DescriptionStyleModel",
          "model_module_version": "1.5.0",
          "state": {
            "_view_name": "StyleView",
            "_model_name": "DescriptionStyleModel",
            "description_width": "",
            "_view_module": "@jupyter-widgets/base",
            "_model_module_version": "1.5.0",
            "_view_count": null,
            "_view_module_version": "1.2.0",
            "_model_module": "@jupyter-widgets/controls"
          }
        },
        "71f7e9cb8f3e4d73bce91f5cf7d66454": {
          "model_module": "@jupyter-widgets/base",
          "model_name": "LayoutModel",
          "model_module_version": "1.2.0",
          "state": {
            "_view_name": "LayoutView",
            "grid_template_rows": null,
            "right": null,
            "justify_content": null,
            "_view_module": "@jupyter-widgets/base",
            "overflow": null,
            "_model_module_version": "1.2.0",
            "_view_count": null,
            "flex_flow": null,
            "width": null,
            "min_width": null,
            "border": null,
            "align_items": null,
            "bottom": null,
            "_model_module": "@jupyter-widgets/base",
            "top": null,
            "grid_column": null,
            "overflow_y": null,
            "overflow_x": null,
            "grid_auto_flow": null,
            "grid_area": null,
            "grid_template_columns": null,
            "flex": null,
            "_model_name": "LayoutModel",
            "justify_items": null,
            "grid_row": null,
            "max_height": null,
            "align_content": null,
            "visibility": null,
            "align_self": null,
            "height": null,
            "min_height": null,
            "padding": null,
            "grid_auto_rows": null,
            "grid_gap": null,
            "max_width": null,
            "order": null,
            "_view_module_version": "1.2.0",
            "grid_template_areas": null,
            "object_position": null,
            "object_fit": null,
            "grid_auto_columns": null,
            "margin": null,
            "display": null,
            "left": null
          }
        },
        "d0f9d598eb2a4c62b518a08d3d9de2d3": {
          "model_module": "@jupyter-widgets/controls",
          "model_name": "ProgressStyleModel",
          "model_module_version": "1.5.0",
          "state": {
            "_view_name": "StyleView",
            "_model_name": "ProgressStyleModel",
            "description_width": "",
            "_view_module": "@jupyter-widgets/base",
            "_model_module_version": "1.5.0",
            "_view_count": null,
            "_view_module_version": "1.2.0",
            "bar_color": null,
            "_model_module": "@jupyter-widgets/controls"
          }
        },
        "7b3eb76681664aec8af93b8c3bec8e6b": {
          "model_module": "@jupyter-widgets/base",
          "model_name": "LayoutModel",
          "model_module_version": "1.2.0",
          "state": {
            "_view_name": "LayoutView",
            "grid_template_rows": null,
            "right": null,
            "justify_content": null,
            "_view_module": "@jupyter-widgets/base",
            "overflow": null,
            "_model_module_version": "1.2.0",
            "_view_count": null,
            "flex_flow": null,
            "width": null,
            "min_width": null,
            "border": null,
            "align_items": null,
            "bottom": null,
            "_model_module": "@jupyter-widgets/base",
            "top": null,
            "grid_column": null,
            "overflow_y": null,
            "overflow_x": null,
            "grid_auto_flow": null,
            "grid_area": null,
            "grid_template_columns": null,
            "flex": null,
            "_model_name": "LayoutModel",
            "justify_items": null,
            "grid_row": null,
            "max_height": null,
            "align_content": null,
            "visibility": null,
            "align_self": null,
            "height": null,
            "min_height": null,
            "padding": null,
            "grid_auto_rows": null,
            "grid_gap": null,
            "max_width": null,
            "order": null,
            "_view_module_version": "1.2.0",
            "grid_template_areas": null,
            "object_position": null,
            "object_fit": null,
            "grid_auto_columns": null,
            "margin": null,
            "display": null,
            "left": null
          }
        },
        "07c922601a124c1b8dd1942b221c0884": {
          "model_module": "@jupyter-widgets/controls",
          "model_name": "DescriptionStyleModel",
          "model_module_version": "1.5.0",
          "state": {
            "_view_name": "StyleView",
            "_model_name": "DescriptionStyleModel",
            "description_width": "",
            "_view_module": "@jupyter-widgets/base",
            "_model_module_version": "1.5.0",
            "_view_count": null,
            "_view_module_version": "1.2.0",
            "_model_module": "@jupyter-widgets/controls"
          }
        },
        "b97f5b94670946bc8abe30c0e7b3a446": {
          "model_module": "@jupyter-widgets/base",
          "model_name": "LayoutModel",
          "model_module_version": "1.2.0",
          "state": {
            "_view_name": "LayoutView",
            "grid_template_rows": null,
            "right": null,
            "justify_content": null,
            "_view_module": "@jupyter-widgets/base",
            "overflow": null,
            "_model_module_version": "1.2.0",
            "_view_count": null,
            "flex_flow": null,
            "width": null,
            "min_width": null,
            "border": null,
            "align_items": null,
            "bottom": null,
            "_model_module": "@jupyter-widgets/base",
            "top": null,
            "grid_column": null,
            "overflow_y": null,
            "overflow_x": null,
            "grid_auto_flow": null,
            "grid_area": null,
            "grid_template_columns": null,
            "flex": null,
            "_model_name": "LayoutModel",
            "justify_items": null,
            "grid_row": null,
            "max_height": null,
            "align_content": null,
            "visibility": null,
            "align_self": null,
            "height": null,
            "min_height": null,
            "padding": null,
            "grid_auto_rows": null,
            "grid_gap": null,
            "max_width": null,
            "order": null,
            "_view_module_version": "1.2.0",
            "grid_template_areas": null,
            "object_position": null,
            "object_fit": null,
            "grid_auto_columns": null,
            "margin": null,
            "display": null,
            "left": null
          }
        },
        "2c704f418eb54d4394d902ed41db0076": {
          "model_module": "@jupyter-widgets/controls",
          "model_name": "HBoxModel",
          "model_module_version": "1.5.0",
          "state": {
            "_view_name": "HBoxView",
            "_dom_classes": [],
            "_model_name": "HBoxModel",
            "_view_module": "@jupyter-widgets/controls",
            "_model_module_version": "1.5.0",
            "_view_count": null,
            "_view_module_version": "1.5.0",
            "box_style": "",
            "layout": "IPY_MODEL_5cafbccc05824ebeaeba8b6a16632795",
            "_model_module": "@jupyter-widgets/controls",
            "children": [
              "IPY_MODEL_24b2d85b69034d74a267749c1c8b8aa0",
              "IPY_MODEL_d0c9927df72c43049792dac6e9822f3b",
              "IPY_MODEL_57cd776461cc4268b82a3d6e6759ecc9"
            ]
          }
        },
        "5cafbccc05824ebeaeba8b6a16632795": {
          "model_module": "@jupyter-widgets/base",
          "model_name": "LayoutModel",
          "model_module_version": "1.2.0",
          "state": {
            "_view_name": "LayoutView",
            "grid_template_rows": null,
            "right": null,
            "justify_content": null,
            "_view_module": "@jupyter-widgets/base",
            "overflow": null,
            "_model_module_version": "1.2.0",
            "_view_count": null,
            "flex_flow": null,
            "width": null,
            "min_width": null,
            "border": null,
            "align_items": null,
            "bottom": null,
            "_model_module": "@jupyter-widgets/base",
            "top": null,
            "grid_column": null,
            "overflow_y": null,
            "overflow_x": null,
            "grid_auto_flow": null,
            "grid_area": null,
            "grid_template_columns": null,
            "flex": null,
            "_model_name": "LayoutModel",
            "justify_items": null,
            "grid_row": null,
            "max_height": null,
            "align_content": null,
            "visibility": null,
            "align_self": null,
            "height": null,
            "min_height": null,
            "padding": null,
            "grid_auto_rows": null,
            "grid_gap": null,
            "max_width": null,
            "order": null,
            "_view_module_version": "1.2.0",
            "grid_template_areas": null,
            "object_position": null,
            "object_fit": null,
            "grid_auto_columns": null,
            "margin": null,
            "display": null,
            "left": null
          }
        },
        "24b2d85b69034d74a267749c1c8b8aa0": {
          "model_module": "@jupyter-widgets/controls",
          "model_name": "HTMLModel",
          "model_module_version": "1.5.0",
          "state": {
            "_view_name": "HTMLView",
            "style": "IPY_MODEL_2efec6dc331147adb207304ab201676f",
            "_dom_classes": [],
            "description": "",
            "_model_name": "HTMLModel",
            "placeholder": "​",
            "_view_module": "@jupyter-widgets/controls",
            "_model_module_version": "1.5.0",
            "value": "100%",
            "_view_count": null,
            "_view_module_version": "1.5.0",
            "description_tooltip": null,
            "_model_module": "@jupyter-widgets/controls",
            "layout": "IPY_MODEL_cc0a313348da40c98ca9e1ac84540f4a"
          }
        },
        "d0c9927df72c43049792dac6e9822f3b": {
          "model_module": "@jupyter-widgets/controls",
          "model_name": "FloatProgressModel",
          "model_module_version": "1.5.0",
          "state": {
            "_view_name": "ProgressView",
            "style": "IPY_MODEL_901b722b79e34e12ad32ec06c9b6605f",
            "_dom_classes": [],
            "description": "",
            "_model_name": "FloatProgressModel",
            "bar_style": "success",
            "max": 7282,
            "_view_module": "@jupyter-widgets/controls",
            "_model_module_version": "1.5.0",
            "value": 7282,
            "_view_count": null,
            "_view_module_version": "1.5.0",
            "orientation": "horizontal",
            "min": 0,
            "description_tooltip": null,
            "_model_module": "@jupyter-widgets/controls",
            "layout": "IPY_MODEL_cfe8cfad71c8448a8941ae5bb97cd079"
          }
        },
        "57cd776461cc4268b82a3d6e6759ecc9": {
          "model_module": "@jupyter-widgets/controls",
          "model_name": "HTMLModel",
          "model_module_version": "1.5.0",
          "state": {
            "_view_name": "HTMLView",
            "style": "IPY_MODEL_b9eb39c8f5214f6c898feb700ea657e6",
            "_dom_classes": [],
            "description": "",
            "_model_name": "HTMLModel",
            "placeholder": "​",
            "_view_module": "@jupyter-widgets/controls",
            "_model_module_version": "1.5.0",
            "value": " 7282/7282 [01:23&lt;00:00, 86.45it/s]",
            "_view_count": null,
            "_view_module_version": "1.5.0",
            "description_tooltip": null,
            "_model_module": "@jupyter-widgets/controls",
            "layout": "IPY_MODEL_6cb63ee7216e407bb8a5ecfc165ae9b7"
          }
        },
        "2efec6dc331147adb207304ab201676f": {
          "model_module": "@jupyter-widgets/controls",
          "model_name": "DescriptionStyleModel",
          "model_module_version": "1.5.0",
          "state": {
            "_view_name": "StyleView",
            "_model_name": "DescriptionStyleModel",
            "description_width": "",
            "_view_module": "@jupyter-widgets/base",
            "_model_module_version": "1.5.0",
            "_view_count": null,
            "_view_module_version": "1.2.0",
            "_model_module": "@jupyter-widgets/controls"
          }
        },
        "cc0a313348da40c98ca9e1ac84540f4a": {
          "model_module": "@jupyter-widgets/base",
          "model_name": "LayoutModel",
          "model_module_version": "1.2.0",
          "state": {
            "_view_name": "LayoutView",
            "grid_template_rows": null,
            "right": null,
            "justify_content": null,
            "_view_module": "@jupyter-widgets/base",
            "overflow": null,
            "_model_module_version": "1.2.0",
            "_view_count": null,
            "flex_flow": null,
            "width": null,
            "min_width": null,
            "border": null,
            "align_items": null,
            "bottom": null,
            "_model_module": "@jupyter-widgets/base",
            "top": null,
            "grid_column": null,
            "overflow_y": null,
            "overflow_x": null,
            "grid_auto_flow": null,
            "grid_area": null,
            "grid_template_columns": null,
            "flex": null,
            "_model_name": "LayoutModel",
            "justify_items": null,
            "grid_row": null,
            "max_height": null,
            "align_content": null,
            "visibility": null,
            "align_self": null,
            "height": null,
            "min_height": null,
            "padding": null,
            "grid_auto_rows": null,
            "grid_gap": null,
            "max_width": null,
            "order": null,
            "_view_module_version": "1.2.0",
            "grid_template_areas": null,
            "object_position": null,
            "object_fit": null,
            "grid_auto_columns": null,
            "margin": null,
            "display": null,
            "left": null
          }
        },
        "901b722b79e34e12ad32ec06c9b6605f": {
          "model_module": "@jupyter-widgets/controls",
          "model_name": "ProgressStyleModel",
          "model_module_version": "1.5.0",
          "state": {
            "_view_name": "StyleView",
            "_model_name": "ProgressStyleModel",
            "description_width": "",
            "_view_module": "@jupyter-widgets/base",
            "_model_module_version": "1.5.0",
            "_view_count": null,
            "_view_module_version": "1.2.0",
            "bar_color": null,
            "_model_module": "@jupyter-widgets/controls"
          }
        },
        "cfe8cfad71c8448a8941ae5bb97cd079": {
          "model_module": "@jupyter-widgets/base",
          "model_name": "LayoutModel",
          "model_module_version": "1.2.0",
          "state": {
            "_view_name": "LayoutView",
            "grid_template_rows": null,
            "right": null,
            "justify_content": null,
            "_view_module": "@jupyter-widgets/base",
            "overflow": null,
            "_model_module_version": "1.2.0",
            "_view_count": null,
            "flex_flow": null,
            "width": null,
            "min_width": null,
            "border": null,
            "align_items": null,
            "bottom": null,
            "_model_module": "@jupyter-widgets/base",
            "top": null,
            "grid_column": null,
            "overflow_y": null,
            "overflow_x": null,
            "grid_auto_flow": null,
            "grid_area": null,
            "grid_template_columns": null,
            "flex": null,
            "_model_name": "LayoutModel",
            "justify_items": null,
            "grid_row": null,
            "max_height": null,
            "align_content": null,
            "visibility": null,
            "align_self": null,
            "height": null,
            "min_height": null,
            "padding": null,
            "grid_auto_rows": null,
            "grid_gap": null,
            "max_width": null,
            "order": null,
            "_view_module_version": "1.2.0",
            "grid_template_areas": null,
            "object_position": null,
            "object_fit": null,
            "grid_auto_columns": null,
            "margin": null,
            "display": null,
            "left": null
          }
        },
        "b9eb39c8f5214f6c898feb700ea657e6": {
          "model_module": "@jupyter-widgets/controls",
          "model_name": "DescriptionStyleModel",
          "model_module_version": "1.5.0",
          "state": {
            "_view_name": "StyleView",
            "_model_name": "DescriptionStyleModel",
            "description_width": "",
            "_view_module": "@jupyter-widgets/base",
            "_model_module_version": "1.5.0",
            "_view_count": null,
            "_view_module_version": "1.2.0",
            "_model_module": "@jupyter-widgets/controls"
          }
        },
        "6cb63ee7216e407bb8a5ecfc165ae9b7": {
          "model_module": "@jupyter-widgets/base",
          "model_name": "LayoutModel",
          "model_module_version": "1.2.0",
          "state": {
            "_view_name": "LayoutView",
            "grid_template_rows": null,
            "right": null,
            "justify_content": null,
            "_view_module": "@jupyter-widgets/base",
            "overflow": null,
            "_model_module_version": "1.2.0",
            "_view_count": null,
            "flex_flow": null,
            "width": null,
            "min_width": null,
            "border": null,
            "align_items": null,
            "bottom": null,
            "_model_module": "@jupyter-widgets/base",
            "top": null,
            "grid_column": null,
            "overflow_y": null,
            "overflow_x": null,
            "grid_auto_flow": null,
            "grid_area": null,
            "grid_template_columns": null,
            "flex": null,
            "_model_name": "LayoutModel",
            "justify_items": null,
            "grid_row": null,
            "max_height": null,
            "align_content": null,
            "visibility": null,
            "align_self": null,
            "height": null,
            "min_height": null,
            "padding": null,
            "grid_auto_rows": null,
            "grid_gap": null,
            "max_width": null,
            "order": null,
            "_view_module_version": "1.2.0",
            "grid_template_areas": null,
            "object_position": null,
            "object_fit": null,
            "grid_auto_columns": null,
            "margin": null,
            "display": null,
            "left": null
          }
        },
        "180de4b835b3456093caeba337ffda2f": {
          "model_module": "@jupyter-widgets/controls",
          "model_name": "HBoxModel",
          "model_module_version": "1.5.0",
          "state": {
            "_view_name": "HBoxView",
            "_dom_classes": [],
            "_model_name": "HBoxModel",
            "_view_module": "@jupyter-widgets/controls",
            "_model_module_version": "1.5.0",
            "_view_count": null,
            "_view_module_version": "1.5.0",
            "box_style": "",
            "layout": "IPY_MODEL_88795b3631094177b07c3e9f4fe58b62",
            "_model_module": "@jupyter-widgets/controls",
            "children": [
              "IPY_MODEL_5232ca01e0ac454d910cacc921496f52",
              "IPY_MODEL_f1a06ce085ef4ceb955aaa31277fc444",
              "IPY_MODEL_bee54f773a404934bfc75e34f5d75b87"
            ]
          }
        },
        "88795b3631094177b07c3e9f4fe58b62": {
          "model_module": "@jupyter-widgets/base",
          "model_name": "LayoutModel",
          "model_module_version": "1.2.0",
          "state": {
            "_view_name": "LayoutView",
            "grid_template_rows": null,
            "right": null,
            "justify_content": null,
            "_view_module": "@jupyter-widgets/base",
            "overflow": null,
            "_model_module_version": "1.2.0",
            "_view_count": null,
            "flex_flow": null,
            "width": null,
            "min_width": null,
            "border": null,
            "align_items": null,
            "bottom": null,
            "_model_module": "@jupyter-widgets/base",
            "top": null,
            "grid_column": null,
            "overflow_y": null,
            "overflow_x": null,
            "grid_auto_flow": null,
            "grid_area": null,
            "grid_template_columns": null,
            "flex": null,
            "_model_name": "LayoutModel",
            "justify_items": null,
            "grid_row": null,
            "max_height": null,
            "align_content": null,
            "visibility": null,
            "align_self": null,
            "height": null,
            "min_height": null,
            "padding": null,
            "grid_auto_rows": null,
            "grid_gap": null,
            "max_width": null,
            "order": null,
            "_view_module_version": "1.2.0",
            "grid_template_areas": null,
            "object_position": null,
            "object_fit": null,
            "grid_auto_columns": null,
            "margin": null,
            "display": null,
            "left": null
          }
        },
        "5232ca01e0ac454d910cacc921496f52": {
          "model_module": "@jupyter-widgets/controls",
          "model_name": "HTMLModel",
          "model_module_version": "1.5.0",
          "state": {
            "_view_name": "HTMLView",
            "style": "IPY_MODEL_60a47da8eab240ef965e46a79d668c3d",
            "_dom_classes": [],
            "description": "",
            "_model_name": "HTMLModel",
            "placeholder": "​",
            "_view_module": "@jupyter-widgets/controls",
            "_model_module_version": "1.5.0",
            "value": "100%",
            "_view_count": null,
            "_view_module_version": "1.5.0",
            "description_tooltip": null,
            "_model_module": "@jupyter-widgets/controls",
            "layout": "IPY_MODEL_85b0553516a2404aafca2932b2e2f643"
          }
        },
        "f1a06ce085ef4ceb955aaa31277fc444": {
          "model_module": "@jupyter-widgets/controls",
          "model_name": "FloatProgressModel",
          "model_module_version": "1.5.0",
          "state": {
            "_view_name": "ProgressView",
            "style": "IPY_MODEL_de47f762ec484d58ab109fd5c1681ea0",
            "_dom_classes": [],
            "description": "",
            "_model_name": "FloatProgressModel",
            "bar_style": "success",
            "max": 810,
            "_view_module": "@jupyter-widgets/controls",
            "_model_module_version": "1.5.0",
            "value": 810,
            "_view_count": null,
            "_view_module_version": "1.5.0",
            "orientation": "horizontal",
            "min": 0,
            "description_tooltip": null,
            "_model_module": "@jupyter-widgets/controls",
            "layout": "IPY_MODEL_c55dea7fd73247fd88c8613511d9eaf5"
          }
        },
        "bee54f773a404934bfc75e34f5d75b87": {
          "model_module": "@jupyter-widgets/controls",
          "model_name": "HTMLModel",
          "model_module_version": "1.5.0",
          "state": {
            "_view_name": "HTMLView",
            "style": "IPY_MODEL_61d68677c6d746f2877dfeb671d24733",
            "_dom_classes": [],
            "description": "",
            "_model_name": "HTMLModel",
            "placeholder": "​",
            "_view_module": "@jupyter-widgets/controls",
            "_model_module_version": "1.5.0",
            "value": " 810/810 [00:09&lt;00:00, 80.27it/s]",
            "_view_count": null,
            "_view_module_version": "1.5.0",
            "description_tooltip": null,
            "_model_module": "@jupyter-widgets/controls",
            "layout": "IPY_MODEL_e3795f513c1a409380dc04582e3ed5aa"
          }
        },
        "60a47da8eab240ef965e46a79d668c3d": {
          "model_module": "@jupyter-widgets/controls",
          "model_name": "DescriptionStyleModel",
          "model_module_version": "1.5.0",
          "state": {
            "_view_name": "StyleView",
            "_model_name": "DescriptionStyleModel",
            "description_width": "",
            "_view_module": "@jupyter-widgets/base",
            "_model_module_version": "1.5.0",
            "_view_count": null,
            "_view_module_version": "1.2.0",
            "_model_module": "@jupyter-widgets/controls"
          }
        },
        "85b0553516a2404aafca2932b2e2f643": {
          "model_module": "@jupyter-widgets/base",
          "model_name": "LayoutModel",
          "model_module_version": "1.2.0",
          "state": {
            "_view_name": "LayoutView",
            "grid_template_rows": null,
            "right": null,
            "justify_content": null,
            "_view_module": "@jupyter-widgets/base",
            "overflow": null,
            "_model_module_version": "1.2.0",
            "_view_count": null,
            "flex_flow": null,
            "width": null,
            "min_width": null,
            "border": null,
            "align_items": null,
            "bottom": null,
            "_model_module": "@jupyter-widgets/base",
            "top": null,
            "grid_column": null,
            "overflow_y": null,
            "overflow_x": null,
            "grid_auto_flow": null,
            "grid_area": null,
            "grid_template_columns": null,
            "flex": null,
            "_model_name": "LayoutModel",
            "justify_items": null,
            "grid_row": null,
            "max_height": null,
            "align_content": null,
            "visibility": null,
            "align_self": null,
            "height": null,
            "min_height": null,
            "padding": null,
            "grid_auto_rows": null,
            "grid_gap": null,
            "max_width": null,
            "order": null,
            "_view_module_version": "1.2.0",
            "grid_template_areas": null,
            "object_position": null,
            "object_fit": null,
            "grid_auto_columns": null,
            "margin": null,
            "display": null,
            "left": null
          }
        },
        "de47f762ec484d58ab109fd5c1681ea0": {
          "model_module": "@jupyter-widgets/controls",
          "model_name": "ProgressStyleModel",
          "model_module_version": "1.5.0",
          "state": {
            "_view_name": "StyleView",
            "_model_name": "ProgressStyleModel",
            "description_width": "",
            "_view_module": "@jupyter-widgets/base",
            "_model_module_version": "1.5.0",
            "_view_count": null,
            "_view_module_version": "1.2.0",
            "bar_color": null,
            "_model_module": "@jupyter-widgets/controls"
          }
        },
        "c55dea7fd73247fd88c8613511d9eaf5": {
          "model_module": "@jupyter-widgets/base",
          "model_name": "LayoutModel",
          "model_module_version": "1.2.0",
          "state": {
            "_view_name": "LayoutView",
            "grid_template_rows": null,
            "right": null,
            "justify_content": null,
            "_view_module": "@jupyter-widgets/base",
            "overflow": null,
            "_model_module_version": "1.2.0",
            "_view_count": null,
            "flex_flow": null,
            "width": null,
            "min_width": null,
            "border": null,
            "align_items": null,
            "bottom": null,
            "_model_module": "@jupyter-widgets/base",
            "top": null,
            "grid_column": null,
            "overflow_y": null,
            "overflow_x": null,
            "grid_auto_flow": null,
            "grid_area": null,
            "grid_template_columns": null,
            "flex": null,
            "_model_name": "LayoutModel",
            "justify_items": null,
            "grid_row": null,
            "max_height": null,
            "align_content": null,
            "visibility": null,
            "align_self": null,
            "height": null,
            "min_height": null,
            "padding": null,
            "grid_auto_rows": null,
            "grid_gap": null,
            "max_width": null,
            "order": null,
            "_view_module_version": "1.2.0",
            "grid_template_areas": null,
            "object_position": null,
            "object_fit": null,
            "grid_auto_columns": null,
            "margin": null,
            "display": null,
            "left": null
          }
        },
        "61d68677c6d746f2877dfeb671d24733": {
          "model_module": "@jupyter-widgets/controls",
          "model_name": "DescriptionStyleModel",
          "model_module_version": "1.5.0",
          "state": {
            "_view_name": "StyleView",
            "_model_name": "DescriptionStyleModel",
            "description_width": "",
            "_view_module": "@jupyter-widgets/base",
            "_model_module_version": "1.5.0",
            "_view_count": null,
            "_view_module_version": "1.2.0",
            "_model_module": "@jupyter-widgets/controls"
          }
        },
        "e3795f513c1a409380dc04582e3ed5aa": {
          "model_module": "@jupyter-widgets/base",
          "model_name": "LayoutModel",
          "model_module_version": "1.2.0",
          "state": {
            "_view_name": "LayoutView",
            "grid_template_rows": null,
            "right": null,
            "justify_content": null,
            "_view_module": "@jupyter-widgets/base",
            "overflow": null,
            "_model_module_version": "1.2.0",
            "_view_count": null,
            "flex_flow": null,
            "width": null,
            "min_width": null,
            "border": null,
            "align_items": null,
            "bottom": null,
            "_model_module": "@jupyter-widgets/base",
            "top": null,
            "grid_column": null,
            "overflow_y": null,
            "overflow_x": null,
            "grid_auto_flow": null,
            "grid_area": null,
            "grid_template_columns": null,
            "flex": null,
            "_model_name": "LayoutModel",
            "justify_items": null,
            "grid_row": null,
            "max_height": null,
            "align_content": null,
            "visibility": null,
            "align_self": null,
            "height": null,
            "min_height": null,
            "padding": null,
            "grid_auto_rows": null,
            "grid_gap": null,
            "max_width": null,
            "order": null,
            "_view_module_version": "1.2.0",
            "grid_template_areas": null,
            "object_position": null,
            "object_fit": null,
            "grid_auto_columns": null,
            "margin": null,
            "display": null,
            "left": null
          }
        }
      }
    }
  },
  "cells": [
    {
      "cell_type": "markdown",
      "source": [
        "Please make sure to firstly change the runtime type to \"GPU\"!"
      ],
      "metadata": {
        "id": "7k9sg_InfJzt"
      }
    },
    {
      "cell_type": "markdown",
      "source": [
        "# 1. Download Flickr8k dataset from Kaggle"
      ],
      "metadata": {
        "id": "AM0KW7e7ab_w"
      }
    },
    {
      "cell_type": "code",
      "source": [
        "# Load image data\n",
        "from google.colab import drive\n",
        "drive.mount('/content/drive/', force_remount=True)"
      ],
      "metadata": {
        "colab": {
          "base_uri": "https://localhost:8080/"
        },
        "id": "OAVf5jofaAyb",
        "outputId": "d24df748-0775-484b-f96d-4cdad233c92a"
      },
      "execution_count": null,
      "outputs": [
        {
          "output_type": "stream",
          "name": "stdout",
          "text": [
            "Mounted at /content/drive/\n"
          ]
        }
      ]
    },
    {
      "cell_type": "code",
      "source": [
        "! pip install kaggle"
      ],
      "metadata": {
        "colab": {
          "base_uri": "https://localhost:8080/"
        },
        "id": "Iouw63PIaGeL",
        "outputId": "6342c704-339f-4979-d9ae-0b6ff987e43a"
      },
      "execution_count": null,
      "outputs": [
        {
          "output_type": "stream",
          "name": "stdout",
          "text": [
            "Requirement already satisfied: kaggle in /usr/local/lib/python3.7/dist-packages (1.5.12)\n",
            "Requirement already satisfied: python-dateutil in /usr/local/lib/python3.7/dist-packages (from kaggle) (2.8.2)\n",
            "Requirement already satisfied: urllib3 in /usr/local/lib/python3.7/dist-packages (from kaggle) (1.24.3)\n",
            "Requirement already satisfied: requests in /usr/local/lib/python3.7/dist-packages (from kaggle) (2.23.0)\n",
            "Requirement already satisfied: six>=1.10 in /usr/local/lib/python3.7/dist-packages (from kaggle) (1.15.0)\n",
            "Requirement already satisfied: tqdm in /usr/local/lib/python3.7/dist-packages (from kaggle) (4.62.3)\n",
            "Requirement already satisfied: python-slugify in /usr/local/lib/python3.7/dist-packages (from kaggle) (5.0.2)\n",
            "Requirement already satisfied: certifi in /usr/local/lib/python3.7/dist-packages (from kaggle) (2021.10.8)\n",
            "Requirement already satisfied: text-unidecode>=1.3 in /usr/local/lib/python3.7/dist-packages (from python-slugify->kaggle) (1.3)\n",
            "Requirement already satisfied: chardet<4,>=3.0.2 in /usr/local/lib/python3.7/dist-packages (from requests->kaggle) (3.0.4)\n",
            "Requirement already satisfied: idna<3,>=2.5 in /usr/local/lib/python3.7/dist-packages (from requests->kaggle) (2.10)\n"
          ]
        }
      ]
    },
    {
      "cell_type": "markdown",
      "source": [
        "Before running the cells bellow, you need to make sure that you are at the root directory, i.e., the directory contains \"sample_data\". Then, you need to get the kaggle.json file from the Kaggle website.\n",
        "\n",
        "Here is the instruction of downloading Kaggle datasets to Colab: https://www.analyticsvidhya.com/blog/2021/06/how-to-load-kaggle-datasets-directly-into-google-colab/\n",
        "\n",
        "Here is the link to the Flickr8k dataset on Kaggle: https://www.kaggle.com/adityajn105/flickr8k\n",
        "\n",
        "**Alternatively**: You could directly download the Flickr8k dataset on Kaggle from the link above and upload the unzipped files (Images directory and captions.txt) to the root directory on Colab. However, this method may be slower. If you you choose to do in this way, you could directly move to the next section."
      ],
      "metadata": {
        "id": "riovLlfpbYZk"
      }
    },
    {
      "cell_type": "code",
      "source": [
        "from google.colab import drive\n",
        "drive.mount('/content/drive')"
      ],
      "metadata": {
        "id": "vKCG6uob4FUQ",
        "outputId": "12a42042-1d0e-4d45-a650-1a98252bc9ea",
        "colab": {
          "base_uri": "https://localhost:8080/"
        }
      },
      "execution_count": null,
      "outputs": [
        {
          "output_type": "stream",
          "name": "stdout",
          "text": [
            "Drive already mounted at /content/drive; to attempt to forcibly remount, call drive.mount(\"/content/drive\", force_remount=True).\n"
          ]
        }
      ]
    },
    {
      "cell_type": "code",
      "source": [
        "cd sample_data/"
      ],
      "metadata": {
        "colab": {
          "base_uri": "https://localhost:8080/"
        },
        "id": "kwd_TzjL5Ymn",
        "outputId": "4462d75e-d2d5-425f-b4c2-3677eb6960b1"
      },
      "execution_count": null,
      "outputs": [
        {
          "output_type": "stream",
          "name": "stdout",
          "text": [
            "/content/sample_data\n"
          ]
        }
      ]
    },
    {
      "cell_type": "code",
      "source": [
        "!mkdir ~/.kaggle\n",
        "!cp kaggle.json ~/.kaggle/\n",
        "!chmod 600 ~/.kaggle/kaggle.json\n",
        "!kaggle datasets download adityajn105/flickr8k\n",
        "!unzip flickr8k.zip"
      ],
      "metadata": {
        "id": "M-_h4KDb3IFF"
      },
      "execution_count": null,
      "outputs": []
    },
    {
      "cell_type": "markdown",
      "source": [
        "# 2. Import necessary packages"
      ],
      "metadata": {
        "id": "1jr88RrXdDtY"
      }
    },
    {
      "cell_type": "code",
      "source": [
        "import pandas as pd\n",
        "import numpy as np\n",
        "from collections import Counter \n",
        "import torchvision\n",
        "from torchvision import transforms\n",
        "from PIL import Image\n",
        "from torch.utils.data import Dataset, DataLoader\n",
        "import torch\n",
        "import torch.nn as nn\n",
        "from torch.autograd import Variable\n",
        "from tqdm.notebook import tqdm\n",
        "import matplotlib.pyplot as plt\n",
        "import math\n",
        "import torch.nn.functional as F\n",
        "import pickle\n",
        "import gc\n",
        "import random\n",
        "import cv2\n",
        "from google.colab.patches import cv2_imshow\n",
        "import argparse, os, sys\n",
        "from sklearn.metrics import accuracy_score\n",
        "from torchvision import transforms\n",
        "\n",
        "pd.set_option('display.max_colwidth', None)"
      ],
      "metadata": {
        "id": "0O7wO2iPabNp"
      },
      "execution_count": null,
      "outputs": []
    },
    {
      "cell_type": "markdown",
      "source": [
        "# 3. Preprocess Images"
      ],
      "metadata": {
        "id": "ZhX7NKAXdJ7P"
      }
    },
    {
      "cell_type": "code",
      "source": [
        "df = pd.read_csv(\"captions.txt\", sep=',')\n",
        "print(len(df))\n",
        "display(df.head(3))\n",
        "\n",
        "df = df.sort_values(by = 'image')\n",
        "train = df.iloc[:int(0.9*len(df))]\n",
        "valid = df.iloc[int(0.9*len(df)):]\n",
        "\n",
        "unq_train_imgs = train[['image']].drop_duplicates()\n",
        "unq_valid_imgs = valid[['image']].drop_duplicates()\n",
        "print(len(unq_train_imgs), len(unq_valid_imgs))"
      ],
      "metadata": {
        "colab": {
          "base_uri": "https://localhost:8080/",
          "height": 178
        },
        "id": "gmAEnyvlePIf",
        "outputId": "9f08fe0f-c4de-4f5a-f9c6-f74968a95482"
      },
      "execution_count": null,
      "outputs": [
        {
          "output_type": "stream",
          "name": "stdout",
          "text": [
            "40455\n"
          ]
        },
        {
          "output_type": "display_data",
          "data": {
            "text/html": [
              "<div>\n",
              "<style scoped>\n",
              "    .dataframe tbody tr th:only-of-type {\n",
              "        vertical-align: middle;\n",
              "    }\n",
              "\n",
              "    .dataframe tbody tr th {\n",
              "        vertical-align: top;\n",
              "    }\n",
              "\n",
              "    .dataframe thead th {\n",
              "        text-align: right;\n",
              "    }\n",
              "</style>\n",
              "<table border=\"1\" class=\"dataframe\">\n",
              "  <thead>\n",
              "    <tr style=\"text-align: right;\">\n",
              "      <th></th>\n",
              "      <th>image</th>\n",
              "      <th>caption</th>\n",
              "    </tr>\n",
              "  </thead>\n",
              "  <tbody>\n",
              "    <tr>\n",
              "      <th>0</th>\n",
              "      <td>1000268201_693b08cb0e.jpg</td>\n",
              "      <td>A child in a pink dress is climbing up a set of stairs in an entry way .</td>\n",
              "    </tr>\n",
              "    <tr>\n",
              "      <th>1</th>\n",
              "      <td>1000268201_693b08cb0e.jpg</td>\n",
              "      <td>A girl going into a wooden building .</td>\n",
              "    </tr>\n",
              "    <tr>\n",
              "      <th>2</th>\n",
              "      <td>1000268201_693b08cb0e.jpg</td>\n",
              "      <td>A little girl climbing into a wooden playhouse .</td>\n",
              "    </tr>\n",
              "  </tbody>\n",
              "</table>\n",
              "</div>"
            ],
            "text/plain": [
              "                       image                                                                   caption\n",
              "0  1000268201_693b08cb0e.jpg  A child in a pink dress is climbing up a set of stairs in an entry way .\n",
              "1  1000268201_693b08cb0e.jpg                                     A girl going into a wooden building .\n",
              "2  1000268201_693b08cb0e.jpg                          A little girl climbing into a wooden playhouse ."
            ]
          },
          "metadata": {}
        },
        {
          "output_type": "stream",
          "name": "stdout",
          "text": [
            "7282 810\n"
          ]
        }
      ]
    },
    {
      "cell_type": "code",
      "source": [
        "device = torch.device(\"cuda\" if torch.cuda.is_available() else \"cpu\")\n",
        "print(device)"
      ],
      "metadata": {
        "id": "XROrq4IndMrn",
        "colab": {
          "base_uri": "https://localhost:8080/"
        },
        "outputId": "0438084a-ede4-4b1a-9ca9-aceb77b3ec31"
      },
      "execution_count": null,
      "outputs": [
        {
          "output_type": "stream",
          "name": "stdout",
          "text": [
            "cuda\n"
          ]
        }
      ]
    },
    {
      "cell_type": "code",
      "source": [
        "class extractImageFeatureResNetDataSet():\n",
        "    def __init__(self, data):\n",
        "        self.data = data \n",
        "        self.scaler = transforms.Resize([224, 224])\n",
        "        self.normalize = transforms.Normalize(mean=[0.485, 0.456, 0.406],\n",
        "                                     std=[0.229, 0.224, 0.225])\n",
        "        self.to_tensor = transforms.ToTensor()\n",
        "    def __len__(self):  \n",
        "        return len(self.data)\n",
        "\n",
        "    def __getitem__(self, idx):\n",
        "\n",
        "        image_name = self.data.iloc[idx]['image']\n",
        "        img_loc = 'Images/'+str(image_name)\n",
        "\n",
        "        img = Image.open(img_loc)\n",
        "        # display(img)\n",
        "        # display(self.scaler(img))\n",
        "        t_img = self.normalize(self.to_tensor(self.scaler(img)))\n",
        "        # plt.axis('off')\n",
        "        # plt.imshow(  t_img.permute(1, 2, 0)  )\n",
        "\n",
        "        return image_name, t_img"
      ],
      "metadata": {
        "id": "9j6Bf1kJeDI4"
      },
      "execution_count": null,
      "outputs": []
    },
    {
      "cell_type": "code",
      "source": [
        "train_ImageDataset_ResNet = extractImageFeatureResNetDataSet(unq_train_imgs)\n",
        "train_ImageDataloader_ResNet = DataLoader(train_ImageDataset_ResNet, batch_size = 1, shuffle=False)"
      ],
      "metadata": {
        "id": "wkJAbUp1eaYj"
      },
      "execution_count": null,
      "outputs": []
    },
    {
      "cell_type": "code",
      "source": [
        "img = train_ImageDataset_ResNet.__getitem__(100)[1]"
      ],
      "metadata": {
        "id": "NeavNrzqebBs"
      },
      "execution_count": null,
      "outputs": []
    },
    {
      "cell_type": "code",
      "source": [
        "img = train_ImageDataset_ResNet.__getitem__(2000)[1]"
      ],
      "metadata": {
        "id": "cXHAh6gLec3K"
      },
      "execution_count": null,
      "outputs": []
    },
    {
      "cell_type": "code",
      "source": [
        "valid_ImageDataset_ResNet = extractImageFeatureResNetDataSet(unq_valid_imgs)\n",
        "valid_ImageDataloader_ResNet = DataLoader(valid_ImageDataset_ResNet, batch_size = 1, shuffle=False)"
      ],
      "metadata": {
        "id": "-ADgywOVefod"
      },
      "execution_count": null,
      "outputs": []
    },
    {
      "cell_type": "code",
      "source": [
        "resnet18 = torchvision.models.resnet18(pretrained=True).to(device)\n",
        "resnet18.eval()\n",
        "list(resnet18._modules)"
      ],
      "metadata": {
        "colab": {
          "base_uri": "https://localhost:8080/",
          "height": 240,
          "referenced_widgets": [
            "845be626796f465b9a03315ad4bca91c",
            "eabe317f17d84a98bdecdedd3a9b729d",
            "915656c957e148c385725254604e82a6",
            "70839ca14a7e4290961d3e77a60b24e2",
            "051c23d1e0b0459589ad7fa11851bf1f",
            "c7803050e2754cddbd987be1ee74ba95",
            "71f7e9cb8f3e4d73bce91f5cf7d66454",
            "d0f9d598eb2a4c62b518a08d3d9de2d3",
            "7b3eb76681664aec8af93b8c3bec8e6b",
            "07c922601a124c1b8dd1942b221c0884",
            "b97f5b94670946bc8abe30c0e7b3a446"
          ]
        },
        "id": "kQoqmvaIejyg",
        "outputId": "1d394acf-00e6-4a13-b6d6-e267f35ab0c6"
      },
      "execution_count": null,
      "outputs": [
        {
          "output_type": "stream",
          "name": "stderr",
          "text": [
            "Downloading: \"https://download.pytorch.org/models/resnet18-f37072fd.pth\" to /root/.cache/torch/hub/checkpoints/resnet18-f37072fd.pth\n"
          ]
        },
        {
          "output_type": "display_data",
          "data": {
            "application/vnd.jupyter.widget-view+json": {
              "model_id": "845be626796f465b9a03315ad4bca91c",
              "version_minor": 0,
              "version_major": 2
            },
            "text/plain": [
              "  0%|          | 0.00/44.7M [00:00<?, ?B/s]"
            ]
          },
          "metadata": {}
        },
        {
          "output_type": "execute_result",
          "data": {
            "text/plain": [
              "['conv1',\n",
              " 'bn1',\n",
              " 'relu',\n",
              " 'maxpool',\n",
              " 'layer1',\n",
              " 'layer2',\n",
              " 'layer3',\n",
              " 'layer4',\n",
              " 'avgpool',\n",
              " 'fc']"
            ]
          },
          "metadata": {},
          "execution_count": 26
        }
      ]
    },
    {
      "cell_type": "code",
      "source": [
        "resNet18Layer4 = resnet18._modules.get('layer4').to(device)"
      ],
      "metadata": {
        "id": "K2aFwVGCelkH"
      },
      "execution_count": null,
      "outputs": []
    },
    {
      "cell_type": "code",
      "source": [
        "def get_vector(t_img):\n",
        "    \n",
        "    t_img = Variable(t_img)\n",
        "    my_embedding = torch.zeros(1, 512, 7, 7)\n",
        "    def copy_data(m, i, o):\n",
        "        my_embedding.copy_(o.data)\n",
        "    \n",
        "    h = resNet18Layer4.register_forward_hook(copy_data)\n",
        "    resnet18(t_img)\n",
        "    \n",
        "    h.remove()\n",
        "    return my_embedding"
      ],
      "metadata": {
        "id": "hywZjB_ienLX"
      },
      "execution_count": null,
      "outputs": []
    },
    {
      "cell_type": "markdown",
      "source": [
        "Convert the preprocessed images into feature vectors using the pretrained ResNets."
      ],
      "metadata": {
        "id": "jqOhXcx-f3cv"
      }
    },
    {
      "cell_type": "code",
      "source": [
        "extract_imgFtr_ResNet_train = {}\n",
        "for image_name, t_img in tqdm(train_ImageDataloader_ResNet):\n",
        "    t_img = t_img.to(device)\n",
        "    # print(t_img.shape)\n",
        "    # pass down \n",
        "    embdg = get_vector(t_img)\n",
        "    \n",
        "    extract_imgFtr_ResNet_train[image_name[0]] = embdg"
      ],
      "metadata": {
        "colab": {
          "base_uri": "https://localhost:8080/",
          "height": 49,
          "referenced_widgets": [
            "2c704f418eb54d4394d902ed41db0076",
            "5cafbccc05824ebeaeba8b6a16632795",
            "24b2d85b69034d74a267749c1c8b8aa0",
            "d0c9927df72c43049792dac6e9822f3b",
            "57cd776461cc4268b82a3d6e6759ecc9",
            "2efec6dc331147adb207304ab201676f",
            "cc0a313348da40c98ca9e1ac84540f4a",
            "901b722b79e34e12ad32ec06c9b6605f",
            "cfe8cfad71c8448a8941ae5bb97cd079",
            "b9eb39c8f5214f6c898feb700ea657e6",
            "6cb63ee7216e407bb8a5ecfc165ae9b7"
          ]
        },
        "id": "Xu4ltAc5eoxt",
        "outputId": "30869127-364c-485d-8a10-8d4ee99e698f"
      },
      "execution_count": null,
      "outputs": [
        {
          "output_type": "display_data",
          "data": {
            "application/vnd.jupyter.widget-view+json": {
              "model_id": "2c704f418eb54d4394d902ed41db0076",
              "version_minor": 0,
              "version_major": 2
            },
            "text/plain": [
              "  0%|          | 0/7282 [00:00<?, ?it/s]"
            ]
          },
          "metadata": {}
        }
      ]
    },
    {
      "cell_type": "code",
      "source": [
        "a_file = open(\"./EncodedImageTrainResNet.pkl\", \"wb\")\n",
        "pickle.dump(extract_imgFtr_ResNet_train, a_file)\n",
        "a_file.close()"
      ],
      "metadata": {
        "id": "jJsDQgF7esLp"
      },
      "execution_count": null,
      "outputs": []
    },
    {
      "cell_type": "code",
      "source": [
        "extract_imgFtr_ResNet_valid = {}\n",
        "for image_name, t_img in tqdm(valid_ImageDataloader_ResNet):\n",
        "    t_img = t_img.to(device)\n",
        "    embdg = get_vector(t_img)\n",
        "    extract_imgFtr_ResNet_valid[image_name[0]] = embdg"
      ],
      "metadata": {
        "colab": {
          "base_uri": "https://localhost:8080/",
          "height": 49,
          "referenced_widgets": [
            "180de4b835b3456093caeba337ffda2f",
            "88795b3631094177b07c3e9f4fe58b62",
            "5232ca01e0ac454d910cacc921496f52",
            "f1a06ce085ef4ceb955aaa31277fc444",
            "bee54f773a404934bfc75e34f5d75b87",
            "60a47da8eab240ef965e46a79d668c3d",
            "85b0553516a2404aafca2932b2e2f643",
            "de47f762ec484d58ab109fd5c1681ea0",
            "c55dea7fd73247fd88c8613511d9eaf5",
            "61d68677c6d746f2877dfeb671d24733",
            "e3795f513c1a409380dc04582e3ed5aa"
          ]
        },
        "id": "-3l5E-b0etqX",
        "outputId": "36a2e797-f693-4bc0-8c5b-3312f822f49c"
      },
      "execution_count": null,
      "outputs": [
        {
          "output_type": "display_data",
          "data": {
            "application/vnd.jupyter.widget-view+json": {
              "model_id": "180de4b835b3456093caeba337ffda2f",
              "version_minor": 0,
              "version_major": 2
            },
            "text/plain": [
              "  0%|          | 0/810 [00:00<?, ?it/s]"
            ]
          },
          "metadata": {}
        }
      ]
    },
    {
      "cell_type": "code",
      "source": [
        "for key, value in extract_imgFtr_ResNet_valid.items():\n",
        "    print(key)\n",
        "    print(value.shape)\n",
        "    break"
      ],
      "metadata": {
        "colab": {
          "base_uri": "https://localhost:8080/"
        },
        "id": "wKbklW8NgeDD",
        "outputId": "574fc9db-976d-4b0b-8b51-f91151f1c007"
      },
      "execution_count": null,
      "outputs": [
        {
          "output_type": "stream",
          "name": "stdout",
          "text": [
            "436015762_8d0bae90c3.jpg\n",
            "torch.Size([1, 512, 7, 7])\n"
          ]
        }
      ]
    },
    {
      "cell_type": "code",
      "source": [
        "a_file = open(\"./EncodedImageValidResNet.pkl\", \"wb\")\n",
        "pickle.dump(extract_imgFtr_ResNet_valid, a_file)\n",
        "a_file.close()"
      ],
      "metadata": {
        "id": "b3t9iE4IewpW"
      },
      "execution_count": null,
      "outputs": []
    },
    {
      "cell_type": "markdown",
      "source": [
        "# 3. CNN & LSTM Training"
      ],
      "metadata": {
        "id": "_x40u9CVg7k8"
      }
    },
    {
      "cell_type": "code",
      "source": [
        "features_train, features_test = extract_imgFtr_ResNet_train, extract_imgFtr_ResNet_valid\n",
        "n_train_images, n_test_images = len(features_train), len(features_test)\n",
        "feature_dim = features_train['436015762_8d0bae90c3.jpg'][0].shape\n",
        "print(n_train_images, n_test_images, feature_dim)"
      ],
      "metadata": {
        "colab": {
          "base_uri": "https://localhost:8080/"
        },
        "id": "znFDZbRy59T0",
        "outputId": "ae677371-2cc2-4330-849c-aaa1058e9083"
      },
      "execution_count": null,
      "outputs": [
        {
          "output_type": "stream",
          "name": "stdout",
          "text": [
            "7282 810 torch.Size([512, 7, 7])\n"
          ]
        }
      ]
    },
    {
      "cell_type": "code",
      "source": [
        "HIDDEN_DIM = 200\n",
        "BATCH_SIZE = 10\n",
        "LEARN_RATE = 0.001\n",
        "NUM_EPOCHS = 10"
      ],
      "metadata": {
        "id": "PXGZHSV4HCsB"
      },
      "execution_count": null,
      "outputs": []
    },
    {
      "cell_type": "code",
      "source": [
        "def extract_captions(fn):\n",
        "    image_captions_train, image_captions_test = [], []\n",
        "    with open(fn) as f:\n",
        "        for line in f.readlines():\n",
        "            arr = line.split()\n",
        "            arr = arr[0].split(',') + ['<s>'] + arr[1:] + ['</s>']\n",
        "            if arr[0] in features_train:\n",
        "                image_captions_train.append(arr)\n",
        "            if arr[0] in features_test:\n",
        "                image_captions_test.append(arr)\n",
        "    return image_captions_train, image_captions_test\n",
        "\n",
        "image_captions_train, image_captions_test = extract_captions('captions.txt')\n",
        "n_train, n_test = len(image_captions_train), len(image_captions_test)\n",
        "print(n_train, n_test)\n",
        "for i in range(10):\n",
        "    print(image_captions_train[i])"
      ],
      "metadata": {
        "colab": {
          "base_uri": "https://localhost:8080/"
        },
        "id": "8G-7_p8QDIbx",
        "outputId": "4863bd4c-636c-45ed-ada4-2dc5d52e754d"
      },
      "execution_count": null,
      "outputs": [
        {
          "output_type": "stream",
          "name": "stdout",
          "text": [
            "36410 4050\n",
            "['1000268201_693b08cb0e.jpg', 'A', '<s>', 'child', 'in', 'a', 'pink', 'dress', 'is', 'climbing', 'up', 'a', 'set', 'of', 'stairs', 'in', 'an', 'entry', 'way', '.', '</s>']\n",
            "['1000268201_693b08cb0e.jpg', 'A', '<s>', 'girl', 'going', 'into', 'a', 'wooden', 'building', '.', '</s>']\n",
            "['1000268201_693b08cb0e.jpg', 'A', '<s>', 'little', 'girl', 'climbing', 'into', 'a', 'wooden', 'playhouse', '.', '</s>']\n",
            "['1000268201_693b08cb0e.jpg', 'A', '<s>', 'little', 'girl', 'climbing', 'the', 'stairs', 'to', 'her', 'playhouse', '.', '</s>']\n",
            "['1000268201_693b08cb0e.jpg', 'A', '<s>', 'little', 'girl', 'in', 'a', 'pink', 'dress', 'going', 'into', 'a', 'wooden', 'cabin', '.', '</s>']\n",
            "['1001773457_577c3a7d70.jpg', 'A', '<s>', 'black', 'dog', 'and', 'a', 'spotted', 'dog', 'are', 'fighting', '</s>']\n",
            "['1001773457_577c3a7d70.jpg', 'A', '<s>', 'black', 'dog', 'and', 'a', 'tri-colored', 'dog', 'playing', 'with', 'each', 'other', 'on', 'the', 'road', '.', '</s>']\n",
            "['1001773457_577c3a7d70.jpg', 'A', '<s>', 'black', 'dog', 'and', 'a', 'white', 'dog', 'with', 'brown', 'spots', 'are', 'staring', 'at', 'each', 'other', 'in', 'the', 'street', '.', '</s>']\n",
            "['1001773457_577c3a7d70.jpg', 'Two', '<s>', 'dogs', 'of', 'different', 'breeds', 'looking', 'at', 'each', 'other', 'on', 'the', 'road', '.', '</s>']\n",
            "['1001773457_577c3a7d70.jpg', 'Two', '<s>', 'dogs', 'on', 'pavement', 'moving', 'toward', 'each', 'other', '.', '</s>']\n"
          ]
        }
      ]
    },
    {
      "cell_type": "code",
      "source": [
        "def extract_dict(fn):\n",
        "    index_to_word, word_to_index = ['PAD'], {'PAD':0}\n",
        "    image_captions = image_captions_train + image_captions_test\n",
        "    for image_caption in image_captions:\n",
        "        for word in image_caption[1:]:\n",
        "            if word not in index_to_word:\n",
        "                word_to_index[word] = len(index_to_word)\n",
        "                index_to_word.append(word)\n",
        "    return index_to_word, word_to_index, len(index_to_word)\n",
        "\n",
        "index_to_word, word_to_index, embedding_dim = extract_dict('captions.txt')\n",
        "print(len(index_to_word), index_to_word)\n",
        "print(len(word_to_index), word_to_index)"
      ],
      "metadata": {
        "id": "zup5Yy1MCrQ_"
      },
      "execution_count": null,
      "outputs": []
    },
    {
      "cell_type": "code",
      "source": [
        "def caption_to_tensor(caption, max_len_batch):\n",
        "    caption_arr = np.zeros(max_len_batch)\n",
        "    caption += ['PAD' for i in range(max_len_batch-len(caption))]\n",
        "    for i in range(max_len_batch):\n",
        "        caption_arr[i] = word_to_index[caption[i]]\n",
        "    return torch.Tensor(caption_arr)\n",
        "\n",
        "caption_example = ['A', 'child', 'climbing', 'up', 'stairs']\n",
        "print(caption_example + ['PAD' for i in range(10-len(caption_example))])\n",
        "print(caption_to_tensor(caption_example, 10))"
      ],
      "metadata": {
        "id": "e_K_V0eLFI3C"
      },
      "execution_count": null,
      "outputs": []
    },
    {
      "cell_type": "code",
      "source": [
        "def scores_to_caption(scores):\n",
        "    predicted_indices = torch.argmax(scores, -1)\n",
        "    predicted_captions = []\n",
        "    for i in range(n_test):\n",
        "        j = 0\n",
        "        while j \n",
        "    return ret"
      ],
      "metadata": {
        "id": "PxBhfY3LYYOn"
      },
      "execution_count": null,
      "outputs": []
    },
    {
      "cell_type": "code",
      "source": [
        "def make_batch(batch_number):\n",
        "    batch_index_first = batch_number * BATCH_SIZE\n",
        "    batch_index_final = min(n_train, (batch_number+1)*BATCH_SIZE)\n",
        "    # compute maximum caption length in batch\n",
        "    max_len_batch = 0\n",
        "    for i in range(batch_index_first, batch_index_final):\n",
        "        if len(image_captions_train[i][1:]) > max_len_batch:\n",
        "            max_len_batch = len(image_captions_train[i][1:])\n",
        "    X_train_batch = torch.zeros((BATCH_SIZE, feature_dim[0],feature_dim[1], feature_dim[2]))\n",
        "    Y_train_batch = torch.zeros((BATCH_SIZE, max_len_batch))\n",
        "    for i in range(batch_index_first, batch_index_final):\n",
        "        j = i - batch_index_first\n",
        "        image, caption = image_captions_train[i][0], image_captions_train[i][1:]\n",
        "        X_train_batch[j] = features_train[image]\n",
        "        Y_train_batch[j] = caption_to_tensor(caption, max_len_batch)\n",
        "    return X_train_batch, torch.flatten(Y_train_batch), Y_train_batch, max_len_batch\n",
        "\n",
        "X_train_batch, Y_train_batch, Y_train_batch_unflattened, max_len_batch = make_batch(0)\n",
        "print(X_train_batch.shape, Y_train_batch.shape, max_len_batch)"
      ],
      "metadata": {
        "colab": {
          "base_uri": "https://localhost:8080/"
        },
        "id": "sPVRtFnv3tnh",
        "outputId": "47e8a9c9-68ab-406d-d2fa-ed9624b8f341"
      },
      "execution_count": null,
      "outputs": [
        {
          "output_type": "stream",
          "name": "stdout",
          "text": [
            "torch.Size([10, 512, 7, 7]) torch.Size([190]) 19\n"
          ]
        }
      ]
    },
    {
      "cell_type": "code",
      "source": [
        "def make_test():\n",
        "    X_test = torch.zeros((n_test, feature_dim[0],feature_dim[1], feature_dim[2]))\n",
        "    for i in range(0, n_test):\n",
        "        image = image_captions_test[i][0]\n",
        "        X_test[i] = features_test[image]\n",
        "    return X_test\n",
        "\n",
        "X_test = make_test()\n",
        "print(X_test.shape)"
      ],
      "metadata": {
        "colab": {
          "base_uri": "https://localhost:8080/"
        },
        "id": "ZDWFEYwpVsFM",
        "outputId": "bad0b9cd-9f73-45c8-83e8-541f2e3c3515"
      },
      "execution_count": null,
      "outputs": [
        {
          "output_type": "stream",
          "name": "stdout",
          "text": [
            "torch.Size([4050, 512, 7, 7])\n"
          ]
        }
      ]
    },
    {
      "cell_type": "code",
      "source": [
        "class EncoderCNN(nn.Module):\n",
        "\n",
        "    def __init__(self, feature_dim, embedding_dim):\n",
        "        super(Encoder, self).__init__()\n",
        "        self.encoder = nn.Sequential(nn.Conv2d(in_channels=feature_dim[0], out_channels=256, kernel_size=(3,3), stride=1, padding=0),\n",
        "                                     torch.nn.BatchNorm2d(num_features=256, eps=1e-05, momentum=0.1, affine=True, track_running_stats=True, device=None, dtype=None),\n",
        "                                     nn.ReLU(),\n",
        "                                     nn.Conv2d(in_channels=256, out_channels=128, kernel_size=(3,3), stride=1, padding=0),\n",
        "                                     torch.nn.BatchNorm2d(num_features=128, eps=1e-05, momentum=0.1, affine=True, track_running_stats=True, device=None, dtype=None),\n",
        "                                     nn.ReLU(),\n",
        "                                     nn.Linear(in_features=128*feature_dim[1]*feature_dim[2], out_features=embedding_dim))\n",
        "\n",
        "    def forward(self, features):\n",
        "        return self.encoder(features)"
      ],
      "metadata": {
        "id": "_OscfZusTWzI"
      },
      "execution_count": null,
      "outputs": []
    },
    {
      "cell_type": "code",
      "source": [
        "class DecoderLSTM(nn.Module):\n",
        "\n",
        "    def __init__(self, embedding_dim, hidden_dim):\n",
        "        super(RNNTagger, self).__init__()\n",
        "        self.lstm = nn.LSTM(embedding_dim, hidden_dim, batch_first=True)\n",
        "        self.hidden2tag = nn.Linear(hidden_dim, embedding_dim)\n",
        "        self.softmax = nn.Softmax(dim=-1)\n",
        "\n",
        "    def forward(self, in_sequence):\n",
        "        lstm_out, _ = self.lstm(in_sequence)\n",
        "        tag_space = self.hidden2tag(lstm_out)\n",
        "        tag_scores = self.softmax(tag_space)\n",
        "        return tag_scores"
      ],
      "metadata": {
        "id": "FGbYR0d6TeNJ"
      },
      "execution_count": null,
      "outputs": []
    },
    {
      "cell_type": "code",
      "source": [
        "def teacher_forcer(encoded_features, Y_train_batch_unflattened, max_len_batch):\n",
        "    label_output = np.zeros((BATCH_SIZE, max_len_batch, embedding_dim))\n",
        "    # Index of samples in the current batch\n",
        "    for idx_sentence in range(BATCH_SIZE):\n",
        "        for idx_word in range(max_len_batch):\n",
        "            if idx_word == 0:\n",
        "                label_output[idx_sentence, idx_word, :] = encoded_features[idx_sentence, :]\n",
        "            else:\n",
        "                label_output[idx_sentence, idx_word, Y_train_batch_unflattened[idx_sentence, idx_word - 1]] = 1\n",
        "    return label_output"
      ],
      "metadata": {
        "id": "JDrpQUwpi_14"
      },
      "execution_count": null,
      "outputs": []
    },
    {
      "cell_type": "code",
      "source": [
        "def experiment():\n",
        "    encoder = EncoderCNN(feature_dim, embedding_dim)\n",
        "    decoder = DecoderLSTM(feature_dim, embedding_dim, HIDDEN_DIM)\n",
        "    loss_func = nn.CrossEntropyLoss()\n",
        "    optimizer = torch.optim.Adam([{'params':encoder.parameters()},\n",
        "                                  {'params':decoder.parameters()}], lr=LEARN_RATE, momentum=0.9)\n",
        "    num_batches = n_train//BATCH_SIZE\n",
        "    for epoch in range(NUM_EPOCHS):\n",
        "        epoch_loss = 0\n",
        "        for batch_number in range(num_batches):\n",
        "            optimizer.zero_grad()\n",
        "            X_train_batch, Y_train_batch, Y_train_batch_unflattened, max_len_batch = make_batch(batch_number)\n",
        "            encoded_features = encoder(X_train_batch)\n",
        "            in_sequence = teacher_forcer(encoded_features, Y_train_batch_unflattened, max_len_batch)\n",
        "            scores = decoder(in_sequence)\n",
        "            loss = loss_func(scores.reshape((BATCH_SIZE*max_len_batch, embedding_dim)), Y_train_batch)\n",
        "            loss.backward()\n",
        "            optimizer.step()\n",
        "        # evaluate encoder decoder on test data\n",
        "        encoded_features_test = encoder(X_test)\n",
        "        in_sequence_test = teacher_forcer(encoded_features_test, Y_test_batch_unflattened, max_len_test)\n",
        "        scores_test = decoder(in_sequence_test)\n",
        "        \n",
        "        bleu_score = evaluate(pred, image_captions_test)"
      ],
      "metadata": {
        "id": "eKkCpXv4UJL1"
      },
      "execution_count": null,
      "outputs": []
    },
    {
      "cell_type": "code",
      "source": [
        "def experiment():\n",
        "    encoder = EncoderCNN(feature_dim, embedding_dim)\n",
        "    decoder = DecoderLSTM(feature_dim, embedding_dim, HIDDEN_DIM)\n",
        "    loss_func = nn.CrossEntropyLoss()\n",
        "    optimizer = torch.optim.Adam([{'params':encoder.parameters()},\n",
        "                                  {'params':decoder.parameters()}], lr=LEARN_RATE, momentum=0.9)\n",
        "    num_batches = n_train//BATCH_SIZE\n",
        "    for epoch in range(NUM_EPOCHS):\n",
        "        epoch_loss = 0\n",
        "        for batch_number in range(num_batches):\n",
        "            optimizer.zero_grad()\n",
        "            X_train_batch, Y_train_batch, Y_train_batch_unflattened, max_len_batch = make_batch(batch_number)\n",
        "            encoded_features = encoder(X_train_batch)\n",
        "            in_sequence = teacher_forcer(encoded_features, Y_train_batch_unflattened, max_len_batch)\n",
        "            scores = decoder(in_sequence)\n",
        "            loss = loss_func(scores.reshape((BATCH_SIZE*max_len_batch, embedding_dim)), Y_train_batch)\n",
        "            loss.backward()\n",
        "            optimizer.step()\n",
        "        \n",
        "        \n",
        "\n",
        "        bleu_score = evaluate(pred, Y_test_tensor)"
      ],
      "metadata": {
        "id": "GL_qeIDdSF8D"
      },
      "execution_count": null,
      "outputs": []
    },
    {
      "cell_type": "code",
      "source": [
        "def experiment():\n",
        "    encoder = EncoderCNN(feature_dim, embedding_dim)\n",
        "    decoder = DecoderLSTM(feature_dim, embedding_dim, HIDDEN_DIM)\n",
        "    loss_func = nn.CrossEntropyLoss()\n",
        "    optimizer = torch.optim.Adam([{'params':encoder.parameters()},\n",
        "                                  {'params':decoder.parameters()}], lr=LEARN_RATE, momentum=0.9)\n",
        "    num_batches = n_train//BATCH_SIZE\n",
        "    for epoch in range(NUM_EPOCHS):\n",
        "        epoch_loss = 0\n",
        "        for batch_number in range(num_batches):\n",
        "            optimizer.zero_grad()\n",
        "            X_train_batch, Y_train_batch, Y_train_batch_unflattened, max_len_batch = make_batch(batch_number)\n",
        "            encoded_features = encoder(X_train_batch)\n",
        "            in_sequence = teacher_forcer(encoded_features, Y_train_batch_unflattened, max_len_batch)\n",
        "\n",
        "\n"
      ],
      "metadata": {
        "id": "EESDMOwSdgIy"
      },
      "execution_count": null,
      "outputs": []
    },
    {
      "cell_type": "code",
      "source": [
        "def experiment():\n",
        "    # initialise model\n",
        "    model = RNNTagger(EMBED_DIM, HIDDEN_DIM, len(tags))\n",
        "    loss_func = nn.CrossEntropyLoss()\n",
        "    optimiser = torch.optim.Adam(params=model.parameters(),\n",
        "                                 lr=LEARN_RATE)\n",
        "    # pre train stuff\n",
        "    epochs, accuracies = [], []\n",
        "    pre_train_accuracy = model_accuracy(model(X_test_tensor), Y_test_tensor)\n",
        "    epochs.append(0)\n",
        "    accuracies.append(pre_train_accuracy)\n",
        "    print('%s 0/%d %.4f%%'%('-'*NUM_EPOCHS,\n",
        "                            NUM_EPOCHS,\n",
        "                            pre_train_accuracy*100))\n",
        "    # train\n",
        "    num_batch = int(n_train/BATCH_SIZE)\n",
        "    for epoch in range(0, NUM_EPOCHS):\n",
        "        epoch_loss = 0\n",
        "        for batch in range(0, num_batch):\n",
        "            optimiser.zero_grad()\n",
        "            X_train_batch, Y_train_batch, max_len_batch = make_batch(batch)\n",
        "            scores = model(X_train_batch)\n",
        "            loss = loss_func(scores.reshape((BATCH_SIZE*max_len_batch, len(tags))), Y_train_batch)\n",
        "            loss.backward()\n",
        "            epoch_loss += loss\n",
        "            optimiser.step()\n",
        "        epochs.append(epoch+1)\n",
        "        accuracy = model_accuracy(model(X_test_tensor), Y_test_tensor)\n",
        "        accuracies.append(accuracy)\n",
        "        print('%s%s %d/%d %.4f%%'%('#'*(epoch+1),\n",
        "                                   '-'*(NUM_EPOCHS-epoch-1),\n",
        "                                   epoch+1,\n",
        "                                   NUM_EPOCHS,\n",
        "                                   accuracy*100))\n",
        "    # plot\n",
        "    plt.plot(epochs, [100*i for i in accuracies], \"-.\", color='lightskyblue')\n",
        "    plt.show()\n",
        "    return"
      ],
      "metadata": {
        "id": "YuHKADOQhYNp"
      },
      "execution_count": null,
      "outputs": []
    }
  ]
}